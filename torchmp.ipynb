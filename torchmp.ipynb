{
 "cells": [
  {
   "cell_type": "code",
   "execution_count": 1,
   "metadata": {},
   "outputs": [],
   "source": [
    "import torch, torch.utils.data\n",
    "import torchvision, torchvision.datasets\n",
    "from torchvision import transforms\n",
    "import pickle"
   ]
  },
  {
   "cell_type": "code",
   "execution_count": 2,
   "metadata": {},
   "outputs": [],
   "source": [
    "import parallelFederated"
   ]
  },
  {
   "cell_type": "code",
   "execution_count": 3,
   "metadata": {},
   "outputs": [],
   "source": [
    "num_nodes=10"
   ]
  },
  {
   "cell_type": "code",
   "execution_count": 4,
   "metadata": {},
   "outputs": [],
   "source": [
    "\n",
    "transform = transforms.Compose(\n",
    "    [\n",
    "        transforms.ToTensor(),\n",
    "    ]\n",
    ")\n",
    "target_transform = lambda x: torch.nn.functional.one_hot(torch.tensor(x), 10).float()\n",
    "\n"
   ]
  },
  {
   "cell_type": "code",
   "execution_count": 5,
   "metadata": {},
   "outputs": [],
   "source": [
    "def genpickle():\n",
    "    generator = torch.Generator()\n",
    "    generator.manual_seed(0)\n",
    "    train_datasets = torch.utils.data.random_split(\n",
    "        torchvision.datasets.MNIST(\n",
    "            \"datasets/\",\n",
    "            download=True,\n",
    "            train=True,\n",
    "        ),\n",
    "        [1 / num_nodes] * num_nodes,\n",
    "        generator,\n",
    "    )\n",
    "    test_datasets = torch.utils.data.random_split(\n",
    "        torchvision.datasets.MNIST(\n",
    "            \"datasets/\",\n",
    "            download=True,\n",
    "            train=False,\n",
    "        ),\n",
    "        [1 / num_nodes] * num_nodes,\n",
    "        generator,\n",
    "    )\n",
    "    for i in range(num_nodes):\n",
    "        with open(\"datasets/fedpkl/{}_train.pkl\".format(i), \"wb\") as fp:\n",
    "            pickle.dump((train_datasets[i].dataset.data, train_datasets[i].dataset.targets), fp)\n",
    "        with open(\"datasets/fedpkl/{}_test.pkl\".format(i), \"wb\") as fp:\n",
    "            pickle.dump((test_datasets[i].dataset.data, test_datasets[i].dataset.targets), fp)"
   ]
  },
  {
   "cell_type": "code",
   "execution_count": 6,
   "metadata": {},
   "outputs": [],
   "source": [
    "# genpickle()"
   ]
  },
  {
   "cell_type": "code",
   "execution_count": 8,
   "metadata": {},
   "outputs": [
    {
     "name": "stdout",
     "output_type": "stream",
     "text": [
      "Node: 2 Epoch: 0 done\n",
      "Node: 9 Epoch: 0 done\n",
      "Node: 0 Epoch: 0 done\n",
      "Node: 4 Epoch: 0 done\n",
      "Node: 3 Epoch: 0 done\n",
      "Node: 1 Epoch: 0 done\n",
      "Node: 6 Epoch: 0 done\n",
      "Node: 8 Epoch: 0 done\n",
      "Node: 7 Epoch: 0 done\n",
      "Node: 5 Epoch: 0 done\n",
      "Node: 9 Epoch: 1 done\n",
      "Node: 0 Epoch: 1 done\n",
      "Node: 4 Epoch: 1 done\n",
      "Node: 2 Epoch: 1 done\n",
      "Node: 1 Epoch: 1 done\n",
      "Node: 3 Epoch: 1 done\n",
      "Node: 8 Epoch: 1 done\n",
      "Node: 7 Epoch: 1 done\n",
      "Node: 6 Epoch: 1 done\n",
      "Node: 5 Epoch: 1 done\n"
     ]
    }
   ],
   "source": [
    "processes = torch.multiprocessing.spawn(parallelFederated.simulate_node, args=(num_nodes,), nprocs=num_nodes, join=True)"
   ]
  }
 ],
 "metadata": {
  "kernelspec": {
   "display_name": "base",
   "language": "python",
   "name": "python3"
  },
  "language_info": {
   "codemirror_mode": {
    "name": "ipython",
    "version": 3
   },
   "file_extension": ".py",
   "mimetype": "text/x-python",
   "name": "python",
   "nbconvert_exporter": "python",
   "pygments_lexer": "ipython3",
   "version": "3.10.9"
  },
  "orig_nbformat": 4
 },
 "nbformat": 4,
 "nbformat_minor": 2
}
