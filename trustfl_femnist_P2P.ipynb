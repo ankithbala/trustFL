{
 "cells": [
  {
   "cell_type": "code",
   "execution_count": 66,
   "metadata": {},
   "outputs": [],
   "source": [
    "import torch, torch.utils.data\n",
    "from torch import nn\n",
    "import torchvision, torchvision.datasets\n",
    "from torchvision import transforms\n",
    "from tqdm import tqdm\n",
    "import matplotlib.pyplot as plt\n",
    "from typing import List\n",
    "\n",
    "from fedlab.main.fedlab_benchmarks.leaf.dataloader import get_LEAF_dataloader\n",
    "\n",
    "from torch.profiler import profile, record_function, ProfilerActivity\n",
    "import time\n",
    "from sklearn.metrics import f1_score   \n",
    "import numpy as np\n",
    "    \n",
    "import random"
   ]
  },
  {
   "cell_type": "code",
   "execution_count": 67,
   "metadata": {},
   "outputs": [
    {
     "name": "stdout",
     "output_type": "stream",
     "text": [
      "2.0.1+cu117\n"
     ]
    }
   ],
   "source": [
    "print(torch.__version__)\n",
    "\n",
    "\n"
   ]
  },
  {
   "cell_type": "code",
   "execution_count": 68,
   "metadata": {},
   "outputs": [],
   "source": [
    "def get_femnist_shakespeare_dataset(**args):\n",
    "    if args['dataset'] == 'femnist' or args['dataset'] == 'shakespeare':\n",
    "        trainloader, testloader = get_LEAF_dataloader(dataset=args['dataset'],\n",
    "                                                      client_id=args['rank'])\n",
    "    else:\n",
    "        raise ValueError(\"Invalid dataset:\", args['dataset'])\n",
    "    return trainloader, testloader"
   ]
  },
  {
   "cell_type": "code",
   "execution_count": 69,
   "metadata": {},
   "outputs": [
    {
     "name": "stdout",
     "output_type": "stream",
     "text": [
      "<torch.utils.data.dataloader.DataLoader object at 0x000002076DAE70A0>\n",
      "<torch.utils.data.dataloader.DataLoader object at 0x000002076DAE65F0>\n",
      "<torch.utils.data.dataloader.DataLoader object at 0x000002076DAE7CA0>\n",
      "<torch.utils.data.dataloader.DataLoader object at 0x000002076DAE7C40>\n",
      "<torch.utils.data.dataloader.DataLoader object at 0x000002076DB00430>\n"
     ]
    }
   ],
   "source": [
    "\n",
    "train_loaders = []\n",
    "test_loaders = []\n",
    "num_nodes = 5\n",
    "num_class = 62\n",
    "epoch_total = 50\n",
    "pickle_name = \"femnist-p2p-epoch-\"+str(epoch_total)\n",
    "\n",
    "for i in range(num_nodes):\n",
    "    args = {'dataset': 'femnist', 'rank': i}\n",
    "    trainloader, testloader = get_femnist_shakespeare_dataset(**args)\n",
    "    train_loaders.append(trainloader)\n",
    "    test_loaders.append(testloader)\n"
   ]
  },
  {
   "cell_type": "code",
   "execution_count": 70,
   "metadata": {},
   "outputs": [
    {
     "data": {
      "text/plain": [
       "'NVIDIA GeForce RTX 3070 Ti Laptop GPU'"
      ]
     },
     "execution_count": 70,
     "metadata": {},
     "output_type": "execute_result"
    }
   ],
   "source": [
    "device = torch.device('cuda')\n",
    "torch.cuda.get_device_name(device)"
   ]
  },
  {
   "cell_type": "code",
   "execution_count": 71,
   "metadata": {},
   "outputs": [],
   "source": [
    "\n",
    "transform = transforms.Compose([\n",
    "    transforms.ToTensor(),\n",
    "])\n",
    "target_transform = lambda x: torch.nn.functional.one_hot(torch.tensor(x),num_class).float()"
   ]
  },
  {
   "cell_type": "code",
   "execution_count": 72,
   "metadata": {},
   "outputs": [
    {
     "name": "stdout",
     "output_type": "stream",
     "text": [
      "5\n",
      "5\n",
      "[<torch.utils.data.dataloader.DataLoader object at 0x000002076DAE5DE0>, <torch.utils.data.dataloader.DataLoader object at 0x000002076DAE5ED0>, <torch.utils.data.dataloader.DataLoader object at 0x000002076DAE74F0>, <torch.utils.data.dataloader.DataLoader object at 0x000002076DAE5F90>, <torch.utils.data.dataloader.DataLoader object at 0x000002076DB004F0>]\n",
      "39\n"
     ]
    }
   ],
   "source": [
    "print(len(train_loaders))\n",
    "print(len(test_loaders))\n",
    "print(test_loaders)\n",
    "print(len(test_loaders[0].dataset))"
   ]
  },
  {
   "cell_type": "code",
   "execution_count": 73,
   "metadata": {},
   "outputs": [],
   "source": [
    "\n",
    "x_i_j = {}\n",
    "s_i = {}\n",
    "\n",
    "ypred = []\n",
    "ylabels = []"
   ]
  },
  {
   "cell_type": "code",
   "execution_count": 74,
   "metadata": {},
   "outputs": [],
   "source": [
    "class FederatedNode:\n",
    "    def __init__(self, train_dataloader, test_dataloader, node_id) -> None:\n",
    "        self.dataset_size = len(train_dataloader.dataset)\n",
    "        channels_sum, channels_squared_sum, num_batches = 0, 0, 0\n",
    "        for data, _ in train_dataloader:\n",
    "            # Mean over batch, height and width, but not over the channels\n",
    "            channels_sum += torch.mean(data, dim=[0])\n",
    "            channels_squared_sum += torch.mean(data**2, dim=[0])\n",
    "            num_batches += 1\n",
    "    \n",
    "        self.mean = channels_sum / num_batches\n",
    "        self.test_loss = 0.0\n",
    "        self.test_accuracy = 0.0\n",
    "        self.train_accuracy = 0.0\n",
    "        self.train_loss = 0.0\n",
    "        self.f1_score = 0.0\n",
    "\n",
    "\n",
    "        # std = sqrt(E[X^2] - (E[X])^2)\n",
    "        self.std = (channels_squared_sum / num_batches - self.mean ** 2) ** 0.5\n",
    "        print(\"Dataset size \", self.dataset_size)\n",
    "        print(\"Mean size \", self.mean.shape)\n",
    "        print(\"Standard deviation size \", self.std.shape)\n",
    "        \n",
    "        \n",
    "        self.network = nn.Sequential(\n",
    "            nn.Flatten(),\n",
    "            nn.Linear(784,56),\n",
    "            nn.ReLU(),\n",
    "            nn.Linear(56, 62)\n",
    "        ).to(device)\n",
    "\n",
    "        '''\n",
    "        only_digits=False\n",
    "        self.network = nn.Sequential(\n",
    "        nn.Conv2d(1, 32, kernel_size=3),\n",
    "        nn.MaxPool2d(2, stride=2),\n",
    "        nn.Conv2d(32, 64, kernel_size=3),\n",
    "        nn.Dropout(0.25),\n",
    "        nn.Flatten(),\n",
    "        nn.Linear(9216, 128),\n",
    "        nn.Dropout(0.5),\n",
    "        nn.Linear(128, 10 if only_digits else 62),\n",
    "        nn.ReLU()\n",
    "        ).to(device)\n",
    "        '''\n",
    "        self.optimizer = torch.optim.Adam(self.network.parameters())\n",
    "        self.criterion = nn.CrossEntropyLoss()\n",
    "        self.train_dataloader = train_dataloader\n",
    "        self.test_dataloader = test_dataloader\n",
    "        self.node_id = node_id\n",
    "    \n",
    "    def train_epoch(self):\n",
    "        losses = []\n",
    "        correct = 0\n",
    "        total = 0\n",
    "        train_accuracy = []\n",
    "        for idx, (data_x, data_y) in enumerate(self.train_dataloader):\n",
    "            #print(\"data_x\", data_x.shape)\n",
    "            #print(\"data_y\", data_y.shape)\n",
    "            #plt.imshow(data_x[1][0])\n",
    "            output = self.network(data_x.to(device))\n",
    "            self.optimizer.zero_grad()\n",
    "            #print(output.shape)\n",
    "            #print(data_y)\n",
    "            #data_y = target_transform(data_y)\n",
    "            \n",
    "            #loss = nn.functional.mse_loss(output, data_y.to(device))\n",
    "            loss = self.criterion(output, data_y.to(device))\n",
    "            losses.append(loss.item())\n",
    "            loss.backward()\n",
    "            self.optimizer.step()\n",
    "\n",
    "            _, predicted = torch.max(output.data, 1)\n",
    "            data_y = data_y.to(predicted.device)\n",
    "            true_labels = data_y\n",
    "            #true_labels = torch.argmax(data_y, dim=1).to(predicted.device)\n",
    "            total += data_y.size(0)\n",
    "            correct += (predicted == true_labels).sum().item()\n",
    "            train_accuracy.append(correct / total)\n",
    "            ypred.append(data_y)\n",
    "            ylabels.append(true_labels)\n",
    "        self.train_accuracy = train_accuracy[-1]\n",
    "        self.train_loss = sum(losses)/len(losses)\n",
    "        return self.train_accuracy, self.train_loss\n",
    "    \n",
    "    def testing(self):\n",
    "        correct = 0\n",
    "        total = 0\n",
    "        # test_running_loss = 0.0\n",
    "        predictions = []\n",
    "        labels = []\n",
    "        test_accuracy = []\n",
    "        test_running_losses = []\n",
    "        for idx, (data_x, data_y) in enumerate(self.test_dataloader):\n",
    "            output = self.network(data_x.to(device))\n",
    "            \n",
    "            _, predicted = torch.max(output.data, 1)\n",
    "            data_y = data_y.to(predicted.device)\n",
    "            true_labels = data_y\n",
    "            #true_labels = torch.argmax(data_y, dim=1).to(predicted.device)\n",
    "            total += data_y.size(0)\n",
    "            correct += (predicted == true_labels).sum().item()\n",
    "            \n",
    "            loss = self.criterion(output, data_y)\n",
    "            predictions.append(predicted.cpu())\n",
    "            #labels.append(data_y.cpu())\n",
    "            labels.append(true_labels.cpu())\n",
    "            test_running_losses.append(loss.item())\n",
    "            #print('Epoch %d test loss: %.3f' % (idx + 1, test_running_losses[-1]))\n",
    "            #print(test_running_losses)\n",
    "            #test_running_loss += loss.item()\n",
    "            #test_loss.append(test_running_loss / len(self.test_dataloader))\n",
    "            test_accuracy.append(correct / total)\n",
    "        \n",
    "        #print(predictions)\n",
    "        predictions = np.concatenate(predictions)\n",
    "        labels = np.concatenate(labels)\n",
    "        self.f1_score= f1_score(labels, predictions, average=\"weighted\")\n",
    "        self.test_accuracy = test_accuracy[-1]\n",
    "        #print(self.test_accuracy)\n",
    "        self.test_loss =  sum(test_running_losses)/len(test_running_losses)\n",
    "        #print(\"test loss \",self.test_loss)\n",
    "       \n",
    "    \n",
    "    def share_x_ij(self):\n",
    "        x = self.network.state_dict()\n",
    "        r = torch.randint(0, 5, [num_nodes])\n",
    "        s_r = torch.sum(r)\n",
    "        j=self.node_id\n",
    "        for i in range(num_nodes):\n",
    "            x_i_j[(i,j)]={}\n",
    "            for key in x.keys():\n",
    "                x_i_j[(i,j)][key]=x[key]*r[i]/s_r\n",
    "                \n",
    "        \n",
    "    \n",
    "    def share_s_i(self):\n",
    "        i = self.node_id\n",
    "        s_i[i] = {}\n",
    "        for key in x_i_j[(0,0)].keys():\n",
    "            s_i[i][key] = sum([x_i_j[(i,j)][key] for j in range(num_nodes)])\n",
    "\n",
    "    def share_x_ij_neighbours(self, neighbour_nodes):\n",
    "        j=self.node_id\n",
    "        num_neighbour_nodes = len(neighbour_nodes)\n",
    "        x = self.network.state_dict()\n",
    "        r = torch.randint(0, 5, [num_neighbour_nodes])\n",
    "        s_r = torch.sum(r)\n",
    "        \n",
    "        for i, n in enumerate(neighbour_nodes):\n",
    "            x_i_j[(n,j)]={}\n",
    "            for key in x.keys():\n",
    "                x_i_j[(n,j)][key]=x[key]*r[i]/s_r*self.dataset_size\n",
    "\n",
    "    def share_s_i_neighbours(self, neighbour_nodes):\n",
    "        i = self.node_id\n",
    "        s_i[i] = {}\n",
    "        \n",
    "        for key in x_i_j[list(x_i_j.keys())[0]].keys():\n",
    "            s_i[i][key] = sum([x_i_j[(i,j)][key] for j in neighbour_nodes])\n",
    "\n",
    "\n",
    "    def share_FedavgP2P(self, nodes):\n",
    "        dataset_size_all = [n.dataset_size for n in nodes]\n",
    "        i = self.node_id\n",
    "        C = 0.5\n",
    "        A = num_nodes - 1\n",
    "        m = C*A\n",
    "        #n_k = self.dataset_size\n",
    "\n",
    "        # Random clients\n",
    "        S_t = random.sample([ j for j in range(num_nodes) if j!=i], int(m)) \n",
    "        S_t.append(self.node_id)\n",
    "        #print(\"Clients \",S_t)\n",
    "        #S_t = random.sample(list(range(num_nodes)) , int(m))\n",
    "        #print(\"n_k \",n_k)\n",
    "        #print(\"m neighbors\", m)\n",
    "        #print(\"S_t\", S_t)\n",
    "        w_c = self.network.state_dict()\n",
    "        n_c = self.dataset_size\n",
    "        n_t = n_c\n",
    "        for s in S_t:\n",
    "            n_t += dataset_size_all[s]\n",
    "        \n",
    "        for j in S_t: \n",
    "            nodes[j].share_x_ij_neighbours(S_t)\n",
    "        for j in S_t: \n",
    "            nodes[j].share_s_i_neighbours(S_t)\n",
    "                \n",
    "        for key in nodes[0].network.state_dict():\n",
    "            w_c[key] = w_c[key]*n_c/n_t\n",
    "\n",
    "            for j in S_t: \n",
    "                n_k = dataset_size_all[j]\n",
    "                #states = nodes[j].network.state_dict()\n",
    "                averaged_state = {}\n",
    "            \n",
    "                for key in s_i[list(s_i.keys())[0]].keys():\n",
    "                    param_value = 0\n",
    "                    for i in s_i:\n",
    "                        param_value += s_i[i][key]\n",
    "                    \n",
    "                    averaged_state[key] = param_value/len(S_t)/n_t\n",
    "                #print(averaged_state)\n",
    "                #contributed_state = n_k/n_t*averaged_state[key]\n",
    "                #w_c[key] = w_c[key] + contributed_state\n",
    "                \n",
    "        self.network.load_state_dict(w_c)\n"
   ]
  },
  {
   "cell_type": "code",
   "execution_count": 75,
   "metadata": {},
   "outputs": [
    {
     "name": "stdout",
     "output_type": "stream",
     "text": [
      "Dataset size  343\n",
      "Mean size  torch.Size([1, 28, 28])\n",
      "Standard deviation size  torch.Size([1, 28, 28])\n",
      "Dataset size  372\n",
      "Mean size  torch.Size([1, 28, 28])\n",
      "Standard deviation size  torch.Size([1, 28, 28])\n",
      "Dataset size  364\n",
      "Mean size  torch.Size([1, 28, 28])\n",
      "Standard deviation size  torch.Size([1, 28, 28])\n",
      "Dataset size  358\n",
      "Mean size  torch.Size([1, 28, 28])\n",
      "Standard deviation size  torch.Size([1, 28, 28])\n",
      "Dataset size  284\n",
      "Mean size  torch.Size([1, 28, 28])\n",
      "Standard deviation size  torch.Size([1, 28, 28])\n"
     ]
    }
   ],
   "source": [
    "#for i, loader_data in enumerate(zip(*loader)):\n",
    "#    train_loaders, test_loaders = loader_data\n",
    "\n",
    "nodes = []\n",
    "for i in range(num_nodes):\n",
    "    nodes.append(FederatedNode(train_loaders[i], test_loaders[i], i)) \n",
    "\n",
    "#nodes = [FederatedNode(l, i) for i,l in enumerate())]"
   ]
  },
  {
   "cell_type": "code",
   "execution_count": 76,
   "metadata": {},
   "outputs": [
    {
     "name": "stderr",
     "output_type": "stream",
     "text": [
      "100%|██████████| 250/250 [00:07<00:00, 31.54it/s]"
     ]
    },
    {
     "name": "stdout",
     "output_type": "stream",
     "text": [
      "Time taken by FL with SMPC 7.929208755493164\n"
     ]
    },
    {
     "name": "stderr",
     "output_type": "stream",
     "text": [
      "\n"
     ]
    }
   ],
   "source": [
    "losses = {}\n",
    "train_accuracies = {}\n",
    "test_accuracies = {}\n",
    "test_losses = {}\n",
    "f1_scores = {}\n",
    "#with profile(activities=[ProfilerActivity.CPU, ProfilerActivity.CUDA], record_shapes=True) as prof:\n",
    "#    with record_function(\"model_training\"):\n",
    "\n",
    "start_time = time.time()\n",
    "dataset_size_all = {}\n",
    "epochs ={i:0 for i in range(num_nodes)}\n",
    "\n",
    "for i in tqdm(range(epoch_total*num_nodes)):\n",
    "    cands = [i for i in epochs if epochs[i]<epoch_total]\n",
    "    node = nodes[cands[torch.randint(len(cands), (1,)).item()]]\n",
    "    del cands\n",
    "    train_acc, loss = node.train_epoch()\n",
    "    #node.share_FedavgP2P(nodes)\n",
    "    \n",
    "    epochs[node.node_id] += 1\n",
    "    losses[(node.node_id, epochs[node.node_id])]=loss\n",
    "    train_accuracies[(node.node_id, epochs[node.node_id])]=train_acc\n",
    "\n",
    "    x_i_j = {}\n",
    "    s_i = {}\n",
    "    for node in nodes:\n",
    "        node.share_x_ij()\n",
    "    \n",
    "    for node in nodes:\n",
    "        node.share_s_i()\n",
    "\n",
    "\n",
    "    for i, node in enumerate(nodes):\n",
    "        #print()\n",
    "        #print(\"Node \", i)\n",
    "        \n",
    "        node.testing()\n",
    "        #test_losses.append(node.test_loss)\n",
    "        #print(\"Node Test Accuracy\", node.test_accuracy)\n",
    "        #print(\"Node Test loss\", node.test_loss)\n",
    "        #print(\"Node F1_Score \", node.f1_score)\n",
    "        test_accuracies[(node.node_id, epochs[node.node_id])]=node.test_accuracy\n",
    "        test_losses[(node.node_id, epochs[node.node_id])]=node.test_loss\n",
    "        f1_scores[(node.node_id, epochs[node.node_id])]=node.f1_score\n",
    "        \n",
    "\n",
    "            \n",
    "    # test_accuracies.append(epoch_test_accuracies)\n",
    "    # test_losses.append(epoch_test_losses)\n",
    "    # f1_scores.append(epoch_f1_scores)\n",
    "\n",
    "\n",
    "    \n",
    "    #av_state = {}\n",
    "    #print(s_i[0])\n",
    "    #for key in s_i[0].keys():\n",
    "    #    av_state[key]=torch.mean(torch.tensor([s_i[i][key] for i in s_i]), dim=[0])\n",
    "    averaged_state = {}\n",
    "    for key in s_i[0].keys():\n",
    "        param_value = 0\n",
    "        for i in s_i:\n",
    "            param_value += s_i[i][key]\n",
    "        \n",
    "        averaged_state[key] = param_value/num_nodes\n",
    "\n",
    "    for node in nodes:\n",
    "        node.network.load_state_dict(averaged_state)\n",
    "\n",
    "    \n",
    "    \n",
    "    \n",
    "    # states = [i.network.state_dict() for i in nodes]\n",
    "    # av_state = {}\n",
    "    # for key in states[0]:\n",
    "    #     av_state[key] = sum([s[key] for s in states])/num_nodes\n",
    "    # for node in nodes:\n",
    "    #     node.network.load_state_dict(av_state)\n",
    "\n",
    "time_FL_SMPC = time.time() - start_time\n",
    "\n",
    "print(\"Time taken by FL with SMPC\", time_FL_SMPC)\n",
    "    \n"
   ]
  },
  {
   "cell_type": "code",
   "execution_count": 77,
   "metadata": {},
   "outputs": [],
   "source": [
    "losses2 = [[losses[(j,i)] for j in range(num_nodes) ] for i in range(1,epoch_total+1)]\n",
    "train_accuracies2 = [[train_accuracies[(j,i)] for j in range(num_nodes) ] for i in range(1,epoch_total+1)]\n",
    "test_accuracies2 = [[test_accuracies[(j,i)] for j in range(num_nodes) ] for i in range(1,epoch_total+1)]\n",
    "test_losses2 = [[test_losses[(j,i)] for j in range(num_nodes) ] for i in range(1,epoch_total+1)]\n",
    "f1_scores2 = [[f1_scores[(j,i)] for j in range(num_nodes) ] for i in range(1,epoch_total+1)]"
   ]
  },
  {
   "cell_type": "code",
   "execution_count": null,
   "metadata": {},
   "outputs": [],
   "source": []
  },
  {
   "cell_type": "code",
   "execution_count": 78,
   "metadata": {},
   "outputs": [],
   "source": [
    "import pickle\n",
    "\n",
    "try:\n",
    "    my_pickle_results = pickle.load( open( pickle_name+'.pickle', \"rb\" ) )\n",
    "    result = {}\n",
    "    result2 = {}\n",
    "    myResults = my_pickle_results\n",
    "except (OSError, IOError) as e:\n",
    "    my_pickle_results = {}\n",
    "    result = {}\n",
    "    result2 = {}"
   ]
  },
  {
   "cell_type": "code",
   "execution_count": 79,
   "metadata": {},
   "outputs": [],
   "source": [
    "result[\"train_accuracies\"] = train_accuracies2\n",
    "result[\"train_losses\"] = losses2\n",
    "result[\"test_accuracies\"] = test_accuracies2\n",
    "result[\"test_losses\"] = test_losses2\n",
    "result[\"f1_scores\"] = f1_scores2\n",
    "result[\"ypred\"] = ypred\n",
    "result[\"ylabels\"] = ylabels\n",
    "result[\"time_taken\"] = time_FL_SMPC\n"
   ]
  },
  {
   "cell_type": "code",
   "execution_count": 80,
   "metadata": {},
   "outputs": [
    {
     "name": "stdout",
     "output_type": "stream",
     "text": [
      "[0.15384615384615385, 0.07142857142857142, 0.0975609756097561, 0.05, 0.0625]\n"
     ]
    }
   ],
   "source": [
    "print(test_accuracies2[-1])"
   ]
  },
  {
   "cell_type": "code",
   "execution_count": 81,
   "metadata": {},
   "outputs": [
    {
     "data": {
      "text/plain": [
       "[<matplotlib.lines.Line2D at 0x2076db228f0>,\n",
       " <matplotlib.lines.Line2D at 0x2076db229b0>,\n",
       " <matplotlib.lines.Line2D at 0x2076db22a70>,\n",
       " <matplotlib.lines.Line2D at 0x2076db22b00>,\n",
       " <matplotlib.lines.Line2D at 0x2076db22b90>]"
      ]
     },
     "execution_count": 81,
     "metadata": {},
     "output_type": "execute_result"
    },
    {
     "data": {
      "image/png": "[encoded data removed]",
      "text/plain": [
       "<Figure size 640x480 with 1 Axes>"
      ]
     },
     "metadata": {},
     "output_type": "display_data"
    }
   ],
   "source": [
    "plt.plot(test_accuracies2)"
   ]
  },
  {
   "cell_type": "code",
   "execution_count": 82,
   "metadata": {},
   "outputs": [
    {
     "name": "stdout",
     "output_type": "stream",
     "text": [
      "[[4.133980909983317, 4.120344320933024, 4.122442086537679, 4.147798856099446, 4.121579647064209], [4.109001636505127, 4.113731066385905, 4.100960572560628, 4.108270804087321, 4.113759835561116], [4.1157582600911455, 4.112404187520345, 4.109389623006185, 4.104018688201904, 4.11283016204834], [4.115934689839681, 4.1114145914713545, 4.1110507647196455, 4.112639745076497, 4.113612810770671], [4.115534941355388, 4.111677487691243, 4.111283143361409, 4.111977577209473, 4.115214983622233], [4.114862600962321, 4.107215245564778, 4.111376444498698, 4.1110358238220215, 4.115133603413899], [4.111230850219727, 4.103984038035075, 4.112884044647217, 4.110549132029216, 4.115561644236247], [4.107908725738525, 4.099250475565593, 4.113104343414307, 4.1092179616292315, 4.116503715515137], [4.108954747517903, 4.095305601755778, 4.112298011779785, 4.108595689137776, 4.116614023844401], [4.106448968251546, 4.09283447265625, 4.1124569574991865, 4.107917467753093, 4.115195433298747], [4.104984124501546, 4.092978318532308, 4.112181663513184, 4.107565085093181, 4.113754749298096], [4.103774229685466, 4.0925930341084795, 4.111202557881673, 4.107460021972656, 4.112468401590983], [4.102423508961995, 4.091122627258301, 4.109902222951253, 4.106925964355469, 4.1112626393636065], [4.0984757741292315, 4.09114138285319, 4.108623663584392, 4.104293982187907, 4.110304037729899], [4.0986558596293134, 4.090145746866862, 4.107627709706624, 4.0987199147542315, 4.109571933746338], [4.095913728078206, 4.08892806371053, 4.106058279673259, 4.098817666371663, 4.108788172403972], [4.095744927724202, 4.088168780008952, 4.101704756418864, 4.098620732625325, 4.1079691251118975], [4.09427531560262, 4.088226159413655, 4.098869164784749, 4.0981675783793134, 4.1064527829488116], [4.095200220743815, 4.088435331980388, 4.100284576416016, 4.099599043528239, 4.105551242828369], [4.0948554674784345, 4.0876797040303545, 4.097394148508708, 4.0994235674540205, 4.105011145273845], [4.095356782277425, 4.087511380513509, 4.094886302947998, 4.098312218983968, 4.104381720225017], [4.096344947814941, 4.086905002593994, 4.094165802001953, 4.098500887552897, 4.104715347290039], [4.096343199412028, 4.090384483337402, 4.092248439788818, 4.098385651906331, 4.104952971140544], [4.0948106447855634, 4.088649272918701, 4.090499083201091, 4.096125443776448, 4.104680856068929], [4.095016638437907, 4.090692520141602, 4.089504400889079, 4.096420923868815, 4.104857126871745], [4.095200538635254, 4.088850657145183, 4.088805039723714, 4.0974477132161455, 4.105186303456624], [4.093284606933594, 4.088070074717204, 4.08916711807251, 4.095765272776286, 4.104899565378825], [4.093029975891113, 4.092149575551351, 4.087120691935222, 4.098439534505208, 4.104661782582601], [4.0940399169921875, 4.091592788696289, 4.090363502502441, 4.096037705739339, 4.104563554128011], [4.094115734100342, 4.0903496742248535, 4.089886665344238, 4.094758033752441, 4.104982058207194], [4.093863805135091, 4.089120070139567, 4.09070618947347, 4.093371868133545, 4.105094750722249], [4.095270315806071, 4.087045828501384, 4.092072486877441, 4.093320369720459, 4.104190190633138], [4.096373399098714, 4.089453061421712, 4.092805703481038, 4.095182577768962, 4.1051333745320635], [4.095671653747559, 4.087400118509929, 4.092082341512044, 4.095189094543457, 4.104942003885905], [4.09678856531779, 4.089158217112224, 4.089689572652181, 4.098352750142415, 4.104902744293213], [4.097760359446208, 4.086582183837891, 4.089879035949707, 4.097371737162272, 4.104728539784749], [4.0962880452473955, 4.092202822367351, 4.090154488881429, 4.099437872568767, 4.104910850524902], [4.095958868662517, 4.091371059417725, 4.090537071228027, 4.0986636479695635, 4.105717182159424], [4.097014586130778, 4.09282382329305, 4.092482884724935, 4.097787062327067, 4.105376561482747], [4.099580764770508, 4.093542734781901, 4.093373616536458, 4.09729544321696, 4.10494867960612], [4.096698919932048, 4.091591835021973, 4.0923787752787275, 4.097116470336914, 4.105513731638591], [4.096383730570476, 4.089873154958089, 4.090445200602214, 4.095745245615642, 4.105528195699056], [4.096080144246419, 4.088235855102539, 4.089813868204753, 4.094313780466716, 4.105756441752116], [4.095860322316487, 4.086832841237386, 4.089283148447673, 4.094164689381917, 4.1057562828063965], [4.0936172803243, 4.086844762166341, 4.0889999071757, 4.093407313028972, 4.105534076690674], [4.093013445536296, 4.08543078104655, 4.088106791178386, 4.093093395233154, 4.106349945068359], [4.092780113220215, 4.085378011067708, 4.087616920471191, 4.092734177907308, 4.10641606648763], [4.092549482981364, 4.08456023534139, 4.091872374216716, 4.092027505238851, 4.1061110496521], [4.091610272725423, 4.083744525909424, 4.090832710266113, 4.092198848724365, 4.105945587158203], [4.091809908548991, 4.082967122395833, 4.091433684031169, 4.090546449025472, 4.105826377868652]]\n"
     ]
    }
   ],
   "source": [
    "print(losses2)"
   ]
  },
  {
   "cell_type": "code",
   "execution_count": 83,
   "metadata": {},
   "outputs": [
    {
     "data": {
      "text/plain": [
       "[<matplotlib.lines.Line2D at 0x207c2e10c10>,\n",
       " <matplotlib.lines.Line2D at 0x207c2e10c70>,\n",
       " <matplotlib.lines.Line2D at 0x2076d9197b0>,\n",
       " <matplotlib.lines.Line2D at 0x207c2dc4ca0>,\n",
       " <matplotlib.lines.Line2D at 0x207c2e10ca0>]"
      ]
     },
     "execution_count": 83,
     "metadata": {},
     "output_type": "execute_result"
    },
    {
     "data": {
      "image/png": "[encoded data removed]",
      "text/plain": [
       "<Figure size 640x480 with 1 Axes>"
      ]
     },
     "metadata": {},
     "output_type": "display_data"
    }
   ],
   "source": [
    "plt.plot(losses2)"
   ]
  },
  {
   "cell_type": "code",
   "execution_count": null,
   "metadata": {},
   "outputs": [],
   "source": []
  },
  {
   "cell_type": "code",
   "execution_count": null,
   "metadata": {},
   "outputs": [],
   "source": []
  },
  {
   "cell_type": "code",
   "execution_count": 84,
   "metadata": {},
   "outputs": [
    {
     "name": "stdout",
     "output_type": "stream",
     "text": [
      "Dataset size  343\n",
      "Mean size  torch.Size([1, 28, 28])\n",
      "Standard deviation size  torch.Size([1, 28, 28])\n",
      "Dataset size  372\n",
      "Mean size  torch.Size([1, 28, 28])\n",
      "Standard deviation size  torch.Size([1, 28, 28])\n",
      "Dataset size  364\n",
      "Mean size  torch.Size([1, 28, 28])\n",
      "Standard deviation size  torch.Size([1, 28, 28])\n",
      "Dataset size  358\n",
      "Mean size  torch.Size([1, 28, 28])\n",
      "Standard deviation size  torch.Size([1, 28, 28])\n",
      "Dataset size  284\n",
      "Mean size  torch.Size([1, 28, 28])\n",
      "Standard deviation size  torch.Size([1, 28, 28])\n"
     ]
    }
   ],
   "source": [
    "\n",
    "nodes = []\n",
    "for i in range(num_nodes):\n",
    "    nodes.append(FederatedNode(train_loaders[i], test_loaders[i], i)) \n"
   ]
  },
  {
   "cell_type": "code",
   "execution_count": 85,
   "metadata": {},
   "outputs": [],
   "source": [
    "with open(pickle_name+'.pickle', 'wb') as handle:\n",
    "    pickle.dump(my_pickle_results, handle, protocol=pickle.HIGHEST_PROTOCOL)"
   ]
  },
  {
   "cell_type": "code",
   "execution_count": 86,
   "metadata": {},
   "outputs": [],
   "source": [
    "from sklearn.metrics import confusion_matrix, ConfusionMatrixDisplay\n",
    "from sklearn.metrics import classification_report\n",
    "labels = []\n",
    "for _, label in train_loaders[0]:\n",
    "    labels.append(label)\n",
    "#print(labels)\n",
    "#print(classification_report(y_true, y_pred, target_names=target_names))"
   ]
  },
  {
   "cell_type": "code",
   "execution_count": 87,
   "metadata": {},
   "outputs": [
    {
     "name": "stdout",
     "output_type": "stream",
     "text": [
      "Current date and time : \n",
      "2023-05-12 01:07:14\n"
     ]
    }
   ],
   "source": [
    "import datetime\n",
    "now = datetime.datetime.now()\n",
    "print (\"Current date and time : \")\n",
    "print (now.strftime(\"%Y-%m-%d %H:%M:%S\"))"
   ]
  },
  {
   "cell_type": "code",
   "execution_count": null,
   "metadata": {},
   "outputs": [],
   "source": []
  }
 ],
 "metadata": {
  "kernelspec": {
   "display_name": ".venv",
   "language": "python",
   "name": "python3"
  },
  "language_info": {
   "codemirror_mode": {
    "name": "ipython",
    "version": 3
   },
   "file_extension": ".py",
   "mimetype": "text/x-python",
   "name": "python",
   "nbconvert_exporter": "python",
   "pygments_lexer": "ipython3",
   "version": "3.10.9"
  },
  "orig_nbformat": 4
 },
 "nbformat": 4,
 "nbformat_minor": 2
}
