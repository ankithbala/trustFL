{
 "cells": [
  {
   "attachments": {},
   "cell_type": "markdown",
   "metadata": {},
   "source": [
    "Not working check it"
   ]
  },
  {
   "cell_type": "code",
   "execution_count": 23,
   "metadata": {},
   "outputs": [],
   "source": [
    "import torch, torch.utils.data\n",
    "from torch import nn\n",
    "import torchvision, torchvision.datasets\n",
    "from torchvision import transforms\n",
    "from tqdm import tqdm\n",
    "import matplotlib.pyplot as plt\n",
    "from typing import List\n",
    "\n",
    "import sys\n",
    "\n",
    "\n",
    "sys.path.append('./datasets/')\n",
    "\n",
    "from datasets.dataloader import get_LEAF_dataloader\n",
    "\n",
    "from torch.profiler import profile, record_function, ProfilerActivity\n",
    "import time\n",
    "from sklearn.metrics import f1_score   \n",
    "import numpy as np\n",
    "    \n",
    "import random"
   ]
  },
  {
   "cell_type": "code",
   "execution_count": 24,
   "metadata": {},
   "outputs": [
    {
     "name": "stdout",
     "output_type": "stream",
     "text": [
      "2.0.0\n"
     ]
    }
   ],
   "source": [
    "print(torch.__version__)\n",
    "\n",
    "\n"
   ]
  },
  {
   "cell_type": "code",
   "execution_count": 25,
   "metadata": {},
   "outputs": [],
   "source": [
    "def get_femnist_shakespeare_dataset(**args):\n",
    "    if args['dataset'] == 'femnist' or args['dataset'] == 'shakespeare':\n",
    "        trainloader, testloader = get_LEAF_dataloader(dataset=args['dataset'],\n",
    "                                                      client_id=args['rank'])\n",
    "    else:\n",
    "        raise ValueError(\"Invalid dataset:\", args['dataset'])\n",
    "    return trainloader, testloader"
   ]
  },
  {
   "cell_type": "code",
   "execution_count": 26,
   "metadata": {},
   "outputs": [
    {
     "name": "stdout",
     "output_type": "stream",
     "text": [
      "<torch.utils.data.dataloader.DataLoader object at 0x7f73245ab730>\n",
      "<torch.utils.data.dataloader.DataLoader object at 0x7f7324495450>\n",
      "<torch.utils.data.dataloader.DataLoader object at 0x7f7324496b60>\n",
      "<torch.utils.data.dataloader.DataLoader object at 0x7f73244958a0>\n",
      "<torch.utils.data.dataloader.DataLoader object at 0x7f73244959f0>\n"
     ]
    }
   ],
   "source": [
    "\n",
    "train_loaders = []\n",
    "test_loaders = []\n",
    "num_nodes = 5\n",
    "num_class = 62\n",
    "epoch_total = 50\n",
    "pickle_name = \"femnist-p2p-epoch-\"+str(epoch_total)\n",
    "\n",
    "for i in range(num_nodes):\n",
    "    args = {'dataset': 'femnist', 'rank': i}\n",
    "    trainloader, testloader = get_femnist_shakespeare_dataset(**args)\n",
    "    train_loaders.append(trainloader)\n",
    "    test_loaders.append(testloader)\n"
   ]
  },
  {
   "cell_type": "code",
   "execution_count": 27,
   "metadata": {},
   "outputs": [
    {
     "data": {
      "text/plain": [
       "'NVIDIA GeForce RTX 3060 Laptop GPU'"
      ]
     },
     "execution_count": 27,
     "metadata": {},
     "output_type": "execute_result"
    }
   ],
   "source": [
    "device = torch.device('cuda')\n",
    "torch.cuda.get_device_name(device)"
   ]
  },
  {
   "cell_type": "code",
   "execution_count": 28,
   "metadata": {},
   "outputs": [],
   "source": [
    "\n",
    "transform = transforms.Compose([\n",
    "    transforms.ToTensor(),\n",
    "])\n",
    "target_transform = lambda x: torch.nn.functional.one_hot(torch.tensor(x),num_class).float()"
   ]
  },
  {
   "cell_type": "code",
   "execution_count": 29,
   "metadata": {},
   "outputs": [
    {
     "name": "stdout",
     "output_type": "stream",
     "text": [
      "5\n",
      "5\n",
      "[<torch.utils.data.dataloader.DataLoader object at 0x7f73245aa920>, <torch.utils.data.dataloader.DataLoader object at 0x7f7324497eb0>, <torch.utils.data.dataloader.DataLoader object at 0x7f7324497940>, <torch.utils.data.dataloader.DataLoader object at 0x7f7324496c20>, <torch.utils.data.dataloader.DataLoader object at 0x7f7324496d40>]\n",
      "35\n"
     ]
    }
   ],
   "source": [
    "print(len(train_loaders))\n",
    "print(len(test_loaders))\n",
    "print(test_loaders)\n",
    "print(len(test_loaders[0].dataset))"
   ]
  },
  {
   "cell_type": "code",
   "execution_count": 30,
   "metadata": {},
   "outputs": [],
   "source": [
    "\n",
    "x_i_j = {}\n",
    "s_i = {}\n",
    "\n",
    "ypred = []\n",
    "ylabels = []"
   ]
  },
  {
   "cell_type": "code",
   "execution_count": 31,
   "metadata": {},
   "outputs": [],
   "source": [
    "class FederatedNode:\n",
    "    def __init__(self, train_dataloader, test_dataloader, node_id) -> None:\n",
    "        self.dataset_size = len(train_dataloader.dataset)\n",
    "        channels_sum, channels_squared_sum, num_batches = 0, 0, 0\n",
    "        for data, _ in train_dataloader:\n",
    "            # Mean over batch, height and width, but not over the channels\n",
    "            channels_sum += torch.mean(data, dim=[0])\n",
    "            channels_squared_sum += torch.mean(data**2, dim=[0])\n",
    "            num_batches += 1\n",
    "    \n",
    "        self.mean = channels_sum / num_batches\n",
    "        self.test_loss = 0.0\n",
    "        self.test_accuracy = 0.0\n",
    "        self.train_accuracy = 0.0\n",
    "        self.train_loss = 0.0\n",
    "        self.f1_score = 0.0\n",
    "\n",
    "\n",
    "        # std = sqrt(E[X^2] - (E[X])^2)\n",
    "        self.std = (channels_squared_sum / num_batches - self.mean ** 2) ** 0.5\n",
    "        print(\"Dataset size \", self.dataset_size)\n",
    "        print(\"Mean size \", self.mean.shape)\n",
    "        print(\"Standard deviation size \", self.std.shape)\n",
    "        \n",
    "        \n",
    "        self.network = nn.Sequential(\n",
    "            nn.Flatten(),\n",
    "            nn.Linear(784,56),\n",
    "            nn.ReLU(),\n",
    "            nn.Linear(56, 62)\n",
    "        ).to(device)\n",
    "\n",
    "        '''\n",
    "        only_digits=False\n",
    "        self.network = nn.Sequential(\n",
    "        nn.Conv2d(1, 32, kernel_size=3),\n",
    "        nn.MaxPool2d(2, stride=2),\n",
    "        nn.Conv2d(32, 64, kernel_size=3),\n",
    "        nn.Dropout(0.25),\n",
    "        nn.Flatten(),\n",
    "        nn.Linear(9216, 128),\n",
    "        nn.Dropout(0.5),\n",
    "        nn.Linear(128, 10 if only_digits else 62),\n",
    "        nn.ReLU()\n",
    "        ).to(device)\n",
    "        '''\n",
    "        self.optimizer = torch.optim.Adam(self.network.parameters())\n",
    "        self.criterion = nn.CrossEntropyLoss()\n",
    "        self.train_dataloader = train_dataloader\n",
    "        self.test_dataloader = test_dataloader\n",
    "        self.node_id = node_id\n",
    "    \n",
    "    def train_epoch(self):\n",
    "        losses = []\n",
    "        correct = 0\n",
    "        total = 0\n",
    "        train_accuracy = []\n",
    "        for idx, (data_x, data_y) in enumerate(self.train_dataloader):\n",
    "            #print(\"data_x\", data_x.shape)\n",
    "            #print(\"data_y\", data_y.shape)\n",
    "            #plt.imshow(data_x[1][0])\n",
    "            output = self.network(data_x.to(device))\n",
    "            self.optimizer.zero_grad()\n",
    "            #print(output.shape)\n",
    "            #print(data_y)\n",
    "            #data_y = target_transform(data_y)\n",
    "            \n",
    "            #loss = nn.functional.mse_loss(output, data_y.to(device))\n",
    "            loss = self.criterion(output, data_y.to(device))\n",
    "            losses.append(loss.item())\n",
    "            loss.backward()\n",
    "            self.optimizer.step()\n",
    "\n",
    "            _, predicted = torch.max(output.data, 1)\n",
    "            data_y = data_y.to(predicted.device)\n",
    "            true_labels = data_y\n",
    "            #true_labels = torch.argmax(data_y, dim=1).to(predicted.device)\n",
    "            total += data_y.size(0)\n",
    "            correct += (predicted == true_labels).sum().item()\n",
    "            train_accuracy.append(correct / total)\n",
    "            ypred.append(data_y)\n",
    "            ylabels.append(true_labels)\n",
    "        self.train_accuracy = train_accuracy[-1]\n",
    "        self.train_loss = sum(losses)/len(losses)\n",
    "        return self.train_accuracy, self.train_loss\n",
    "    \n",
    "    def testing(self):\n",
    "        correct = 0\n",
    "        total = 0\n",
    "        # test_running_loss = 0.0\n",
    "        predictions = []\n",
    "        labels = []\n",
    "        test_accuracy = []\n",
    "        test_running_losses = []\n",
    "        for idx, (data_x, data_y) in enumerate(self.test_dataloader):\n",
    "            output = self.network(data_x.to(device))\n",
    "            \n",
    "            _, predicted = torch.max(output.data, 1)\n",
    "            data_y = data_y.to(predicted.device)\n",
    "            true_labels = data_y\n",
    "            #true_labels = torch.argmax(data_y, dim=1).to(predicted.device)\n",
    "            total += data_y.size(0)\n",
    "            correct += (predicted == true_labels).sum().item()\n",
    "            \n",
    "            loss = self.criterion(output, data_y)\n",
    "            predictions.append(predicted.cpu())\n",
    "            #labels.append(data_y.cpu())\n",
    "            labels.append(true_labels.cpu())\n",
    "            test_running_losses.append(loss.item())\n",
    "            #print('Epoch %d test loss: %.3f' % (idx + 1, test_running_losses[-1]))\n",
    "            #print(test_running_losses)\n",
    "            #test_running_loss += loss.item()\n",
    "            #test_loss.append(test_running_loss / len(self.test_dataloader))\n",
    "            test_accuracy.append(correct / total)\n",
    "        \n",
    "        #print(predictions)\n",
    "        predictions = np.concatenate(predictions)\n",
    "        labels = np.concatenate(labels)\n",
    "        self.f1_score= f1_score(labels, predictions, average=\"weighted\")\n",
    "        self.test_accuracy = test_accuracy[-1]\n",
    "        #print(self.test_accuracy)\n",
    "        self.test_loss =  sum(test_running_losses)/len(test_running_losses)\n",
    "        #print(\"test loss \",self.test_loss)\n",
    "       \n",
    "    \n",
    "    def share_x_ij(self):\n",
    "        x = self.network.state_dict()\n",
    "        r = torch.randint(1, 5, [num_nodes])\n",
    "        s_r = torch.sum(r)\n",
    "        j=self.node_id\n",
    "        for i in range(num_nodes):\n",
    "            x_i_j[(i,j)]={}\n",
    "            for key in x.keys():\n",
    "                x_i_j[(i,j)][key]=x[key]*r[i]/s_r\n",
    "                \n",
    "        \n",
    "    \n",
    "    def share_s_i(self):\n",
    "        i = self.node_id\n",
    "        s_i[i] = {}\n",
    "        for key in x_i_j[(0,0)].keys():\n",
    "            s_i[i][key] = sum([x_i_j[(i,j)][key] for j in range(num_nodes)])\n",
    "\n",
    "    def share_x_ij_neighbours(self, neighbour_nodes):\n",
    "        j=self.node_id\n",
    "        num_neighbour_nodes = len(neighbour_nodes)\n",
    "        x = self.network.state_dict()\n",
    "        r = torch.randint(1, 5, [num_neighbour_nodes])\n",
    "        s_r = torch.sum(r)\n",
    "        \n",
    "        for i, n in enumerate(neighbour_nodes):\n",
    "            x_i_j[(n,j)]={}\n",
    "            for key in x.keys():\n",
    "                x_i_j[(n,j)][key]=x[key]*r[i]/s_r\n",
    "\n",
    "    def share_s_i_neighbours(self, neighbour_nodes):\n",
    "        i = self.node_id\n",
    "        s_i[i] = {}\n",
    "        \n",
    "        for key in x_i_j[list(x_i_j.keys())[0]].keys():\n",
    "            s_i[i][key] = sum([x_i_j[(i,j)][key] for j in neighbour_nodes])\n",
    "\n",
    "\n",
    "    def share_FedavgP2P(self, nodes):\n",
    "        dataset_size_all = [n.dataset_size for n in nodes]\n",
    "        i = self.node_id\n",
    "        C = 0.5\n",
    "        A = num_nodes - 1\n",
    "        m = C*A\n",
    "        #n_k = self.dataset_size\n",
    "\n",
    "        # Random clients\n",
    "        S_t = random.sample([ j for j in range(num_nodes) if j!=i], int(m)) \n",
    "        S_t.append(self.node_id)\n",
    "        #print(\"Clients \",S_t)\n",
    "        #S_t = random.sample(list(range(num_nodes)) , int(m))\n",
    "        #print(\"n_k \",n_k)\n",
    "        #print(\"m neighbors\", m)\n",
    "        #print(\"S_t\", S_t)\n",
    "        w_c = self.network.state_dict()\n",
    "        n_c = self.dataset_size\n",
    "        n_t = n_c\n",
    "        for s in S_t:\n",
    "            n_t += dataset_size_all[s]\n",
    "        \n",
    "        for j in S_t: \n",
    "            nodes[j].share_x_ij_neighbours(S_t)\n",
    "        for j in S_t: \n",
    "            nodes[j].share_s_i_neighbours(S_t)\n",
    "                \n",
    "        for key in nodes[0].network.state_dict():\n",
    "            for j in S_t: \n",
    "                n_k = dataset_size_all[j]\n",
    "                #states = nodes[j].network.state_dict()\n",
    "                averaged_state = {}\n",
    "            \n",
    "                for key in s_i[list(s_i.keys())[0]].keys():\n",
    "                    param_value = 0\n",
    "                    for i in s_i:\n",
    "                        param_value += s_i[i][key]\n",
    "                    \n",
    "                    averaged_state[key] = param_value/len(S_t)\n",
    "                #print(averaged_state)\n",
    "                #contributed_state = n_k/n_t*averaged_state[key]\n",
    "                #w_c[key] = w_c[key] + contributed_state\n",
    "                w_c[key] = averaged_state[key]\n",
    "                \n",
    "        self.network.load_state_dict(w_c)\n"
   ]
  },
  {
   "cell_type": "code",
   "execution_count": 32,
   "metadata": {},
   "outputs": [
    {
     "name": "stdout",
     "output_type": "stream",
     "text": [
      "Dataset size  309\n",
      "Mean size  torch.Size([1, 28, 28])\n",
      "Standard deviation size  torch.Size([1, 28, 28])\n",
      "Dataset size  136\n",
      "Mean size  torch.Size([1, 28, 28])\n",
      "Standard deviation size  torch.Size([1, 28, 28])\n",
      "Dataset size  213\n",
      "Mean size  torch.Size([1, 28, 28])\n",
      "Standard deviation size  torch.Size([1, 28, 28])\n",
      "Dataset size  249\n",
      "Mean size  torch.Size([1, 28, 28])\n",
      "Standard deviation size  torch.Size([1, 28, 28])\n",
      "Dataset size  215\n",
      "Mean size  torch.Size([1, 28, 28])\n",
      "Standard deviation size  torch.Size([1, 28, 28])\n"
     ]
    }
   ],
   "source": [
    "#for i, loader_data in enumerate(zip(*loader)):\n",
    "#    train_loaders, test_loaders = loader_data\n",
    "\n",
    "nodes = []\n",
    "for i in range(num_nodes):\n",
    "    nodes.append(FederatedNode(train_loaders[i], test_loaders[i], i)) \n",
    "\n",
    "#nodes = [FederatedNode(l, i) for i,l in enumerate())]"
   ]
  },
  {
   "cell_type": "code",
   "execution_count": 33,
   "metadata": {},
   "outputs": [
    {
     "name": "stderr",
     "output_type": "stream",
     "text": [
      "  2%|▏         | 6/250 [00:00<00:04, 59.03it/s]"
     ]
    },
    {
     "name": "stdout",
     "output_type": "stream",
     "text": [
      "4:1=4.144367456436157\n",
      "4:2=3.9847549200057983\n",
      "1:1=4.278110027313232\n",
      "1:2=4.085063457489014\n",
      "3:1=4.131402254104614\n",
      "0:1=4.170898914337158\n",
      "1:3=3.9947848320007324\n",
      "2:1=4.193741321563721\n"
     ]
    },
    {
     "name": "stderr",
     "output_type": "stream",
     "text": [
      "  5%|▍         | 12/250 [00:00<00:04, 55.30it/s]"
     ]
    },
    {
     "name": "stdout",
     "output_type": "stream",
     "text": [
      "0:2=4.087114016215007\n",
      "2:2=4.040165543556213\n",
      "2:3=4.002399206161499\n",
      "1:4=3.9424448013305664\n"
     ]
    },
    {
     "name": "stderr",
     "output_type": "stream",
     "text": [
      "  7%|▋         | 18/250 [00:00<00:04, 55.14it/s]"
     ]
    },
    {
     "name": "stdout",
     "output_type": "stream",
     "text": [
      "2:4=3.97058641910553\n",
      "2:5=3.9466540813446045\n",
      "3:2=3.903476595878601\n",
      "3:3=3.8218436241149902\n",
      "4:3=3.9460673332214355\n",
      "1:5=3.906871199607849\n",
      "4:4=3.949325919151306\n",
      "2:6=3.929901599884033\n",
      "4:5=3.973165988922119\n",
      "0:3=4.064029852549235\n",
      "2:7=3.961233615875244\n"
     ]
    },
    {
     "name": "stderr",
     "output_type": "stream",
     "text": [
      " 12%|█▏        | 30/250 [00:00<00:04, 52.93it/s]"
     ]
    },
    {
     "name": "stdout",
     "output_type": "stream",
     "text": [
      "0:4=4.270691871643066\n",
      "0:5=4.62914244333903\n",
      "2:8=4.197186231613159\n",
      "1:6=3.9277831315994263\n",
      "4:6=4.075879454612732\n",
      "3:4=3.7722182273864746\n",
      "0:6=4.527706305185954\n",
      "2:9=4.171975612640381\n",
      "3:5=4.312154054641724\n",
      "3:6=5.9154791831970215\n",
      "3:7=6.8316144943237305\n",
      "0:7=5.678115526835124\n"
     ]
    },
    {
     "name": "stderr",
     "output_type": "stream",
     "text": [
      " 17%|█▋        | 42/250 [00:00<00:03, 54.70it/s]"
     ]
    },
    {
     "name": "stdout",
     "output_type": "stream",
     "text": [
      "0:8=6.51564359664917\n",
      "3:8=6.431580543518066\n",
      "0:9=8.545275847117106\n",
      "3:9=7.32830548286438\n",
      "2:10=5.8683905601501465\n",
      "2:11=10.147045135498047\n",
      "1:7=4.526081800460815\n",
      "4:7=4.516364336013794\n",
      "2:12=12.13960599899292\n",
      "1:8=14.931541919708252\n"
     ]
    },
    {
     "name": "stderr",
     "output_type": "stream",
     "text": [
      " 19%|█▉        | 48/250 [00:00<00:03, 51.32it/s]"
     ]
    },
    {
     "name": "stdout",
     "output_type": "stream",
     "text": [
      "0:10=11.288599967956543\n",
      "1:9=24.24036693572998\n",
      "1:10=36.48317241668701\n",
      "2:13=21.449687957763672\n",
      "3:10=6.123627662658691\n",
      "2:14=39.50034713745117\n",
      "3:11=29.495019912719727\n",
      "3:12=45.955060958862305\n"
     ]
    },
    {
     "name": "stderr",
     "output_type": "stream",
     "text": [
      " 22%|██▏       | 54/250 [00:01<00:03, 51.88it/s]"
     ]
    },
    {
     "name": "stdout",
     "output_type": "stream",
     "text": [
      "0:11=26.258175532023113\n",
      "2:15=51.26137733459473\n",
      "1:11=37.05738067626953\n"
     ]
    },
    {
     "name": "stderr",
     "output_type": "stream",
     "text": [
      " 24%|██▍       | 60/250 [00:01<00:03, 54.01it/s]"
     ]
    },
    {
     "name": "stdout",
     "output_type": "stream",
     "text": [
      "2:16=73.36338806152344\n",
      "2:17=121.98015594482422\n",
      "4:8=16.252826690673828\n",
      "1:12=104.96990585327148\n",
      "2:18=122.54003143310547\n",
      "1:13=192.23583221435547\n",
      "4:9=129.94551849365234\n",
      "1:14=248.4953155517578\n",
      "3:13=54.49749946594238\n",
      "4:10=241.135498046875\n"
     ]
    },
    {
     "name": "stderr",
     "output_type": "stream",
     "text": [
      " 27%|██▋       | 67/250 [00:01<00:03, 55.95it/s]"
     ]
    },
    {
     "name": "stdout",
     "output_type": "stream",
     "text": [
      "0:12=69.67935180664062\n",
      "2:19=181.50714111328125\n",
      "2:20=483.720703125\n"
     ]
    },
    {
     "name": "stderr",
     "output_type": "stream",
     "text": [
      " 29%|██▉       | 73/250 [00:01<00:03, 54.33it/s]"
     ]
    },
    {
     "name": "stdout",
     "output_type": "stream",
     "text": [
      "4:11=368.47764587402344\n",
      "2:21=513.0838928222656\n",
      "0:13=407.7760416666667\n",
      "0:14=757.5153401692709\n",
      "1:15=244.02975463867188\n",
      "1:16=739.5689392089844\n",
      "0:15=870.4551798502604\n",
      "0:16=1085.3315022786458\n",
      "0:17=1165.2357584635417\n",
      "1:17=1011.3511657714844\n"
     ]
    },
    {
     "name": "stderr",
     "output_type": "stream",
     "text": [
      " 34%|███▍      | 86/250 [00:01<00:03, 53.34it/s]"
     ]
    },
    {
     "name": "stdout",
     "output_type": "stream",
     "text": [
      "4:12=576.3001098632812\n",
      "2:22=694.5792541503906\n",
      "1:18=1316.842529296875\n",
      "2:23=1493.30517578125\n",
      "2:24=1790.2716064453125\n",
      "1:19=1768.755615234375\n",
      "1:20=2713.097900390625\n",
      "3:14=260.9685745239258\n",
      "1:21=2768.8336181640625\n",
      "3:15=2708.691650390625\n",
      "1:22=3233.91943359375\n",
      "1:23=3265.0380859375\n"
     ]
    },
    {
     "name": "stderr",
     "output_type": "stream",
     "text": [
      " 37%|███▋      | 92/250 [00:01<00:03, 51.01it/s]"
     ]
    },
    {
     "name": "stdout",
     "output_type": "stream",
     "text": [
      "1:24=3339.365966796875\n",
      "0:18=1144.4600830078125\n",
      "0:19=4658.475260416667\n",
      "2:25=1804.9082641601562\n",
      "2:26=5399.92138671875\n"
     ]
    },
    {
     "name": "stderr",
     "output_type": "stream",
     "text": [
      " 39%|███▉      | 98/250 [00:01<00:03, 45.01it/s]"
     ]
    },
    {
     "name": "stdout",
     "output_type": "stream",
     "text": [
      "2:27=6400.243896484375\n",
      "0:20=5503.470377604167\n"
     ]
    },
    {
     "name": "stderr",
     "output_type": "stream",
     "text": [
      " 41%|████      | 103/250 [00:02<00:03, 40.91it/s]"
     ]
    },
    {
     "name": "stdout",
     "output_type": "stream",
     "text": [
      "0:21=9074.027180989584\n",
      "4:13=1456.4976806640625\n",
      "1:25=4301.131591796875\n",
      "0:22=10406.800130208334\n",
      "4:14=9601.26318359375\n",
      "3:16=3934.2987060546875\n",
      "1:26=13535.908203125\n"
     ]
    },
    {
     "name": "stderr",
     "output_type": "stream",
     "text": [
      " 43%|████▎     | 108/250 [00:02<00:03, 37.01it/s]"
     ]
    },
    {
     "name": "stdout",
     "output_type": "stream",
     "text": [
      "0:23=15609.5546875\n",
      "0:24=23501.518229166668\n",
      "0:25=31108.311197916668\n",
      "3:17=16435.3173828125\n",
      "3:18=37108.296875\n"
     ]
    },
    {
     "name": "stderr",
     "output_type": "stream",
     "text": [
      " 45%|████▍     | 112/250 [00:02<00:03, 36.77it/s]"
     ]
    },
    {
     "name": "stdout",
     "output_type": "stream",
     "text": [
      "2:28=7126.67626953125\n",
      "3:19=46155.083984375\n"
     ]
    },
    {
     "name": "stderr",
     "output_type": "stream",
     "text": [
      " 46%|████▋     | 116/250 [00:02<00:03, 36.06it/s]"
     ]
    },
    {
     "name": "stdout",
     "output_type": "stream",
     "text": [
      "4:15=13820.78369140625\n",
      "1:27=21425.6650390625\n",
      "4:16=56006.4765625\n",
      "4:17=79406.953125\n",
      "2:29=34497.623046875\n",
      "0:26=34106.38671875\n"
     ]
    },
    {
     "name": "stderr",
     "output_type": "stream",
     "text": [
      " 48%|████▊     | 120/250 [00:02<00:04, 31.41it/s]"
     ]
    },
    {
     "name": "stdout",
     "output_type": "stream",
     "text": [
      "2:30=73215.84765625\n",
      "1:28=70417.58984375\n",
      "4:18=93214.34765625\n",
      "2:31=140254.3125\n",
      "2:32=220964.65625\n",
      "3:20=56875.24609375\n"
     ]
    },
    {
     "name": "stderr",
     "output_type": "stream",
     "text": [
      " 51%|█████     | 128/250 [00:02<00:03, 32.30it/s]"
     ]
    },
    {
     "name": "stdout",
     "output_type": "stream",
     "text": [
      "2:33=284061.015625\n",
      "3:21=301205.453125\n",
      "2:34=323274.546875\n",
      "4:19=175734.5625\n",
      "3:22=361072.9375\n",
      "1:29=166121.0859375\n",
      "0:27=102282.93489583333\n",
      "0:28=641090.3333333334\n"
     ]
    },
    {
     "name": "stderr",
     "output_type": "stream",
     "text": [
      " 54%|█████▍    | 136/250 [00:03<00:03, 33.25it/s]"
     ]
    },
    {
     "name": "stdout",
     "output_type": "stream",
     "text": [
      "0:29=815505.7083333334\n",
      "4:20=399029.765625\n",
      "3:23=524270.296875\n",
      "1:30=565016.390625\n",
      "2:35=409913.546875\n",
      "2:36=1246918.6875\n",
      "3:24=1278060.25\n",
      "1:31=1181265.71875\n",
      "2:37=1622817.0\n",
      "2:38=2142649.125\n"
     ]
    },
    {
     "name": "stderr",
     "output_type": "stream",
     "text": [
      " 59%|█████▉    | 148/250 [00:03<00:02, 43.38it/s]"
     ]
    },
    {
     "name": "stdout",
     "output_type": "stream",
     "text": [
      "0:30=987832.7708333334\n",
      "3:25=2060804.375\n",
      "0:31=2701736.5833333335\n",
      "1:32=2559421.5\n",
      "3:26=3749644.125\n",
      "4:21=820032.65625\n",
      "3:27=4783709.5\n"
     ]
    },
    {
     "name": "stderr",
     "output_type": "stream",
     "text": [
      " 61%|██████    | 153/250 [00:03<00:02, 45.00it/s]"
     ]
    },
    {
     "name": "stdout",
     "output_type": "stream",
     "text": [
      "2:39=2721512.25\n",
      "3:28=6788822.75\n",
      "4:22=5504877.25\n",
      "0:32=4512973.833333333\n"
     ]
    },
    {
     "name": "stderr",
     "output_type": "stream",
     "text": [
      " 64%|██████▎   | 159/250 [00:03<00:01, 47.84it/s]"
     ]
    },
    {
     "name": "stdout",
     "output_type": "stream",
     "text": [
      "1:33=4324315.875\n",
      "0:33=11550369.666666666\n",
      "3:29=10062344.0\n",
      "2:40=7308169.75\n",
      "3:30=21137979.0\n",
      "2:41=20674237.0\n",
      "3:31=28139300.0\n",
      "0:34=15913083.333333334\n",
      "4:23=10119231.5\n",
      "1:34=14144821.0\n",
      "3:32=34380405.0\n"
     ]
    },
    {
     "name": "stderr",
     "output_type": "stream",
     "text": [
      " 68%|██████▊   | 171/250 [00:03<00:01, 50.65it/s]"
     ]
    },
    {
     "name": "stdout",
     "output_type": "stream",
     "text": [
      "1:35=49232632.0\n",
      "1:36=70860664.0\n",
      "4:24=34956450.0\n",
      "3:33=63756472.0\n",
      "4:25=81686848.0\n",
      "0:35=34426266.666666664\n",
      "3:34=91426456.0\n",
      "3:35=142686680.0\n",
      "2:42=28871917.0\n",
      "2:43=115941736.0\n",
      "2:44=197962112.0\n",
      "3:36=149490192.0\n"
     ]
    },
    {
     "name": "stderr",
     "output_type": "stream",
     "text": [
      " 71%|███████   | 177/250 [00:03<00:01, 51.98it/s]"
     ]
    },
    {
     "name": "stdout",
     "output_type": "stream",
     "text": [
      "2:45=232567472.0\n",
      "0:36=94252280.0\n",
      "0:37=294042224.0\n",
      "3:37=254489704.0\n",
      "1:37=77615508.0\n",
      "1:38=410886848.0\n"
     ]
    },
    {
     "name": "stderr",
     "output_type": "stream",
     "text": [
      " 73%|███████▎  | 183/250 [00:04<00:01, 49.08it/s]"
     ]
    },
    {
     "name": "stdout",
     "output_type": "stream",
     "text": [
      "3:38=431052192.0\n",
      "3:39=672159456.0\n",
      "2:46=282441768.0\n",
      "1:39=576901488.0\n"
     ]
    },
    {
     "name": "stderr",
     "output_type": "stream",
     "text": [
      " 76%|███████▌  | 189/250 [00:04<00:01, 51.18it/s]"
     ]
    },
    {
     "name": "stdout",
     "output_type": "stream",
     "text": [
      "3:40=810732224.0\n",
      "3:41=1026667008.0\n",
      "0:38=276489258.6666667\n",
      "2:47=459993488.0\n",
      "3:42=1222980928.0\n",
      "4:26=106563340.0\n",
      "0:39=926644352.0\n",
      "1:40=855425120.0\n",
      "3:43=1920724928.0\n"
     ]
    },
    {
     "name": "stderr",
     "output_type": "stream",
     "text": [
      " 78%|███████▊  | 195/250 [00:04<00:01, 45.42it/s]"
     ]
    },
    {
     "name": "stdout",
     "output_type": "stream",
     "text": [
      "2:48=1300581568.0\n",
      "3:44=3015745408.0\n",
      "1:41=2341598656.0\n",
      "3:45=4104780160.0\n"
     ]
    },
    {
     "name": "stderr",
     "output_type": "stream",
     "text": [
      " 80%|████████  | 200/250 [00:04<00:01, 40.52it/s]"
     ]
    },
    {
     "name": "stdout",
     "output_type": "stream",
     "text": [
      "3:46=4480474368.0\n",
      "1:42=3899785088.0\n",
      "3:47=5210794240.0\n"
     ]
    },
    {
     "name": "stderr",
     "output_type": "stream",
     "text": [
      " 82%|████████▏ | 205/250 [00:04<00:01, 38.64it/s]"
     ]
    },
    {
     "name": "stdout",
     "output_type": "stream",
     "text": [
      "2:49=3293555584.0\n",
      "1:43=4561022976.0\n",
      "1:44=7310231552.0\n",
      "3:48=5228783104.0\n"
     ]
    },
    {
     "name": "stderr",
     "output_type": "stream",
     "text": [
      " 84%|████████▎ | 209/250 [00:04<00:01, 36.93it/s]"
     ]
    },
    {
     "name": "stdout",
     "output_type": "stream",
     "text": [
      "2:50=4910762496.0\n",
      "3:49=7252583936.0\n",
      "3:50=9315104256.0\n"
     ]
    },
    {
     "name": "stderr",
     "output_type": "stream",
     "text": [
      " 85%|████████▌ | 213/250 [00:04<00:01, 36.27it/s]"
     ]
    },
    {
     "name": "stdout",
     "output_type": "stream",
     "text": [
      "1:45=8394326272.0\n",
      "1:46=10779358208.0\n",
      "1:47=9502124800.0\n",
      "4:27=1226613056.0\n",
      "4:28=10611813888.0\n",
      "4:29=15218238464.0\n",
      "0:40=2230398122.6666665\n"
     ]
    },
    {
     "name": "stderr",
     "output_type": "stream",
     "text": [
      " 87%|████████▋ | 217/250 [00:04<00:00, 34.23it/s]"
     ]
    },
    {
     "name": "stdout",
     "output_type": "stream",
     "text": [
      "0:41=13054240085.333334\n",
      "1:48=8925641216.0\n",
      "4:30=17198238720.0\n",
      "1:49=21907268608.0\n"
     ]
    },
    {
     "name": "stderr",
     "output_type": "stream",
     "text": [
      " 88%|████████▊ | 221/250 [00:05<00:00, 32.97it/s]"
     ]
    },
    {
     "name": "stdout",
     "output_type": "stream",
     "text": [
      "0:42=16719814314.666666\n",
      "0:43=30451752277.333332\n",
      "1:50=29151159296.0\n"
     ]
    },
    {
     "name": "stderr",
     "output_type": "stream",
     "text": [
      " 90%|█████████ | 225/250 [00:05<00:00, 34.69it/s]"
     ]
    },
    {
     "name": "stdout",
     "output_type": "stream",
     "text": [
      "0:44=31972498090.666668\n",
      "4:31=19951049728.0\n",
      "4:32=35164901376.0\n",
      "4:33=31827509248.0\n",
      "0:45=42930300245.333336\n",
      "4:34=39499286528.0\n"
     ]
    },
    {
     "name": "stderr",
     "output_type": "stream",
     "text": [
      " 92%|█████████▏| 230/250 [00:05<00:00, 35.83it/s]"
     ]
    },
    {
     "name": "stdout",
     "output_type": "stream",
     "text": [
      "4:35=53145915392.0\n",
      "0:46=35283414357.333336\n"
     ]
    },
    {
     "name": "stderr",
     "output_type": "stream",
     "text": [
      " 94%|█████████▎| 234/250 [00:05<00:00, 32.57it/s]"
     ]
    },
    {
     "name": "stdout",
     "output_type": "stream",
     "text": [
      "0:47=44071297024.0\n",
      "4:36=46088249344.0\n",
      "0:48=55851913216.0\n",
      "0:49=75623799466.66667\n",
      "0:50=75304173568.0\n",
      "4:37=53981487104.0\n"
     ]
    },
    {
     "name": "stderr",
     "output_type": "stream",
     "text": [
      " 97%|█████████▋| 242/250 [00:05<00:00, 32.23it/s]"
     ]
    },
    {
     "name": "stdout",
     "output_type": "stream",
     "text": [
      "4:38=83608801280.0\n",
      "4:39=77770932224.0\n",
      "4:40=85886193664.0\n",
      "4:41=69217124352.0\n",
      "4:42=78515449856.0\n",
      "4:43=66531119104.0\n",
      "4:44=49652140032.0\n"
     ]
    },
    {
     "name": "stderr",
     "output_type": "stream",
     "text": [
      " 98%|█████████▊| 246/250 [00:05<00:00, 32.34it/s]"
     ]
    },
    {
     "name": "stdout",
     "output_type": "stream",
     "text": [
      "4:45=42632951808.0\n",
      "4:46=49411362816.0\n",
      "4:47=55522306048.0\n",
      "4:48=44356884480.0\n",
      "4:49=48783173632.0\n",
      "4:50=53361025024.0\n"
     ]
    },
    {
     "name": "stderr",
     "output_type": "stream",
     "text": [
      "100%|██████████| 250/250 [00:06<00:00, 41.52it/s]"
     ]
    },
    {
     "name": "stdout",
     "output_type": "stream",
     "text": [
      "Time taken by FL with SMPC 6.0254881381988525\n"
     ]
    },
    {
     "name": "stderr",
     "output_type": "stream",
     "text": [
      "\n"
     ]
    }
   ],
   "source": [
    "losses = {}\n",
    "train_accuracies = {}\n",
    "test_accuracies = {}\n",
    "test_losses = {}\n",
    "f1_scores = {}\n",
    "#with profile(activities=[ProfilerActivity.CPU, ProfilerActivity.CUDA], record_shapes=True) as prof:\n",
    "#    with record_function(\"model_training\"):\n",
    "\n",
    "start_time = time.time()\n",
    "dataset_size_all = {}\n",
    "epochs ={i:0 for i in range(num_nodes)}\n",
    "\n",
    "for i in tqdm(range(epoch_total*num_nodes)):\n",
    "    cands = [i for i in epochs if epochs[i]<epoch_total]\n",
    "    node_c = nodes[cands[torch.randint(len(cands), (1,)).item()]]\n",
    "    del cands\n",
    "    train_acc, loss = node_c.train_epoch()\n",
    "    epochs[node_c.node_id] += 1\n",
    "    losses[(node_c.node_id, epochs[node_c.node_id])]=loss\n",
    "    print(f\"{node_c.node_id}:{epochs[node_c.node_id]}={loss}\")\n",
    "    train_accuracies[(node_c.node_id, epochs[node_c.node_id])]=train_acc\n",
    "\n",
    "    x_i_j = {}\n",
    "    s_i = {}\n",
    "    for node in nodes:\n",
    "        node.share_x_ij()\n",
    "    \n",
    "    for node in nodes:\n",
    "        node.share_s_i()\n",
    "    \n",
    "\n",
    "    node_c.share_FedavgP2P(nodes)\n",
    "    \n",
    "\n",
    "\n",
    "    # for i, node in enumerate(nodes):\n",
    "        #print()\n",
    "        #print(\"Node \", i)\n",
    "        \n",
    "    node_c.testing()\n",
    "    #test_losses.append(node.test_loss)\n",
    "    #print(\"Node Test Accuracy\", node.test_accuracy)\n",
    "    #print(\"Node Test loss\", node.test_loss)\n",
    "    #print(\"Node F1_Score \", node.f1_score)\n",
    "    test_accuracies[(node_c.node_id, epochs[node_c.node_id])]=node_c.test_accuracy\n",
    "    test_losses[(node_c.node_id, epochs[node_c.node_id])]=node_c.test_loss\n",
    "    f1_scores[(node_c.node_id, epochs[node_c.node_id])]=node_c.f1_score\n",
    "    \n",
    "\n",
    "            \n",
    "    # test_accuracies.append(epoch_test_accuracies)\n",
    "    # test_losses.append(epoch_test_losses)\n",
    "    # f1_scores.append(epoch_f1_scores)\n",
    "\n",
    "\n",
    "    \n",
    "    #av_state = {}\n",
    "    #print(s_i[0])\n",
    "    #for key in s_i[0].keys():\n",
    "    #    av_state[key]=torch.mean(torch.tensor([s_i[i][key] for i in s_i]), dim=[0])\n",
    "    # averaged_state = {}\n",
    "    # for key in s_i[0].keys():\n",
    "    #     param_value = 0\n",
    "    #     for i in s_i:\n",
    "    #         param_value += s_i[i][key]\n",
    "        \n",
    "    #     averaged_state[key] = param_value/num_nodes\n",
    "\n",
    "    # for node in nodes:\n",
    "    #     node.network.load_state_dict(averaged_state)\n",
    "\n",
    "    \n",
    "    \n",
    "    \n",
    "    # states = [i.network.state_dict() for i in nodes]\n",
    "    # av_state = {}\n",
    "    # for key in states[0]:\n",
    "    #     av_state[key] = sum([s[key] for s in states])/num_nodes\n",
    "    # for node in nodes:\n",
    "    #     node.network.load_state_dict(av_state)\n",
    "\n",
    "time_FL_SMPC = time.time() - start_time\n",
    "\n",
    "print(\"Time taken by FL with SMPC\", time_FL_SMPC)\n",
    "    \n"
   ]
  },
  {
   "cell_type": "code",
   "execution_count": 34,
   "metadata": {},
   "outputs": [],
   "source": [
    "losses2 = [[losses[(j,i)] for j in range(num_nodes) ] for i in range(1,epoch_total+1)]\n",
    "train_accuracies2 = [[train_accuracies[(j,i)] for j in range(num_nodes) ] for i in range(1,epoch_total+1)]\n",
    "test_accuracies2 = [[test_accuracies[(j,i)] for j in range(num_nodes) ] for i in range(1,epoch_total+1)]\n",
    "test_losses2 = [[test_losses[(j,i)] for j in range(num_nodes) ] for i in range(1,epoch_total+1)]\n",
    "f1_scores2 = [[f1_scores[(j,i)] for j in range(num_nodes) ] for i in range(1,epoch_total+1)]"
   ]
  },
  {
   "cell_type": "code",
   "execution_count": null,
   "metadata": {},
   "outputs": [],
   "source": []
  },
  {
   "cell_type": "code",
   "execution_count": 35,
   "metadata": {},
   "outputs": [],
   "source": [
    "import pickle\n",
    "\n",
    "try:\n",
    "    my_pickle_results = pickle.load( open( pickle_name+'.pickle', \"rb\" ) )\n",
    "    result = {}\n",
    "    result2 = {}\n",
    "    myResults = my_pickle_results\n",
    "except (OSError, IOError) as e:\n",
    "    my_pickle_results = {}\n",
    "    result = {}\n",
    "    result2 = {}"
   ]
  },
  {
   "cell_type": "code",
   "execution_count": 36,
   "metadata": {},
   "outputs": [],
   "source": [
    "result[\"train_accuracies\"] = train_accuracies2\n",
    "result[\"train_losses\"] = losses2\n",
    "result[\"test_accuracies\"] = test_accuracies2\n",
    "result[\"test_losses\"] = test_losses2\n",
    "result[\"f1_scores\"] = f1_scores2\n",
    "result[\"ypred\"] = ypred\n",
    "result[\"ylabels\"] = ylabels\n",
    "result[\"time_taken\"] = time_FL_SMPC\n"
   ]
  },
  {
   "cell_type": "code",
   "execution_count": 37,
   "metadata": {},
   "outputs": [
    {
     "name": "stdout",
     "output_type": "stream",
     "text": [
      "[0.0, 0.0, 0.08333333333333333, 0.03571428571428571, 0.0]\n"
     ]
    }
   ],
   "source": [
    "print(test_accuracies2[-1])"
   ]
  },
  {
   "cell_type": "code",
   "execution_count": 38,
   "metadata": {},
   "outputs": [
    {
     "data": {
      "text/plain": [
       "[<matplotlib.lines.Line2D at 0x7f73244c9ae0>,\n",
       " <matplotlib.lines.Line2D at 0x7f73244c9870>,\n",
       " <matplotlib.lines.Line2D at 0x7f73244c9840>,\n",
       " <matplotlib.lines.Line2D at 0x7f73244c9d20>,\n",
       " <matplotlib.lines.Line2D at 0x7f73244ca920>]"
      ]
     },
     "execution_count": 38,
     "metadata": {},
     "output_type": "execute_result"
    },
    {
     "data": {
      "image/png": "[encoded data removed]",
      "text/plain": [
       "<Figure size 640x480 with 1 Axes>"
      ]
     },
     "metadata": {},
     "output_type": "display_data"
    }
   ],
   "source": [
    "plt.plot(test_accuracies2)"
   ]
  },
  {
   "cell_type": "code",
   "execution_count": 39,
   "metadata": {},
   "outputs": [
    {
     "name": "stdout",
     "output_type": "stream",
     "text": [
      "[[4.170898914337158, 4.278110027313232, 4.193741321563721, 4.131402254104614, 4.144367456436157], [4.087114016215007, 4.085063457489014, 4.040165543556213, 3.903476595878601, 3.9847549200057983], [4.064029852549235, 3.9947848320007324, 4.002399206161499, 3.8218436241149902, 3.9460673332214355], [4.270691871643066, 3.9424448013305664, 3.97058641910553, 3.7722182273864746, 3.949325919151306], [4.62914244333903, 3.906871199607849, 3.9466540813446045, 4.312154054641724, 3.973165988922119], [4.527706305185954, 3.9277831315994263, 3.929901599884033, 5.9154791831970215, 4.075879454612732], [5.678115526835124, 4.526081800460815, 3.961233615875244, 6.8316144943237305, 4.516364336013794], [6.51564359664917, 14.931541919708252, 4.197186231613159, 6.431580543518066, 16.252826690673828], [8.545275847117106, 24.24036693572998, 4.171975612640381, 7.32830548286438, 129.94551849365234], [11.288599967956543, 36.48317241668701, 5.8683905601501465, 6.123627662658691, 241.135498046875], [26.258175532023113, 37.05738067626953, 10.147045135498047, 29.495019912719727, 368.47764587402344], [69.67935180664062, 104.96990585327148, 12.13960599899292, 45.955060958862305, 576.3001098632812], [407.7760416666667, 192.23583221435547, 21.449687957763672, 54.49749946594238, 1456.4976806640625], [757.5153401692709, 248.4953155517578, 39.50034713745117, 260.9685745239258, 9601.26318359375], [870.4551798502604, 244.02975463867188, 51.26137733459473, 2708.691650390625, 13820.78369140625], [1085.3315022786458, 739.5689392089844, 73.36338806152344, 3934.2987060546875, 56006.4765625], [1165.2357584635417, 1011.3511657714844, 121.98015594482422, 16435.3173828125, 79406.953125], [1144.4600830078125, 1316.842529296875, 122.54003143310547, 37108.296875, 93214.34765625], [4658.475260416667, 1768.755615234375, 181.50714111328125, 46155.083984375, 175734.5625], [5503.470377604167, 2713.097900390625, 483.720703125, 56875.24609375, 399029.765625], [9074.027180989584, 2768.8336181640625, 513.0838928222656, 301205.453125, 820032.65625], [10406.800130208334, 3233.91943359375, 694.5792541503906, 361072.9375, 5504877.25], [15609.5546875, 3265.0380859375, 1493.30517578125, 524270.296875, 10119231.5], [23501.518229166668, 3339.365966796875, 1790.2716064453125, 1278060.25, 34956450.0], [31108.311197916668, 4301.131591796875, 1804.9082641601562, 2060804.375, 81686848.0], [34106.38671875, 13535.908203125, 5399.92138671875, 3749644.125, 106563340.0], [102282.93489583333, 21425.6650390625, 6400.243896484375, 4783709.5, 1226613056.0], [641090.3333333334, 70417.58984375, 7126.67626953125, 6788822.75, 10611813888.0], [815505.7083333334, 166121.0859375, 34497.623046875, 10062344.0, 15218238464.0], [987832.7708333334, 565016.390625, 73215.84765625, 21137979.0, 17198238720.0], [2701736.5833333335, 1181265.71875, 140254.3125, 28139300.0, 19951049728.0], [4512973.833333333, 2559421.5, 220964.65625, 34380405.0, 35164901376.0], [11550369.666666666, 4324315.875, 284061.015625, 63756472.0, 31827509248.0], [15913083.333333334, 14144821.0, 323274.546875, 91426456.0, 39499286528.0], [34426266.666666664, 49232632.0, 409913.546875, 142686680.0, 53145915392.0], [94252280.0, 70860664.0, 1246918.6875, 149490192.0, 46088249344.0], [294042224.0, 77615508.0, 1622817.0, 254489704.0, 53981487104.0], [276489258.6666667, 410886848.0, 2142649.125, 431052192.0, 83608801280.0], [926644352.0, 576901488.0, 2721512.25, 672159456.0, 77770932224.0], [2230398122.6666665, 855425120.0, 7308169.75, 810732224.0, 85886193664.0], [13054240085.333334, 2341598656.0, 20674237.0, 1026667008.0, 69217124352.0], [16719814314.666666, 3899785088.0, 28871917.0, 1222980928.0, 78515449856.0], [30451752277.333332, 4561022976.0, 115941736.0, 1920724928.0, 66531119104.0], [31972498090.666668, 7310231552.0, 197962112.0, 3015745408.0, 49652140032.0], [42930300245.333336, 8394326272.0, 232567472.0, 4104780160.0, 42632951808.0], [35283414357.333336, 10779358208.0, 282441768.0, 4480474368.0, 49411362816.0], [44071297024.0, 9502124800.0, 459993488.0, 5210794240.0, 55522306048.0], [55851913216.0, 8925641216.0, 1300581568.0, 5228783104.0, 44356884480.0], [75623799466.66667, 21907268608.0, 3293555584.0, 7252583936.0, 48783173632.0], [75304173568.0, 29151159296.0, 4910762496.0, 9315104256.0, 53361025024.0]]\n"
     ]
    }
   ],
   "source": [
    "print(losses2)"
   ]
  },
  {
   "cell_type": "code",
   "execution_count": null,
   "metadata": {},
   "outputs": [],
   "source": []
  },
  {
   "cell_type": "code",
   "execution_count": 40,
   "metadata": {},
   "outputs": [
    {
     "data": {
      "text/plain": [
       "[<matplotlib.lines.Line2D at 0x7f732436faf0>,\n",
       " <matplotlib.lines.Line2D at 0x7f732436fb50>,\n",
       " <matplotlib.lines.Line2D at 0x7f732436fb80>,\n",
       " <matplotlib.lines.Line2D at 0x7f732436fc70>,\n",
       " <matplotlib.lines.Line2D at 0x7f732436fd60>]"
      ]
     },
     "execution_count": 40,
     "metadata": {},
     "output_type": "execute_result"
    },
    {
     "data": {
      "image/png": "[encoded data removed]",
      "text/plain": [
       "<Figure size 640x480 with 1 Axes>"
      ]
     },
     "metadata": {},
     "output_type": "display_data"
    }
   ],
   "source": [
    "plt.plot(losses2)"
   ]
  },
  {
   "cell_type": "code",
   "execution_count": null,
   "metadata": {},
   "outputs": [],
   "source": []
  },
  {
   "cell_type": "code",
   "execution_count": null,
   "metadata": {},
   "outputs": [],
   "source": []
  },
  {
   "cell_type": "code",
   "execution_count": 41,
   "metadata": {},
   "outputs": [
    {
     "name": "stdout",
     "output_type": "stream",
     "text": [
      "Dataset size  309\n",
      "Mean size  torch.Size([1, 28, 28])\n",
      "Standard deviation size  torch.Size([1, 28, 28])\n",
      "Dataset size  136\n",
      "Mean size  torch.Size([1, 28, 28])\n",
      "Standard deviation size  torch.Size([1, 28, 28])\n",
      "Dataset size  213\n",
      "Mean size  torch.Size([1, 28, 28])\n",
      "Standard deviation size  torch.Size([1, 28, 28])\n",
      "Dataset size  249\n",
      "Mean size  torch.Size([1, 28, 28])\n",
      "Standard deviation size  torch.Size([1, 28, 28])\n",
      "Dataset size  215\n",
      "Mean size  torch.Size([1, 28, 28])\n",
      "Standard deviation size  torch.Size([1, 28, 28])\n"
     ]
    }
   ],
   "source": [
    "\n",
    "nodes = []\n",
    "for i in range(num_nodes):\n",
    "    nodes.append(FederatedNode(train_loaders[i], test_loaders[i], i)) \n"
   ]
  },
  {
   "cell_type": "code",
   "execution_count": 42,
   "metadata": {},
   "outputs": [],
   "source": [
    "with open(pickle_name+'.pickle', 'wb') as handle:\n",
    "    pickle.dump(my_pickle_results, handle, protocol=pickle.HIGHEST_PROTOCOL)"
   ]
  },
  {
   "cell_type": "code",
   "execution_count": 43,
   "metadata": {},
   "outputs": [],
   "source": [
    "from sklearn.metrics import confusion_matrix, ConfusionMatrixDisplay\n",
    "from sklearn.metrics import classification_report\n",
    "labels = []\n",
    "for _, label in train_loaders[0]:\n",
    "    labels.append(label)\n",
    "#print(labels)\n",
    "#print(classification_report(y_true, y_pred, target_names=target_names))"
   ]
  },
  {
   "cell_type": "code",
   "execution_count": 44,
   "metadata": {},
   "outputs": [
    {
     "name": "stdout",
     "output_type": "stream",
     "text": [
      "Current date and time : \n",
      "2023-05-13 01:42:43\n"
     ]
    },
    {
     "ename": "",
     "evalue": "",
     "output_type": "error",
     "traceback": [
      "\u001b[1;31mThe Kernel crashed while executing code in the the current cell or a previous cell. Please review the code in the cell(s) to identify a possible cause of the failure. Click <a href='https://aka.ms/vscodeJupyterKernelCrash'>here</a> for more info. View Jupyter <a href='command:jupyter.viewOutput'>log</a> for further details."
     ]
    }
   ],
   "source": [
    "import datetime\n",
    "now = datetime.datetime.now()\n",
    "print (\"Current date and time : \")\n",
    "print (now.strftime(\"%Y-%m-%d %H:%M:%S\"))"
   ]
  },
  {
   "cell_type": "code",
   "execution_count": null,
   "metadata": {},
   "outputs": [],
   "source": []
  }
 ],
 "metadata": {
  "kernelspec": {
   "display_name": ".venv",
   "language": "python",
   "name": "python3"
  },
  "language_info": {
   "codemirror_mode": {
    "name": "ipython",
    "version": 3
   },
   "file_extension": ".py",
   "mimetype": "text/x-python",
   "name": "python",
   "nbconvert_exporter": "python",
   "pygments_lexer": "ipython3",
   "version": "3.10.9"
  },
  "orig_nbformat": 4
 },
 "nbformat": 4,
 "nbformat_minor": 2
}
