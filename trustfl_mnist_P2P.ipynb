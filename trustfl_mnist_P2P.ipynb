{
 "cells": [
  {
   "cell_type": "code",
   "execution_count": 18,
   "metadata": {},
   "outputs": [],
   "source": [
    "import torch, torch.utils.data\n",
    "from torch import nn\n",
    "import torchvision, torchvision.datasets\n",
    "from torchvision import transforms\n",
    "from tqdm import tqdm\n",
    "import matplotlib.pyplot as plt\n",
    "from typing import List\n",
    "import sys\n",
    "sys.path.append('./fedlab/main/fedlab_benchmarks/leaf/')\n",
    "\n",
    "sys.path.append('./fedlab/main/fedlab_benchmarks/')\n",
    "\n",
    "sys.path.append('./fedlab/main/')\n",
    "\n",
    "sys.path.append('./fedlab/')\n",
    "\n",
    "from fedlab.main.fedlab_benchmarks.leaf.dataloader import get_LEAF_dataloader\n",
    "\n",
    "from torch.profiler import profile, record_function, ProfilerActivity\n",
    "import time\n",
    "from sklearn.metrics import f1_score   \n",
    "import numpy as np\n",
    "    \n",
    "import random"
   ]
  },
  {
   "cell_type": "code",
   "execution_count": 19,
   "metadata": {},
   "outputs": [
    {
     "name": "stdout",
     "output_type": "stream",
     "text": [
      "2.0.0\n"
     ]
    }
   ],
   "source": [
    "print(torch.__version__)\n",
    "\n",
    "\n"
   ]
  },
  {
   "cell_type": "code",
   "execution_count": null,
   "metadata": {},
   "outputs": [],
   "source": []
  },
  {
   "cell_type": "code",
   "execution_count": 20,
   "metadata": {},
   "outputs": [],
   "source": [
    "\n",
    "train_loaders = []\n",
    "test_loaders = []\n",
    "num_nodes = 5\n",
    "num_class = 10\n",
    "epoch_total = 2\n",
    "pickle_name = \"mnist-p2p-epoch-\"+str(epoch_total)"
   ]
  },
  {
   "cell_type": "code",
   "execution_count": 21,
   "metadata": {},
   "outputs": [
    {
     "data": {
      "text/plain": [
       "'NVIDIA GeForce RTX 3060 Laptop GPU'"
      ]
     },
     "execution_count": 21,
     "metadata": {},
     "output_type": "execute_result"
    }
   ],
   "source": [
    "device = torch.device('cuda')\n",
    "torch.cuda.get_device_name(device)"
   ]
  },
  {
   "cell_type": "code",
   "execution_count": 22,
   "metadata": {},
   "outputs": [],
   "source": [
    "\n",
    "transform = transforms.Compose([\n",
    "    transforms.ToTensor(),\n",
    "])\n",
    "target_transform = lambda x: torch.nn.functional.one_hot(torch.tensor(x),num_class).float()"
   ]
  },
  {
   "cell_type": "code",
   "execution_count": 23,
   "metadata": {},
   "outputs": [],
   "source": [
    "# def split_dataset(dataset, n):\n",
    "#     torch.utils.data.random_split(dataset, )"
   ]
  },
  {
   "cell_type": "code",
   "execution_count": 24,
   "metadata": {},
   "outputs": [],
   "source": [
    "# train_dataset2 = torchvision.datasets.MNIST('datasets/', download=True, train=True, transform=transform, target_transform=target_transform),\n",
    "# train_loader = torch.utils.data.DataLoader(train_dataset, batch_size=1000000, num_workers=0)\n",
    "\n",
    "# test_dataset = torchvision.datasets.MNIST('datasets/', download=True, train=False, transform=transform, target_transform=target_transform)\n",
    "# test_loader = torch.utils.data.DataLoader(test_dataset, batch_size=1000000, num_workers=0)\n",
    "\n",
    "\n",
    "# Inital MNIST\n",
    "train_datasets = torch.utils.data.random_split(torchvision.datasets.MNIST('datasets/',\n",
    "                                                                           download=True, train=True, transform=transform, target_transform=target_transform), [1/num_nodes]*num_nodes)\n",
    "test_datasets = torch.utils.data.random_split(torchvision.datasets.MNIST('datasets/',\n",
    "                                                                           download=True, train=False, transform=transform, target_transform=target_transform), [1/num_nodes]*num_nodes)\n",
    "\n",
    "train_loaders = [torch.utils.data.DataLoader(i, batch_size=1000000, num_workers=0) for i in train_datasets]\n",
    "test_loaders = [torch.utils.data.DataLoader(i, batch_size=1000000, num_workers=0) for i in test_datasets]\n"
   ]
  },
  {
   "cell_type": "code",
   "execution_count": 25,
   "metadata": {},
   "outputs": [
    {
     "name": "stdout",
     "output_type": "stream",
     "text": [
      "5\n",
      "5\n",
      "[<torch.utils.data.dataloader.DataLoader object at 0x7f508d3d6620>, <torch.utils.data.dataloader.DataLoader object at 0x7f508d3d5c00>, <torch.utils.data.dataloader.DataLoader object at 0x7f508d3d7ca0>, <torch.utils.data.dataloader.DataLoader object at 0x7f508d3d7ee0>, <torch.utils.data.dataloader.DataLoader object at 0x7f508d3d7eb0>]\n",
      "2000\n"
     ]
    }
   ],
   "source": [
    "print(len(train_loaders))\n",
    "print(len(test_loaders))\n",
    "print(test_loaders)\n",
    "print(len(test_loaders[0].dataset))"
   ]
  },
  {
   "cell_type": "code",
   "execution_count": 26,
   "metadata": {},
   "outputs": [],
   "source": [
    "\n",
    "x_i_j = {}\n",
    "s_i = {}\n",
    "\n",
    "ypred = []\n",
    "ylabels = []"
   ]
  },
  {
   "cell_type": "code",
   "execution_count": 27,
   "metadata": {},
   "outputs": [],
   "source": [
    "class FederatedNode:\n",
    "    def __init__(self, train_dataloader, test_dataloader, node_id) -> None:\n",
    "        self.dataset_size = len(train_dataloader.dataset)\n",
    "        channels_sum, channels_squared_sum, num_batches = 0, 0, 0\n",
    "        for data, _ in train_dataloader:\n",
    "            # Mean over batch, height and width, but not over the channels\n",
    "            channels_sum += torch.mean(data, dim=[0])\n",
    "            channels_squared_sum += torch.mean(data**2, dim=[0])\n",
    "            num_batches += 1\n",
    "    \n",
    "        self.mean = channels_sum / num_batches\n",
    "        self.test_loss = 0.0\n",
    "        self.test_accuracy = 0.0\n",
    "        self.train_accuracy = 0.0\n",
    "        self.train_loss = 0.0\n",
    "        self.f1_score = 0.0\n",
    "\n",
    "\n",
    "        # std = sqrt(E[X^2] - (E[X])^2)\n",
    "        self.std = (channels_squared_sum / num_batches - self.mean ** 2) ** 0.5\n",
    "        print(\"Dataset size \", self.dataset_size)\n",
    "        print(\"Mean size \", self.mean.shape)\n",
    "        print(\"Standard deviation size \", self.std.shape)\n",
    "        \n",
    "        \n",
    "        self.network = nn.Sequential(\n",
    "            nn.Flatten(),\n",
    "            nn.Linear(784,56),\n",
    "            nn.ReLU(),\n",
    "            nn.Linear(56, 10)\n",
    "        ).to(device)\n",
    "\n",
    "        '''\n",
    "        only_digits=False\n",
    "        self.network = nn.Sequential(\n",
    "        nn.Conv2d(1, 32, kernel_size=3),\n",
    "        nn.MaxPool2d(2, stride=2),\n",
    "        nn.Conv2d(32, 64, kernel_size=3),\n",
    "        nn.Dropout(0.25),\n",
    "        nn.Flatten(),\n",
    "        nn.Linear(9216, 128),\n",
    "        nn.Dropout(0.5),\n",
    "        nn.Linear(128, 10 if only_digits else 62),\n",
    "        nn.ReLU()\n",
    "        ).to(device)\n",
    "        '''\n",
    "        self.optimizer = torch.optim.Adam(self.network.parameters())\n",
    "        self.criterion = nn.CrossEntropyLoss()\n",
    "        self.train_dataloader = train_dataloader\n",
    "        self.test_dataloader = test_dataloader\n",
    "        self.node_id = node_id\n",
    "    \n",
    "    def train_epoch(self):\n",
    "        losses = []\n",
    "        correct = 0\n",
    "        total = 0\n",
    "        train_accuracy = []\n",
    "        for idx, (data_x, data_y) in enumerate(self.train_dataloader):\n",
    "            #print(\"data_x\", data_x.shape)\n",
    "            #print(\"data_y\", data_y.shape)\n",
    "            #plt.imshow(data_x[1][0])\n",
    "            output = self.network(data_x.to(device))\n",
    "            self.optimizer.zero_grad()\n",
    "            #print(output.shape)\n",
    "            #print(data_y)\n",
    "            #data_y = target_transform(data_y)\n",
    "            \n",
    "            #loss = nn.functional.mse_loss(output, data_y.to(device))\n",
    "            loss = self.criterion(output, data_y.to(device))\n",
    "            losses.append(loss.item())\n",
    "            loss.backward()\n",
    "            self.optimizer.step()\n",
    "\n",
    "            _, predicted = torch.max(output.data, 1)\n",
    "            data_y = data_y.to(predicted.device)\n",
    "            true_labels = torch.argmax(data_y, dim=1).to(predicted.device)\n",
    "            total += data_y.size(0)\n",
    "            correct += (predicted == true_labels).sum().item()\n",
    "            train_accuracy.append(correct / total)\n",
    "            ypred.append(data_y)\n",
    "            ylabels.append(true_labels)\n",
    "        self.train_accuracy = train_accuracy[-1]\n",
    "        self.train_loss = sum(losses)/len(losses)\n",
    "        return self.train_accuracy, self.train_loss\n",
    "    \n",
    "    def testing(self):\n",
    "        correct = 0\n",
    "        total = 0\n",
    "        # test_running_loss = 0.0\n",
    "        predictions = []\n",
    "        labels = []\n",
    "        test_accuracy = []\n",
    "        test_running_losses = []\n",
    "        for idx, (data_x, data_y) in enumerate(self.test_dataloader):\n",
    "            output = self.network(data_x.to(device))\n",
    "            \n",
    "            _, predicted = torch.max(output.data, 1)\n",
    "            data_y = data_y.to(predicted.device)\n",
    "            true_labels = torch.argmax(data_y, dim=1).to(predicted.device)\n",
    "            total += data_y.size(0)\n",
    "            correct += (predicted == true_labels).sum().item()\n",
    "            \n",
    "            loss = self.criterion(output, data_y)\n",
    "            predictions.append(predicted.cpu())\n",
    "            #labels.append(data_y.cpu())\n",
    "            labels.append(true_labels.cpu())\n",
    "            test_running_losses.append(loss.item())\n",
    "            #print('Epoch %d test loss: %.3f' % (idx + 1, test_running_losses[-1]))\n",
    "            #print(test_running_losses)\n",
    "            #test_running_loss += loss.item()\n",
    "            #test_loss.append(test_running_loss / len(self.test_dataloader))\n",
    "            test_accuracy.append(correct / total)\n",
    "        \n",
    "        #print(predictions)\n",
    "        predictions = np.concatenate(predictions)\n",
    "        labels = np.concatenate(labels)\n",
    "        self.f1_score= f1_score(labels, predictions, average=\"weighted\")\n",
    "        self.test_accuracy = test_accuracy[-1]\n",
    "        #print(self.test_accuracy)\n",
    "        self.test_loss =  sum(test_running_losses)/len(test_running_losses)\n",
    "        #print(\"test loss \",self.test_loss)\n",
    "       \n",
    "    \n",
    "    def share_x_ij(self):\n",
    "        x = self.network.state_dict()\n",
    "        r = torch.randint(0, 5, [num_nodes])\n",
    "        s_r = torch.sum(r)\n",
    "        j=self.node_id\n",
    "        for i in range(num_nodes):\n",
    "            x_i_j[(i,j)]={}\n",
    "            for key in x.keys():\n",
    "                x_i_j[(i,j)][key]=x[key]*r[i]/s_r\n",
    "                \n",
    "        \n",
    "    \n",
    "    def share_s_i(self):\n",
    "        i = self.node_id\n",
    "        s_i[i] = {}\n",
    "        for key in x_i_j[(0,0)].keys():\n",
    "            s_i[i][key] = sum([x_i_j[(i,j)][key] for j in range(num_nodes)])\n"
   ]
  },
  {
   "cell_type": "code",
   "execution_count": 28,
   "metadata": {},
   "outputs": [
    {
     "name": "stdout",
     "output_type": "stream",
     "text": [
      "Dataset size  12000\n",
      "Mean size  torch.Size([1, 28, 28])\n",
      "Standard deviation size  torch.Size([1, 28, 28])\n",
      "Dataset size  12000\n",
      "Mean size  torch.Size([1, 28, 28])\n",
      "Standard deviation size  torch.Size([1, 28, 28])\n",
      "Dataset size  12000\n",
      "Mean size  torch.Size([1, 28, 28])\n",
      "Standard deviation size  torch.Size([1, 28, 28])\n",
      "Dataset size  12000\n",
      "Mean size  torch.Size([1, 28, 28])\n",
      "Standard deviation size  torch.Size([1, 28, 28])\n",
      "Dataset size  12000\n",
      "Mean size  torch.Size([1, 28, 28])\n",
      "Standard deviation size  torch.Size([1, 28, 28])\n"
     ]
    }
   ],
   "source": [
    "#for i, loader_data in enumerate(zip(*loader)):\n",
    "#    train_loaders, test_loaders = loader_data\n",
    "\n",
    "nodes = []\n",
    "for i in range(num_nodes):\n",
    "    nodes.append(FederatedNode(train_loaders[i], test_loaders[i], i)) \n",
    "\n",
    "#nodes = [FederatedNode(l, i) for i,l in enumerate())]"
   ]
  },
  {
   "cell_type": "code",
   "execution_count": 29,
   "metadata": {},
   "outputs": [
    {
     "name": "stderr",
     "output_type": "stream",
     "text": [
      "100%|██████████| 10/10 [00:32<00:00,  3.29s/it]"
     ]
    },
    {
     "name": "stdout",
     "output_type": "stream",
     "text": [
      "Time taken by FL with SMPC 32.9178102016449\n"
     ]
    },
    {
     "name": "stderr",
     "output_type": "stream",
     "text": [
      "\n"
     ]
    }
   ],
   "source": [
    "losses = {}\n",
    "train_accuracies = {}\n",
    "test_accuracies = {}\n",
    "test_losses = {}\n",
    "f1_scores = {}\n",
    "#with profile(activities=[ProfilerActivity.CPU, ProfilerActivity.CUDA], record_shapes=True) as prof:\n",
    "#    with record_function(\"model_training\"):\n",
    "\n",
    "start_time = time.time()\n",
    "dataset_size_all = {}\n",
    "epochs ={i:0 for i in range(num_nodes)}\n",
    "\n",
    "for i in tqdm(range(epoch_total*num_nodes)):\n",
    "    cands = [i for i in epochs if epochs[i]<epoch_total]\n",
    "    picked_node = nodes[cands[torch.randint(len(cands), (1,)).item()]]\n",
    "    del cands\n",
    "    train_acc, loss = picked_node.train_epoch()\n",
    "    #node.share_FedavgP2P(nodes)\n",
    "\n",
    "    x_i_j = {}\n",
    "    s_i = {}\n",
    "    for node in nodes:\n",
    "        node.share_x_ij()\n",
    "    \n",
    "    for node in nodes:\n",
    "        node.share_s_i()\n",
    "        \n",
    "    \n",
    "    epochs[picked_node.node_id] += 1\n",
    "    losses[(picked_node.node_id, epochs[picked_node.node_id])]=loss\n",
    "    train_accuracies[(picked_node.node_id, epochs[picked_node.node_id])]=train_acc\n",
    "\n",
    "    for i, node in enumerate(nodes):\n",
    "        #print()\n",
    "        #print(\"Node \", i)\n",
    "        \n",
    "        node.testing()\n",
    "        #test_losses.append(node.test_loss)\n",
    "        #print(\"Node Test Accuracy\", node.test_accuracy)\n",
    "        #print(\"Node Test loss\", node.test_loss)\n",
    "        #print(\"Node F1_Score \", node.f1_score)\n",
    "        test_accuracies[(node.node_id, epochs[node.node_id])]=node.test_accuracy\n",
    "        test_losses[(node.node_id, epochs[node.node_id])]=node.test_loss\n",
    "        f1_scores[(node.node_id, epochs[node.node_id])]=node.f1_score\n",
    "        \n",
    "\n",
    "            \n",
    "    # test_accuracies.append(epoch_test_accuracies)\n",
    "    # test_losses.append(epoch_test_losses)\n",
    "    # f1_scores.append(epoch_f1_scores)\n",
    "\n",
    "\n",
    "    \n",
    "    #av_state = {}\n",
    "    #print(s_i[0])\n",
    "    #for key in s_i[0].keys():\n",
    "    #    av_state[key]=torch.mean(torch.tensor([s_i[i][key] for i in s_i]), dim=[0])\n",
    "    averaged_state = {}\n",
    "    for key in s_i[0].keys():\n",
    "        param_value = 0\n",
    "        for i in s_i:\n",
    "            param_value += s_i[i][key]\n",
    "        \n",
    "        averaged_state[key] = param_value/num_nodes\n",
    "\n",
    "    for node in nodes:\n",
    "        node.network.load_state_dict(averaged_state)\n",
    "\n",
    "    \n",
    "    \n",
    "    \n",
    "    # states = [i.network.state_dict() for i in nodes]\n",
    "    # av_state = {}\n",
    "    # for key in states[0]:\n",
    "    #     av_state[key] = sum([s[key] for s in states])/num_nodes\n",
    "    # for node in nodes:\n",
    "    #     node.network.load_state_dict(av_state)\n",
    "\n",
    "time_FL_SMPC = time.time() - start_time\n",
    "\n",
    "print(\"Time taken by FL with SMPC\", time_FL_SMPC)\n",
    "    \n"
   ]
  },
  {
   "cell_type": "code",
   "execution_count": 30,
   "metadata": {},
   "outputs": [
    {
     "data": {
      "text/plain": [
       "{(1, 1): 2.3123490810394287,\n",
       " (3, 1): 2.3014273643493652,\n",
       " (0, 1): 2.2982983589172363,\n",
       " (3, 2): 2.2948081493377686,\n",
       " (1, 2): 2.291337251663208,\n",
       " (4, 1): 2.288804054260254,\n",
       " (2, 1): 2.285423517227173,\n",
       " (4, 2): 2.280870199203491,\n",
       " (0, 2): 2.277116298675537,\n",
       " (2, 2): 2.2730257511138916}"
      ]
     },
     "execution_count": 30,
     "metadata": {},
     "output_type": "execute_result"
    }
   ],
   "source": [
    "losses"
   ]
  },
  {
   "cell_type": "code",
   "execution_count": 31,
   "metadata": {},
   "outputs": [],
   "source": [
    "losses2 = [[losses[(j,i)] for j in range(num_nodes) ] for i in range(1,epoch_total+1)]\n",
    "train_accuracies2 = [[train_accuracies[(j,i)] for j in range(num_nodes) ] for i in range(1,epoch_total+1)]\n",
    "test_accuracies2 = [[test_accuracies[(j,i)] for j in range(num_nodes) ] for i in range(1,epoch_total+1)]\n",
    "test_losses2 = [[test_losses[(j,i)] for j in range(num_nodes) ] for i in range(1,epoch_total+1)]\n",
    "f1_scores2 = [[f1_scores[(j,i)] for j in range(num_nodes) ] for i in range(1,epoch_total+1)]"
   ]
  },
  {
   "cell_type": "code",
   "execution_count": null,
   "metadata": {},
   "outputs": [],
   "source": []
  },
  {
   "cell_type": "code",
   "execution_count": null,
   "metadata": {},
   "outputs": [],
   "source": []
  },
  {
   "cell_type": "code",
   "execution_count": 32,
   "metadata": {},
   "outputs": [],
   "source": [
    "import pickle\n",
    "\n",
    "try:\n",
    "    my_pickle_results = pickle.load( open( pickle_name+'.pickle', \"rb\" ) )\n",
    "    result = {}\n",
    "    result2 = {}\n",
    "    myResults = my_pickle_results\n",
    "except (OSError, IOError) as e:\n",
    "    my_pickle_results = {}\n",
    "    result = {}\n",
    "    result2 = {}"
   ]
  },
  {
   "cell_type": "code",
   "execution_count": 33,
   "metadata": {},
   "outputs": [],
   "source": [
    "result[\"train_accuracies\"] = train_accuracies2\n",
    "result[\"train_losses\"] = losses2\n",
    "result[\"test_accuracies\"] = test_accuracies2\n",
    "result[\"test_losses\"] = test_losses2\n",
    "result[\"f1_scores\"] = f1_scores2\n",
    "result[\"ypred\"] = ypred\n",
    "result[\"ylabels\"] = ylabels\n",
    "result[\"time_taken\"] = time_FL_SMPC\n"
   ]
  },
  {
   "cell_type": "code",
   "execution_count": 34,
   "metadata": {},
   "outputs": [
    {
     "data": {
      "text/plain": [
       "[<matplotlib.lines.Line2D at 0x7f508835fc70>,\n",
       " <matplotlib.lines.Line2D at 0x7f508835fbb0>,\n",
       " <matplotlib.lines.Line2D at 0x7f508835fb50>,\n",
       " <matplotlib.lines.Line2D at 0x7f508835c5e0>,\n",
       " <matplotlib.lines.Line2D at 0x7f508835ca60>]"
      ]
     },
     "execution_count": 34,
     "metadata": {},
     "output_type": "execute_result"
    },
    {
     "data": {
      "image/png": "[encoded data removed]",
      "text/plain": [
       "<Figure size 640x480 with 1 Axes>"
      ]
     },
     "metadata": {},
     "output_type": "display_data"
    }
   ],
   "source": [
    "plt.plot(test_accuracies2)"
   ]
  },
  {
   "cell_type": "code",
   "execution_count": 35,
   "metadata": {},
   "outputs": [
    {
     "name": "stdout",
     "output_type": "stream",
     "text": [
      "[[2.2982983589172363, 2.3123490810394287, 2.285423517227173, 2.3014273643493652, 2.288804054260254], [2.277116298675537, 2.291337251663208, 2.2730257511138916, 2.2948081493377686, 2.280870199203491]]\n"
     ]
    }
   ],
   "source": [
    "print(losses2)"
   ]
  },
  {
   "cell_type": "code",
   "execution_count": 36,
   "metadata": {},
   "outputs": [
    {
     "data": {
      "text/plain": [
       "[<matplotlib.lines.Line2D at 0x7f508e690310>,\n",
       " <matplotlib.lines.Line2D at 0x7f508e690370>,\n",
       " <matplotlib.lines.Line2D at 0x7f508e6903a0>,\n",
       " <matplotlib.lines.Line2D at 0x7f508e690490>,\n",
       " <matplotlib.lines.Line2D at 0x7f508e690580>]"
      ]
     },
     "execution_count": 36,
     "metadata": {},
     "output_type": "execute_result"
    },
    {
     "data": {
      "image/png": "[encoded data removed]",
      "text/plain": [
       "<Figure size 640x480 with 1 Axes>"
      ]
     },
     "metadata": {},
     "output_type": "display_data"
    }
   ],
   "source": [
    "plt.plot(losses2)"
   ]
  },
  {
   "cell_type": "code",
   "execution_count": null,
   "metadata": {},
   "outputs": [],
   "source": []
  },
  {
   "cell_type": "code",
   "execution_count": null,
   "metadata": {},
   "outputs": [],
   "source": []
  },
  {
   "cell_type": "code",
   "execution_count": 37,
   "metadata": {},
   "outputs": [
    {
     "name": "stdout",
     "output_type": "stream",
     "text": [
      "Dataset size  12000\n",
      "Mean size  torch.Size([1, 28, 28])\n",
      "Standard deviation size  torch.Size([1, 28, 28])\n",
      "Dataset size  12000\n",
      "Mean size  torch.Size([1, 28, 28])\n",
      "Standard deviation size  torch.Size([1, 28, 28])\n",
      "Dataset size  12000\n",
      "Mean size  torch.Size([1, 28, 28])\n",
      "Standard deviation size  torch.Size([1, 28, 28])\n",
      "Dataset size  12000\n",
      "Mean size  torch.Size([1, 28, 28])\n",
      "Standard deviation size  torch.Size([1, 28, 28])\n",
      "Dataset size  12000\n",
      "Mean size  torch.Size([1, 28, 28])\n",
      "Standard deviation size  torch.Size([1, 28, 28])\n"
     ]
    }
   ],
   "source": [
    "\n",
    "nodes = []\n",
    "for i in range(num_nodes):\n",
    "    nodes.append(FederatedNode(train_loaders[i], test_loaders[i], i)) \n"
   ]
  },
  {
   "cell_type": "code",
   "execution_count": 38,
   "metadata": {},
   "outputs": [],
   "source": [
    "with open(pickle_name+'.pickle', 'wb') as handle:\n",
    "    pickle.dump(my_pickle_results, handle, protocol=pickle.HIGHEST_PROTOCOL)"
   ]
  },
  {
   "cell_type": "code",
   "execution_count": 39,
   "metadata": {},
   "outputs": [],
   "source": [
    "from sklearn.metrics import confusion_matrix, ConfusionMatrixDisplay\n",
    "from sklearn.metrics import classification_report\n",
    "labels = []\n",
    "for _, label in train_loaders[0]:\n",
    "    labels.append(label)\n",
    "#print(labels)\n",
    "#print(classification_report(y_true, y_pred, target_names=target_names))"
   ]
  },
  {
   "cell_type": "code",
   "execution_count": 40,
   "metadata": {},
   "outputs": [
    {
     "name": "stdout",
     "output_type": "stream",
     "text": [
      "Current date and time : \n",
      "2023-05-12 21:49:03\n"
     ]
    }
   ],
   "source": [
    "import datetime\n",
    "now = datetime.datetime.now()\n",
    "print (\"Current date and time : \")\n",
    "print (now.strftime(\"%Y-%m-%d %H:%M:%S\"))"
   ]
  },
  {
   "cell_type": "code",
   "execution_count": null,
   "metadata": {},
   "outputs": [],
   "source": []
  }
 ],
 "metadata": {
  "kernelspec": {
   "display_name": ".venv",
   "language": "python",
   "name": "python3"
  },
  "language_info": {
   "codemirror_mode": {
    "name": "ipython",
    "version": 3
   },
   "file_extension": ".py",
   "mimetype": "text/x-python",
   "name": "python",
   "nbconvert_exporter": "python",
   "pygments_lexer": "ipython3",
   "version": "3.10.9"
  },
  "orig_nbformat": 4
 },
 "nbformat": 4,
 "nbformat_minor": 2
}
