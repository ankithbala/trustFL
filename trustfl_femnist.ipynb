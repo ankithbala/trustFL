{
 "cells": [
  {
   "cell_type": "code",
   "execution_count": 1,
   "metadata": {},
   "outputs": [],
   "source": [
    "import torch, torch.utils.data\n",
    "from torch import nn\n",
    "import torchvision, torchvision.datasets\n",
    "from torchvision import transforms\n",
    "from tqdm import tqdm\n",
    "import matplotlib.pyplot as plt\n",
    "from typing import List\n",
    "\n",
    "import sys\n",
    "\n",
    "\n",
    "sys.path.append('./datasets/')\n",
    "\n",
    "from datasets.dataloader import get_LEAF_dataloader\n",
    "\n",
    "from torch.profiler import profile, record_function, ProfilerActivity\n",
    "import time\n",
    "from sklearn.metrics import f1_score   \n",
    "import numpy as np\n",
    "    \n"
   ]
  },
  {
   "cell_type": "code",
   "execution_count": 2,
   "metadata": {},
   "outputs": [
    {
     "name": "stdout",
     "output_type": "stream",
     "text": [
      "2.0.0\n"
     ]
    }
   ],
   "source": [
    "print(torch.__version__)"
   ]
  },
  {
   "cell_type": "code",
   "execution_count": 3,
   "metadata": {},
   "outputs": [],
   "source": [
    "train_loaders = []\n",
    "test_loaders = []\n",
    "num_nodes = 5\n",
    "num_class = 62\n",
    "epoch_total = 500\n",
    "pickle_name = \"femnist-epoch-\"+str(epoch_total)"
   ]
  },
  {
   "cell_type": "code",
   "execution_count": 4,
   "metadata": {},
   "outputs": [
    {
     "data": {
      "text/plain": [
       "'NVIDIA GeForce RTX 3060 Laptop GPU'"
      ]
     },
     "execution_count": 4,
     "metadata": {},
     "output_type": "execute_result"
    }
   ],
   "source": [
    "device = torch.device('cuda')\n",
    "torch.cuda.get_device_name(device)"
   ]
  },
  {
   "cell_type": "code",
   "execution_count": 5,
   "metadata": {},
   "outputs": [],
   "source": [
    "\n",
    "\n",
    "\n",
    "transform = transforms.Compose([\n",
    "    transforms.ToTensor(),\n",
    "])\n",
    "target_transform = lambda x: torch.nn.functional.one_hot(torch.tensor(x),num_class).float()"
   ]
  },
  {
   "cell_type": "code",
   "execution_count": 6,
   "metadata": {},
   "outputs": [],
   "source": [
    "# def split_dataset(dataset, n):\n",
    "#     torch.utils.data.random_split(dataset, )"
   ]
  },
  {
   "cell_type": "code",
   "execution_count": 7,
   "metadata": {},
   "outputs": [],
   "source": [
    "def get_femnist_shakespeare_dataset(**args):\n",
    "    if args['dataset'] == 'femnist' or args['dataset'] == 'shakespeare':\n",
    "        trainloader, testloader = get_LEAF_dataloader(dataset=args['dataset'],\n",
    "                                                      client_id=args['rank'])\n",
    "    else:\n",
    "        raise ValueError(\"Invalid dataset:\", args['dataset'])\n",
    "    return trainloader, testloader\n",
    "    # PickleDataset('femnist')\n",
    "    "
   ]
  },
  {
   "cell_type": "code",
   "execution_count": 8,
   "metadata": {},
   "outputs": [
    {
     "name": "stdout",
     "output_type": "stream",
     "text": [
      "<torch.utils.data.dataloader.DataLoader object at 0x7fa8bdd576a0>\n",
      "<torch.utils.data.dataloader.DataLoader object at 0x7fa9baa4f550>\n",
      "<torch.utils.data.dataloader.DataLoader object at 0x7fa8bdd903d0>\n",
      "<torch.utils.data.dataloader.DataLoader object at 0x7fa8bdd90850>\n",
      "<torch.utils.data.dataloader.DataLoader object at 0x7fa8bdd90cd0>\n"
     ]
    }
   ],
   "source": [
    "\n",
    "train_loaders = []\n",
    "test_loaders = []\n",
    "\n",
    "\n",
    "for i in range(num_nodes):\n",
    "    args = {'dataset': 'femnist', 'rank': i}\n",
    "    trainloader, testloader = get_femnist_shakespeare_dataset(**args)\n",
    "    train_loaders.append(trainloader)\n",
    "    test_loaders.append(testloader)\n",
    "\n",
    "#loader = zip(train_loaders, test_loaders)\n",
    "\n"
   ]
  },
  {
   "cell_type": "code",
   "execution_count": 9,
   "metadata": {},
   "outputs": [
    {
     "name": "stdout",
     "output_type": "stream",
     "text": [
      "5\n",
      "5\n",
      "[<torch.utils.data.dataloader.DataLoader object at 0x7fa8bdd57700>, <torch.utils.data.dataloader.DataLoader object at 0x7fa9baa4f490>, <torch.utils.data.dataloader.DataLoader object at 0x7fa8bdd90490>, <torch.utils.data.dataloader.DataLoader object at 0x7fa8bdd90910>, <torch.utils.data.dataloader.DataLoader object at 0x7fa8bdd90d90>]\n",
      "35\n"
     ]
    }
   ],
   "source": [
    "print(len(train_loaders))\n",
    "print(len(test_loaders))\n",
    "print(test_loaders)\n",
    "print(len(test_loaders[0].dataset))"
   ]
  },
  {
   "cell_type": "code",
   "execution_count": 10,
   "metadata": {},
   "outputs": [],
   "source": [
    "\n",
    "x_i_j = {}\n",
    "s_i = {}\n",
    "\n",
    "ypred = []\n",
    "ylabels = []"
   ]
  },
  {
   "cell_type": "code",
   "execution_count": 11,
   "metadata": {},
   "outputs": [],
   "source": [
    "class FederatedNode:\n",
    "    def __init__(self, train_dataloader, test_dataloader, node_id) -> None:\n",
    "        self.dataset_size = len(train_dataloader.dataset)\n",
    "        channels_sum, channels_squared_sum, num_batches = 0, 0, 0\n",
    "        for data, _ in train_dataloader:\n",
    "            # Mean over batch, height and width, but not over the channels\n",
    "            channels_sum += torch.mean(data, dim=[0])\n",
    "            channels_squared_sum += torch.mean(data**2, dim=[0])\n",
    "            num_batches += 1\n",
    "    \n",
    "        self.mean = channels_sum / num_batches\n",
    "        self.test_loss = 0.0\n",
    "        self.test_accuracy = 0.0\n",
    "        self.train_accuracy = 0.0\n",
    "        self.train_loss = 0.0\n",
    "        self.f1_score = 0.0\n",
    "\n",
    "\n",
    "        # std = sqrt(E[X^2] - (E[X])^2)\n",
    "        self.std = (channels_squared_sum / num_batches - self.mean ** 2) ** 0.5\n",
    "        print(\"Dataset size \", self.dataset_size)\n",
    "        print(\"Mean size \", self.mean.shape)\n",
    "        print(\"Standard deviation size \", self.std.shape)\n",
    "        \n",
    "        \n",
    "        self.network = nn.Sequential(\n",
    "            nn.Flatten(),\n",
    "            nn.Linear(784,56),\n",
    "            nn.ReLU(),\n",
    "            nn.Linear(56, 62)\n",
    "        ).to(device)\n",
    "\n",
    "        \n",
    "        # only_digits=False\n",
    "        # self.network = nn.Sequential(\n",
    "        # nn.Conv2d(1, 32, kernel_size=3),\n",
    "        # nn.MaxPool2d(2, stride=2),\n",
    "        # nn.Conv2d(32, 64, kernel_size=3),\n",
    "        # nn.Dropout(0.25),\n",
    "        # nn.Flatten(),\n",
    "        # nn.Linear(7744, 128),\n",
    "        # nn.Dropout(0.5),\n",
    "        # nn.Linear(128, 10 if only_digits else 62),\n",
    "        # nn.ReLU()\n",
    "        # ).to(device)\n",
    "        \n",
    "        self.optimizer = torch.optim.Adam(self.network.parameters())\n",
    "        self.criterion = nn.CrossEntropyLoss()\n",
    "        self.train_dataloader = train_dataloader\n",
    "        self.test_dataloader = test_dataloader\n",
    "        self.node_id = node_id\n",
    "    \n",
    "    def train_epoch(self):\n",
    "        losses = []\n",
    "        correct = 0\n",
    "        total = 0\n",
    "        train_accuracy = []\n",
    "        for idx, (data_x, data_y) in enumerate(self.train_dataloader):\n",
    "            #print(\"data_x\", data_x.shape)\n",
    "            #print(\"data_y\", data_y.shape)\n",
    "            #plt.imshow(data_x[1][0])\n",
    "            output = self.network(data_x.to(device))\n",
    "            self.optimizer.zero_grad()\n",
    "            #print(output.shape)\n",
    "            #print(data_y)\n",
    "            #data_y = target_transform(data_y)\n",
    "            \n",
    "            #loss = nn.functional.mse_loss(output, data_y.to(device))\n",
    "            loss = self.criterion(output, data_y.to(device))\n",
    "            losses.append(loss.item())\n",
    "            loss.backward()\n",
    "            self.optimizer.step()\n",
    "\n",
    "            _, predicted = torch.max(output.data, 1)\n",
    "            data_y = data_y.to(predicted.device)\n",
    "            true_labels = data_y\n",
    "            #true_labels = torch.argmax(data_y, dim=1).to(predicted.device)\n",
    "            total += data_y.size(0)\n",
    "            correct += (predicted == true_labels).sum().item()\n",
    "            train_accuracy.append(correct / total)\n",
    "            ypred.append(data_y)\n",
    "            ylabels.append(true_labels)\n",
    "        self.train_accuracy = train_accuracy[-1]\n",
    "        self.train_loss = sum(losses)/len(losses)\n",
    "        return self.train_accuracy, self.train_loss\n",
    "    \n",
    "    def testing(self):\n",
    "        correct = 0\n",
    "        total = 0\n",
    "        # test_running_loss = 0.0\n",
    "        predictions = []\n",
    "        labels = []\n",
    "        test_accuracy = []\n",
    "        test_running_losses = []\n",
    "        for idx, (data_x, data_y) in enumerate(self.test_dataloader):\n",
    "            output = self.network(data_x.to(device))\n",
    "            \n",
    "            _, predicted = torch.max(output.data, 1)\n",
    "            data_y = data_y.to(predicted.device)\n",
    "            true_labels = data_y\n",
    "            #true_labels = torch.argmax(data_y, dim=1).to(predicted.device)\n",
    "            total += data_y.size(0)\n",
    "            correct += (predicted == true_labels).sum().item()\n",
    "            \n",
    "            loss = self.criterion(output, data_y)\n",
    "            predictions.append(predicted.cpu())\n",
    "            #labels.append(data_y.cpu())\n",
    "            labels.append(true_labels.cpu())\n",
    "            test_running_losses.append(loss.item())\n",
    "            #print('Epoch %d test loss: %.3f' % (idx + 1, test_running_losses[-1]))\n",
    "            #print(test_running_losses)\n",
    "            #test_running_loss += loss.item()\n",
    "            #test_loss.append(test_running_loss / len(self.test_dataloader))\n",
    "            test_accuracy.append(correct / total)\n",
    "        \n",
    "        #print(predictions)\n",
    "        predictions = np.concatenate(predictions)\n",
    "        labels = np.concatenate(labels)\n",
    "        self.f1_score= f1_score(labels, predictions, average=\"weighted\")\n",
    "        self.test_accuracy = test_accuracy[-1]\n",
    "        #print(self.test_accuracy)\n",
    "        self.test_loss =  sum(test_running_losses)/len(test_running_losses)\n",
    "        #print(\"test loss \",self.test_loss)\n",
    "       \n",
    "    \n",
    "    def share_x_ij(self):\n",
    "        x = self.network.state_dict()\n",
    "        r = torch.randint(1, 5, [num_nodes])\n",
    "        s_r = torch.sum(r)\n",
    "        j=self.node_id\n",
    "        for i in range(num_nodes):\n",
    "            x_i_j[(i,j)]={}\n",
    "            for key in x.keys():\n",
    "                x_i_j[(i,j)][key]=x[key]*r[i]/s_r\n",
    "    \n",
    "    def share_s_i(self):\n",
    "        i = self.node_id\n",
    "        s_i[i] = {}\n",
    "        for key in x_i_j[(0,0)].keys():\n",
    "            s_i[i][key] = sum([x_i_j[(i,j)][key] for j in range(num_nodes)])\n",
    "    \n",
    "\n",
    "\n",
    "\n",
    "\n",
    "\n"
   ]
  },
  {
   "cell_type": "code",
   "execution_count": 12,
   "metadata": {},
   "outputs": [
    {
     "name": "stdout",
     "output_type": "stream",
     "text": [
      "Dataset size  309\n",
      "Mean size  torch.Size([1, 28, 28])\n",
      "Standard deviation size  torch.Size([1, 28, 28])\n",
      "Dataset size  136\n",
      "Mean size  torch.Size([1, 28, 28])\n",
      "Standard deviation size  torch.Size([1, 28, 28])\n",
      "Dataset size  213\n",
      "Mean size  torch.Size([1, 28, 28])\n",
      "Standard deviation size  torch.Size([1, 28, 28])\n",
      "Dataset size  249\n",
      "Mean size  torch.Size([1, 28, 28])\n",
      "Standard deviation size  torch.Size([1, 28, 28])\n",
      "Dataset size  215\n",
      "Mean size  torch.Size([1, 28, 28])\n",
      "Standard deviation size  torch.Size([1, 28, 28])\n"
     ]
    }
   ],
   "source": [
    "#for i, loader_data in enumerate(zip(*loader)):\n",
    "#    train_loaders, test_loaders = loader_data\n",
    "\n",
    "nodes = []\n",
    "for i in range(num_nodes):\n",
    "    nodes.append(FederatedNode(train_loaders[i], test_loaders[i], i)) \n",
    "\n",
    "#nodes = [FederatedNode(l, i) for i,l in enumerate())]"
   ]
  },
  {
   "cell_type": "code",
   "execution_count": 13,
   "metadata": {},
   "outputs": [
    {
     "name": "stderr",
     "output_type": "stream",
     "text": [
      "100%|██████████| 500/500 [00:18<00:00, 26.34it/s]"
     ]
    },
    {
     "name": "stdout",
     "output_type": "stream",
     "text": [
      "Time taken by FL with SMPC 18.988739252090454\n"
     ]
    },
    {
     "name": "stderr",
     "output_type": "stream",
     "text": [
      "\n"
     ]
    }
   ],
   "source": [
    "losses = []\n",
    "train_accuracies = []\n",
    "test_accuracies = []\n",
    "test_losses = []\n",
    "f1_scores = []\n",
    "#with profile(activities=[ProfilerActivity.CPU, ProfilerActivity.CUDA], record_shapes=True) as prof:\n",
    "#    with record_function(\"model_training\"):\n",
    "\n",
    "start_time = time.time()\n",
    "for i in tqdm(range(epoch_total)):\n",
    "    epoch_losses = []\n",
    "    epoch_acc = []\n",
    "    for node in nodes:\n",
    "        tarin_acc, loss = node.train_epoch()\n",
    "        epoch_acc.append(tarin_acc)\n",
    "        epoch_losses.append(loss)\n",
    "    train_accuracies.append(epoch_acc)\n",
    "    losses.append(epoch_losses)\n",
    "\n",
    "\n",
    "    \n",
    "    epoch_test_accuracies = []\n",
    "    epoch_test_losses = []\n",
    "    epoch_f1_scores = []\n",
    "    for i, node in enumerate(nodes):\n",
    "        #print()\n",
    "        #print(\"Node \", i)\n",
    "        \n",
    "        node.testing()\n",
    "        #test_losses.append(node.test_loss)\n",
    "        #print(\"Node Test Accuracy\", node.test_accuracy)\n",
    "        #print(\"Node Test loss\", node.test_loss)\n",
    "        #print(\"Node F1_Score \", node.f1_score)\n",
    "        epoch_test_accuracies.append(node.test_accuracy)\n",
    "        epoch_test_losses.append(node.test_loss)\n",
    "        epoch_f1_scores.append(node.f1_score)\n",
    "            \n",
    "    test_accuracies.append(epoch_test_accuracies)\n",
    "    test_losses.append(epoch_test_losses)\n",
    "    f1_scores.append(epoch_f1_scores)\n",
    "\n",
    "    x_i_j = {}\n",
    "    s_i = {}\n",
    "    for node in nodes:\n",
    "        node.share_x_ij()\n",
    "    \n",
    "    for node in nodes:\n",
    "        node.share_s_i()\n",
    "    \n",
    "    #av_state = {}\n",
    "    #print(s_i[0])\n",
    "    #for key in s_i[0].keys():\n",
    "    #    av_state[key]=torch.mean(torch.tensor([s_i[i][key] for i in s_i]), dim=[0])\n",
    "    averaged_state = {}\n",
    "    for key in s_i[0].keys():\n",
    "        param_value = 0\n",
    "        for i in s_i:\n",
    "            param_value += s_i[i][key]\n",
    "        \n",
    "        averaged_state[key] = param_value/num_nodes\n",
    "\n",
    "    for node in nodes:\n",
    "        node.network.load_state_dict(averaged_state)\n",
    "\n",
    "    \n",
    "    \n",
    "    \n",
    "    # states = [i.network.state_dict() for i in nodes]\n",
    "    # av_state = {}\n",
    "    # for key in states[0]:\n",
    "    #     av_state[key] = sum([s[key] for s in states])/num_nodes\n",
    "    # for node in nodes:\n",
    "    #     node.network.load_state_dict(av_state)\n",
    "\n",
    "time_FL_SMPC = time.time() - start_time\n",
    "\n",
    "print(\"Time taken by FL with SMPC\", time_FL_SMPC)\n",
    "    \n"
   ]
  },
  {
   "cell_type": "code",
   "execution_count": 14,
   "metadata": {},
   "outputs": [],
   "source": [
    "import pickle\n",
    "\n",
    "try:\n",
    "    my_pickle_results = pickle.load( open( pickle_name+'.pickle', \"rb\" ) )\n",
    "    result = {}\n",
    "    result2 = {}\n",
    "    myResults = my_pickle_results\n",
    "except (OSError, IOError) as e:\n",
    "    my_pickle_results = {}\n",
    "    result = {}\n",
    "    result2 = {}"
   ]
  },
  {
   "cell_type": "code",
   "execution_count": 15,
   "metadata": {},
   "outputs": [],
   "source": [
    "result[\"train_accuracies\"] = train_accuracies\n",
    "result[\"train_losses\"] = losses\n",
    "result[\"test_accuracies\"] = test_accuracies\n",
    "result[\"test_losses\"] = test_losses\n",
    "result[\"f1_scores\"] = f1_scores\n",
    "result[\"ypred\"] = ypred\n",
    "result[\"ylabels\"] = ylabels\n",
    "result[\"time_taken\"] = time_FL_SMPC\n"
   ]
  },
  {
   "cell_type": "code",
   "execution_count": null,
   "metadata": {},
   "outputs": [],
   "source": []
  },
  {
   "cell_type": "code",
   "execution_count": null,
   "metadata": {},
   "outputs": [],
   "source": []
  },
  {
   "cell_type": "code",
   "execution_count": 16,
   "metadata": {},
   "outputs": [
    {
     "data": {
      "text/plain": [
       "[<matplotlib.lines.Line2D at 0x7fa8bdda07c0>,\n",
       " <matplotlib.lines.Line2D at 0x7fa8bdda0760>,\n",
       " <matplotlib.lines.Line2D at 0x7fa8bdda0730>,\n",
       " <matplotlib.lines.Line2D at 0x7fa8bdda0040>,\n",
       " <matplotlib.lines.Line2D at 0x7fa8bdda0ac0>]"
      ]
     },
     "execution_count": 16,
     "metadata": {},
     "output_type": "execute_result"
    },
    {
     "data": {
      "image/png": "[encoded data removed]",
      "text/plain": [
       "<Figure size 640x480 with 1 Axes>"
      ]
     },
     "metadata": {},
     "output_type": "display_data"
    }
   ],
   "source": [
    "plt.plot(test_accuracies)"
   ]
  },
  {
   "cell_type": "code",
   "execution_count": 17,
   "metadata": {},
   "outputs": [
    {
     "name": "stdout",
     "output_type": "stream",
     "text": [
      "[[4.281351407368978, 4.164502859115601, 4.195646286010742, 4.120813369750977, 4.144327163696289], [4.100980917612712, 4.119031667709351, 4.112707614898682, 4.103339433670044, 4.0963239669799805], [4.06421693166097, 4.073169469833374, 4.063663482666016, 4.047736644744873, 4.045541763305664], [4.031262477238973, 4.044277667999268, 4.018762946128845, 3.9995391368865967, 4.000961899757385], [3.998579661051432, 4.015651226043701, 3.9766165018081665, 3.9488779306411743, 3.9560537338256836], [3.9678573608398438, 3.989046812057495, 3.935564875602722, 3.904273509979248, 3.9175583124160767], [3.939556837081909, 3.9677224159240723, 3.9003385305404663, 3.8662400245666504, 3.883910059928894], [3.907765547434489, 3.9518630504608154, 3.8717392683029175, 3.8346495628356934, 3.8556329011917114], [3.8820772965749106, 3.939849615097046, 3.848420739173889, 3.8096795082092285, 3.8328278064727783], [3.859782616297404, 3.9295718669891357, 3.829297184944153, 3.7907134294509888, 3.8140735626220703], [3.8402801354726157, 3.9201648235321045, 3.8132725954055786, 3.7765167951583862, 3.7983516454696655], [3.82356588045756, 3.9117202758789062, 3.7999433279037476, 3.7661585807800293, 3.785002112388611], [3.809691905975342, 3.9047579765319824, 3.7886918783187866, 3.759023427963257, 3.775235176086426], [3.79874324798584, 3.8999669551849365, 3.779660224914551, 3.7542842626571655, 3.7663196325302124], [3.7906740506490073, 3.898446559906006, 3.772493839263916, 3.7512190341949463, 3.7578189373016357], [3.7835232416788735, 3.9003723859786987, 3.7667620182037354, 3.749060869216919, 3.7498912811279297], [3.777724504470825, 3.9040087461471558, 3.7625060081481934, 3.7473634481430054, 3.7428430318832397], [3.7727702458699546, 3.9086971282958984, 3.759151577949524, 3.745643138885498, 3.736716389656067], [3.7683183352152505, 3.914323329925537, 3.75619375705719, 3.743829131126404, 3.7312010526657104], [3.764214356740316, 3.9207284450531006, 3.7536559104919434, 3.742013454437256, 3.7262051105499268], [3.7604519526163735, 3.9272289276123047, 3.7515093088150024, 3.740247130393982, 3.7218366861343384], [3.7571417490641275, 3.9331607818603516, 3.749787211418152, 3.7386085987091064, 3.7181819677352905], [3.7541656494140625, 3.937914252281189, 3.7484874725341797, 3.7371515035629272, 3.7153137922286987], [3.751638174057007, 3.9414501190185547, 3.7474652528762817, 3.735923171043396, 3.7131526470184326], [3.7494932810465493, 3.9436060190200806, 3.7466368675231934, 3.734898567199707, 3.7116607427597046], [3.747789223988851, 3.9441522359848022, 3.745903253555298, 3.734014868736267, 3.7106945514678955], [3.7462218602498374, 3.9436851739883423, 3.7451082468032837, 3.73326575756073, 3.709788680076599], [3.745133638381958, 3.942457675933838, 3.7443565130233765, 3.732606053352356, 3.7094722986221313], [3.744619607925415, 3.941414952278137, 3.7435108423233032, 3.7320014238357544, 3.7081817388534546], [3.7435205777486167, 3.9409241676330566, 3.742638111114502, 3.7314159870147705, 3.707434892654419], [3.742370287577311, 3.94012987613678, 3.7418079376220703, 3.730874180793762, 3.7061688899993896], [3.7421209812164307, 3.939597249031067, 3.7407419681549072, 3.7303348779678345, 3.705484390258789], [3.740673065185547, 3.9394205808639526, 3.739819049835205, 3.729775905609131, 3.7037664651870728], [3.73946475982666, 3.9388692378997803, 3.738627076148987, 3.729264259338379, 3.7029614448547363], [3.738477945327759, 3.9385193586349487, 3.73748517036438, 3.7287737131118774, 3.7014777660369873], [3.737063407897949, 3.9384336471557617, 3.736395001411438, 3.728253483772278, 3.700746178627014], [3.7361265818277993, 3.9381059408187866, 3.735350728034973, 3.727705955505371, 3.699159860610962], [3.7344502607981362, 3.9376968145370483, 3.7342753410339355, 3.7271504402160645, 3.6983096599578857], [3.7331314086914062, 3.936925768852234, 3.7331974506378174, 3.726618528366089, 3.696875810623169], [3.7320005893707275, 3.9359822273254395, 3.732136845588684, 3.726053476333618, 3.696070075035095], [3.730781078338623, 3.9355664253234863, 3.731110453605652, 3.7254470586776733, 3.6945306062698364], [3.729387362798055, 3.9340028762817383, 3.730006217956543, 3.724858045578003, 3.693974256515503], [3.7288463910420737, 3.933192491531372, 3.729119896888733, 3.724256992340088, 3.693214774131775], [3.7272687753041587, 3.9319363832473755, 3.727655053138733, 3.7233312129974365, 3.6919749975204468], [3.7263070742289224, 3.9314597845077515, 3.726499557495117, 3.7223923206329346, 3.6904252767562866], [3.724956194559733, 3.9291062355041504, 3.7254222631454468, 3.721454381942749, 3.6896777153015137], [3.723942279815674, 3.9274258613586426, 3.7244789600372314, 3.7205461263656616, 3.6889606714248657], [3.7224687735239663, 3.9255036115646362, 3.723510503768921, 3.719633102416992, 3.688254952430725], [3.721154054005941, 3.924731969833374, 3.7223905324935913, 3.7187124490737915, 3.6869677305221558], [3.7198875745137534, 3.922285795211792, 3.721315026283264, 3.7178235054016113, 3.6860764026641846], [3.7183478673299155, 3.920568585395813, 3.720299243927002, 3.7169328927993774, 3.685141444206238], [3.717287222544352, 3.91895854473114, 3.719051957130432, 3.715986967086792, 3.6838486194610596], [3.715963125228882, 3.9178569316864014, 3.7177045345306396, 3.714884042739868, 3.6827553510665894], [3.7146502335866294, 3.916996717453003, 3.7162824869155884, 3.7136040925979614, 3.6814470291137695], [3.7136011123657227, 3.916411280632019, 3.714809536933899, 3.712194561958313, 3.6806575059890747], [3.711983839670817, 3.9169702529907227, 3.713255524635315, 3.7106631994247437, 3.6794501543045044], [3.710701068242391, 3.9148359298706055, 3.7117451429367065, 3.7091439962387085, 3.6788357496261597], [3.7095839977264404, 3.9136136770248413, 3.7102357149124146, 3.7076462507247925, 3.6777762174606323], [3.7082716623942056, 3.9131494760513306, 3.7085596323013306, 3.706136465072632, 3.6767849922180176], [3.7068342367808023, 3.9100677967071533, 3.7070196866989136, 3.704725503921509, 3.6753835678100586], [3.7055389086405435, 3.9081783294677734, 3.705594778060913, 3.7033486366271973, 3.674439311027527], [3.7039601802825928, 3.90783154964447, 3.7040882110595703, 3.7019550800323486, 3.6726585626602173], [3.7025487422943115, 3.9047670364379883, 3.7026408910751343, 3.7005878686904907, 3.671575427055359], [3.701245069503784, 3.903470754623413, 3.70131516456604, 3.69920551776886, 3.6696414947509766], [3.6997018655141196, 3.901538610458374, 3.7000644207000732, 3.6977615356445312, 3.6683417558670044], [3.6980514526367188, 3.901015043258667, 3.6987791061401367, 3.6963754892349243, 3.666525959968567], [3.697026093800863, 3.897221803665161, 3.697443723678589, 3.6949480772018433, 3.6652588844299316], [3.6951026916503906, 3.8961771726608276, 3.696092963218689, 3.6934672594070435, 3.6634364128112793], [3.69364341100057, 3.892554521560669, 3.6947938203811646, 3.6920143365859985, 3.6619287729263306], [3.691861391067505, 3.891572117805481, 3.6934980154037476, 3.6905014514923096, 3.6598846912384033], [3.690601666768392, 3.888520121574402, 3.692043900489807, 3.688883066177368, 3.658228874206543], [3.68858273824056, 3.887144923210144, 3.6904937028884888, 3.6872206926345825, 3.656043529510498], [3.6875833670298257, 3.884590744972229, 3.6888116598129272, 3.6855688095092773, 3.6542686223983765], [3.685187816619873, 3.882797598838806, 3.687195658683777, 3.683974266052246, 3.651845932006836], [3.6838587125142417, 3.8842679262161255, 3.68554949760437, 3.6822532415390015, 3.649712324142456], [3.6814278761545816, 3.8811891078948975, 3.683845281600952, 3.680387496948242, 3.64719021320343], [3.6797842184702554, 3.8801136016845703, 3.6821547746658325, 3.6785013675689697, 3.6450711488723755], [3.677352031071981, 3.879313349723816, 3.6803414821624756, 3.6766048669815063, 3.6424392461776733], [3.675978422164917, 3.877611994743347, 3.678622007369995, 3.67475426197052, 3.6403216123580933], [3.673149347305298, 3.8766435384750366, 3.676941394805908, 3.6728124618530273, 3.637364625930786], [3.6716636021931968, 3.876410484313965, 3.6751190423965454, 3.670725107192993, 3.63483989238739], [3.6699225902557373, 3.8743815422058105, 3.6732141971588135, 3.66851806640625, 3.6326236724853516], [3.6676339308420816, 3.8712726831436157, 3.67131507396698, 3.66635525226593, 3.6299232244491577], [3.6660922368367515, 3.872271180152893, 3.6693140268325806, 3.6641857624053955, 3.6274168491363525], [3.663617213567098, 3.8682626485824585, 3.6673322916030884, 3.6620174646377563, 3.6246538162231445], [3.6621409257253013, 3.865996241569519, 3.66539990901947, 3.6598360538482666, 3.6220110654830933], [3.659733772277832, 3.863788366317749, 3.663301944732666, 3.6576123237609863, 3.6194719076156616], [3.6581838130950928, 3.860177159309387, 3.661191940307617, 3.6553239822387695, 3.6167454719543457], [3.6556459267934165, 3.8584959506988525, 3.659156560897827, 3.6530914306640625, 3.613979935646057], [3.6536686420440674, 3.8550994396209717, 3.657129406929016, 3.650876522064209, 3.611092448234558], [3.651397943496704, 3.8528560400009155, 3.654905915260315, 3.6485334634780884, 3.608415961265564], [3.649393002192179, 3.850495219230652, 3.652577042579651, 3.6461849212646484, 3.605369448661804], [3.6472176710764566, 3.8462458848953247, 3.65017306804657, 3.643816590309143, 3.6024973392486572], [3.645069122314453, 3.8442424535751343, 3.647684097290039, 3.641485810279846, 3.5995839834213257], [3.6428298950195312, 3.840350389480591, 3.6452783346176147, 3.639107584953308, 3.596336603164673], [3.640315214792887, 3.83804714679718, 3.6430206298828125, 3.636752963066101, 3.5931202173233032], [3.637840509414673, 3.834267258644104, 3.6406099796295166, 3.6343934535980225, 3.5898852348327637], [3.635256210962931, 3.8325743675231934, 3.638172149658203, 3.631881833076477, 3.5865421295166016], [3.6331375439961753, 3.828466534614563, 3.635687470436096, 3.629220128059387, 3.5833189487457275], [3.630627234776815, 3.825704336166382, 3.632983684539795, 3.6265064477920532, 3.5800228118896484], [3.628022034962972, 3.821200132369995, 3.63013231754303, 3.6238465309143066, 3.5766085386276245], [3.625852108001709, 3.8173015117645264, 3.6273242235183716, 3.621270537376404, 3.5731003284454346], [3.6232771078745523, 3.815241813659668, 3.6244434118270874, 3.6185420751571655, 3.5695979595184326], [3.620469570159912, 3.8122342824935913, 3.6216567754745483, 3.615838885307312, 3.565550923347473], [3.618143081665039, 3.8081836700439453, 3.6188641786575317, 3.6131370067596436, 3.561968207359314], [3.615769306818644, 3.803774356842041, 3.61583149433136, 3.610456347465515, 3.5587610006332397], [3.613440752029419, 3.799249291419983, 3.61272656917572, 3.6077733039855957, 3.555238723754883], [3.6113510131835938, 3.7957990169525146, 3.609474778175354, 3.6052242517471313, 3.5518100261688232], [3.6090060075124106, 3.791573166847229, 3.606050133705139, 3.6026265621185303, 3.5482592582702637], [3.6063477198282876, 3.788140892982483, 3.602832794189453, 3.5999263525009155, 3.5442310571670532], [3.604206641515096, 3.7833635807037354, 3.5995699167251587, 3.5971659421920776, 3.5402802228927612], [3.6012802124023438, 3.778767228126526, 3.5961666107177734, 3.5943440198898315, 3.536515235900879], [3.5990819136301675, 3.7744557857513428, 3.592788577079773, 3.5912996530532837, 3.5327072143554688], [3.596786896387736, 3.76988685131073, 3.589560031890869, 3.588261604309082, 3.5287612676620483], [3.5937392711639404, 3.7657514810562134, 3.5860716104507446, 3.5852622985839844, 3.5247186422348022], [3.5909433364868164, 3.7616430521011353, 3.5825753211975098, 3.582021713256836, 3.520373821258545], [3.588408867518107, 3.757891297340393, 3.579019546508789, 3.5786964893341064, 3.5161324739456177], [3.585016886393229, 3.7533360719680786, 3.5752696990966797, 3.5755516290664673, 3.5121848583221436], [3.582322120666504, 3.749270796775818, 3.571645140647888, 3.572334885597229, 3.5074981451034546], [3.5793724060058594, 3.7456932067871094, 3.5679714679718018, 3.568886637687683, 3.502853035926819], [3.576394001642863, 3.7415801286697388, 3.5641231536865234, 3.5654038190841675, 3.498281717300415], [3.573076089223226, 3.737346649169922, 3.5603935718536377, 3.5619691610336304, 3.4935747385025024], [3.5703466733296714, 3.7330368757247925, 3.5566126108169556, 3.5583921670913696, 3.4889872074127197], [3.567187547683716, 3.7286423444747925, 3.5526856184005737, 3.5546858310699463, 3.484390139579773], [3.564255475997925, 3.7244428396224976, 3.54855477809906, 3.5510289669036865, 3.47956383228302], [3.560637871424357, 3.720289945602417, 3.5446749925613403, 3.5473824739456177, 3.4745301008224487], [3.557560841242472, 3.716459035873413, 3.5409120321273804, 3.54355525970459, 3.469285488128662], [3.5540093580881753, 3.7120944261550903, 3.536902904510498, 3.5396835803985596, 3.464427351951599], [3.551170825958252, 3.7074896097183228, 3.5326250791549683, 3.535827398300171, 3.4593929052352905], [3.5475448767344155, 3.702837109565735, 3.5283195972442627, 3.5318390130996704, 3.454196810722351], [3.544360796610514, 3.6985031366348267, 3.5240190029144287, 3.527730703353882, 3.4490636587142944], [3.540525515874227, 3.6938475370407104, 3.519768238067627, 3.5237425565719604, 3.4435280561447144], [3.536640723546346, 3.689600944519043, 3.5153889656066895, 3.519676446914673, 3.438224196434021], [3.533379872639974, 3.684463381767273, 3.5110563039779663, 3.5154268741607666, 3.432769298553467], [3.529541810353597, 3.680243492126465, 3.5069457292556763, 3.511328935623169, 3.4271565675735474], [3.5254363218943277, 3.6759161949157715, 3.5026016235351562, 3.5070807933807373, 3.4216545820236206], [3.5223726431528726, 3.6708019971847534, 3.498119831085205, 3.5026615858078003, 3.4161441326141357], [3.518319845199585, 3.665143847465515, 3.4935426712036133, 3.498252034187317, 3.4107967615127563], [3.514429728190104, 3.6603760719299316, 3.48854398727417, 3.49384605884552, 3.4051707983016968], [3.510924736658732, 3.6553423404693604, 3.4837082624435425, 3.489367723464966, 3.399087429046631], [3.5066515604654946, 3.6507526636123657, 3.4791868925094604, 3.4849592447280884, 3.393093705177307], [3.502755800882975, 3.6457053422927856, 3.474342942237854, 3.480427622795105, 3.3874012231826782], [3.498936971028646, 3.640217423439026, 3.4694372415542603, 3.4758782386779785, 3.3814775943756104], [3.4946882724761963, 3.6343395709991455, 3.4645999670028687, 3.471330165863037, 3.375422954559326], [3.4906307061513266, 3.629882335662842, 3.4597500562667847, 3.466639995574951, 3.369287610054016], [3.4870526790618896, 3.625171184539795, 3.4550446271896362, 3.461845636367798, 3.3631129264831543], [3.482391119003296, 3.619785785675049, 3.450135827064514, 3.457038164138794, 3.3570836782455444], [3.478278716405233, 3.6141672134399414, 3.4449477195739746, 3.4521944522857666, 3.350981593132019], [3.4742182890574136, 3.608642339706421, 3.439684510231018, 3.447182297706604, 3.344943881034851], [3.4702633221944175, 3.6027398109436035, 3.434436559677124, 3.4423283338546753, 3.3386125564575195], [3.4656283855438232, 3.5971624851226807, 3.4290534257888794, 3.4376147985458374, 3.332032561302185], [3.461151202519735, 3.5920984745025635, 3.4239799976348877, 3.4325658082962036, 3.325297713279724], [3.457053025563558, 3.587244987487793, 3.4188694953918457, 3.4274280071258545, 3.3187819719314575], [3.4528578917185464, 3.5812811851501465, 3.4136273860931396, 3.422369122505188, 3.3123289346694946], [3.4481937090555825, 3.5748947858810425, 3.408140182495117, 3.417447805404663, 3.306045174598694], [3.443575859069824, 3.5688483715057373, 3.4025336503982544, 3.4122707843780518, 3.299434542655945], [3.4390788873036704, 3.563102602958679, 3.3970271348953247, 3.4070624113082886, 3.292805552482605], [3.4345837434132895, 3.557527780532837, 3.39172899723053, 3.4016473293304443, 3.2859309911727905], [3.429814656575521, 3.552273750305176, 3.3863561153411865, 3.396504759788513, 3.279120087623596], [3.4250947634379068, 3.546488046646118, 3.3809192180633545, 3.3912267684936523, 3.272411346435547], [3.4205925464630127, 3.540259003639221, 3.3752872943878174, 3.385730743408203, 3.2659339904785156], [3.4159816900889077, 3.533441185951233, 3.369574546813965, 3.3804075717926025, 3.259216785430908], [3.411224126815796, 3.5265581607818604, 3.3637536764144897, 3.3752200603485107, 3.252361297607422], [3.40639321009318, 3.5206518173217773, 3.358254551887512, 3.369857430458069, 3.2452139854431152], [3.4016451835632324, 3.515155553817749, 3.352479338645935, 3.3642767667770386, 3.2384116649627686], [3.396788756052653, 3.508799910545349, 3.34680438041687, 3.3586883544921875, 3.2315032482147217], [3.3917919794718423, 3.5032976865768433, 3.3410695791244507, 3.3530876636505127, 3.2244056463241577], [3.386819760004679, 3.4973400831222534, 3.335383176803589, 3.3476288318634033, 3.2173519134521484], [3.3819967110951743, 3.490679144859314, 3.3294090032577515, 3.3420954942703247, 3.2104525566101074], [3.377354145050049, 3.484217882156372, 3.3234524726867676, 3.3365689516067505, 3.2034884691238403], [3.372333844502767, 3.4776681661605835, 3.3175538778305054, 3.3308792114257812, 3.196566581726074], [3.3671340942382812, 3.4715877771377563, 3.311691164970398, 3.325229287147522, 3.1895558834075928], [3.3621115684509277, 3.4656654596328735, 3.3056998252868652, 3.3195704221725464, 3.1825451850891113], [3.3570980230967202, 3.4597750902175903, 3.299679160118103, 3.3138245344161987, 3.1751232147216797], [3.352158705393473, 3.4531439542770386, 3.2936538457870483, 3.3081194162368774, 3.1680201292037964], [3.347212791442871, 3.447004556655884, 3.2876960039138794, 3.3021974563598633, 3.16094172000885], [3.342077096303304, 3.44042432308197, 3.2816715240478516, 3.296231746673584, 3.1538431644439697], [3.336935043334961, 3.4339332580566406, 3.2755542993545532, 3.290476679801941, 3.1465457677841187], [3.3317132790883384, 3.426654815673828, 3.269394040107727, 3.284699559211731, 3.139475107192993], [3.326408306757609, 3.4196207523345947, 3.2631276845932007, 3.2789891958236694, 3.132575273513794], [3.321361780166626, 3.412887454032898, 3.256930708885193, 3.273235559463501, 3.125154495239258], [3.316373904546102, 3.4071297645568848, 3.250792384147644, 3.267342209815979, 3.117826819419861], [3.311267375946045, 3.400608777999878, 3.244505286216736, 3.261350989341736, 3.1107964515686035], [3.3057125409444175, 3.393648624420166, 3.238156795501709, 3.2552967071533203, 3.1036570072174072], [3.3001530965169272, 3.3877979516983032, 3.2319363355636597, 3.249401092529297, 3.0964804887771606], [3.2951420148213706, 3.3815239667892456, 3.2256957292556763, 3.243484139442444, 3.0889577865600586], [3.28961451848348, 3.37451708316803, 3.219318151473999, 3.2376049757003784, 3.082016944885254], [3.284132639567057, 3.367986798286438, 3.2128918170928955, 3.231584906578064, 3.0746785402297974], [3.2789621353149414, 3.3616617918014526, 3.2065112590789795, 3.2256453037261963, 3.067351222038269], [3.2735034624735513, 3.355157256126404, 3.2002205848693848, 3.2196038961410522, 3.0599066019058228], [3.267504930496216, 3.3482292890548706, 3.193809986114502, 3.213703751564026, 3.052993059158325], [3.262441953023275, 3.3414578437805176, 3.1874598264694214, 3.2077142000198364, 3.045720338821411], [3.257237354914347, 3.3350133895874023, 3.181157946586609, 3.2015841007232666, 3.038358211517334], [3.2520321210225425, 3.3286917209625244, 3.174899458885193, 3.1955082416534424, 3.030922055244446], [3.2461540699005127, 3.3212705850601196, 3.16843581199646, 3.18961501121521, 3.0242903232574463], [3.2404568990071616, 3.314456820487976, 3.162004828453064, 3.1835098266601562, 3.0170469284057617], [3.235544204711914, 3.308471202850342, 3.1555967330932617, 3.1775437593460083, 3.009527325630188], [3.2296693325042725, 3.3014698028564453, 3.14917528629303, 3.1715816259384155, 3.002277135848999], [3.224196990331014, 3.2945276498794556, 3.1427704095840454, 3.1655361652374268, 2.995361089706421], [3.2186731497446694, 3.2882553339004517, 3.1364195346832275, 3.159430503845215, 2.9879331588745117], [3.213398536046346, 3.2809033393859863, 3.1299508810043335, 3.1532890796661377, 2.9808876514434814], [3.207674980163574, 3.274156928062439, 3.1235101222991943, 3.147321105003357, 2.9736034870147705], [3.2021584510803223, 3.2676713466644287, 3.1170583963394165, 3.1413381099700928, 2.966567873954773], [3.1966249148050943, 3.2609347105026245, 3.11069118976593, 3.1351619958877563, 2.9592632055282593], [3.191330353418986, 3.253621459007263, 3.1041080951690674, 3.1291204690933228, 2.9523966312408447], [3.1851566632588706, 3.2463228702545166, 3.0975879430770874, 3.1232091188430786, 2.9453134536743164], [3.1798648834228516, 3.24052894115448, 3.091262698173523, 3.1171079874038696, 2.937804698944092], [3.1749438444773355, 3.233553171157837, 3.084852933883667, 3.1111183166503906, 2.9305524826049805], [3.1689440409342446, 3.2262966632843018, 3.0783110857009888, 3.1051011085510254, 2.923769950866699], [3.1631758213043213, 3.2199844121932983, 3.071792244911194, 3.0990123748779297, 2.916507124900818], [3.157814105351766, 3.2130298614501953, 3.0654287338256836, 3.0929832458496094, 2.9093562364578247], [3.152245124181112, 3.206299066543579, 3.0590004920959473, 3.0870211124420166, 2.902263045310974], [3.1466618378957114, 3.1989636421203613, 3.0524747371673584, 3.081136703491211, 2.895357131958008], [3.140892744064331, 3.1920063495635986, 3.045797109603882, 3.0751500129699707, 2.8883854150772095], [3.1352718671162925, 3.1853047609329224, 3.0393688678741455, 3.069105863571167, 2.881267786026001], [3.130039930343628, 3.1790462732315063, 3.0330806970596313, 3.063045859336853, 2.8741180896759033], [3.12459135055542, 3.1713684797286987, 3.0265676975250244, 3.0572850704193115, 2.867478609085083], [3.118800242741903, 3.1643937826156616, 3.0200055837631226, 3.0513423681259155, 2.8605833053588867], [3.1131370862325034, 3.157424569129944, 3.0135921239852905, 3.045450210571289, 2.853284001350403], [3.1077268918355307, 3.1509004831314087, 3.0071780681610107, 3.039552688598633, 2.8461263179779053], [3.1021296977996826, 3.143722891807556, 3.0006778240203857, 3.033505082130432, 2.8394893407821655], [3.096423387527466, 3.13708758354187, 2.9942320585250854, 3.027578115463257, 2.8327925205230713], [3.090928316116333, 3.130324363708496, 2.987856864929199, 3.0215017795562744, 2.8254894018173218], [3.08549698193868, 3.12376606464386, 2.9815174341201782, 3.0156474113464355, 2.8183971643447876], [3.080024480819702, 3.1175307035446167, 2.9751925468444824, 3.0097599029541016, 2.811424136161804], [3.0744373003641763, 3.1100229024887085, 2.968737840652466, 3.003844380378723, 2.80475652217865], [3.068720499674479, 3.1033124923706055, 2.9624089002609253, 2.9978842735290527, 2.7979698181152344], [3.063432534535726, 3.0968539714813232, 2.9562132358551025, 2.9919822216033936, 2.7911150455474854], [3.0580294926961265, 3.0894371271133423, 2.950129508972168, 2.9861479997634888, 2.784303307533264], [3.0521318912506104, 3.0821417570114136, 2.943644642829895, 2.9807099103927612, 2.7777655124664307], [3.046435594558716, 3.0752341747283936, 2.9371891021728516, 2.9748361110687256, 2.771066427230835], [3.0410550435384116, 3.0685195922851562, 2.930908203125, 2.968788504600525, 2.764207363128662], [3.0355769793192544, 3.0628448724746704, 2.924560785293579, 2.9626938104629517, 2.7575197219848633], [3.0296476682027182, 3.0548439025878906, 2.9180723428726196, 2.957023501396179, 2.751400113105774], [3.0237509409586587, 3.048693895339966, 2.911736249923706, 2.9509971141815186, 2.744789719581604], [3.01859442392985, 3.041799545288086, 2.9057304859161377, 2.945252537727356, 2.7378547191619873], [3.0130117734273276, 3.0351096391677856, 2.89942467212677, 2.939579129219055, 2.73134446144104], [3.0071335633595786, 3.027720093727112, 2.893065094947815, 2.9337105751037598, 2.7250468730926514], [3.0012217362721763, 3.0212384462356567, 2.8867186307907104, 2.9279972314834595, 2.7185412645339966], [2.995889584223429, 3.014655828475952, 2.880555033683777, 2.9223194122314453, 2.7120633125305176], [2.9902515411376953, 3.00838041305542, 2.8745423555374146, 2.9163689613342285, 2.7052032947540283], [2.984903891881307, 3.0010913610458374, 2.8682979345321655, 2.9108351469039917, 2.6984444856643677], [2.979210376739502, 2.9948036670684814, 2.861936330795288, 2.9050586223602295, 2.6924320459365845], [2.973622719446818, 2.9874428510665894, 2.8556309938430786, 2.8992048501968384, 2.686118721961975], [2.9678146044413247, 2.9815510511398315, 2.8494211435317993, 2.8935097455978394, 2.6793432235717773], [2.962482452392578, 2.97409188747406, 2.843406081199646, 2.8878695964813232, 2.6732317209243774], [2.956585725148519, 2.96716570854187, 2.8375015258789062, 2.881953239440918, 2.666877269744873], [2.950815280278524, 2.960698366165161, 2.8312958478927612, 2.8764041662216187, 2.6606147289276123], [2.945590019226074, 2.9543089866638184, 2.8250932693481445, 2.8705862760543823, 2.6541894674301147], [2.9399428367614746, 2.948793411254883, 2.818950653076172, 2.8647643327713013, 2.6476845741271973], [2.9345818360646567, 2.941051721572876, 2.8129242658615112, 2.8591569662094116, 2.641559362411499], [2.9291120370229087, 2.9336562156677246, 2.806867003440857, 2.853636145591736, 2.6357736587524414], [2.923414866129557, 2.92788565158844, 2.800804018974304, 2.8478604555130005, 2.6292238235473633], [2.9177127679189048, 2.920918583869934, 2.794650435447693, 2.8423805236816406, 2.622925639152527], [2.912271738052368, 2.9141311645507812, 2.7887840270996094, 2.8365390300750732, 2.6172425746917725], [2.907250960667928, 2.9083510637283325, 2.7826422452926636, 2.8311116695404053, 2.610982894897461], [2.9015185832977295, 2.901334524154663, 2.7765971422195435, 2.825328826904297, 2.604737639427185], [2.8958258628845215, 2.894905924797058, 2.770646572113037, 2.819883108139038, 2.5988426208496094], [2.8903656800587973, 2.888844847679138, 2.7647762298583984, 2.8140640258789062, 2.5924837589263916], [2.884944121042887, 2.882335066795349, 2.7588000297546387, 2.8087003231048584, 2.586594343185425], [2.879517157872518, 2.8751827478408813, 2.752778172492981, 2.803202986717224, 2.580962300300598], [2.874241749445597, 2.8689368963241577, 2.7466559410095215, 2.798058032989502, 2.5746928453445435], [2.8687033653259277, 2.8630555868148804, 2.741005301475525, 2.792425274848938, 2.568828821182251], [2.863211234410604, 2.856445074081421, 2.7351112365722656, 2.786659359931946, 2.5628846883773804], [2.857433239618937, 2.8503905534744263, 2.72921085357666, 2.7809594869613647, 2.5570918321609497], [2.852190097173055, 2.8443833589553833, 2.723275065422058, 2.7754342555999756, 2.5507618188858032], [2.8471926848093667, 2.838424563407898, 2.7173643112182617, 2.770206332206726, 2.5448137521743774], [2.8416460355122886, 2.830845594406128, 2.7112948894500732, 2.7647125720977783, 2.539421319961548], [2.836075226465861, 2.8245980739593506, 2.705535411834717, 2.7597126960754395, 2.5337668657302856], [2.830899715423584, 2.8192033767700195, 2.6996604204177856, 2.754342555999756, 2.527584671974182], [2.8258795738220215, 2.8133206367492676, 2.6940104961395264, 2.7489153146743774, 2.521445155143738], [2.82037353515625, 2.8075371980667114, 2.688515543937683, 2.743084192276001, 2.515897035598755], [2.8149027824401855, 2.800727367401123, 2.6827884912490845, 2.7376761436462402, 2.510391592979431], [2.809721310933431, 2.795944571495056, 2.6770126819610596, 2.7323418855667114, 2.5043203830718994], [2.8047068119049072, 2.789322257041931, 2.6711549758911133, 2.7272560596466064, 2.498567819595337], [2.7990480264027915, 2.7824724912643433, 2.6654006242752075, 2.7218037843704224, 2.4931479692459106], [2.7937983671824136, 2.776440978050232, 2.6598262786865234, 2.7168842554092407, 2.4876396656036377], [2.7886903285980225, 2.769743323326111, 2.6542006731033325, 2.7116971015930176, 2.481978416442871], [2.7837934494018555, 2.764245867729187, 2.64870548248291, 2.7063790559768677, 2.4762524366378784], [2.7782956759134927, 2.758081555366516, 2.6430888175964355, 2.700887680053711, 2.4706499576568604], [2.772946755091349, 2.751613140106201, 2.63744854927063, 2.6958428621292114, 2.465193510055542], [2.767636219660441, 2.7458856105804443, 2.6316473484039307, 2.6907405853271484, 2.4598615169525146], [2.7625006834665933, 2.739790201187134, 2.626190662384033, 2.6854116916656494, 2.454311490058899], [2.75751002629598, 2.7336783409118652, 2.620650887489319, 2.6804327964782715, 2.448735237121582], [2.7523093223571777, 2.728554368019104, 2.6151458024978638, 2.675108551979065, 2.443224549293518], [2.7472666104634604, 2.7227883338928223, 2.609534978866577, 2.670014500617981, 2.437659740447998], [2.742004950841268, 2.71653950214386, 2.604012966156006, 2.6650004386901855, 2.432502508163452], [2.7371899286905923, 2.710045099258423, 2.5984947681427, 2.66000759601593, 2.4270557165145874], [2.732017993927002, 2.70364511013031, 2.5932053327560425, 2.654889464378357, 2.421762466430664], [2.7266488869984946, 2.698554039001465, 2.5876468420028687, 2.6499091386795044, 2.4165849685668945], [2.7214375336964927, 2.6937787532806396, 2.5821571350097656, 2.644635319709778, 2.4109262228012085], [2.716642459233602, 2.6882060766220093, 2.5765639543533325, 2.639557719230652, 2.4051417112350464], [2.711520512898763, 2.6818093061447144, 2.571223497390747, 2.634533166885376, 2.4001102447509766], [2.706392208735148, 2.67612361907959, 2.5658555030822754, 2.6297807693481445, 2.39500892162323], [2.7013564109802246, 2.669187307357788, 2.5605859756469727, 2.6251388788223267, 2.389931559562683], [2.6961965560913086, 2.6629350185394287, 2.555314302444458, 2.6201114654541016, 2.384744882583618], [2.6915015379587808, 2.6590688228607178, 2.5501046180725098, 2.6148457527160645, 2.378997564315796], [2.6862993240356445, 2.654072403907776, 2.5447527170181274, 2.6100120544433594, 2.3736212253570557], [2.681837717692057, 2.6480636596679688, 2.5395928621292114, 2.6050647497177124, 2.3686792850494385], [2.676674207051595, 2.6410820484161377, 2.5343921184539795, 2.6004271507263184, 2.3641891479492188], [2.671325445175171, 2.6342008113861084, 2.5291768312454224, 2.595407247543335, 2.3594329357147217], [2.66608460744222, 2.6289122104644775, 2.524025797843933, 2.5905858278274536, 2.353956937789917], [2.661726474761963, 2.6242486238479614, 2.5186548233032227, 2.5858583450317383, 2.3483657836914062], [2.656820376714071, 2.6188312768936157, 2.513489246368408, 2.5811463594436646, 2.3438440561294556], [2.651887575785319, 2.6124919652938843, 2.5085177421569824, 2.576201319694519, 2.339160680770874], [2.6470863024393716, 2.6063531637191772, 2.5033648014068604, 2.5714097023010254, 2.3340312838554382], [2.642000118891398, 2.600870966911316, 2.498175024986267, 2.5664509534835815, 2.3288815021514893], [2.637092431386312, 2.5955023765563965, 2.4928849935531616, 2.5620678663253784, 2.3239429593086243], [2.632153034210205, 2.5904864072799683, 2.4876902103424072, 2.5572351217269897, 2.319150388240814], [2.627622127532959, 2.5852168798446655, 2.4829204082489014, 2.5525968074798584, 2.3139753341674805], [2.622917890548706, 2.5796574354171753, 2.4777265787124634, 2.548014283180237, 2.3091251850128174], [2.6180131435394287, 2.5740745067596436, 2.472717523574829, 2.542994976043701, 2.304471731185913], [2.612865686416626, 2.568675398826599, 2.4676308631896973, 2.538218140602112, 2.2998411655426025], [2.6082118352254233, 2.5631730556488037, 2.4625935554504395, 2.5338765382766724, 2.295027732849121], [2.603696664174398, 2.5573856830596924, 2.457589030265808, 2.5294911861419678, 2.2903186082839966], [2.5990397930145264, 2.5521066188812256, 2.4528766870498657, 2.524711847305298, 2.285509467124939], [2.594057480494181, 2.5472737550735474, 2.4478262662887573, 2.5198285579681396, 2.2807164788246155], [2.5892393589019775, 2.542251706123352, 2.4429666996002197, 2.5155824422836304, 2.2758973836898804], [2.5850720405578613, 2.53681480884552, 2.43814754486084, 2.511242389678955, 2.271428108215332], [2.5804224014282227, 2.5313222408294678, 2.433437943458557, 2.506455659866333, 2.2668099403381348], [2.5754336516062417, 2.5261887311935425, 2.428688883781433, 2.5018917322158813, 2.262136936187744], [2.570398966471354, 2.52130389213562, 2.4238274097442627, 2.4973623752593994, 2.2573031783103943], [2.5659001668294272, 2.5163955688476562, 2.4189255237579346, 2.492892265319824, 2.2527800798416138], [2.5615554650624595, 2.511177897453308, 2.4142379760742188, 2.488422989845276, 2.248046636581421], [2.5570051670074463, 2.5057342052459717, 2.4095356464385986, 2.484165072441101, 2.2436715364456177], [2.55247696240743, 2.500311017036438, 2.4045931100845337, 2.47991681098938, 2.2389968633651733], [2.5479273001352944, 2.495237112045288, 2.3998671770095825, 2.4754586219787598, 2.234670341014862], [2.5433170000712075, 2.489885926246643, 2.395200490951538, 2.4709399938583374, 2.229870319366455], [2.538888692855835, 2.4852124452590942, 2.390268087387085, 2.466607451438904, 2.2252583503723145], [2.534080187479655, 2.480128049850464, 2.3857781887054443, 2.4623717069625854, 2.221026360988617], [2.5295534133911133, 2.4750415086746216, 2.381071090698242, 2.4580979347229004, 2.216908574104309], [2.525259494781494, 2.470177173614502, 2.376341700553894, 2.4536244869232178, 2.212419033050537], [2.5207760334014893, 2.464729905128479, 2.371670365333557, 2.4493736028671265, 2.2076772451400757], [2.516525904337565, 2.459891200065613, 2.3669440746307373, 2.4452017545700073, 2.2034987211227417], [2.512122392654419, 2.4547624588012695, 2.362280011177063, 2.4410548210144043, 2.199274241924286], [2.5076354344685874, 2.4498482942581177, 2.3576983213424683, 2.4368399381637573, 2.194960355758667], [2.503124157587687, 2.4454076290130615, 2.353134274482727, 2.432527184486389, 2.190734088420868], [2.498831272125244, 2.4402350187301636, 2.3488235473632812, 2.4282524585723877, 2.186305582523346], [2.4946419397989907, 2.4353526830673218, 2.3441869020462036, 2.4241576194763184, 2.181661367416382], [2.4902172088623047, 2.4304534196853638, 2.3394871950149536, 2.4200785160064697, 2.177660644054413], [2.486090580622355, 2.425015687942505, 2.3350194692611694, 2.4157752990722656, 2.1737303733825684], [2.4817307790120444, 2.420379638671875, 2.33075487613678, 2.4118183851242065, 2.169117510318756], [2.4773007233937583, 2.4152040481567383, 2.326225757598877, 2.4078289270401, 2.164869248867035], [2.472973903020223, 2.4108808040618896, 2.3217328786849976, 2.403526782989502, 2.160860300064087], [2.469142516454061, 2.4058624505996704, 2.3175987005233765, 2.399399161338806, 2.1566105484962463], [2.4647178649902344, 2.4012680053710938, 2.313109517097473, 2.395511746406555, 2.1523016691207886], [2.4606574376424155, 2.3961188793182373, 2.3086061477661133, 2.391173243522644, 2.1483790278434753], [2.4563178221384683, 2.3916988372802734, 2.3043346405029297, 2.387235999107361, 2.14415967464447], [2.452027161916097, 2.3865100145339966, 2.299853205680847, 2.3833959102630615, 2.1401253938674927], [2.4479344685872397, 2.3817336559295654, 2.29553759098053, 2.379207134246826, 2.135988235473633], [2.4440060456593833, 2.377540349960327, 2.2911638021469116, 2.3753206729888916, 2.1318044662475586], [2.4394105275472007, 2.371861457824707, 2.2869189977645874, 2.3712865114212036, 2.128013789653778], [2.435236930847168, 2.367790937423706, 2.2824466824531555, 2.3676838874816895, 2.1241994500160217], [2.431098222732544, 2.363065242767334, 2.2781415581703186, 2.363609790802002, 2.120262920856476], [2.4268624782562256, 2.358691930770874, 2.2739516496658325, 2.3597278594970703, 2.11604106426239], [2.4233206113179526, 2.3543126583099365, 2.2699397802352905, 2.355622410774231, 2.111648440361023], [2.418889284133911, 2.3501843214035034, 2.2655359506607056, 2.351826548576355, 2.1079185605049133], [2.4147112369537354, 2.345181703567505, 2.2612533569335938, 2.3477813005447388, 2.104500114917755], [2.410675525665283, 2.3398085832595825, 2.257127583026886, 2.3440409898757935, 2.1004311442375183], [2.4068919022878013, 2.3353054523468018, 2.252784252166748, 2.3403960466384888, 2.0961886644363403], [2.4023491541544595, 2.3316779136657715, 2.248495042324066, 2.336744785308838, 2.092658221721649], [2.3983054161071777, 2.3272430896759033, 2.244441330432892, 2.332605242729187, 2.0889631509780884], [2.3945643107096353, 2.322821855545044, 2.2404922246932983, 2.3286564350128174, 2.084641218185425], [2.390988270441691, 2.3176785111427307, 2.2362744212150574, 2.3249146938323975, 2.080536901950836], [2.386857032775879, 2.3129173517227173, 2.2321149706840515, 2.3213558197021484, 2.0766258239746094], [2.3824707667032876, 2.3090961575508118, 2.227768838405609, 2.317656397819519, 2.07334703207016], [2.3784050941467285, 2.304540753364563, 2.2236847281455994, 2.3137212991714478, 2.069851279258728], [2.3745683828989663, 2.300341308116913, 2.219766855239868, 2.3096405267715454, 2.0656235218048096], [2.370914936065674, 2.2954599261283875, 2.2156545519828796, 2.3059664964675903, 2.061505973339081], [2.366889715194702, 2.2909613251686096, 2.2115252017974854, 2.3025147914886475, 2.0576480627059937], [2.362959384918213, 2.2868276834487915, 2.207463264465332, 2.298810124397278, 2.054113745689392], [2.3589730262756348, 2.28285151720047, 2.203726291656494, 2.2950466871261597, 2.0501020550727844], [2.3550732135772705, 2.2787625789642334, 2.199666917324066, 2.2912977933883667, 2.046196460723877], [2.3513553142547607, 2.27369487285614, 2.195578932762146, 2.287704825401306, 2.042561650276184], [2.3475375175476074, 2.2691251039505005, 2.1914643049240112, 2.2840774059295654, 2.0392224192619324], [2.343364874521891, 2.26463782787323, 2.1876693964004517, 2.2806156873703003, 2.0354233384132385], [2.3396297295888266, 2.2606621980667114, 2.183634638786316, 2.2769644260406494, 2.0315833687782288], [2.3356133302052817, 2.2563381791114807, 2.1796645522117615, 2.2733319997787476, 2.0276352763175964], [2.3321107228597007, 2.2526187896728516, 2.175773799419403, 2.269645571708679, 2.0241945385932922], [2.328145980834961, 2.2483714818954468, 2.171877443790436, 2.2660499811172485, 2.0207200050354004], [2.3244899908701577, 2.243596076965332, 2.168004810810089, 2.262567639350891, 2.017245829105377], [2.3206028938293457, 2.239532768726349, 2.164136826992035, 2.2590571641921997, 2.0133824348449707], [2.3167917728424072, 2.2357174158096313, 2.1602355241775513, 2.255499839782715, 2.010007321834564], [2.312952438990275, 2.2312636971473694, 2.1564319729804993, 2.252041816711426, 2.006402611732483], [2.309430201848348, 2.227479040622711, 2.1526198387145996, 2.2486268281936646, 2.0029836893081665], [2.3055808544158936, 2.2234720587730408, 2.148884117603302, 2.2450575828552246, 1.9994899034500122], [2.3018924395243325, 2.2187325954437256, 2.145098865032196, 2.241625666618347, 1.9961549043655396], [2.2978294690450034, 2.214676022529602, 2.1412957906723022, 2.2382736206054688, 1.9927321672439575], [2.29396645228068, 2.210705876350403, 2.137585937976837, 2.2349164485931396, 1.9895232319831848], [2.29056183497111, 2.206516683101654, 2.1340436339378357, 2.2315298318862915, 1.9860323071479797], [2.2869407335917153, 2.2028417587280273, 2.1303611397743225, 2.2281603813171387, 1.9823527336120605], [2.283147176106771, 2.199262261390686, 2.1265896558761597, 2.2247636318206787, 1.9790470004081726], [2.2797648111979165, 2.1945618987083435, 2.1229772567749023, 2.2214179039001465, 1.9759504795074463], [2.275935252507528, 2.190697133541107, 2.1193838715553284, 2.2181729078292847, 1.9725000858306885], [2.2721877098083496, 2.1864851117134094, 2.1157162189483643, 2.2150529623031616, 1.9694554805755615], [2.268641233444214, 2.183102548122406, 2.1121073961257935, 2.2117470502853394, 1.966144323348999], [2.2649505138397217, 2.1791617274284363, 2.108572006225586, 2.208345890045166, 1.9627657532691956], [2.261274496714274, 2.175567388534546, 2.105129599571228, 2.204891324043274, 1.959667980670929], [2.257997194925944, 2.1714672446250916, 2.1017333269119263, 2.201554775238037, 1.9562852382659912], [2.2544328371683755, 2.1681368947029114, 2.0981770157814026, 2.198460102081299, 1.9527152180671692], [2.251091162363688, 2.164121389389038, 2.0945597290992737, 2.1953035593032837, 1.9495986104011536], [2.2474377950032554, 2.1608102917671204, 2.0909971594810486, 2.192014694213867, 1.9464808106422424], [2.243984858194987, 2.156429708003998, 2.0875593423843384, 2.1887556314468384, 1.9435218572616577], [2.2404305140177407, 2.152463436126709, 2.084060311317444, 2.1855945587158203, 1.9401435256004333], [2.2370832761128745, 2.149368703365326, 2.0805758833885193, 2.1822158098220825, 1.9367254376411438], [2.233428200085958, 2.1450214982032776, 2.0770949721336365, 2.178851366043091, 1.9336199760437012], [2.229992906252543, 2.1408981680870056, 2.073629081249237, 2.1757543087005615, 1.930610716342926], [2.2264575560887656, 2.137563467025757, 2.070167601108551, 2.172630548477173, 1.9274523854255676], [2.2232943773269653, 2.133718967437744, 2.0667393803596497, 2.1693447828292847, 1.9239609837532043], [2.2198784748713174, 2.129593849182129, 2.063362240791321, 2.1662862300872803, 1.920951783657074], [2.216526905695597, 2.126470983028412, 2.0600677132606506, 2.16311252117157, 1.9177688360214233], [2.213165760040283, 2.1228585839271545, 2.0566874742507935, 2.159820556640625, 1.9144919514656067], [2.210005283355713, 2.118733286857605, 2.0531967282295227, 2.1567466259002686, 1.91128671169281], [2.2064515749613443, 2.11526221036911, 2.049794852733612, 2.153614640235901, 1.9084647297859192], [2.2032063007354736, 2.1111104488372803, 2.0464864373207092, 2.1504615545272827, 1.9052553176879883], [2.199756940205892, 2.106597125530243, 2.04313862323761, 2.1474852561950684, 1.9023029804229736], [2.1964712540308633, 2.103396415710449, 2.039714992046356, 2.144421696662903, 1.899217963218689], [2.1930678685506186, 2.0997464656829834, 2.036332130432129, 2.1412569284439087, 1.8962010145187378], [2.189946929613749, 2.0957061648368835, 2.0329039096832275, 2.138055443763733, 1.893111765384674], [2.1864407459894815, 2.0919063091278076, 2.029585897922516, 2.135142683982849, 1.8901069164276123], [2.183143655459086, 2.0886207818984985, 2.0264557003974915, 2.1320756673812866, 1.8873499035835266], [2.1800487438837686, 2.085795283317566, 2.023094415664673, 2.1289916038513184, 1.8839744925498962], [2.1769578059514365, 2.0818719267845154, 2.0196235179901123, 2.125830888748169, 1.8808128237724304], [2.173469662666321, 2.0773820877075195, 2.016393303871155, 2.122842311859131, 1.8782124519348145], [2.170121431350708, 2.0731749534606934, 2.013162612915039, 2.1199920177459717, 1.8756112456321716], [2.1669055223464966, 2.070279836654663, 2.0099030137062073, 2.117060899734497, 1.872317135334015], [2.1639918883641562, 2.066757321357727, 2.006530523300171, 2.1138665676116943, 1.8691242337226868], [2.160628358523051, 2.062669575214386, 2.0032281279563904, 2.1107964515686035, 1.8664785027503967], [2.157158613204956, 2.058604061603546, 2.0000571608543396, 2.1079331636428833, 1.863897442817688], [2.1542609532674155, 2.055732488632202, 1.9967655539512634, 2.1050440073013306, 1.8608359098434448], [2.1512049436569214, 2.0520113110542297, 1.9935813546180725, 2.101862668991089, 1.857576847076416], [2.1480102141698203, 2.0477124452590942, 1.9903028011322021, 2.098931670188904, 1.8550686836242676], [2.1444698572158813, 2.043364644050598, 1.9872928857803345, 2.0961337089538574, 1.8527523279190063], [2.1414448817571006, 2.0407896041870117, 1.9839996099472046, 2.093235969543457, 1.849585771560669], [2.1386080582936606, 2.0375142097473145, 1.9806225299835205, 2.090196132659912, 1.8462750911712646], [2.1352925300598145, 2.033481001853943, 1.977429747581482, 2.087270975112915, 1.843812346458435], [2.1319530804951987, 2.0294153690338135, 1.9746692180633545, 2.084419012069702, 1.8413636684417725], [2.12913986047109, 2.0268646478652954, 1.9714587330818176, 2.0815930366516113, 1.838238000869751], [2.1261642376581826, 2.023459315299988, 1.9680705666542053, 2.0786049365997314, 1.8349840641021729], [2.122756600379944, 2.019309639930725, 1.96494060754776, 2.0755525827407837, 1.832780659198761], [2.1194178263346353, 2.015096426010132, 1.962150514125824, 2.072675585746765, 1.830576241016388], [2.116389433542887, 2.0113322734832764, 1.9590049386024475, 2.0701661109924316, 1.8275400400161743], [2.1136026779810586, 2.0088006258010864, 1.9558191299438477, 2.067377805709839, 1.824425756931305], [2.110902269681295, 2.0053550004959106, 1.952868402004242, 2.0642729997634888, 1.82145094871521], [2.107622504234314, 2.0011616945266724, 1.9497925639152527, 2.0614575147628784, 1.8191513419151306], [2.1042685508728027, 1.9968622922897339, 1.9466370940208435, 2.058787703514099, 1.8167899250984192], [2.1010440985361734, 1.9933651685714722, 1.9437854290008545, 2.0560522079467773, 1.8140971660614014], [2.098422129948934, 1.9909160137176514, 1.9407870769500732, 2.0532418489456177, 1.8109228610992432], [2.095588485399882, 1.9877217411994934, 1.9374367594718933, 2.050330877304077, 1.8079699873924255], [2.092283010482788, 1.9841228723526, 1.9346559643745422, 2.047324776649475, 1.8059134483337402], [2.0891524155934653, 1.9800342917442322, 1.931890070438385, 2.0446327924728394, 1.8035215735435486], [2.0862083037694297, 1.9760409593582153, 1.9288214445114136, 2.0421746969223022, 1.8009913563728333], [2.083259105682373, 1.9728075861930847, 1.9259737133979797, 2.039463520050049, 1.798276662826538], [2.0805246432622275, 1.9705906510353088, 1.923111617565155, 2.036513924598694, 1.7952518463134766], [2.07767391204834, 1.9673882722854614, 1.9198721051216125, 2.033756375312805, 1.7926127314567566], [2.0745132764180503, 1.9637014865875244, 1.9170606136322021, 2.030945301055908, 1.7904027700424194], [2.071494539578756, 1.9596372842788696, 1.9143085479736328, 2.0283474922180176, 1.788309097290039], [2.0685805082321167, 1.9557870626449585, 1.9113207459449768, 2.0258334279060364, 1.7857057452201843], [2.0656149784723916, 1.9527403116226196, 1.9085496664047241, 2.0231316685676575, 1.7830241918563843], [2.0628186066945395, 1.949771523475647, 1.9057217836380005, 2.020337760448456, 1.7803897857666016], [2.0599356492360434, 1.9464802145957947, 1.9026989340782166, 2.0177056193351746, 1.7780768275260925], [2.0569116671880088, 1.9431498646736145, 1.8999858498573303, 2.0150026082992554, 1.7757600545883179], [2.054035941759745, 1.9397212862968445, 1.8972331881523132, 2.0124122500419617, 1.773327887058258], [2.051194429397583, 1.936408817768097, 1.8942211270332336, 2.0098870992660522, 1.7709107995033264], [2.048373897870382, 1.9335216283798218, 1.8914735913276672, 2.0071237683296204, 1.768315315246582], [2.0455981492996216, 1.9304359555244446, 1.8887385129928589, 2.0044649243354797, 1.7659527659416199], [2.0428198973337808, 1.9272577166557312, 1.886034607887268, 2.001866340637207, 1.7632242441177368], [2.0399278004964194, 1.9240580201148987, 1.8831174969673157, 1.9991247057914734, 1.7610045671463013], [2.0370578368504844, 1.9206146001815796, 1.8802396655082703, 1.996672511100769, 1.7585724592208862], [2.0342297156651816, 1.9173749089241028, 1.8772981762886047, 1.9942209720611572, 1.7563013434410095], [2.031434257825216, 1.914409577846527, 1.8748723864555359, 1.9913317561149597, 1.753787338733673], [2.02864408493042, 1.9111260771751404, 1.8718356490135193, 1.9887542724609375, 1.7516077756881714], [2.0256966749827066, 1.9078565835952759, 1.869103193283081, 1.9861153364181519, 1.7491868138313293], [2.0229063034057617, 1.9045692682266235, 1.8664116263389587, 1.9837373495101929, 1.7468652725219727], [2.020162026087443, 1.9015899300575256, 1.8634427785873413, 1.9811973571777344, 1.7442956566810608], [2.0175218184789023, 1.8984463810920715, 1.861072301864624, 1.9784870743751526, 1.742030382156372], [2.0147078037261963, 1.8947508931159973, 1.8582534790039062, 1.9759829640388489, 1.7398135662078857], [2.0117841958999634, 1.8912864923477173, 1.8555129766464233, 1.973618745803833, 1.7374598383903503], [2.0090946356455484, 1.888443648815155, 1.8526214361190796, 1.9709575176239014, 1.735409677028656], [2.0064823230107627, 1.8856627941131592, 1.850336730480194, 1.9683656692504883, 1.7328854203224182], [2.00392214457194, 1.8826525807380676, 1.8475989699363708, 1.9657601118087769, 1.7306255102157593], [2.0012738704681396, 1.8792171478271484, 1.8449174165725708, 1.9633026123046875, 1.72842675447464], [1.9983333349227905, 1.8758891820907593, 1.8419942259788513, 1.9609745144844055, 1.7261280417442322], [1.9955490827560425, 1.873083233833313, 1.839677631855011, 1.9583396911621094, 1.7241479754447937], [1.9931035836537678, 1.8701825737953186, 1.8372530341148376, 1.9558899402618408, 1.7217697501182556], [1.9906036456425984, 1.8669724464416504, 1.834235668182373, 1.9535290598869324, 1.7192578315734863], [1.9877393245697021, 1.8637081980705261, 1.831753432750702, 1.9510955810546875, 1.7171927690505981], [1.9849990208943684, 1.8606559038162231, 1.8290684819221497, 1.9487957954406738, 1.7149614691734314], [1.9822593927383423, 1.8579735159873962, 1.826684296131134, 1.946290910243988, 1.7130549550056458], [1.9795960982640584, 1.854935884475708, 1.824294626712799, 1.9439393281936646, 1.7108518481254578], [1.9770018259684246, 1.8518792986869812, 1.821614682674408, 1.9415597319602966, 1.7084563970565796], [1.9744060039520264, 1.848863124847412, 1.8192797303199768, 1.9391066431999207, 1.7064219117164612], [1.971798022588094, 1.8460224270820618, 1.8166183829307556, 1.9367716908454895, 1.7038466930389404], [1.9690614938735962, 1.8433855175971985, 1.8142284154891968, 1.934383749961853, 1.7019785046577454], [1.966383735338847, 1.8403611183166504, 1.811755895614624, 1.9320427775382996, 1.6999886631965637], [1.9636107285817463, 1.8374276161193848, 1.8092427849769592, 1.9299099445343018, 1.6977896690368652], [1.9608053763707478, 1.8348181247711182, 1.8067851066589355, 1.9274245500564575, 1.6959320306777954], [1.958154280980428, 1.83245849609375, 1.8044534921646118, 1.9250254034996033, 1.6940322518348694], [1.9556430578231812, 1.8298736214637756, 1.8022430539131165, 1.9226486086845398, 1.6917096376419067], [1.9531856377919514, 1.8271921873092651, 1.7998901009559631, 1.9205084443092346, 1.6895961165428162]]\n"
     ]
    }
   ],
   "source": [
    "print(losses)"
   ]
  },
  {
   "cell_type": "code",
   "execution_count": 18,
   "metadata": {},
   "outputs": [
    {
     "data": {
      "text/plain": [
       "[<matplotlib.lines.Line2D at 0x7fa8b4b05480>,\n",
       " <matplotlib.lines.Line2D at 0x7fa8b4b05330>,\n",
       " <matplotlib.lines.Line2D at 0x7fa8b4b05270>,\n",
       " <matplotlib.lines.Line2D at 0x7fa8b4b05420>,\n",
       " <matplotlib.lines.Line2D at 0x7fa8b4b05030>]"
      ]
     },
     "execution_count": 18,
     "metadata": {},
     "output_type": "execute_result"
    },
    {
     "data": {
      "image/png": "[encoded data removed]",
      "text/plain": [
       "<Figure size 640x480 with 1 Axes>"
      ]
     },
     "metadata": {},
     "output_type": "display_data"
    }
   ],
   "source": [
    "plt.plot(losses)"
   ]
  },
  {
   "cell_type": "code",
   "execution_count": null,
   "metadata": {},
   "outputs": [],
   "source": []
  },
  {
   "cell_type": "code",
   "execution_count": null,
   "metadata": {},
   "outputs": [],
   "source": []
  },
  {
   "cell_type": "code",
   "execution_count": 19,
   "metadata": {},
   "outputs": [
    {
     "name": "stdout",
     "output_type": "stream",
     "text": [
      "Dataset size  309\n",
      "Mean size  torch.Size([1, 28, 28])\n",
      "Standard deviation size  torch.Size([1, 28, 28])\n",
      "Dataset size  136\n",
      "Mean size  torch.Size([1, 28, 28])\n",
      "Standard deviation size  torch.Size([1, 28, 28])\n",
      "Dataset size  213\n",
      "Mean size  torch.Size([1, 28, 28])\n",
      "Standard deviation size  torch.Size([1, 28, 28])\n",
      "Dataset size  249\n",
      "Mean size  torch.Size([1, 28, 28])\n",
      "Standard deviation size  torch.Size([1, 28, 28])\n",
      "Dataset size  215\n",
      "Mean size  torch.Size([1, 28, 28])\n",
      "Standard deviation size  torch.Size([1, 28, 28])\n"
     ]
    }
   ],
   "source": [
    "\n",
    "nodes = []\n",
    "for i in range(num_nodes):\n",
    "    nodes.append(FederatedNode(train_loaders[i], test_loaders[i], i)) \n"
   ]
  },
  {
   "cell_type": "code",
   "execution_count": 20,
   "metadata": {},
   "outputs": [
    {
     "name": "stderr",
     "output_type": "stream",
     "text": [
      "100%|██████████| 500/500 [00:15<00:00, 31.94it/s]"
     ]
    },
    {
     "name": "stdout",
     "output_type": "stream",
     "text": [
      "Time taken by FL without SMPC 15.65805959701538\n"
     ]
    },
    {
     "name": "stderr",
     "output_type": "stream",
     "text": [
      "\n"
     ]
    }
   ],
   "source": [
    "losses = []\n",
    "train_accuracies = []\n",
    "test_accuracies = []\n",
    "test_losses = []\n",
    "f1_scores = []\n",
    "\n",
    "start_time = time.time()\n",
    "for i in tqdm(range(epoch_total)):\n",
    "    epoch_losses = []\n",
    "    \n",
    "    for node in nodes:\n",
    "        tarin_acc, loss = node.train_epoch()\n",
    "        epoch_acc.append(tarin_acc)\n",
    "        epoch_losses.append(loss)\n",
    "    train_accuracies.append(epoch_acc)\n",
    "    losses.append(epoch_losses)\n",
    "\n",
    "\n",
    "    \n",
    "    epoch_test_accuracies = []\n",
    "    epoch_test_losses = []\n",
    "    epoch_f1_scores = []\n",
    "    for i, node in enumerate(nodes):\n",
    "\n",
    "        node.testing()\n",
    "        epoch_test_accuracies.append(node.test_accuracy)\n",
    "        epoch_test_losses.append(node.test_loss)\n",
    "        epoch_f1_scores.append(node.f1_score)\n",
    "            \n",
    "    test_accuracies.append(epoch_test_accuracies)\n",
    "    test_losses.append(epoch_test_losses)\n",
    "    f1_scores.append(epoch_f1_scores)\n",
    "    \n",
    "    av_state = {}\n",
    "    \n",
    "    \n",
    "    \n",
    "    states = [i.network.state_dict() for i in nodes]\n",
    "    av_state = {}\n",
    "    for key in states[0]:\n",
    "        av_state[key] = sum([s[key] for s in states])/num_nodes\n",
    "    for node in nodes:\n",
    "        node.network.load_state_dict(av_state)\n",
    "\n",
    "time_FL = time.time() - start_time\n",
    "\n",
    "print(\"Time taken by FL without SMPC\", time_FL)\n",
    "    "
   ]
  },
  {
   "cell_type": "code",
   "execution_count": null,
   "metadata": {},
   "outputs": [],
   "source": []
  },
  {
   "cell_type": "code",
   "execution_count": 21,
   "metadata": {},
   "outputs": [],
   "source": [
    "#print(prof.key_averages().table(sort_by=\"cpu_time_total\", row_limit=10))"
   ]
  },
  {
   "cell_type": "code",
   "execution_count": 22,
   "metadata": {},
   "outputs": [
    {
     "name": "stdout",
     "output_type": "stream",
     "text": [
      "Global Mean torch.Size([1, 28, 28])\n",
      "Global std  torch.Size([1, 28, 28])\n"
     ]
    }
   ],
   "source": [
    "global_mean = 0.0\n",
    "global_std = 0.0\n",
    "eqn1= 0.0 \n",
    "eqn2 = 0.0\n",
    "eqn3 = 0.0\n",
    "for node in nodes:\n",
    "    eqn1 += node.mean * node.dataset_size\n",
    "    eqn2 += node.dataset_size \n",
    "    eqn3 += node.std\n",
    "\n",
    "\n",
    "global_mean = eqn1/eqn2\n",
    "global_std = eqn3/eqn2\n",
    "print(\"Global Mean\", global_mean.shape)\n",
    "print(\"Global std \", global_std.shape)\n",
    "#plt.imshow(global_mean.squeeze())\n",
    "#plt.imshow(global_std.squeeze())"
   ]
  },
  {
   "cell_type": "code",
   "execution_count": 23,
   "metadata": {},
   "outputs": [],
   "source": [
    "result2[\"train_accuracies\"] = train_accuracies\n",
    "result2[\"train_losses\"] = losses\n",
    "result2[\"test_accuracies\"] = test_accuracies\n",
    "result2[\"test_losses\"] = test_losses\n",
    "result2[\"f1_scores\"] = f1_scores\n",
    "result2[\"ypred\"] = ypred\n",
    "result2[\"ylabels\"] = ylabels\n",
    "result2[\"time_taken\"] = time_FL\n"
   ]
  },
  {
   "cell_type": "code",
   "execution_count": 24,
   "metadata": {},
   "outputs": [
    {
     "data": {
      "text/plain": [
       "[<matplotlib.lines.Line2D at 0x7fa8b4b22650>,\n",
       " <matplotlib.lines.Line2D at 0x7fa8b4b227a0>,\n",
       " <matplotlib.lines.Line2D at 0x7fa8b4b22410>,\n",
       " <matplotlib.lines.Line2D at 0x7fa8b4b22260>,\n",
       " <matplotlib.lines.Line2D at 0x7fa8b4b220b0>]"
      ]
     },
     "execution_count": 24,
     "metadata": {},
     "output_type": "execute_result"
    },
    {
     "data": {
      "image/png": "[encoded data removed]",
      "text/plain": [
       "<Figure size 640x480 with 1 Axes>"
      ]
     },
     "metadata": {},
     "output_type": "display_data"
    }
   ],
   "source": [
    "plt.plot(result2[\"test_accuracies\"])"
   ]
  },
  {
   "cell_type": "code",
   "execution_count": 25,
   "metadata": {},
   "outputs": [
    {
     "name": "stdout",
     "output_type": "stream",
     "text": [
      "15.65805959701538\n"
     ]
    }
   ],
   "source": [
    "my_pickle_results[\"vanilla\"] = result2\n",
    "#print(my_pickle_results)\n",
    "# pickle.dumps(my_pickle_results)\n",
    "print(my_pickle_results[\"vanilla\"][\"time_taken\"])"
   ]
  },
  {
   "cell_type": "code",
   "execution_count": 26,
   "metadata": {},
   "outputs": [],
   "source": [
    "with open(pickle_name+'.pickle', 'wb') as handle:\n",
    "    pickle.dump(my_pickle_results, handle, protocol=pickle.HIGHEST_PROTOCOL)"
   ]
  },
  {
   "cell_type": "code",
   "execution_count": 27,
   "metadata": {},
   "outputs": [],
   "source": [
    "from sklearn.metrics import confusion_matrix, ConfusionMatrixDisplay\n",
    "from sklearn.metrics import classification_report\n",
    "labels = []\n",
    "for _, label in train_loaders[0]:\n",
    "    labels.append(label)\n",
    "#print(labels)\n",
    "#print(classification_report(y_true, y_pred, target_names=target_names))"
   ]
  },
  {
   "cell_type": "code",
   "execution_count": 28,
   "metadata": {},
   "outputs": [
    {
     "name": "stdout",
     "output_type": "stream",
     "text": [
      "Current date and time : \n",
      "2023-05-13 03:37:25\n"
     ]
    },
    {
     "ename": "",
     "evalue": "",
     "output_type": "error",
     "traceback": [
      "\u001b[1;31mThe Kernel crashed while executing code in the the current cell or a previous cell. Please review the code in the cell(s) to identify a possible cause of the failure. Click <a href='https://aka.ms/vscodeJupyterKernelCrash'>here</a> for more info. View Jupyter <a href='command:jupyter.viewOutput'>log</a> for further details."
     ]
    }
   ],
   "source": [
    "import datetime\n",
    "now = datetime.datetime.now()\n",
    "print (\"Current date and time : \")\n",
    "print (now.strftime(\"%Y-%m-%d %H:%M:%S\"))"
   ]
  },
  {
   "cell_type": "code",
   "execution_count": null,
   "metadata": {},
   "outputs": [],
   "source": []
  }
 ],
 "metadata": {
  "kernelspec": {
   "display_name": ".venv",
   "language": "python",
   "name": "python3"
  },
  "language_info": {
   "codemirror_mode": {
    "name": "ipython",
    "version": 3
   },
   "file_extension": ".py",
   "mimetype": "text/x-python",
   "name": "python",
   "nbconvert_exporter": "python",
   "pygments_lexer": "ipython3",
   "version": "3.10.9"
  },
  "orig_nbformat": 4
 },
 "nbformat": 4,
 "nbformat_minor": 2
}
