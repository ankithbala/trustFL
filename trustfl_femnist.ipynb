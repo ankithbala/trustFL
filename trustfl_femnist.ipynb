{
 "cells": [
  {
   "cell_type": "code",
   "execution_count": 66,
   "metadata": {},
   "outputs": [],
   "source": [
    "import torch, torch.utils.data\n",
    "from torch import nn\n",
    "import torchvision, torchvision.datasets\n",
    "from torchvision import transforms\n",
    "from tqdm import tqdm\n",
    "import matplotlib.pyplot as plt\n",
    "from typing import List\n",
    "\n",
    "from fedlab.main.fedlab_benchmarks.leaf.dataloader import get_LEAF_dataloader\n",
    "\n",
    "from torch.profiler import profile, record_function, ProfilerActivity\n",
    "import time\n",
    "from sklearn.metrics import f1_score   \n",
    "import numpy as np\n",
    "    \n"
   ]
  },
  {
   "cell_type": "code",
   "execution_count": 67,
   "metadata": {},
   "outputs": [
    {
     "name": "stdout",
     "output_type": "stream",
     "text": [
      "2.0.1+cu117\n"
     ]
    }
   ],
   "source": [
    "print(torch.__version__)"
   ]
  },
  {
   "cell_type": "code",
   "execution_count": 68,
   "metadata": {},
   "outputs": [],
   "source": [
    "train_loaders = []\n",
    "test_loaders = []\n",
    "num_nodes = 5\n",
    "num_class = 62\n",
    "epoch_total = 50\n",
    "pickle_name = \"femnist-epoch-\"+str(epoch_total)"
   ]
  },
  {
   "cell_type": "code",
   "execution_count": 69,
   "metadata": {},
   "outputs": [
    {
     "data": {
      "text/plain": [
       "'NVIDIA GeForce RTX 3070 Ti Laptop GPU'"
      ]
     },
     "execution_count": 69,
     "metadata": {},
     "output_type": "execute_result"
    }
   ],
   "source": [
    "device = torch.device('cuda')\n",
    "torch.cuda.get_device_name(device)"
   ]
  },
  {
   "cell_type": "code",
   "execution_count": 70,
   "metadata": {},
   "outputs": [],
   "source": [
    "\n",
    "\n",
    "\n",
    "transform = transforms.Compose([\n",
    "    transforms.ToTensor(),\n",
    "])\n",
    "target_transform = lambda x: torch.nn.functional.one_hot(torch.tensor(x),num_class).float()"
   ]
  },
  {
   "cell_type": "code",
   "execution_count": 71,
   "metadata": {},
   "outputs": [],
   "source": [
    "# def split_dataset(dataset, n):\n",
    "#     torch.utils.data.random_split(dataset, )"
   ]
  },
  {
   "cell_type": "code",
   "execution_count": 72,
   "metadata": {},
   "outputs": [],
   "source": [
    "def get_femnist_shakespeare_dataset(**args):\n",
    "    if args['dataset'] == 'femnist' or args['dataset'] == 'shakespeare':\n",
    "        trainloader, testloader = get_LEAF_dataloader(dataset=args['dataset'],\n",
    "                                                      client_id=args['rank'])\n",
    "    else:\n",
    "        raise ValueError(\"Invalid dataset:\", args['dataset'])\n",
    "    return trainloader, testloader"
   ]
  },
  {
   "cell_type": "code",
   "execution_count": 73,
   "metadata": {},
   "outputs": [
    {
     "name": "stdout",
     "output_type": "stream",
     "text": [
      "<torch.utils.data.dataloader.DataLoader object at 0x00000152CA7BA170>\n",
      "<torch.utils.data.dataloader.DataLoader object at 0x0000015262E7FBE0>\n",
      "<torch.utils.data.dataloader.DataLoader object at 0x0000015262E7C8E0>\n",
      "<torch.utils.data.dataloader.DataLoader object at 0x0000015262E7EF80>\n",
      "<torch.utils.data.dataloader.DataLoader object at 0x0000015262E7C3A0>\n"
     ]
    }
   ],
   "source": [
    "\n",
    "train_loaders = []\n",
    "test_loaders = []\n",
    "\n",
    "\n",
    "for i in range(num_nodes):\n",
    "    args = {'dataset': 'femnist', 'rank': i}\n",
    "    trainloader, testloader = get_femnist_shakespeare_dataset(**args)\n",
    "    train_loaders.append(trainloader)\n",
    "    test_loaders.append(testloader)\n",
    "\n",
    "#loader = zip(train_loaders, test_loaders)\n",
    "\n"
   ]
  },
  {
   "cell_type": "code",
   "execution_count": 74,
   "metadata": {},
   "outputs": [
    {
     "name": "stdout",
     "output_type": "stream",
     "text": [
      "5\n",
      "5\n",
      "[<torch.utils.data.dataloader.DataLoader object at 0x00000152CA7B99C0>, <torch.utils.data.dataloader.DataLoader object at 0x0000015262E7FF10>, <torch.utils.data.dataloader.DataLoader object at 0x0000015262E7F2E0>, <torch.utils.data.dataloader.DataLoader object at 0x0000015262E7E4D0>, <torch.utils.data.dataloader.DataLoader object at 0x0000015262E7C250>]\n",
      "39\n"
     ]
    }
   ],
   "source": [
    "print(len(train_loaders))\n",
    "print(len(test_loaders))\n",
    "print(test_loaders)\n",
    "print(len(test_loaders[0].dataset))"
   ]
  },
  {
   "cell_type": "code",
   "execution_count": 75,
   "metadata": {},
   "outputs": [],
   "source": [
    "\n",
    "x_i_j = {}\n",
    "s_i = {}\n",
    "\n",
    "ypred = []\n",
    "ylabels = []"
   ]
  },
  {
   "cell_type": "code",
   "execution_count": 76,
   "metadata": {},
   "outputs": [],
   "source": [
    "class FederatedNode:\n",
    "    def __init__(self, train_dataloader, test_dataloader, node_id) -> None:\n",
    "        self.dataset_size = len(train_dataloader.dataset)\n",
    "        channels_sum, channels_squared_sum, num_batches = 0, 0, 0\n",
    "        for data, _ in train_dataloader:\n",
    "            # Mean over batch, height and width, but not over the channels\n",
    "            channels_sum += torch.mean(data, dim=[0])\n",
    "            channels_squared_sum += torch.mean(data**2, dim=[0])\n",
    "            num_batches += 1\n",
    "    \n",
    "        self.mean = channels_sum / num_batches\n",
    "        self.test_loss = 0.0\n",
    "        self.test_accuracy = 0.0\n",
    "        self.train_accuracy = 0.0\n",
    "        self.train_loss = 0.0\n",
    "        self.f1_score = 0.0\n",
    "\n",
    "\n",
    "        # std = sqrt(E[X^2] - (E[X])^2)\n",
    "        self.std = (channels_squared_sum / num_batches - self.mean ** 2) ** 0.5\n",
    "        print(\"Dataset size \", self.dataset_size)\n",
    "        print(\"Mean size \", self.mean.shape)\n",
    "        print(\"Standard deviation size \", self.std.shape)\n",
    "        \n",
    "        \n",
    "        self.network = nn.Sequential(\n",
    "            nn.Flatten(),\n",
    "            nn.Linear(784,56),\n",
    "            nn.ReLU(),\n",
    "            nn.Linear(56, 62)\n",
    "        ).to(device)\n",
    "\n",
    "        '''\n",
    "        only_digits=False\n",
    "        self.network = nn.Sequential(\n",
    "        nn.Conv2d(1, 32, kernel_size=3),\n",
    "        nn.MaxPool2d(2, stride=2),\n",
    "        nn.Conv2d(32, 64, kernel_size=3),\n",
    "        nn.Dropout(0.25),\n",
    "        nn.Flatten(),\n",
    "        nn.Linear(9216, 128),\n",
    "        nn.Dropout(0.5),\n",
    "        nn.Linear(128, 10 if only_digits else 62),\n",
    "        nn.ReLU()\n",
    "        ).to(device)\n",
    "        '''\n",
    "        self.optimizer = torch.optim.Adam(self.network.parameters())\n",
    "        self.criterion = nn.CrossEntropyLoss()\n",
    "        self.train_dataloader = train_dataloader\n",
    "        self.test_dataloader = test_dataloader\n",
    "        self.node_id = node_id\n",
    "    \n",
    "    def train_epoch(self):\n",
    "        losses = []\n",
    "        correct = 0\n",
    "        total = 0\n",
    "        train_accuracy = []\n",
    "        for idx, (data_x, data_y) in enumerate(self.train_dataloader):\n",
    "            #print(\"data_x\", data_x.shape)\n",
    "            #print(\"data_y\", data_y.shape)\n",
    "            #plt.imshow(data_x[1][0])\n",
    "            output = self.network(data_x.to(device))\n",
    "            self.optimizer.zero_grad()\n",
    "            #print(output.shape)\n",
    "            #print(data_y)\n",
    "            #data_y = target_transform(data_y)\n",
    "            \n",
    "            #loss = nn.functional.mse_loss(output, data_y.to(device))\n",
    "            loss = self.criterion(output, data_y.to(device))\n",
    "            losses.append(loss.item())\n",
    "            loss.backward()\n",
    "            self.optimizer.step()\n",
    "\n",
    "            _, predicted = torch.max(output.data, 1)\n",
    "            data_y = data_y.to(predicted.device)\n",
    "            true_labels = data_y\n",
    "            #true_labels = torch.argmax(data_y, dim=1).to(predicted.device)\n",
    "            total += data_y.size(0)\n",
    "            correct += (predicted == true_labels).sum().item()\n",
    "            train_accuracy.append(correct / total)\n",
    "            ypred.append(data_y)\n",
    "            ylabels.append(true_labels)\n",
    "        self.train_accuracy = train_accuracy[-1]\n",
    "        self.train_loss = sum(losses)/len(losses)\n",
    "        return self.train_accuracy, self.train_loss\n",
    "    \n",
    "    def testing(self):\n",
    "        correct = 0\n",
    "        total = 0\n",
    "        # test_running_loss = 0.0\n",
    "        predictions = []\n",
    "        labels = []\n",
    "        test_accuracy = []\n",
    "        test_running_losses = []\n",
    "        for idx, (data_x, data_y) in enumerate(self.test_dataloader):\n",
    "            output = self.network(data_x.to(device))\n",
    "            \n",
    "            _, predicted = torch.max(output.data, 1)\n",
    "            data_y = data_y.to(predicted.device)\n",
    "            true_labels = data_y\n",
    "            #true_labels = torch.argmax(data_y, dim=1).to(predicted.device)\n",
    "            total += data_y.size(0)\n",
    "            correct += (predicted == true_labels).sum().item()\n",
    "            \n",
    "            loss = self.criterion(output, data_y)\n",
    "            predictions.append(predicted.cpu())\n",
    "            #labels.append(data_y.cpu())\n",
    "            labels.append(true_labels.cpu())\n",
    "            test_running_losses.append(loss.item())\n",
    "            #print('Epoch %d test loss: %.3f' % (idx + 1, test_running_losses[-1]))\n",
    "            #print(test_running_losses)\n",
    "            #test_running_loss += loss.item()\n",
    "            #test_loss.append(test_running_loss / len(self.test_dataloader))\n",
    "            test_accuracy.append(correct / total)\n",
    "        \n",
    "        #print(predictions)\n",
    "        predictions = np.concatenate(predictions)\n",
    "        labels = np.concatenate(labels)\n",
    "        self.f1_score= f1_score(labels, predictions, average=\"weighted\")\n",
    "        self.test_accuracy = test_accuracy[-1]\n",
    "        #print(self.test_accuracy)\n",
    "        self.test_loss =  sum(test_running_losses)/len(test_running_losses)\n",
    "        #print(\"test loss \",self.test_loss)\n",
    "       \n",
    "    \n",
    "    def share_x_ij(self):\n",
    "        x = self.network.state_dict()\n",
    "        r = torch.randint(0, 5, [num_nodes])\n",
    "        s_r = torch.sum(r)\n",
    "        j=self.node_id\n",
    "        for i in range(num_nodes):\n",
    "            x_i_j[(i,j)]={}\n",
    "            for key in x.keys():\n",
    "                x_i_j[(i,j)][key]=x[key]*r[i]/s_r\n",
    "    \n",
    "    def share_s_i(self):\n",
    "        i = self.node_id\n",
    "        s_i[i] = {}\n",
    "        for key in x_i_j[(0,0)].keys():\n",
    "            s_i[i][key] = sum([x_i_j[(i,j)][key] for j in range(num_nodes)])\n",
    "    \n",
    "\n",
    "\n",
    "\n",
    "\n",
    "\n"
   ]
  },
  {
   "cell_type": "code",
   "execution_count": 77,
   "metadata": {},
   "outputs": [
    {
     "name": "stdout",
     "output_type": "stream",
     "text": [
      "Dataset size  343\n",
      "Mean size  torch.Size([1, 28, 28])\n",
      "Standard deviation size  torch.Size([1, 28, 28])\n",
      "Dataset size  372\n",
      "Mean size  torch.Size([1, 28, 28])\n",
      "Standard deviation size  torch.Size([1, 28, 28])\n",
      "Dataset size  364\n",
      "Mean size  torch.Size([1, 28, 28])\n",
      "Standard deviation size  torch.Size([1, 28, 28])\n",
      "Dataset size  358\n",
      "Mean size  torch.Size([1, 28, 28])\n",
      "Standard deviation size  torch.Size([1, 28, 28])\n",
      "Dataset size  284\n",
      "Mean size  torch.Size([1, 28, 28])\n",
      "Standard deviation size  torch.Size([1, 28, 28])\n"
     ]
    }
   ],
   "source": [
    "#for i, loader_data in enumerate(zip(*loader)):\n",
    "#    train_loaders, test_loaders = loader_data\n",
    "\n",
    "nodes = []\n",
    "for i in range(num_nodes):\n",
    "    nodes.append(FederatedNode(train_loaders[i], test_loaders[i], i)) \n",
    "\n",
    "#nodes = [FederatedNode(l, i) for i,l in enumerate())]"
   ]
  },
  {
   "cell_type": "code",
   "execution_count": 78,
   "metadata": {},
   "outputs": [
    {
     "name": "stderr",
     "output_type": "stream",
     "text": [
      "100%|██████████| 50/50 [00:03<00:00, 14.03it/s]"
     ]
    },
    {
     "name": "stdout",
     "output_type": "stream",
     "text": [
      "Time taken by FL with SMPC 3.565176010131836\n"
     ]
    },
    {
     "name": "stderr",
     "output_type": "stream",
     "text": [
      "\n"
     ]
    }
   ],
   "source": [
    "losses = []\n",
    "train_accuracies = []\n",
    "test_accuracies = []\n",
    "test_losses = []\n",
    "f1_scores = []\n",
    "#with profile(activities=[ProfilerActivity.CPU, ProfilerActivity.CUDA], record_shapes=True) as prof:\n",
    "#    with record_function(\"model_training\"):\n",
    "\n",
    "start_time = time.time()\n",
    "for i in tqdm(range(epoch_total)):\n",
    "    epoch_losses = []\n",
    "    epoch_acc = []\n",
    "    for node in nodes:\n",
    "        tarin_acc, loss = node.train_epoch()\n",
    "        epoch_acc.append(tarin_acc)\n",
    "        epoch_losses.append(loss)\n",
    "    train_accuracies.append(epoch_acc)\n",
    "    losses.append(epoch_losses)\n",
    "\n",
    "\n",
    "    \n",
    "    epoch_test_accuracies = []\n",
    "    epoch_test_losses = []\n",
    "    epoch_f1_scores = []\n",
    "    for i, node in enumerate(nodes):\n",
    "        #print()\n",
    "        #print(\"Node \", i)\n",
    "        \n",
    "        node.testing()\n",
    "        #test_losses.append(node.test_loss)\n",
    "        #print(\"Node Test Accuracy\", node.test_accuracy)\n",
    "        #print(\"Node Test loss\", node.test_loss)\n",
    "        #print(\"Node F1_Score \", node.f1_score)\n",
    "        epoch_test_accuracies.append(node.test_accuracy)\n",
    "        epoch_test_losses.append(node.test_loss)\n",
    "        epoch_f1_scores.append(node.f1_score)\n",
    "            \n",
    "    test_accuracies.append(epoch_test_accuracies)\n",
    "    test_losses.append(epoch_test_losses)\n",
    "    f1_scores.append(epoch_f1_scores)\n",
    "\n",
    "    x_i_j = {}\n",
    "    s_i = {}\n",
    "    for node in nodes:\n",
    "        node.share_x_ij()\n",
    "    \n",
    "    for node in nodes:\n",
    "        node.share_s_i()\n",
    "    \n",
    "    #av_state = {}\n",
    "    #print(s_i[0])\n",
    "    #for key in s_i[0].keys():\n",
    "    #    av_state[key]=torch.mean(torch.tensor([s_i[i][key] for i in s_i]), dim=[0])\n",
    "    averaged_state = {}\n",
    "    for key in s_i[0].keys():\n",
    "        param_value = 0\n",
    "        for i in s_i:\n",
    "            param_value += s_i[i][key]\n",
    "        \n",
    "        averaged_state[key] = param_value/num_nodes\n",
    "\n",
    "    for node in nodes:\n",
    "        node.network.load_state_dict(averaged_state)\n",
    "\n",
    "    \n",
    "    \n",
    "    \n",
    "    # states = [i.network.state_dict() for i in nodes]\n",
    "    # av_state = {}\n",
    "    # for key in states[0]:\n",
    "    #     av_state[key] = sum([s[key] for s in states])/num_nodes\n",
    "    # for node in nodes:\n",
    "    #     node.network.load_state_dict(av_state)\n",
    "\n",
    "time_FL_SMPC = time.time() - start_time\n",
    "\n",
    "print(\"Time taken by FL with SMPC\", time_FL_SMPC)\n",
    "    \n"
   ]
  },
  {
   "cell_type": "code",
   "execution_count": 79,
   "metadata": {},
   "outputs": [],
   "source": [
    "import pickle\n",
    "\n",
    "try:\n",
    "    my_pickle_results = pickle.load( open( pickle_name+'.pickle', \"rb\" ) )\n",
    "    result = {}\n",
    "    result2 = {}\n",
    "    myResults = my_pickle_results\n",
    "except (OSError, IOError) as e:\n",
    "    my_pickle_results = {}\n",
    "    result = {}\n",
    "    result2 = {}"
   ]
  },
  {
   "cell_type": "code",
   "execution_count": 80,
   "metadata": {},
   "outputs": [],
   "source": [
    "result[\"train_accuracies\"] = train_accuracies\n",
    "result[\"train_losses\"] = losses\n",
    "result[\"test_accuracies\"] = test_accuracies\n",
    "result[\"test_losses\"] = test_losses\n",
    "result[\"f1_scores\"] = f1_scores\n",
    "result[\"ypred\"] = ypred\n",
    "result[\"ylabels\"] = ylabels\n",
    "result[\"time_taken\"] = time_FL_SMPC\n"
   ]
  },
  {
   "cell_type": "code",
   "execution_count": null,
   "metadata": {},
   "outputs": [],
   "source": []
  },
  {
   "cell_type": "code",
   "execution_count": null,
   "metadata": {},
   "outputs": [],
   "source": []
  },
  {
   "cell_type": "code",
   "execution_count": 81,
   "metadata": {},
   "outputs": [
    {
     "data": {
      "text/plain": [
       "[<matplotlib.lines.Line2D at 0x15262e86200>,\n",
       " <matplotlib.lines.Line2D at 0x15262e862f0>,\n",
       " <matplotlib.lines.Line2D at 0x15262e87550>,\n",
       " <matplotlib.lines.Line2D at 0x15262e85b70>,\n",
       " <matplotlib.lines.Line2D at 0x15262e85c90>]"
      ]
     },
     "execution_count": 81,
     "metadata": {},
     "output_type": "execute_result"
    },
    {
     "data": {
      "image/png": "[encoded data removed]",
      "text/plain": [
       "<Figure size 640x480 with 1 Axes>"
      ]
     },
     "metadata": {},
     "output_type": "display_data"
    }
   ],
   "source": [
    "plt.plot(test_accuracies)"
   ]
  },
  {
   "cell_type": "code",
   "execution_count": 82,
   "metadata": {},
   "outputs": [
    {
     "name": "stdout",
     "output_type": "stream",
     "text": [
      "[[4.168848514556885, 4.146617889404297, 4.086326837539673, 4.137367566426595, 4.214754104614258], [4.10583511988322, 4.110678831736247, 4.110778331756592, 4.108837763468425, 4.120378494262695], [4.0479427973429365, 4.052094300587972, 4.048022111256917, 4.052811781565349, 4.086693286895752], [3.9707442919413247, 3.9682905673980713, 3.959151109059652, 3.972952365875244, 4.044553836186727], [3.9020707607269287, 3.8903045654296875, 3.8738886515299478, 3.8959187666575112, 4.0085930824279785], [3.843299468358358, 3.823109229405721, 3.8053348859151206, 3.8265183766682944, 3.9812557697296143], [3.8005682627360025, 3.7683095137278237, 3.7525065739949546, 3.77127734820048, 3.955728610356649], [3.777094046274821, 3.731393337249756, 3.722440560658773, 3.7336671352386475, 3.93497633934021], [3.763387680053711, 3.7050434748331704, 3.7029866377512612, 3.7075537840525308, 3.9163482189178467], [3.7503856817881265, 3.6801669597625732, 3.684803565343221, 3.6856659253438315, 3.8961774508158364], [3.7410577138264975, 3.661292632420858, 3.6707653999328613, 3.6711693604787192, 3.8796427249908447], [3.736631393432617, 3.65073291460673, 3.662729501724243, 3.6632398764292398, 3.8688469727834067], [3.7344233989715576, 3.645411968231201, 3.658626397450765, 3.6588264306386313, 3.8619470596313477], [3.7331639925638833, 3.643142064412435, 3.6561575730641684, 3.6568147341410318, 3.8579644362131753], [3.7322944800059, 3.6421635945638022, 3.654073158899943, 3.6552773316701255, 3.8561304410298667], [3.7309319178263345, 3.641082525253296, 3.6511809825897217, 3.653294245402018, 3.8558878103892007], [3.729614496231079, 3.639826695124308, 3.6480011145273843, 3.6512746810913086, 3.8566558361053467], [3.727680047353109, 3.638123035430908, 3.6441160837809243, 3.64896027247111, 3.8567373752593994], [3.7262445290883384, 3.6370922724405923, 3.6413880983988443, 3.646812677383423, 3.8564253648122153], [3.7244006792704263, 3.6358165740966797, 3.638989528020223, 3.644455830256144, 3.854827880859375], [3.7230462233225503, 3.6349820295969644, 3.637150764465332, 3.642573356628418, 3.852418899536133], [3.7212982177734375, 3.634026050567627, 3.63542906443278, 3.640249172846476, 3.8501904010772705], [3.7201953728993735, 3.6331228415171304, 3.633995850880941, 3.638632615407308, 3.8473459084828696], [3.718682130177816, 3.632105827331543, 3.632317066192627, 3.637108643849691, 3.8457117875417075], [3.717259168624878, 3.6302775541941323, 3.630931774775187, 3.6356289386749268, 3.8439034620920816], [3.714573542277018, 3.629080851872762, 3.6298998991648355, 3.634484132130941, 3.8425935904184976], [3.7125112215677896, 3.6277526219685874, 3.628580013910929, 3.6330748399098716, 3.8419833183288574], [3.7107324600219727, 3.626227776209513, 3.6268678506215415, 3.6313723723093667, 3.839078108469645], [3.7090910275777182, 3.6246581077575684, 3.624963363011678, 3.62944229443868, 3.836409091949463], [3.707310438156128, 3.622976303100586, 3.622852325439453, 3.627377430597941, 3.834253470102946], [3.7055877844492593, 3.621163845062256, 3.6205619970957437, 3.6252129872639975, 3.8310739199320474], [3.703829367955526, 3.6194237073262534, 3.618340174357096, 3.623016277949015, 3.8285442193349204], [3.7021218140920005, 3.6176462173461914, 3.616089423497518, 3.6208013693491616, 3.8266805013020835], [3.7006781101226807, 3.6157854398091636, 3.613761027654012, 3.6185290018717446, 3.8242170810699463], [3.698883851369222, 3.6139822006225586, 3.6115194161732993, 3.616188923517863, 3.821587165196737], [3.697492758433024, 3.6121488412221274, 3.609205484390259, 3.6138076782226562, 3.8192981084187827], [3.695687452952067, 3.6101862589518228, 3.6067253748575845, 3.6113271713256836, 3.8165434996287027], [3.69412628809611, 3.6081992785135903, 3.604191462198893, 3.6087586879730225, 3.813853104909261], [3.6923110485076904, 3.6061522165934243, 3.6015767256418862, 3.6061060428619385, 3.8115290800730386], [3.6905359427134194, 3.604017734527588, 3.598841985066732, 3.603391249974569, 3.8087233702341714], [3.688558022181193, 3.601879835128784, 3.596094767252604, 3.600630601247152, 3.806122144063314], [3.68660831451416, 3.599724451700846, 3.5933045546213784, 3.5978410243988037, 3.803448041280111], [3.6845779418945312, 3.5975332260131836, 3.5904637972513833, 3.595014492670695, 3.800656795501709], [3.6825195948282876, 3.5952605406443277, 3.5875371297200522, 3.5921252568562827, 3.797748247782389], [3.680394013722738, 3.592973470687866, 3.5846057732899985, 3.5891560713450112, 3.7945629755655923], [3.6782999833424888, 3.590606212615967, 3.5815792878468833, 3.586119016011556, 3.7916740576426187], [3.6760671138763428, 3.5881689389546714, 3.57846728960673, 3.5829881032307944, 3.7882370154062905], [3.6738193035125732, 3.5856598218282065, 3.575287183125814, 3.5797859032948813, 3.7850240071614585], [3.671467383702596, 3.5831108887990317, 3.5720757643381753, 3.5764732360839844, 3.781306584676107], [3.669127623240153, 3.5804633299509683, 3.5688087145487466, 3.573083241780599, 3.778485139211019]]\n"
     ]
    }
   ],
   "source": [
    "print(losses)"
   ]
  },
  {
   "cell_type": "code",
   "execution_count": 83,
   "metadata": {},
   "outputs": [
    {
     "data": {
      "text/plain": [
       "[<matplotlib.lines.Line2D at 0x15262f48340>,\n",
       " <matplotlib.lines.Line2D at 0x15262f483a0>,\n",
       " <matplotlib.lines.Line2D at 0x15262f483d0>,\n",
       " <matplotlib.lines.Line2D at 0x15262f484c0>,\n",
       " <matplotlib.lines.Line2D at 0x15262f485b0>]"
      ]
     },
     "execution_count": 83,
     "metadata": {},
     "output_type": "execute_result"
    },
    {
     "data": {
      "image/png": "[encoded data removed]",
      "text/plain": [
       "<Figure size 640x480 with 1 Axes>"
      ]
     },
     "metadata": {},
     "output_type": "display_data"
    }
   ],
   "source": [
    "plt.plot(losses)"
   ]
  },
  {
   "cell_type": "code",
   "execution_count": null,
   "metadata": {},
   "outputs": [],
   "source": []
  },
  {
   "cell_type": "code",
   "execution_count": null,
   "metadata": {},
   "outputs": [],
   "source": []
  },
  {
   "cell_type": "code",
   "execution_count": 84,
   "metadata": {},
   "outputs": [
    {
     "name": "stdout",
     "output_type": "stream",
     "text": [
      "Dataset size  343\n",
      "Mean size  torch.Size([1, 28, 28])\n",
      "Standard deviation size  torch.Size([1, 28, 28])\n",
      "Dataset size  372\n",
      "Mean size  torch.Size([1, 28, 28])\n",
      "Standard deviation size  torch.Size([1, 28, 28])\n",
      "Dataset size  364\n",
      "Mean size  torch.Size([1, 28, 28])\n",
      "Standard deviation size  torch.Size([1, 28, 28])\n",
      "Dataset size  358\n",
      "Mean size  torch.Size([1, 28, 28])\n",
      "Standard deviation size  torch.Size([1, 28, 28])\n",
      "Dataset size  284\n",
      "Mean size  torch.Size([1, 28, 28])\n",
      "Standard deviation size  torch.Size([1, 28, 28])\n"
     ]
    }
   ],
   "source": [
    "\n",
    "nodes = []\n",
    "for i in range(num_nodes):\n",
    "    nodes.append(FederatedNode(train_loaders[i], test_loaders[i], i)) \n"
   ]
  },
  {
   "cell_type": "code",
   "execution_count": 85,
   "metadata": {},
   "outputs": [
    {
     "name": "stderr",
     "output_type": "stream",
     "text": [
      "100%|██████████| 50/50 [00:03<00:00, 16.13it/s]"
     ]
    },
    {
     "name": "stdout",
     "output_type": "stream",
     "text": [
      "Time taken by FL without SMPC 3.1024422645568848\n"
     ]
    },
    {
     "name": "stderr",
     "output_type": "stream",
     "text": [
      "\n"
     ]
    }
   ],
   "source": [
    "losses = []\n",
    "train_accuracies = []\n",
    "test_accuracies = []\n",
    "test_losses = []\n",
    "f1_scores = []\n",
    "\n",
    "start_time = time.time()\n",
    "for i in tqdm(range(epoch_total)):\n",
    "    epoch_losses = []\n",
    "    \n",
    "    for node in nodes:\n",
    "        tarin_acc, loss = node.train_epoch()\n",
    "        epoch_acc.append(tarin_acc)\n",
    "        epoch_losses.append(loss)\n",
    "    train_accuracies.append(epoch_acc)\n",
    "    losses.append(epoch_losses)\n",
    "\n",
    "\n",
    "    \n",
    "    epoch_test_accuracies = []\n",
    "    epoch_test_losses = []\n",
    "    epoch_f1_scores = []\n",
    "    for i, node in enumerate(nodes):\n",
    "\n",
    "        node.testing()\n",
    "        epoch_test_accuracies.append(node.test_accuracy)\n",
    "        epoch_test_losses.append(node.test_loss)\n",
    "        epoch_f1_scores.append(node.f1_score)\n",
    "            \n",
    "    test_accuracies.append(epoch_test_accuracies)\n",
    "    test_losses.append(epoch_test_losses)\n",
    "    f1_scores.append(epoch_f1_scores)\n",
    "    \n",
    "    av_state = {}\n",
    "    \n",
    "    \n",
    "    \n",
    "    states = [i.network.state_dict() for i in nodes]\n",
    "    av_state = {}\n",
    "    for key in states[0]:\n",
    "        av_state[key] = sum([s[key] for s in states])/num_nodes\n",
    "    for node in nodes:\n",
    "        node.network.load_state_dict(av_state)\n",
    "\n",
    "time_FL = time.time() - start_time\n",
    "\n",
    "print(\"Time taken by FL without SMPC\", time_FL)\n",
    "    "
   ]
  },
  {
   "cell_type": "code",
   "execution_count": null,
   "metadata": {},
   "outputs": [],
   "source": []
  },
  {
   "cell_type": "code",
   "execution_count": 86,
   "metadata": {},
   "outputs": [],
   "source": [
    "#print(prof.key_averages().table(sort_by=\"cpu_time_total\", row_limit=10))"
   ]
  },
  {
   "cell_type": "code",
   "execution_count": 87,
   "metadata": {},
   "outputs": [
    {
     "name": "stdout",
     "output_type": "stream",
     "text": [
      "Global Mean torch.Size([1, 28, 28])\n",
      "Global std  torch.Size([1, 28, 28])\n"
     ]
    }
   ],
   "source": [
    "global_mean = 0.0\n",
    "global_std = 0.0\n",
    "eqn1= 0.0 \n",
    "eqn2 = 0.0\n",
    "eqn3 = 0.0\n",
    "for node in nodes:\n",
    "    eqn1 += node.mean * node.dataset_size\n",
    "    eqn2 += node.dataset_size \n",
    "    eqn3 += node.std\n",
    "\n",
    "\n",
    "global_mean = eqn1/eqn2\n",
    "global_std = eqn3/eqn2\n",
    "print(\"Global Mean\", global_mean.shape)\n",
    "print(\"Global std \", global_std.shape)\n",
    "#plt.imshow(global_mean.squeeze())\n",
    "#plt.imshow(global_std.squeeze())"
   ]
  },
  {
   "cell_type": "code",
   "execution_count": 88,
   "metadata": {},
   "outputs": [],
   "source": [
    "result2[\"train_accuracies\"] = train_accuracies\n",
    "result2[\"train_losses\"] = losses\n",
    "result2[\"test_accuracies\"] = test_accuracies\n",
    "result2[\"test_losses\"] = test_losses\n",
    "result2[\"f1_scores\"] = f1_scores\n",
    "result2[\"ypred\"] = ypred\n",
    "result2[\"ylabels\"] = ylabels\n",
    "result2[\"time_taken\"] = time_FL\n"
   ]
  },
  {
   "cell_type": "code",
   "execution_count": 89,
   "metadata": {},
   "outputs": [
    {
     "name": "stdout",
     "output_type": "stream",
     "text": [
      "3.1024422645568848\n"
     ]
    }
   ],
   "source": [
    "my_pickle_results[\"vanilla\"] = result2\n",
    "#print(my_pickle_results)\n",
    "# pickle.dumps(my_pickle_results)\n",
    "print(my_pickle_results[\"vanilla\"][\"time_taken\"])"
   ]
  },
  {
   "cell_type": "code",
   "execution_count": 90,
   "metadata": {},
   "outputs": [],
   "source": [
    "with open(pickle_name+'.pickle', 'wb') as handle:\n",
    "    pickle.dump(my_pickle_results, handle, protocol=pickle.HIGHEST_PROTOCOL)"
   ]
  },
  {
   "cell_type": "code",
   "execution_count": 91,
   "metadata": {},
   "outputs": [],
   "source": [
    "from sklearn.metrics import confusion_matrix, ConfusionMatrixDisplay\n",
    "from sklearn.metrics import classification_report\n",
    "labels = []\n",
    "for _, label in train_loaders[0]:\n",
    "    labels.append(label)\n",
    "#print(labels)\n",
    "#print(classification_report(y_true, y_pred, target_names=target_names))"
   ]
  },
  {
   "cell_type": "code",
   "execution_count": 92,
   "metadata": {},
   "outputs": [
    {
     "name": "stdout",
     "output_type": "stream",
     "text": [
      "Current date and time : \n",
      "2023-05-11 23:36:37\n"
     ]
    }
   ],
   "source": [
    "import datetime\n",
    "now = datetime.datetime.now()\n",
    "print (\"Current date and time : \")\n",
    "print (now.strftime(\"%Y-%m-%d %H:%M:%S\"))"
   ]
  },
  {
   "cell_type": "code",
   "execution_count": null,
   "metadata": {},
   "outputs": [],
   "source": []
  }
 ],
 "metadata": {
  "kernelspec": {
   "display_name": ".venv",
   "language": "python",
   "name": "python3"
  },
  "language_info": {
   "codemirror_mode": {
    "name": "ipython",
    "version": 3
   },
   "file_extension": ".py",
   "mimetype": "text/x-python",
   "name": "python",
   "nbconvert_exporter": "python",
   "pygments_lexer": "ipython3",
   "version": "3.10.9"
  },
  "orig_nbformat": 4
 },
 "nbformat": 4,
 "nbformat_minor": 2
}
