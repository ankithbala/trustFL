{
 "cells": [
  {
   "cell_type": "code",
   "execution_count": 28,
   "metadata": {},
   "outputs": [],
   "source": [
    "import torch, torch.utils.data\n",
    "from torch import nn\n",
    "import torchvision, torchvision.datasets\n",
    "from torchvision import transforms\n",
    "from tqdm import tqdm\n",
    "import matplotlib.pyplot as plt\n",
    "from typing import List\n",
    "\n",
    "from fedlab.main.fedlab_benchmarks.leaf.dataloader import get_LEAF_dataloader\n",
    "\n",
    "from torch.profiler import profile, record_function, ProfilerActivity\n",
    "import time\n",
    "from sklearn.metrics import f1_score   \n",
    "import numpy as np\n",
    "    \n",
    "import random"
   ]
  },
  {
   "cell_type": "code",
   "execution_count": 29,
   "metadata": {},
   "outputs": [
    {
     "name": "stdout",
     "output_type": "stream",
     "text": [
      "2.0.1+cu117\n"
     ]
    }
   ],
   "source": [
    "print(torch.__version__)\n",
    "\n",
    "\n"
   ]
  },
  {
   "cell_type": "code",
   "execution_count": 30,
   "metadata": {},
   "outputs": [],
   "source": [
    "def get_femnist_shakespeare_dataset(**args):\n",
    "    if args['dataset'] == 'femnist' or args['dataset'] == 'shakespeare':\n",
    "        trainloader, testloader = get_LEAF_dataloader(dataset=args['dataset'],\n",
    "                                                      client_id=args['rank'])\n",
    "    else:\n",
    "        raise ValueError(\"Invalid dataset:\", args['dataset'])\n",
    "    return trainloader, testloader"
   ]
  },
  {
   "cell_type": "code",
   "execution_count": 31,
   "metadata": {},
   "outputs": [
    {
     "name": "stdout",
     "output_type": "stream",
     "text": [
      "<torch.utils.data.dataloader.DataLoader object at 0x000002172A35A9E0>\n",
      "<torch.utils.data.dataloader.DataLoader object at 0x000002174BF4C820>\n",
      "<torch.utils.data.dataloader.DataLoader object at 0x0000021720B7E3B0>\n",
      "<torch.utils.data.dataloader.DataLoader object at 0x000002177B64D810>\n",
      "<torch.utils.data.dataloader.DataLoader object at 0x000002177B64F2B0>\n"
     ]
    }
   ],
   "source": [
    "\n",
    "train_loaders = []\n",
    "test_loaders = []\n",
    "num_nodes = 5\n",
    "num_class = 62\n",
    "epoch_total = 50\n",
    "pickle_name = \"femnist-floppy-epoch-\"+str(epoch_total)\n",
    "\n",
    "for i in range(num_nodes):\n",
    "    args = {'dataset': 'femnist', 'rank': i}\n",
    "    trainloader, testloader = get_femnist_shakespeare_dataset(**args)\n",
    "    train_loaders.append(trainloader)\n",
    "    test_loaders.append(testloader)\n"
   ]
  },
  {
   "cell_type": "code",
   "execution_count": 32,
   "metadata": {},
   "outputs": [
    {
     "data": {
      "text/plain": [
       "'NVIDIA GeForce RTX 3070 Ti Laptop GPU'"
      ]
     },
     "execution_count": 32,
     "metadata": {},
     "output_type": "execute_result"
    }
   ],
   "source": [
    "device = torch.device('cuda')\n",
    "torch.cuda.get_device_name(device)"
   ]
  },
  {
   "cell_type": "code",
   "execution_count": 33,
   "metadata": {},
   "outputs": [],
   "source": [
    "\n",
    "transform = transforms.Compose([\n",
    "    transforms.ToTensor(),\n",
    "])\n",
    "target_transform = lambda x: torch.nn.functional.one_hot(torch.tensor(x),num_class).float()"
   ]
  },
  {
   "cell_type": "code",
   "execution_count": 34,
   "metadata": {},
   "outputs": [
    {
     "name": "stdout",
     "output_type": "stream",
     "text": [
      "5\n",
      "5\n",
      "[<torch.utils.data.dataloader.DataLoader object at 0x000002172A359810>, <torch.utils.data.dataloader.DataLoader object at 0x000002177B628E20>, <torch.utils.data.dataloader.DataLoader object at 0x0000021720B7E320>, <torch.utils.data.dataloader.DataLoader object at 0x000002177B64C2B0>, <torch.utils.data.dataloader.DataLoader object at 0x000002177B64D4B0>]\n",
      "39\n"
     ]
    }
   ],
   "source": [
    "print(len(train_loaders))\n",
    "print(len(test_loaders))\n",
    "print(test_loaders)\n",
    "print(len(test_loaders[0].dataset))"
   ]
  },
  {
   "cell_type": "code",
   "execution_count": 35,
   "metadata": {},
   "outputs": [],
   "source": [
    "\n",
    "x_i_j = {}\n",
    "s_i = {}\n",
    "\n",
    "ypred = []\n",
    "ylabels = []"
   ]
  },
  {
   "cell_type": "code",
   "execution_count": 36,
   "metadata": {},
   "outputs": [],
   "source": [
    "class FederatedNode:\n",
    "    def __init__(self, train_dataloader, test_dataloader, node_id) -> None:\n",
    "        self.dataset_size = len(train_dataloader.dataset)\n",
    "        channels_sum, channels_squared_sum, num_batches = 0, 0, 0\n",
    "        for data, _ in train_dataloader:\n",
    "            # Mean over batch, height and width, but not over the channels\n",
    "            channels_sum += torch.mean(data, dim=[0])\n",
    "            channels_squared_sum += torch.mean(data**2, dim=[0])\n",
    "            num_batches += 1\n",
    "    \n",
    "        self.mean = channels_sum / num_batches\n",
    "        self.test_loss = 0.0\n",
    "        self.test_accuracy = 0.0\n",
    "        self.train_accuracy = 0.0\n",
    "        self.train_loss = 0.0\n",
    "        self.f1_score = 0.0\n",
    "\n",
    "\n",
    "        # std = sqrt(E[X^2] - (E[X])^2)\n",
    "        self.std = (channels_squared_sum / num_batches - self.mean ** 2) ** 0.5\n",
    "        print(\"Dataset size \", self.dataset_size)\n",
    "        print(\"Mean size \", self.mean.shape)\n",
    "        print(\"Standard deviation size \", self.std.shape)\n",
    "        \n",
    "        \n",
    "        self.network = nn.Sequential(\n",
    "            nn.Flatten(),\n",
    "            nn.Linear(784,56),\n",
    "            nn.ReLU(),\n",
    "            nn.Linear(56, 62)\n",
    "        ).to(device)\n",
    "\n",
    "        '''\n",
    "        only_digits=False\n",
    "        self.network = nn.Sequential(\n",
    "        nn.Conv2d(1, 32, kernel_size=3),\n",
    "        nn.MaxPool2d(2, stride=2),\n",
    "        nn.Conv2d(32, 64, kernel_size=3),\n",
    "        nn.Dropout(0.25),\n",
    "        nn.Flatten(),\n",
    "        nn.Linear(9216, 128),\n",
    "        nn.Dropout(0.5),\n",
    "        nn.Linear(128, 10 if only_digits else 62),\n",
    "        nn.ReLU()\n",
    "        ).to(device)\n",
    "        '''\n",
    "        self.optimizer = torch.optim.Adam(self.network.parameters())\n",
    "        self.criterion = nn.CrossEntropyLoss()\n",
    "        self.train_dataloader = train_dataloader\n",
    "        self.test_dataloader = test_dataloader\n",
    "        self.node_id = node_id\n",
    "    \n",
    "    def train_epoch(self):\n",
    "        losses = []\n",
    "        correct = 0\n",
    "        total = 0\n",
    "        train_accuracy = []\n",
    "        for idx, (data_x, data_y) in enumerate(self.train_dataloader):\n",
    "            #print(\"data_x\", data_x.shape)\n",
    "            #print(\"data_y\", data_y.shape)\n",
    "            #plt.imshow(data_x[1][0])\n",
    "            output = self.network(data_x.to(device))\n",
    "            self.optimizer.zero_grad()\n",
    "            #print(output.shape)\n",
    "            #print(data_y)\n",
    "            #data_y = target_transform(data_y)\n",
    "            \n",
    "            #loss = nn.functional.mse_loss(output, data_y.to(device))\n",
    "            loss = self.criterion(output, data_y.to(device))\n",
    "            losses.append(loss.item())\n",
    "            loss.backward()\n",
    "            self.optimizer.step()\n",
    "\n",
    "            _, predicted = torch.max(output.data, 1)\n",
    "            data_y = data_y.to(predicted.device)\n",
    "            true_labels = data_y\n",
    "            #true_labels = torch.argmax(data_y, dim=1).to(predicted.device)\n",
    "            total += data_y.size(0)\n",
    "            correct += (predicted == true_labels).sum().item()\n",
    "            train_accuracy.append(correct / total)\n",
    "            ypred.append(data_y)\n",
    "            ylabels.append(true_labels)\n",
    "        self.train_accuracy = train_accuracy[-1]\n",
    "        self.train_loss = sum(losses)/len(losses)\n",
    "        return self.train_accuracy, self.train_loss\n",
    "    \n",
    "    def testing(self):\n",
    "        correct = 0\n",
    "        total = 0\n",
    "        # test_running_loss = 0.0\n",
    "        predictions = []\n",
    "        labels = []\n",
    "        test_accuracy = []\n",
    "        test_running_losses = []\n",
    "        for idx, (data_x, data_y) in enumerate(self.test_dataloader):\n",
    "            output = self.network(data_x.to(device))\n",
    "            \n",
    "            _, predicted = torch.max(output.data, 1)\n",
    "            data_y = data_y.to(predicted.device)\n",
    "            true_labels = data_y\n",
    "            #true_labels = torch.argmax(data_y, dim=1).to(predicted.device)\n",
    "            total += data_y.size(0)\n",
    "            correct += (predicted == true_labels).sum().item()\n",
    "            \n",
    "            loss = self.criterion(output, data_y)\n",
    "            predictions.append(predicted.cpu())\n",
    "            #labels.append(data_y.cpu())\n",
    "            labels.append(true_labels.cpu())\n",
    "            test_running_losses.append(loss.item())\n",
    "            #print('Epoch %d test loss: %.3f' % (idx + 1, test_running_losses[-1]))\n",
    "            #print(test_running_losses)\n",
    "            #test_running_loss += loss.item()\n",
    "            #test_loss.append(test_running_loss / len(self.test_dataloader))\n",
    "            test_accuracy.append(correct / total)\n",
    "        \n",
    "        #print(predictions)\n",
    "        predictions = np.concatenate(predictions)\n",
    "        labels = np.concatenate(labels)\n",
    "        self.f1_score= f1_score(labels, predictions, average=\"weighted\")\n",
    "        self.test_accuracy = test_accuracy[-1]\n",
    "        #print(self.test_accuracy)\n",
    "        self.test_loss =  sum(test_running_losses)/len(test_running_losses)\n",
    "        #print(\"test loss \",self.test_loss)\n",
    "       \n",
    "    \n",
    "    def share_x_ij(self):\n",
    "        x = self.network.state_dict()\n",
    "        r = torch.randint(0, 5, [num_nodes])\n",
    "        s_r = torch.sum(r)\n",
    "        j=self.node_id\n",
    "        for i in range(num_nodes):\n",
    "            x_i_j[(i,j)]={}\n",
    "            for key in x.keys():\n",
    "                x_i_j[(i,j)][key]=x[key]*r[i]/s_r\n",
    "                \n",
    "        \n",
    "    \n",
    "    def share_s_i(self):\n",
    "        i = self.node_id\n",
    "        s_i[i] = {}\n",
    "        for key in x_i_j[(0,0)].keys():\n",
    "            s_i[i][key] = sum([x_i_j[(i,j)][key] for j in range(num_nodes)])\n",
    "\n",
    "    def share_x_ij_neighbours(self, neighbour_nodes):\n",
    "        j=self.node_id\n",
    "        num_neighbour_nodes = len(neighbour_nodes)\n",
    "        x = self.network.state_dict()\n",
    "        r = torch.randint(0, 5, [num_neighbour_nodes])\n",
    "        s_r = torch.sum(r)\n",
    "        \n",
    "        for i, n in enumerate(neighbour_nodes):\n",
    "            x_i_j[(n,j)]={}\n",
    "            for key in x.keys():\n",
    "                x_i_j[(n,j)][key]=x[key]*r[i]/s_r*self.dataset_size\n",
    "\n",
    "    def share_s_i_neighbours(self, neighbour_nodes):\n",
    "        i = self.node_id\n",
    "        s_i[i] = {}\n",
    "        \n",
    "        for key in x_i_j[list(x_i_j.keys())[0]].keys():\n",
    "            s_i[i][key] = sum([x_i_j[(i,j)][key] for j in neighbour_nodes])\n",
    "\n",
    "\n",
    "    def share_FedavgP2P(self, nodes):\n",
    "        dataset_size_all = [n.dataset_size for n in nodes]\n",
    "        i = self.node_id\n",
    "        C = 0.5\n",
    "        A = num_nodes - 1\n",
    "        m = C*A\n",
    "        #n_k = self.dataset_size\n",
    "\n",
    "        # Random clients\n",
    "        S_t = random.sample([ j for j in range(num_nodes) if j!=i], int(m)) \n",
    "        S_t.append(self.node_id)\n",
    "        #print(\"Clients \",S_t)\n",
    "        #S_t = random.sample(list(range(num_nodes)) , int(m))\n",
    "        #print(\"n_k \",n_k)\n",
    "        #print(\"m neighbors\", m)\n",
    "        #print(\"S_t\", S_t)\n",
    "        w_c = self.network.state_dict()\n",
    "        n_c = self.dataset_size\n",
    "        n_t = n_c\n",
    "        for s in S_t:\n",
    "            n_t += dataset_size_all[s]\n",
    "        \n",
    "        for j in S_t: \n",
    "            nodes[j].share_x_ij_neighbours(S_t)\n",
    "        for j in S_t: \n",
    "            nodes[j].share_s_i_neighbours(S_t)\n",
    "                \n",
    "        for key in nodes[0].network.state_dict():\n",
    "            w_c[key] = w_c[key]*n_c/n_t\n",
    "\n",
    "            for j in S_t: \n",
    "                n_k = dataset_size_all[j]\n",
    "                #states = nodes[j].network.state_dict()\n",
    "                averaged_state = {}\n",
    "            \n",
    "                for key in s_i[list(s_i.keys())[0]].keys():\n",
    "                    param_value = 0\n",
    "                    for i in s_i:\n",
    "                        param_value += s_i[i][key]\n",
    "                    \n",
    "                    averaged_state[key] = param_value/len(S_t)/n_t\n",
    "                #print(averaged_state)\n",
    "                #contributed_state = n_k/n_t*averaged_state[key]\n",
    "                #w_c[key] = w_c[key] + contributed_state\n",
    "                \n",
    "        self.network.load_state_dict(w_c)\n"
   ]
  },
  {
   "cell_type": "code",
   "execution_count": 37,
   "metadata": {},
   "outputs": [
    {
     "name": "stdout",
     "output_type": "stream",
     "text": [
      "Dataset size  343\n",
      "Mean size  torch.Size([1, 28, 28])\n",
      "Standard deviation size  torch.Size([1, 28, 28])\n",
      "Dataset size  372\n",
      "Mean size  torch.Size([1, 28, 28])\n",
      "Standard deviation size  torch.Size([1, 28, 28])\n",
      "Dataset size  364\n",
      "Mean size  torch.Size([1, 28, 28])\n",
      "Standard deviation size  torch.Size([1, 28, 28])\n",
      "Dataset size  358\n",
      "Mean size  torch.Size([1, 28, 28])\n",
      "Standard deviation size  torch.Size([1, 28, 28])\n",
      "Dataset size  284\n",
      "Mean size  torch.Size([1, 28, 28])\n",
      "Standard deviation size  torch.Size([1, 28, 28])\n"
     ]
    }
   ],
   "source": [
    "#for i, loader_data in enumerate(zip(*loader)):\n",
    "#    train_loaders, test_loaders = loader_data\n",
    "\n",
    "nodes = []\n",
    "for i in range(num_nodes):\n",
    "    nodes.append(FederatedNode(train_loaders[i], test_loaders[i], i)) \n",
    "\n",
    "#nodes = [FederatedNode(l, i) for i,l in enumerate())]"
   ]
  },
  {
   "cell_type": "code",
   "execution_count": 38,
   "metadata": {},
   "outputs": [
    {
     "name": "stderr",
     "output_type": "stream",
     "text": [
      "100%|██████████| 250/250 [00:07<00:00, 35.00it/s]"
     ]
    },
    {
     "name": "stdout",
     "output_type": "stream",
     "text": [
      "Time taken by FL with SMPC 7.144977569580078\n"
     ]
    },
    {
     "name": "stderr",
     "output_type": "stream",
     "text": [
      "\n"
     ]
    }
   ],
   "source": [
    "losses = {}\n",
    "train_accuracies = {}\n",
    "test_accuracies = {}\n",
    "test_losses = {}\n",
    "f1_scores = {}\n",
    "#with profile(activities=[ProfilerActivity.CPU, ProfilerActivity.CUDA], record_shapes=True) as prof:\n",
    "#    with record_function(\"model_training\"):\n",
    "\n",
    "start_time = time.time()\n",
    "dataset_size_all = {}\n",
    "epochs ={i:0 for i in range(num_nodes)}\n",
    "\n",
    "for i in tqdm(range(epoch_total*num_nodes)):\n",
    "    cands = [i for i in epochs if epochs[i]<epoch_total]\n",
    "    node = nodes[cands[torch.randint(len(cands), (1,)).item()]]\n",
    "    del cands\n",
    "    train_acc, loss = node.train_epoch()\n",
    "    node.share_FedavgP2P(nodes)\n",
    "\n",
    "\n",
    "        \n",
    "    \n",
    "    epochs[node.node_id] += 1\n",
    "    losses[(node.node_id, epochs[node.node_id])]=loss\n",
    "    train_accuracies[(node.node_id, epochs[node.node_id])]=train_acc\n",
    "\n",
    "    for i, node in enumerate(nodes):\n",
    "        #print()\n",
    "        #print(\"Node \", i)\n",
    "        \n",
    "        node.testing()\n",
    "        #test_losses.append(node.test_loss)\n",
    "        #print(\"Node Test Accuracy\", node.test_accuracy)\n",
    "        #print(\"Node Test loss\", node.test_loss)\n",
    "        #print(\"Node F1_Score \", node.f1_score)\n",
    "        test_accuracies[(node.node_id, epochs[node.node_id])]=node.test_accuracy\n",
    "        test_losses[(node.node_id, epochs[node.node_id])]=node.test_loss\n",
    "        f1_scores[(node.node_id, epochs[node.node_id])]=node.f1_score\n",
    "        \n",
    "\n",
    "\n",
    "\n",
    "    \n",
    "    \n",
    "    \n",
    "    # states = [i.network.state_dict() for i in nodes]\n",
    "    # av_state = {}\n",
    "    # for key in states[0]:\n",
    "    #     av_state[key] = sum([s[key] for s in states])/num_nodes\n",
    "    # for node in nodes:\n",
    "    #     node.network.load_state_dict(av_state)\n",
    "\n",
    "time_FL_SMPC = time.time() - start_time\n",
    "\n",
    "print(\"Time taken by FL with SMPC\", time_FL_SMPC)\n",
    "    \n"
   ]
  },
  {
   "cell_type": "code",
   "execution_count": 39,
   "metadata": {},
   "outputs": [],
   "source": [
    "losses2 = [[losses[(j,i)] for j in range(num_nodes) ] for i in range(1,epoch_total+1)]\n",
    "train_accuracies2 = [[train_accuracies[(j,i)] for j in range(num_nodes) ] for i in range(1,epoch_total+1)]\n",
    "test_accuracies2 = [[test_accuracies[(j,i)] for j in range(num_nodes) ] for i in range(1,epoch_total+1)]\n",
    "test_losses2 = [[test_losses[(j,i)] for j in range(num_nodes) ] for i in range(1,epoch_total+1)]\n",
    "f1_scores2 = [[f1_scores[(j,i)] for j in range(num_nodes) ] for i in range(1,epoch_total+1)]"
   ]
  },
  {
   "cell_type": "code",
   "execution_count": null,
   "metadata": {},
   "outputs": [],
   "source": []
  },
  {
   "cell_type": "code",
   "execution_count": 40,
   "metadata": {},
   "outputs": [],
   "source": [
    "import pickle\n",
    "\n",
    "try:\n",
    "    my_pickle_results = pickle.load( open( pickle_name+'.pickle', \"rb\" ) )\n",
    "    result = {}\n",
    "    result2 = {}\n",
    "    myResults = my_pickle_results\n",
    "except (OSError, IOError) as e:\n",
    "    my_pickle_results = {}\n",
    "    result = {}\n",
    "    result2 = {}"
   ]
  },
  {
   "cell_type": "code",
   "execution_count": 41,
   "metadata": {},
   "outputs": [],
   "source": [
    "result[\"train_accuracies\"] = train_accuracies2\n",
    "result[\"train_losses\"] = losses2\n",
    "result[\"test_accuracies\"] = test_accuracies2\n",
    "result[\"test_losses\"] = test_losses2\n",
    "result[\"f1_scores\"] = f1_scores2\n",
    "result[\"ypred\"] = ypred\n",
    "result[\"ylabels\"] = ylabels\n",
    "result[\"time_taken\"] = time_FL_SMPC\n",
    "\n",
    "my_pickle_results[\"floppy\"] = result"
   ]
  },
  {
   "cell_type": "code",
   "execution_count": 42,
   "metadata": {},
   "outputs": [
    {
     "data": {
      "text/plain": [
       "[<matplotlib.lines.Line2D at 0x2177b64c550>,\n",
       " <matplotlib.lines.Line2D at 0x2177b64d480>,\n",
       " <matplotlib.lines.Line2D at 0x2177b64fb20>,\n",
       " <matplotlib.lines.Line2D at 0x2177b64e440>,\n",
       " <matplotlib.lines.Line2D at 0x2177b64e710>]"
      ]
     },
     "execution_count": 42,
     "metadata": {},
     "output_type": "execute_result"
    },
    {
     "data": {
      "image/png": "[encoded data removed]",
      "text/plain": [
       "<Figure size 640x480 with 1 Axes>"
      ]
     },
     "metadata": {},
     "output_type": "display_data"
    }
   ],
   "source": [
    "plt.plot(test_accuracies2)"
   ]
  },
  {
   "cell_type": "code",
   "execution_count": 43,
   "metadata": {},
   "outputs": [
    {
     "name": "stdout",
     "output_type": "stream",
     "text": [
      "[[4.170976638793945, 4.181085745493571, 4.163162549336751, 4.128255049387614, 4.165603955586751], [4.103264490763347, 4.10403045018514, 4.107277075449626, 4.082693576812744, 4.116962273915608], [4.119049072265625, 4.117509206136067, 4.117666244506836, 4.106461366017659, 4.122594833374023], [4.121953964233398, 4.120726903279622, 4.120280742645264, 4.113775412241618, 4.123633861541748], [4.122995376586914, 4.121559302012126, 4.121099789937337, 4.115329424540202, 4.123918533325195], [4.123372395833333, 4.121641953786214, 4.121083736419678, 4.116517702738444, 4.124019622802734], [4.123401800791423, 4.121954441070557, 4.1213962237040205, 4.116970221201579, 4.123976548512776], [4.123433748881022, 4.1217942237854, 4.121542930603027, 4.117185115814209, 4.123919328053792], [4.123641490936279, 4.12158187230428, 4.121223131815593, 4.11684004465739, 4.123848597208659], [4.123679955800374, 4.1214063962300616, 4.121214548746745, 4.117024898529053, 4.12373685836792], [4.123643239339192, 4.121401468912761, 4.120645205179851, 4.116987705230713, 4.123615423838298], [4.123556931813558, 4.121206601460774, 4.120536804199219, 4.116758505503337, 4.123528480529785], [4.123279253641765, 4.120673179626465, 4.120087464650472, 4.116053581237793, 4.1234237353007], [4.123242219289144, 4.120337804158528, 4.119765281677246, 4.116199175516765, 4.123309294382731], [4.122908115386963, 4.120252768198649, 4.119287172953288, 4.1153262456258135, 4.123144149780273], [4.122605323791504, 4.120019435882568, 4.11833127339681, 4.114717483520508, 4.122970104217529], [4.1223381360371905, 4.119775772094727, 4.117802619934082, 4.114732424418132, 4.122781276702881], [4.122251669565837, 4.119206587473552, 4.11724837621053, 4.114376544952393, 4.122622013092041], [4.121724287668864, 4.119053204854329, 4.116708755493164, 4.113450527191162, 4.122406800587972], [4.121626377105713, 4.118804136912028, 4.116610050201416, 4.113364855448405, 4.122294584910075], [4.121061007181804, 4.118037064870198, 4.115664800008138, 4.11311149597168, 4.122044563293457], [4.120531717936198, 4.117936929066976, 4.115158398946126, 4.111868063608806, 4.121852556864421], [4.120065053304036, 4.117300828297933, 4.115381399790446, 4.112226963043213, 4.121734142303467], [4.119974136352539, 4.116737365722656, 4.114528179168701, 4.111853917439778, 4.121571858723958], [4.119710445404053, 4.116252740224202, 4.113842487335205, 4.1114068031311035, 4.121403853098552], [4.118946552276611, 4.115699450174968, 4.114222526550293, 4.111084779103597, 4.121257781982422], [4.118369102478027, 4.115211486816406, 4.114132086435954, 4.110941410064697, 4.121102492014567], [4.118390878041585, 4.1152957280476885, 4.113697052001953, 4.109744866689046, 4.120836575826009], [4.11812702814738, 4.114960352579753, 4.11336628595988, 4.108600457509358, 4.120696385701497], [4.117395401000977, 4.114587306976318, 4.113305568695068, 4.107728799184163, 4.120474815368652], [4.117410977681478, 4.113792260487874, 4.1120937665303545, 4.108024597167969, 4.120323816935222], [4.116740067799886, 4.113049189249675, 4.111670970916748, 4.108122825622559, 4.120129108428955], [4.116266091664632, 4.113387107849121, 4.110852082570394, 4.106846332550049, 4.119930108388265], [4.1165313720703125, 4.113115946451823, 4.110362370808919, 4.106807708740234, 4.1197841962178545], [4.115835666656494, 4.112882296244304, 4.110652764638265, 4.106609344482422, 4.119702974955241], [4.116110642751058, 4.112675031026204, 4.110340595245361, 4.105448404947917, 4.11958646774292], [4.116130987803142, 4.112489382425944, 4.110348065694173, 4.1046013832092285, 4.119534492492676], [4.115979194641113, 4.111563523610433, 4.108971118927002, 4.104983965555827, 4.119419892628987], [4.115969022115071, 4.111904303232829, 4.109139442443848, 4.104852358500163, 4.119203567504883], [4.115233580271403, 4.111895402272542, 4.108954270680745, 4.103206157684326, 4.119201183319092], [4.114843527475993, 4.110977013905843, 4.108881155649821, 4.104112943013509, 4.119059244791667], [4.114518324534099, 4.110748926798503, 4.1085489590962725, 4.102410793304443, 4.118834018707275], [4.114944140116374, 4.1102549235026045, 4.107722918192546, 4.1015119552612305, 4.11878776550293], [4.114847977956136, 4.109897613525391, 4.107238292694092, 4.1013533274332685, 4.118731180826823], [4.114043394724528, 4.109581629435222, 4.107638518015544, 4.102015336354573, 4.118598937988281], [4.1136495272318525, 4.1092848777771, 4.10643990834554, 4.102072079976399, 4.1184000968933105], [4.114091078440349, 4.110137303670247, 4.1070793469746905, 4.1023664474487305, 4.118409951527913], [4.113396962483724, 4.110208193461101, 4.107380708058675, 4.102106253306071, 4.118304252624512], [4.113694667816162, 4.109307289123535, 4.106069087982178, 4.1004055341084795, 4.118157863616943], [4.113686402638753, 4.109873453776042, 4.10573132832845, 4.100162029266357, 4.118036429087321]]\n"
     ]
    }
   ],
   "source": [
    "print(losses2)"
   ]
  },
  {
   "cell_type": "code",
   "execution_count": 44,
   "metadata": {},
   "outputs": [
    {
     "data": {
      "text/plain": [
       "[<matplotlib.lines.Line2D at 0x217702f6530>,\n",
       " <matplotlib.lines.Line2D at 0x217702f6590>,\n",
       " <matplotlib.lines.Line2D at 0x217702f65c0>,\n",
       " <matplotlib.lines.Line2D at 0x217702f66b0>,\n",
       " <matplotlib.lines.Line2D at 0x217702f67a0>]"
      ]
     },
     "execution_count": 44,
     "metadata": {},
     "output_type": "execute_result"
    },
    {
     "data": {
      "image/png": "[encoded data removed]",
      "text/plain": [
       "<Figure size 640x480 with 1 Axes>"
      ]
     },
     "metadata": {},
     "output_type": "display_data"
    }
   ],
   "source": [
    "plt.plot(losses2)"
   ]
  },
  {
   "cell_type": "code",
   "execution_count": null,
   "metadata": {},
   "outputs": [],
   "source": []
  },
  {
   "cell_type": "code",
   "execution_count": null,
   "metadata": {},
   "outputs": [],
   "source": []
  },
  {
   "cell_type": "code",
   "execution_count": 45,
   "metadata": {},
   "outputs": [
    {
     "name": "stdout",
     "output_type": "stream",
     "text": [
      "Dataset size  343\n",
      "Mean size  torch.Size([1, 28, 28])\n",
      "Standard deviation size  torch.Size([1, 28, 28])\n",
      "Dataset size  372\n",
      "Mean size  torch.Size([1, 28, 28])\n",
      "Standard deviation size  torch.Size([1, 28, 28])\n",
      "Dataset size  364\n",
      "Mean size  torch.Size([1, 28, 28])\n",
      "Standard deviation size  torch.Size([1, 28, 28])\n",
      "Dataset size  358\n",
      "Mean size  torch.Size([1, 28, 28])\n",
      "Standard deviation size  torch.Size([1, 28, 28])\n",
      "Dataset size  284\n",
      "Mean size  torch.Size([1, 28, 28])\n",
      "Standard deviation size  torch.Size([1, 28, 28])\n"
     ]
    }
   ],
   "source": [
    "\n",
    "nodes = []\n",
    "for i in range(num_nodes):\n",
    "    nodes.append(FederatedNode(train_loaders[i], test_loaders[i], i)) \n"
   ]
  },
  {
   "cell_type": "code",
   "execution_count": 46,
   "metadata": {},
   "outputs": [],
   "source": [
    "with open(pickle_name+'.pickle', 'wb') as handle:\n",
    "    pickle.dump(my_pickle_results, handle, protocol=pickle.HIGHEST_PROTOCOL)"
   ]
  },
  {
   "cell_type": "code",
   "execution_count": 47,
   "metadata": {},
   "outputs": [],
   "source": [
    "from sklearn.metrics import confusion_matrix, ConfusionMatrixDisplay\n",
    "from sklearn.metrics import classification_report\n",
    "labels = []\n",
    "for _, label in train_loaders[0]:\n",
    "    labels.append(label)\n",
    "#print(labels)\n",
    "#print(classification_report(y_true, y_pred, target_names=target_names))"
   ]
  },
  {
   "cell_type": "code",
   "execution_count": 48,
   "metadata": {},
   "outputs": [
    {
     "name": "stdout",
     "output_type": "stream",
     "text": [
      "[[4.170976638793945, 4.181085745493571, 4.163162549336751, 4.128255049387614, 4.165603955586751], [4.103264490763347, 4.10403045018514, 4.107277075449626, 4.082693576812744, 4.116962273915608], [4.119049072265625, 4.117509206136067, 4.117666244506836, 4.106461366017659, 4.122594833374023], [4.121953964233398, 4.120726903279622, 4.120280742645264, 4.113775412241618, 4.123633861541748], [4.122995376586914, 4.121559302012126, 4.121099789937337, 4.115329424540202, 4.123918533325195], [4.123372395833333, 4.121641953786214, 4.121083736419678, 4.116517702738444, 4.124019622802734], [4.123401800791423, 4.121954441070557, 4.1213962237040205, 4.116970221201579, 4.123976548512776], [4.123433748881022, 4.1217942237854, 4.121542930603027, 4.117185115814209, 4.123919328053792], [4.123641490936279, 4.12158187230428, 4.121223131815593, 4.11684004465739, 4.123848597208659], [4.123679955800374, 4.1214063962300616, 4.121214548746745, 4.117024898529053, 4.12373685836792], [4.123643239339192, 4.121401468912761, 4.120645205179851, 4.116987705230713, 4.123615423838298], [4.123556931813558, 4.121206601460774, 4.120536804199219, 4.116758505503337, 4.123528480529785], [4.123279253641765, 4.120673179626465, 4.120087464650472, 4.116053581237793, 4.1234237353007], [4.123242219289144, 4.120337804158528, 4.119765281677246, 4.116199175516765, 4.123309294382731], [4.122908115386963, 4.120252768198649, 4.119287172953288, 4.1153262456258135, 4.123144149780273], [4.122605323791504, 4.120019435882568, 4.11833127339681, 4.114717483520508, 4.122970104217529], [4.1223381360371905, 4.119775772094727, 4.117802619934082, 4.114732424418132, 4.122781276702881], [4.122251669565837, 4.119206587473552, 4.11724837621053, 4.114376544952393, 4.122622013092041], [4.121724287668864, 4.119053204854329, 4.116708755493164, 4.113450527191162, 4.122406800587972], [4.121626377105713, 4.118804136912028, 4.116610050201416, 4.113364855448405, 4.122294584910075], [4.121061007181804, 4.118037064870198, 4.115664800008138, 4.11311149597168, 4.122044563293457], [4.120531717936198, 4.117936929066976, 4.115158398946126, 4.111868063608806, 4.121852556864421], [4.120065053304036, 4.117300828297933, 4.115381399790446, 4.112226963043213, 4.121734142303467], [4.119974136352539, 4.116737365722656, 4.114528179168701, 4.111853917439778, 4.121571858723958], [4.119710445404053, 4.116252740224202, 4.113842487335205, 4.1114068031311035, 4.121403853098552], [4.118946552276611, 4.115699450174968, 4.114222526550293, 4.111084779103597, 4.121257781982422], [4.118369102478027, 4.115211486816406, 4.114132086435954, 4.110941410064697, 4.121102492014567], [4.118390878041585, 4.1152957280476885, 4.113697052001953, 4.109744866689046, 4.120836575826009], [4.11812702814738, 4.114960352579753, 4.11336628595988, 4.108600457509358, 4.120696385701497], [4.117395401000977, 4.114587306976318, 4.113305568695068, 4.107728799184163, 4.120474815368652], [4.117410977681478, 4.113792260487874, 4.1120937665303545, 4.108024597167969, 4.120323816935222], [4.116740067799886, 4.113049189249675, 4.111670970916748, 4.108122825622559, 4.120129108428955], [4.116266091664632, 4.113387107849121, 4.110852082570394, 4.106846332550049, 4.119930108388265], [4.1165313720703125, 4.113115946451823, 4.110362370808919, 4.106807708740234, 4.1197841962178545], [4.115835666656494, 4.112882296244304, 4.110652764638265, 4.106609344482422, 4.119702974955241], [4.116110642751058, 4.112675031026204, 4.110340595245361, 4.105448404947917, 4.11958646774292], [4.116130987803142, 4.112489382425944, 4.110348065694173, 4.1046013832092285, 4.119534492492676], [4.115979194641113, 4.111563523610433, 4.108971118927002, 4.104983965555827, 4.119419892628987], [4.115969022115071, 4.111904303232829, 4.109139442443848, 4.104852358500163, 4.119203567504883], [4.115233580271403, 4.111895402272542, 4.108954270680745, 4.103206157684326, 4.119201183319092], [4.114843527475993, 4.110977013905843, 4.108881155649821, 4.104112943013509, 4.119059244791667], [4.114518324534099, 4.110748926798503, 4.1085489590962725, 4.102410793304443, 4.118834018707275], [4.114944140116374, 4.1102549235026045, 4.107722918192546, 4.1015119552612305, 4.11878776550293], [4.114847977956136, 4.109897613525391, 4.107238292694092, 4.1013533274332685, 4.118731180826823], [4.114043394724528, 4.109581629435222, 4.107638518015544, 4.102015336354573, 4.118598937988281], [4.1136495272318525, 4.1092848777771, 4.10643990834554, 4.102072079976399, 4.1184000968933105], [4.114091078440349, 4.110137303670247, 4.1070793469746905, 4.1023664474487305, 4.118409951527913], [4.113396962483724, 4.110208193461101, 4.107380708058675, 4.102106253306071, 4.118304252624512], [4.113694667816162, 4.109307289123535, 4.106069087982178, 4.1004055341084795, 4.118157863616943], [4.113686402638753, 4.109873453776042, 4.10573132832845, 4.100162029266357, 4.118036429087321]]\n"
     ]
    }
   ],
   "source": [
    "#Testing pickle\n",
    "\n",
    "import pickle\n",
    "\n",
    "try:\n",
    "    my_pickle_results3 = pickle.load( open( pickle_name+'.pickle', \"rb\" ) )\n",
    "    result3 = {}\n",
    "    result4 = {}\n",
    "    myResults = my_pickle_results3\n",
    "except (OSError, IOError) as e:\n",
    "    my_pickle_results = {}\n",
    "    resul3 = {}\n",
    "    result4 = {}\n",
    "\n",
    "print(my_pickle_results3[\"floppy\"][\"train_losses\"])"
   ]
  },
  {
   "cell_type": "code",
   "execution_count": 49,
   "metadata": {},
   "outputs": [
    {
     "name": "stdout",
     "output_type": "stream",
     "text": [
      "Current date and time : \n",
      "2023-05-12 10:34:05\n"
     ]
    }
   ],
   "source": [
    "import datetime\n",
    "now = datetime.datetime.now()\n",
    "print (\"Current date and time : \")\n",
    "print (now.strftime(\"%Y-%m-%d %H:%M:%S\"))"
   ]
  },
  {
   "cell_type": "code",
   "execution_count": null,
   "metadata": {},
   "outputs": [],
   "source": []
  }
 ],
 "metadata": {
  "kernelspec": {
   "display_name": ".venv",
   "language": "python",
   "name": "python3"
  },
  "language_info": {
   "codemirror_mode": {
    "name": "ipython",
    "version": 3
   },
   "file_extension": ".py",
   "mimetype": "text/x-python",
   "name": "python",
   "nbconvert_exporter": "python",
   "pygments_lexer": "ipython3",
   "version": "3.10.9"
  },
  "orig_nbformat": 4
 },
 "nbformat": 4,
 "nbformat_minor": 2
}
