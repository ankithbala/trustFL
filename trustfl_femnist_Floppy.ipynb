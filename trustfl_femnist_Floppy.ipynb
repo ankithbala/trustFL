{
 "cells": [
  {
   "attachments": {},
   "cell_type": "markdown",
   "metadata": {},
   "source": [
    "Not working"
   ]
  },
  {
   "cell_type": "code",
   "execution_count": 23,
   "metadata": {},
   "outputs": [],
   "source": [
    "import torch, torch.utils.data\n",
    "from torch import nn\n",
    "import torchvision, torchvision.datasets\n",
    "from torchvision import transforms\n",
    "from tqdm import tqdm\n",
    "import matplotlib.pyplot as plt\n",
    "from typing import List\n",
    "\n",
    "import sys\n",
    "\n",
    "\n",
    "sys.path.append('./datasets/')\n",
    "\n",
    "from datasets.dataloader import get_LEAF_dataloader\n",
    "\n",
    "from torch.profiler import profile, record_function, ProfilerActivity\n",
    "import time\n",
    "from sklearn.metrics import f1_score   \n",
    "import numpy as np\n",
    "    \n",
    "import random"
   ]
  },
  {
   "cell_type": "code",
   "execution_count": 24,
   "metadata": {},
   "outputs": [
    {
     "name": "stdout",
     "output_type": "stream",
     "text": [
      "2.0.0\n"
     ]
    }
   ],
   "source": [
    "print(torch.__version__)\n",
    "\n",
    "\n"
   ]
  },
  {
   "cell_type": "code",
   "execution_count": 25,
   "metadata": {},
   "outputs": [],
   "source": [
    "def get_femnist_shakespeare_dataset(**args):\n",
    "    if args['dataset'] == 'femnist' or args['dataset'] == 'shakespeare':\n",
    "        trainloader, testloader = get_LEAF_dataloader(dataset=args['dataset'],\n",
    "                                                      client_id=args['rank'])\n",
    "    else:\n",
    "        raise ValueError(\"Invalid dataset:\", args['dataset'])\n",
    "    return trainloader, testloader"
   ]
  },
  {
   "cell_type": "code",
   "execution_count": 26,
   "metadata": {},
   "outputs": [
    {
     "name": "stdout",
     "output_type": "stream",
     "text": [
      "<torch.utils.data.dataloader.DataLoader object at 0x7fa4502bb3d0>\n",
      "<torch.utils.data.dataloader.DataLoader object at 0x7fa4501b4eb0>\n",
      "<torch.utils.data.dataloader.DataLoader object at 0x7fa4501b6bf0>\n",
      "<torch.utils.data.dataloader.DataLoader object at 0x7fa4501b4c70>\n",
      "<torch.utils.data.dataloader.DataLoader object at 0x7fa4501b64d0>\n"
     ]
    }
   ],
   "source": [
    "\n",
    "train_loaders = []\n",
    "test_loaders = []\n",
    "num_nodes = 5\n",
    "num_class = 62\n",
    "epoch_total = 50\n",
    "pickle_name = \"femnist-floppy-epoch-\"+str(epoch_total)\n",
    "\n",
    "for i in range(num_nodes):\n",
    "    args = {'dataset': 'femnist', 'rank': i}\n",
    "    trainloader, testloader = get_femnist_shakespeare_dataset(**args)\n",
    "    train_loaders.append(trainloader)\n",
    "    test_loaders.append(testloader)\n"
   ]
  },
  {
   "cell_type": "code",
   "execution_count": 27,
   "metadata": {},
   "outputs": [
    {
     "data": {
      "text/plain": [
       "'NVIDIA GeForce RTX 3060 Laptop GPU'"
      ]
     },
     "execution_count": 27,
     "metadata": {},
     "output_type": "execute_result"
    }
   ],
   "source": [
    "device = torch.device('cuda')\n",
    "torch.cuda.get_device_name(device)"
   ]
  },
  {
   "cell_type": "code",
   "execution_count": 28,
   "metadata": {},
   "outputs": [],
   "source": [
    "\n",
    "transform = transforms.Compose([\n",
    "    transforms.ToTensor(),\n",
    "])\n",
    "target_transform = lambda x: torch.nn.functional.one_hot(torch.tensor(x),num_class).float()"
   ]
  },
  {
   "cell_type": "code",
   "execution_count": 29,
   "metadata": {},
   "outputs": [
    {
     "name": "stdout",
     "output_type": "stream",
     "text": [
      "5\n",
      "5\n",
      "[<torch.utils.data.dataloader.DataLoader object at 0x7fa4502bb670>, <torch.utils.data.dataloader.DataLoader object at 0x7fa4501b4550>, <torch.utils.data.dataloader.DataLoader object at 0x7fa4501b7610>, <torch.utils.data.dataloader.DataLoader object at 0x7fa4501b74f0>, <torch.utils.data.dataloader.DataLoader object at 0x7fa4501a4610>]\n",
      "35\n"
     ]
    }
   ],
   "source": [
    "print(len(train_loaders))\n",
    "print(len(test_loaders))\n",
    "print(test_loaders)\n",
    "print(len(test_loaders[0].dataset))"
   ]
  },
  {
   "cell_type": "code",
   "execution_count": 30,
   "metadata": {},
   "outputs": [],
   "source": [
    "\n",
    "x_i_j = {}\n",
    "s_i = {}\n",
    "\n",
    "ypred = []\n",
    "ylabels = []"
   ]
  },
  {
   "cell_type": "code",
   "execution_count": 31,
   "metadata": {},
   "outputs": [],
   "source": [
    "class FederatedNode:\n",
    "    def __init__(self, train_dataloader, test_dataloader, node_id) -> None:\n",
    "        self.dataset_size = len(train_dataloader.dataset)\n",
    "        channels_sum, channels_squared_sum, num_batches = 0, 0, 0\n",
    "        for data, _ in train_dataloader:\n",
    "            # Mean over batch, height and width, but not over the channels\n",
    "            channels_sum += torch.mean(data, dim=[0])\n",
    "            channels_squared_sum += torch.mean(data**2, dim=[0])\n",
    "            num_batches += 1\n",
    "    \n",
    "        self.mean = channels_sum / num_batches\n",
    "        self.test_loss = 0.0\n",
    "        self.test_accuracy = 0.0\n",
    "        self.train_accuracy = 0.0\n",
    "        self.train_loss = 0.0\n",
    "        self.f1_score = 0.0\n",
    "\n",
    "\n",
    "        # std = sqrt(E[X^2] - (E[X])^2)\n",
    "        self.std = (channels_squared_sum / num_batches - self.mean ** 2) ** 0.5\n",
    "        print(\"Dataset size \", self.dataset_size)\n",
    "        print(\"Mean size \", self.mean.shape)\n",
    "        print(\"Standard deviation size \", self.std.shape)\n",
    "        \n",
    "        \n",
    "        self.network = nn.Sequential(\n",
    "            nn.Flatten(),\n",
    "            nn.Linear(784,56),\n",
    "            nn.ReLU(),\n",
    "            nn.Linear(56, 62)\n",
    "        ).to(device)\n",
    "\n",
    "        '''\n",
    "        only_digits=False\n",
    "        self.network = nn.Sequential(\n",
    "        nn.Conv2d(1, 32, kernel_size=3),\n",
    "        nn.MaxPool2d(2, stride=2),\n",
    "        nn.Conv2d(32, 64, kernel_size=3),\n",
    "        nn.Dropout(0.25),\n",
    "        nn.Flatten(),\n",
    "        nn.Linear(9216, 128),\n",
    "        nn.Dropout(0.5),\n",
    "        nn.Linear(128, 10 if only_digits else 62),\n",
    "        nn.ReLU()\n",
    "        ).to(device)\n",
    "        '''\n",
    "        self.optimizer = torch.optim.Adam(self.network.parameters())\n",
    "        self.criterion = nn.CrossEntropyLoss()\n",
    "        self.train_dataloader = train_dataloader\n",
    "        self.test_dataloader = test_dataloader\n",
    "        self.node_id = node_id\n",
    "    \n",
    "    def train_epoch(self):\n",
    "        losses = []\n",
    "        correct = 0\n",
    "        total = 0\n",
    "        train_accuracy = []\n",
    "        for idx, (data_x, data_y) in enumerate(self.train_dataloader):\n",
    "            #print(\"data_x\", data_x.shape)\n",
    "            #print(\"data_y\", data_y.shape)\n",
    "            #plt.imshow(data_x[1][0])\n",
    "            output = self.network(data_x.to(device))\n",
    "            self.optimizer.zero_grad()\n",
    "            #print(output.shape)\n",
    "            #print(data_y)\n",
    "            #data_y = target_transform(data_y)\n",
    "            \n",
    "            #loss = nn.functional.mse_loss(output, data_y.to(device))\n",
    "            loss = self.criterion(output, data_y.to(device))\n",
    "            losses.append(loss.item())\n",
    "            loss.backward()\n",
    "            self.optimizer.step()\n",
    "\n",
    "            _, predicted = torch.max(output.data, 1)\n",
    "            data_y = data_y.to(predicted.device)\n",
    "            true_labels = data_y\n",
    "            #true_labels = torch.argmax(data_y, dim=1).to(predicted.device)\n",
    "            total += data_y.size(0)\n",
    "            correct += (predicted == true_labels).sum().item()\n",
    "            train_accuracy.append(correct / total)\n",
    "            ypred.append(data_y)\n",
    "            ylabels.append(true_labels)\n",
    "        self.train_accuracy = train_accuracy[-1]\n",
    "        self.train_loss = sum(losses)/len(losses)\n",
    "        return self.train_accuracy, self.train_loss\n",
    "    \n",
    "    def testing(self):\n",
    "        correct = 0\n",
    "        total = 0\n",
    "        # test_running_loss = 0.0\n",
    "        predictions = []\n",
    "        labels = []\n",
    "        test_accuracy = []\n",
    "        test_running_losses = []\n",
    "        for idx, (data_x, data_y) in enumerate(self.test_dataloader):\n",
    "            output = self.network(data_x.to(device))\n",
    "            \n",
    "            _, predicted = torch.max(output.data, 1)\n",
    "            data_y = data_y.to(predicted.device)\n",
    "            true_labels = data_y\n",
    "            #true_labels = torch.argmax(data_y, dim=1).to(predicted.device)\n",
    "            total += data_y.size(0)\n",
    "            correct += (predicted == true_labels).sum().item()\n",
    "            \n",
    "            loss = self.criterion(output, data_y)\n",
    "            predictions.append(predicted.cpu())\n",
    "            #labels.append(data_y.cpu())\n",
    "            labels.append(true_labels.cpu())\n",
    "            test_running_losses.append(loss.item())\n",
    "            #print('Epoch %d test loss: %.3f' % (idx + 1, test_running_losses[-1]))\n",
    "            #print(test_running_losses)\n",
    "            #test_running_loss += loss.item()\n",
    "            #test_loss.append(test_running_loss / len(self.test_dataloader))\n",
    "            test_accuracy.append(correct / total)\n",
    "        \n",
    "        #print(predictions)\n",
    "        predictions = np.concatenate(predictions)\n",
    "        labels = np.concatenate(labels)\n",
    "        self.f1_score= f1_score(labels, predictions, average=\"weighted\")\n",
    "        self.test_accuracy = test_accuracy[-1]\n",
    "        #print(self.test_accuracy)\n",
    "        self.test_loss =  sum(test_running_losses)/len(test_running_losses)\n",
    "        #print(\"test loss \",self.test_loss)\n",
    "       \n",
    "    \n",
    "    def share_x_ij(self):\n",
    "        x = self.network.state_dict()\n",
    "        r = torch.randint(1, 5, [num_nodes])\n",
    "        s_r = torch.sum(r)\n",
    "        j=self.node_id\n",
    "        for i in range(num_nodes):\n",
    "            x_i_j[(i,j)]={}\n",
    "            for key in x.keys():\n",
    "                x_i_j[(i,j)][key]=x[key]*r[i]/s_r\n",
    "                \n",
    "        \n",
    "    \n",
    "    def share_s_i(self):\n",
    "        i = self.node_id\n",
    "        s_i[i] = {}\n",
    "        for key in x_i_j[(0,0)].keys():\n",
    "            s_i[i][key] = sum([x_i_j[(i,j)][key] for j in range(num_nodes)])\n",
    "\n",
    "    def share_x_ij_neighbours(self, neighbour_nodes):\n",
    "        j=self.node_id\n",
    "        num_neighbour_nodes = len(neighbour_nodes)\n",
    "        x = self.network.state_dict()\n",
    "        r = torch.randint(1, 5, [num_neighbour_nodes])\n",
    "        s_r = torch.sum(r)\n",
    "        \n",
    "        for i, n in enumerate(neighbour_nodes):\n",
    "            x_i_j[(n,j)]={}\n",
    "            for key in x.keys():\n",
    "                x_i_j[(n,j)][key]=x[key]*r[i]/s_r*self.dataset_size\n",
    "\n",
    "    def share_s_i_neighbours(self, neighbour_nodes):\n",
    "        i = self.node_id\n",
    "        s_i[i] = {}\n",
    "        \n",
    "        for key in x_i_j[list(x_i_j.keys())[0]].keys():\n",
    "            s_i[i][key] = sum([x_i_j[(i,j)][key] for j in neighbour_nodes])\n",
    "\n",
    "\n",
    "    def share_FedavgP2P(self, nodes):\n",
    "        dataset_size_all = [n.dataset_size for n in nodes]\n",
    "        i = self.node_id\n",
    "        C = 0.5\n",
    "        A = num_nodes - 1\n",
    "        m = C*A\n",
    "        #n_k = self.dataset_size\n",
    "\n",
    "        # Random clients\n",
    "        S_t = random.sample([ j for j in range(num_nodes) if j!=i], int(m)) \n",
    "        S_t.append(self.node_id)\n",
    "        #print(\"Clients \",S_t)\n",
    "        #S_t = random.sample(list(range(num_nodes)) , int(m))\n",
    "        #print(\"n_k \",n_k)\n",
    "        #print(\"m neighbors\", m)\n",
    "        #print(\"S_t\", S_t)\n",
    "        w_c = self.network.state_dict()\n",
    "        n_c = self.dataset_size\n",
    "        n_t = n_c\n",
    "        for s in S_t:\n",
    "            n_t += dataset_size_all[s]\n",
    "        \n",
    "        for j in S_t: \n",
    "            nodes[j].share_x_ij_neighbours(S_t)\n",
    "        for j in S_t: \n",
    "            nodes[j].share_s_i_neighbours(S_t)\n",
    "                \n",
    "        for key in nodes[0].network.state_dict():\n",
    "            w_c[key] = w_c[key]*n_c/n_t\n",
    "\n",
    "            for j in S_t: \n",
    "                n_k = dataset_size_all[j]\n",
    "                #states = nodes[j].network.state_dict()\n",
    "                averaged_state = {}\n",
    "            \n",
    "                for key in s_i[list(s_i.keys())[0]].keys():\n",
    "                    param_value = 0\n",
    "                    for i in s_i:\n",
    "                        param_value += s_i[i][key]\n",
    "                    \n",
    "                    averaged_state[key] = param_value/len(S_t)/n_t\n",
    "                #print(averaged_state)\n",
    "                #contributed_state = n_k/n_t*averaged_state[key]\n",
    "                #w_c[key] = w_c[key] + contributed_state\n",
    "                \n",
    "        self.network.load_state_dict(w_c)\n"
   ]
  },
  {
   "cell_type": "code",
   "execution_count": 32,
   "metadata": {},
   "outputs": [
    {
     "name": "stdout",
     "output_type": "stream",
     "text": [
      "Dataset size  309\n",
      "Mean size  torch.Size([1, 28, 28])\n",
      "Standard deviation size  torch.Size([1, 28, 28])\n",
      "Dataset size  136\n",
      "Mean size  torch.Size([1, 28, 28])\n",
      "Standard deviation size  torch.Size([1, 28, 28])\n",
      "Dataset size  213\n",
      "Mean size  torch.Size([1, 28, 28])\n",
      "Standard deviation size  torch.Size([1, 28, 28])\n",
      "Dataset size  249\n",
      "Mean size  torch.Size([1, 28, 28])\n",
      "Standard deviation size  torch.Size([1, 28, 28])\n",
      "Dataset size  215\n",
      "Mean size  torch.Size([1, 28, 28])\n",
      "Standard deviation size  torch.Size([1, 28, 28])\n"
     ]
    }
   ],
   "source": [
    "#for i, loader_data in enumerate(zip(*loader)):\n",
    "#    train_loaders, test_loaders = loader_data\n",
    "\n",
    "nodes = []\n",
    "for i in range(num_nodes):\n",
    "    nodes.append(FederatedNode(train_loaders[i], test_loaders[i], i)) \n",
    "\n",
    "#nodes = [FederatedNode(l, i) for i,l in enumerate())]"
   ]
  },
  {
   "cell_type": "code",
   "execution_count": 33,
   "metadata": {},
   "outputs": [
    {
     "name": "stderr",
     "output_type": "stream",
     "text": [
      "100%|██████████| 250/250 [00:04<00:00, 50.94it/s]"
     ]
    },
    {
     "name": "stdout",
     "output_type": "stream",
     "text": [
      "Time taken by FL with SMPC 4.910081148147583\n"
     ]
    },
    {
     "name": "stderr",
     "output_type": "stream",
     "text": [
      "\n"
     ]
    }
   ],
   "source": [
    "losses = {}\n",
    "train_accuracies = {}\n",
    "test_accuracies = {}\n",
    "test_losses = {}\n",
    "f1_scores = {}\n",
    "#with profile(activities=[ProfilerActivity.CPU, ProfilerActivity.CUDA], record_shapes=True) as prof:\n",
    "#    with record_function(\"model_training\"):\n",
    "\n",
    "start_time = time.time()\n",
    "dataset_size_all = {}\n",
    "epochs ={i:0 for i in range(num_nodes)}\n",
    "\n",
    "for i in tqdm(range(epoch_total*num_nodes)):\n",
    "    cands = [i for i in epochs if epochs[i]<epoch_total]\n",
    "    node = nodes[cands[torch.randint(len(cands), (1,)).item()]]\n",
    "    del cands\n",
    "    train_acc, loss = node.train_epoch()\n",
    "    node.share_FedavgP2P(nodes)\n",
    "\n",
    "\n",
    "        \n",
    "    \n",
    "    epochs[node.node_id] += 1\n",
    "    losses[(node.node_id, epochs[node.node_id])]=loss\n",
    "    train_accuracies[(node.node_id, epochs[node.node_id])]=train_acc\n",
    "\n",
    "    for i, node in enumerate(nodes):\n",
    "        #print()\n",
    "        #print(\"Node \", i)\n",
    "        \n",
    "        node.testing()\n",
    "        #test_losses.append(node.test_loss)\n",
    "        #print(\"Node Test Accuracy\", node.test_accuracy)\n",
    "        #print(\"Node Test loss\", node.test_loss)\n",
    "        #print(\"Node F1_Score \", node.f1_score)\n",
    "        test_accuracies[(node.node_id, epochs[node.node_id])]=node.test_accuracy\n",
    "        test_losses[(node.node_id, epochs[node.node_id])]=node.test_loss\n",
    "        f1_scores[(node.node_id, epochs[node.node_id])]=node.f1_score\n",
    "        \n",
    "\n",
    "\n",
    "\n",
    "    \n",
    "    \n",
    "    \n",
    "    # states = [i.network.state_dict() for i in nodes]\n",
    "    # av_state = {}\n",
    "    # for key in states[0]:\n",
    "    #     av_state[key] = sum([s[key] for s in states])/num_nodes\n",
    "    # for node in nodes:\n",
    "    #     node.network.load_state_dict(av_state)\n",
    "\n",
    "time_FL_SMPC = time.time() - start_time\n",
    "\n",
    "print(\"Time taken by FL with SMPC\", time_FL_SMPC)\n",
    "    \n"
   ]
  },
  {
   "cell_type": "code",
   "execution_count": 34,
   "metadata": {},
   "outputs": [],
   "source": [
    "losses2 = [[losses[(j,i)] for j in range(num_nodes) ] for i in range(1,epoch_total+1)]\n",
    "train_accuracies2 = [[train_accuracies[(j,i)] for j in range(num_nodes) ] for i in range(1,epoch_total+1)]\n",
    "test_accuracies2 = [[test_accuracies[(j,i)] for j in range(num_nodes) ] for i in range(1,epoch_total+1)]\n",
    "test_losses2 = [[test_losses[(j,i)] for j in range(num_nodes) ] for i in range(1,epoch_total+1)]\n",
    "f1_scores2 = [[f1_scores[(j,i)] for j in range(num_nodes) ] for i in range(1,epoch_total+1)]"
   ]
  },
  {
   "cell_type": "code",
   "execution_count": null,
   "metadata": {},
   "outputs": [],
   "source": []
  },
  {
   "cell_type": "code",
   "execution_count": 35,
   "metadata": {},
   "outputs": [],
   "source": [
    "import pickle\n",
    "\n",
    "try:\n",
    "    my_pickle_results = pickle.load( open( pickle_name+'.pickle', \"rb\" ) )\n",
    "    result = {}\n",
    "    result2 = {}\n",
    "    myResults = my_pickle_results\n",
    "except (OSError, IOError) as e:\n",
    "    my_pickle_results = {}\n",
    "    result = {}\n",
    "    result2 = {}"
   ]
  },
  {
   "cell_type": "code",
   "execution_count": 36,
   "metadata": {},
   "outputs": [],
   "source": [
    "result[\"train_accuracies\"] = train_accuracies2\n",
    "result[\"train_losses\"] = losses2\n",
    "result[\"test_accuracies\"] = test_accuracies2\n",
    "result[\"test_losses\"] = test_losses2\n",
    "result[\"f1_scores\"] = f1_scores2\n",
    "result[\"ypred\"] = ypred\n",
    "result[\"ylabels\"] = ylabels\n",
    "result[\"time_taken\"] = time_FL_SMPC\n",
    "\n",
    "my_pickle_results[\"floppy\"] = result"
   ]
  },
  {
   "cell_type": "code",
   "execution_count": 37,
   "metadata": {},
   "outputs": [
    {
     "data": {
      "text/plain": [
       "[<matplotlib.lines.Line2D at 0x7fa43c72af20>,\n",
       " <matplotlib.lines.Line2D at 0x7fa43c72b610>,\n",
       " <matplotlib.lines.Line2D at 0x7fa43c72b850>,\n",
       " <matplotlib.lines.Line2D at 0x7fa43c729720>,\n",
       " <matplotlib.lines.Line2D at 0x7fa43c728910>]"
      ]
     },
     "execution_count": 37,
     "metadata": {},
     "output_type": "execute_result"
    },
    {
     "data": {
      "image/png": "[encoded data removed]",
      "text/plain": [
       "<Figure size 640x480 with 1 Axes>"
      ]
     },
     "metadata": {},
     "output_type": "display_data"
    }
   ],
   "source": [
    "plt.plot(test_accuracies2)"
   ]
  },
  {
   "cell_type": "code",
   "execution_count": 38,
   "metadata": {},
   "outputs": [
    {
     "name": "stdout",
     "output_type": "stream",
     "text": [
      "[[4.162893454233806, 4.294862985610962, 4.223411560058594, 4.205961227416992, 4.1829774379730225], [4.087994734446208, 4.114380598068237, 4.103775978088379, 4.105775833129883, 4.114558458328247], [4.107279141743978, 4.122021198272705, 4.12024998664856, 4.119622230529785, 4.1208953857421875], [4.112303256988525, 4.123489618301392, 4.123066663742065, 4.123241662979126, 4.121737241744995], [4.113312721252441, 4.123780965805054, 4.124155282974243, 4.124295234680176, 4.122695446014404], [4.113241195678711, 4.124191761016846, 4.124598741531372, 4.12492299079895, 4.123488187789917], [4.1136542956034345, 4.12435507774353, 4.125105142593384, 4.124842166900635, 4.123293399810791], [4.114675680796306, 4.12433648109436, 4.1251490116119385, 4.12531042098999, 4.123222827911377], [4.1141204833984375, 4.124506711959839, 4.12514853477478, 4.125209808349609, 4.123291015625], [4.1147769292195635, 4.1245880126953125, 4.125159025192261, 4.125561475753784, 4.124027967453003], [4.1135891278584795, 4.124639987945557, 4.1255412101745605, 4.125452280044556, 4.12404203414917], [4.112974643707275, 4.1247429847717285, 4.125683069229126, 4.125734567642212, 4.124069929122925], [4.1129991213480634, 4.124629974365234, 4.125805616378784, 4.1257569789886475, 4.124315023422241], [4.112244606018066, 4.124737024307251, 4.125842332839966, 4.12578272819519, 4.123973369598389], [4.112799326578776, 4.124668598175049, 4.125888824462891, 4.125715255737305, 4.124007940292358], [4.11219056447347, 4.124667644500732, 4.125865936279297, 4.125721454620361, 4.124452829360962], [4.111203034718831, 4.124783277511597, 4.125860929489136, 4.125945091247559, 4.124390363693237], [4.112133344014485, 4.124870777130127, 4.125748157501221, 4.126020431518555, 4.124595403671265], [4.1122361818949384, 4.124850034713745, 4.12576961517334, 4.126058578491211, 4.124486207962036], [4.112133661905925, 4.124756574630737, 4.125773668289185, 4.125913619995117, 4.124284029006958], [4.11196231842041, 4.124744653701782, 4.1258721351623535, 4.12596583366394, 4.1242194175720215], [4.110650380452474, 4.1248979568481445, 4.125990629196167, 4.126002550125122, 4.124072074890137], [4.109268506368001, 4.124780178070068, 4.1259925365448, 4.12608790397644, 4.12410831451416], [4.108261585235596, 4.124688386917114, 4.125916242599487, 4.125951051712036, 4.124296426773071], [4.109326998392741, 4.124658107757568, 4.125766754150391, 4.125903129577637, 4.124292373657227], [4.108798344930013, 4.12481427192688, 4.125752925872803, 4.125971794128418, 4.124524116516113], [4.108922640482585, 4.124738454818726, 4.125830173492432, 4.1258955001831055, 4.124351263046265], [4.108155250549316, 4.124822378158569, 4.125810146331787, 4.125952959060669, 4.124023199081421], [4.107614199320476, 4.12489128112793, 4.1258766651153564, 4.1258673667907715, 4.123993158340454], [4.105547269185384, 4.124750137329102, 4.12581467628479, 4.125826120376587, 4.124109745025635], [4.106566111246745, 4.124816179275513, 4.125882625579834, 4.125788927078247, 4.123934745788574], [4.104252815246582, 4.124825477600098, 4.1258533000946045, 4.125752210617065, 4.124015808105469], [4.102841854095459, 4.124715805053711, 4.125762462615967, 4.125923156738281, 4.124270915985107], [4.101712544759114, 4.1248345375061035, 4.125542402267456, 4.125753164291382, 4.12406063079834], [4.100575606028239, 4.124847173690796, 4.1255857944488525, 4.12578272819519, 4.123669624328613], [4.1004815101623535, 4.124610900878906, 4.125456809997559, 4.125789165496826, 4.12401270866394], [4.099013328552246, 4.12471079826355, 4.125586986541748, 4.125858545303345, 4.123911619186401], [4.0978743235270185, 4.1247053146362305, 4.125500679016113, 4.125640869140625, 4.123607158660889], [4.099986553192139, 4.1247406005859375, 4.125225782394409, 4.125777006149292, 4.123705148696899], [4.100569883982341, 4.124560356140137, 4.1253015995025635, 4.125560522079468, 4.123843669891357], [4.098846594492595, 4.124658107757568, 4.1253650188446045, 4.125446081161499, 4.123290061950684], [4.100119590759277, 4.124590635299683, 4.125240802764893, 4.125636100769043, 4.123175859451294], [4.099689483642578, 4.124343156814575, 4.125262260437012, 4.1256585121154785, 4.123042821884155], [4.098422368367513, 4.124307632446289, 4.125278949737549, 4.125542640686035, 4.123198747634888], [4.096750577290853, 4.124433755874634, 4.124826669692993, 4.125591278076172, 4.123169898986816], [4.096901893615723, 4.124345779418945, 4.1250669956207275, 4.125303745269775, 4.1227967739105225], [4.09883181254069, 4.124279975891113, 4.124850273132324, 4.1253461837768555, 4.122910499572754], [4.099459966023763, 4.124217748641968, 4.124458074569702, 4.12544059753418, 4.123187065124512], [4.099842548370361, 4.124147653579712, 4.124329090118408, 4.125290155410767, 4.122909784317017], [4.100209712982178, 4.124072551727295, 4.124410152435303, 4.1253721714019775, 4.122781991958618]]\n"
     ]
    }
   ],
   "source": [
    "print(losses2)"
   ]
  },
  {
   "cell_type": "code",
   "execution_count": 39,
   "metadata": {},
   "outputs": [
    {
     "data": {
      "text/plain": [
       "[<matplotlib.lines.Line2D at 0x7fa43c79db40>,\n",
       " <matplotlib.lines.Line2D at 0x7fa43c79dc00>,\n",
       " <matplotlib.lines.Line2D at 0x7fa43c79dc90>,\n",
       " <matplotlib.lines.Line2D at 0x7fa43c79de40>,\n",
       " <matplotlib.lines.Line2D at 0x7fa43c79e050>]"
      ]
     },
     "execution_count": 39,
     "metadata": {},
     "output_type": "execute_result"
    },
    {
     "data": {
      "image/png": "[encoded data removed]",
      "text/plain": [
       "<Figure size 640x480 with 1 Axes>"
      ]
     },
     "metadata": {},
     "output_type": "display_data"
    }
   ],
   "source": [
    "plt.plot(losses2)"
   ]
  },
  {
   "cell_type": "code",
   "execution_count": null,
   "metadata": {},
   "outputs": [],
   "source": []
  },
  {
   "cell_type": "code",
   "execution_count": null,
   "metadata": {},
   "outputs": [],
   "source": []
  },
  {
   "cell_type": "code",
   "execution_count": 40,
   "metadata": {},
   "outputs": [
    {
     "name": "stdout",
     "output_type": "stream",
     "text": [
      "Dataset size  309\n",
      "Mean size  torch.Size([1, 28, 28])\n",
      "Standard deviation size  torch.Size([1, 28, 28])\n",
      "Dataset size  136\n",
      "Mean size  torch.Size([1, 28, 28])\n",
      "Standard deviation size  torch.Size([1, 28, 28])\n",
      "Dataset size  213\n",
      "Mean size  torch.Size([1, 28, 28])\n",
      "Standard deviation size  torch.Size([1, 28, 28])\n",
      "Dataset size  249\n",
      "Mean size  torch.Size([1, 28, 28])\n",
      "Standard deviation size  torch.Size([1, 28, 28])\n",
      "Dataset size  215\n",
      "Mean size  torch.Size([1, 28, 28])\n",
      "Standard deviation size  torch.Size([1, 28, 28])\n"
     ]
    }
   ],
   "source": [
    "\n",
    "nodes = []\n",
    "for i in range(num_nodes):\n",
    "    nodes.append(FederatedNode(train_loaders[i], test_loaders[i], i)) \n"
   ]
  },
  {
   "cell_type": "code",
   "execution_count": 41,
   "metadata": {},
   "outputs": [],
   "source": [
    "with open(pickle_name+'.pickle', 'wb') as handle:\n",
    "    pickle.dump(my_pickle_results, handle, protocol=pickle.HIGHEST_PROTOCOL)"
   ]
  },
  {
   "cell_type": "code",
   "execution_count": 42,
   "metadata": {},
   "outputs": [],
   "source": [
    "from sklearn.metrics import confusion_matrix, ConfusionMatrixDisplay\n",
    "from sklearn.metrics import classification_report\n",
    "labels = []\n",
    "for _, label in train_loaders[0]:\n",
    "    labels.append(label)\n",
    "#print(labels)\n",
    "#print(classification_report(y_true, y_pred, target_names=target_names))"
   ]
  },
  {
   "cell_type": "code",
   "execution_count": 43,
   "metadata": {},
   "outputs": [
    {
     "name": "stdout",
     "output_type": "stream",
     "text": [
      "[[4.162893454233806, 4.294862985610962, 4.223411560058594, 4.205961227416992, 4.1829774379730225], [4.087994734446208, 4.114380598068237, 4.103775978088379, 4.105775833129883, 4.114558458328247], [4.107279141743978, 4.122021198272705, 4.12024998664856, 4.119622230529785, 4.1208953857421875], [4.112303256988525, 4.123489618301392, 4.123066663742065, 4.123241662979126, 4.121737241744995], [4.113312721252441, 4.123780965805054, 4.124155282974243, 4.124295234680176, 4.122695446014404], [4.113241195678711, 4.124191761016846, 4.124598741531372, 4.12492299079895, 4.123488187789917], [4.1136542956034345, 4.12435507774353, 4.125105142593384, 4.124842166900635, 4.123293399810791], [4.114675680796306, 4.12433648109436, 4.1251490116119385, 4.12531042098999, 4.123222827911377], [4.1141204833984375, 4.124506711959839, 4.12514853477478, 4.125209808349609, 4.123291015625], [4.1147769292195635, 4.1245880126953125, 4.125159025192261, 4.125561475753784, 4.124027967453003], [4.1135891278584795, 4.124639987945557, 4.1255412101745605, 4.125452280044556, 4.12404203414917], [4.112974643707275, 4.1247429847717285, 4.125683069229126, 4.125734567642212, 4.124069929122925], [4.1129991213480634, 4.124629974365234, 4.125805616378784, 4.1257569789886475, 4.124315023422241], [4.112244606018066, 4.124737024307251, 4.125842332839966, 4.12578272819519, 4.123973369598389], [4.112799326578776, 4.124668598175049, 4.125888824462891, 4.125715255737305, 4.124007940292358], [4.11219056447347, 4.124667644500732, 4.125865936279297, 4.125721454620361, 4.124452829360962], [4.111203034718831, 4.124783277511597, 4.125860929489136, 4.125945091247559, 4.124390363693237], [4.112133344014485, 4.124870777130127, 4.125748157501221, 4.126020431518555, 4.124595403671265], [4.1122361818949384, 4.124850034713745, 4.12576961517334, 4.126058578491211, 4.124486207962036], [4.112133661905925, 4.124756574630737, 4.125773668289185, 4.125913619995117, 4.124284029006958], [4.11196231842041, 4.124744653701782, 4.1258721351623535, 4.12596583366394, 4.1242194175720215], [4.110650380452474, 4.1248979568481445, 4.125990629196167, 4.126002550125122, 4.124072074890137], [4.109268506368001, 4.124780178070068, 4.1259925365448, 4.12608790397644, 4.12410831451416], [4.108261585235596, 4.124688386917114, 4.125916242599487, 4.125951051712036, 4.124296426773071], [4.109326998392741, 4.124658107757568, 4.125766754150391, 4.125903129577637, 4.124292373657227], [4.108798344930013, 4.12481427192688, 4.125752925872803, 4.125971794128418, 4.124524116516113], [4.108922640482585, 4.124738454818726, 4.125830173492432, 4.1258955001831055, 4.124351263046265], [4.108155250549316, 4.124822378158569, 4.125810146331787, 4.125952959060669, 4.124023199081421], [4.107614199320476, 4.12489128112793, 4.1258766651153564, 4.1258673667907715, 4.123993158340454], [4.105547269185384, 4.124750137329102, 4.12581467628479, 4.125826120376587, 4.124109745025635], [4.106566111246745, 4.124816179275513, 4.125882625579834, 4.125788927078247, 4.123934745788574], [4.104252815246582, 4.124825477600098, 4.1258533000946045, 4.125752210617065, 4.124015808105469], [4.102841854095459, 4.124715805053711, 4.125762462615967, 4.125923156738281, 4.124270915985107], [4.101712544759114, 4.1248345375061035, 4.125542402267456, 4.125753164291382, 4.12406063079834], [4.100575606028239, 4.124847173690796, 4.1255857944488525, 4.12578272819519, 4.123669624328613], [4.1004815101623535, 4.124610900878906, 4.125456809997559, 4.125789165496826, 4.12401270866394], [4.099013328552246, 4.12471079826355, 4.125586986541748, 4.125858545303345, 4.123911619186401], [4.0978743235270185, 4.1247053146362305, 4.125500679016113, 4.125640869140625, 4.123607158660889], [4.099986553192139, 4.1247406005859375, 4.125225782394409, 4.125777006149292, 4.123705148696899], [4.100569883982341, 4.124560356140137, 4.1253015995025635, 4.125560522079468, 4.123843669891357], [4.098846594492595, 4.124658107757568, 4.1253650188446045, 4.125446081161499, 4.123290061950684], [4.100119590759277, 4.124590635299683, 4.125240802764893, 4.125636100769043, 4.123175859451294], [4.099689483642578, 4.124343156814575, 4.125262260437012, 4.1256585121154785, 4.123042821884155], [4.098422368367513, 4.124307632446289, 4.125278949737549, 4.125542640686035, 4.123198747634888], [4.096750577290853, 4.124433755874634, 4.124826669692993, 4.125591278076172, 4.123169898986816], [4.096901893615723, 4.124345779418945, 4.1250669956207275, 4.125303745269775, 4.1227967739105225], [4.09883181254069, 4.124279975891113, 4.124850273132324, 4.1253461837768555, 4.122910499572754], [4.099459966023763, 4.124217748641968, 4.124458074569702, 4.12544059753418, 4.123187065124512], [4.099842548370361, 4.124147653579712, 4.124329090118408, 4.125290155410767, 4.122909784317017], [4.100209712982178, 4.124072551727295, 4.124410152435303, 4.1253721714019775, 4.122781991958618]]\n"
     ]
    }
   ],
   "source": [
    "#Testing pickle\n",
    "\n",
    "import pickle\n",
    "\n",
    "try:\n",
    "    my_pickle_results3 = pickle.load( open( pickle_name+'.pickle', \"rb\" ) )\n",
    "    result3 = {}\n",
    "    result4 = {}\n",
    "    myResults = my_pickle_results3\n",
    "except (OSError, IOError) as e:\n",
    "    my_pickle_results = {}\n",
    "    resul3 = {}\n",
    "    result4 = {}\n",
    "\n",
    "print(my_pickle_results3[\"floppy\"][\"train_losses\"])"
   ]
  },
  {
   "cell_type": "code",
   "execution_count": 44,
   "metadata": {},
   "outputs": [
    {
     "name": "stdout",
     "output_type": "stream",
     "text": [
      "Current date and time : \n",
      "2023-05-13 02:05:20\n"
     ]
    },
    {
     "ename": "",
     "evalue": "",
     "output_type": "error",
     "traceback": [
      "\u001b[1;31mThe Kernel crashed while executing code in the the current cell or a previous cell. Please review the code in the cell(s) to identify a possible cause of the failure. Click <a href='https://aka.ms/vscodeJupyterKernelCrash'>here</a> for more info. View Jupyter <a href='command:jupyter.viewOutput'>log</a> for further details."
     ]
    }
   ],
   "source": [
    "import datetime\n",
    "now = datetime.datetime.now()\n",
    "print (\"Current date and time : \")\n",
    "print (now.strftime(\"%Y-%m-%d %H:%M:%S\"))"
   ]
  },
  {
   "cell_type": "code",
   "execution_count": null,
   "metadata": {},
   "outputs": [],
   "source": []
  }
 ],
 "metadata": {
  "kernelspec": {
   "display_name": ".venv",
   "language": "python",
   "name": "python3"
  },
  "language_info": {
   "codemirror_mode": {
    "name": "ipython",
    "version": 3
   },
   "file_extension": ".py",
   "mimetype": "text/x-python",
   "name": "python",
   "nbconvert_exporter": "python",
   "pygments_lexer": "ipython3",
   "version": "3.10.9"
  },
  "orig_nbformat": 4
 },
 "nbformat": 4,
 "nbformat_minor": 2
}
