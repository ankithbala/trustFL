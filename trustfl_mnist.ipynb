{
 "cells": [
  {
   "cell_type": "code",
   "execution_count": 281,
   "metadata": {},
   "outputs": [],
   "source": [
    "import torch, torch.utils.data\n",
    "from torch import nn\n",
    "import torchvision, torchvision.datasets\n",
    "from torchvision import transforms\n",
    "from tqdm import tqdm\n",
    "import matplotlib.pyplot as plt\n",
    "from typing import List\n",
    "\n",
    "from fedlab.main.fedlab_benchmarks.leaf.dataloader import get_LEAF_dataloader\n",
    "\n",
    "from torch.profiler import profile, record_function, ProfilerActivity\n",
    "import time\n",
    "from sklearn.metrics import f1_score   \n",
    "import numpy as np\n",
    "    \n"
   ]
  },
  {
   "cell_type": "code",
   "execution_count": 282,
   "metadata": {},
   "outputs": [
    {
     "name": "stdout",
     "output_type": "stream",
     "text": [
      "2.0.1+cu117\n"
     ]
    }
   ],
   "source": [
    "print(torch.__version__)\n",
    "\n",
    "\n"
   ]
  },
  {
   "cell_type": "code",
   "execution_count": null,
   "metadata": {},
   "outputs": [],
   "source": []
  },
  {
   "cell_type": "code",
   "execution_count": 283,
   "metadata": {},
   "outputs": [],
   "source": [
    "\n",
    "train_loaders = []\n",
    "test_loaders = []\n",
    "num_nodes = 5\n",
    "num_class = 10\n",
    "epoch_total = 50\n",
    "pickle_name = \"mnist-epoch-\"+str(epoch_total)"
   ]
  },
  {
   "cell_type": "code",
   "execution_count": 284,
   "metadata": {},
   "outputs": [
    {
     "data": {
      "text/plain": [
       "'NVIDIA GeForce RTX 3070 Ti Laptop GPU'"
      ]
     },
     "execution_count": 284,
     "metadata": {},
     "output_type": "execute_result"
    }
   ],
   "source": [
    "device = torch.device('cuda')\n",
    "torch.cuda.get_device_name(device)"
   ]
  },
  {
   "cell_type": "code",
   "execution_count": 285,
   "metadata": {},
   "outputs": [],
   "source": [
    "\n",
    "transform = transforms.Compose([\n",
    "    transforms.ToTensor(),\n",
    "])\n",
    "target_transform = lambda x: torch.nn.functional.one_hot(torch.tensor(x),num_class).float()"
   ]
  },
  {
   "cell_type": "code",
   "execution_count": 286,
   "metadata": {},
   "outputs": [],
   "source": [
    "# def split_dataset(dataset, n):\n",
    "#     torch.utils.data.random_split(dataset, )"
   ]
  },
  {
   "cell_type": "code",
   "execution_count": 287,
   "metadata": {},
   "outputs": [],
   "source": [
    "# train_dataset2 = torchvision.datasets.MNIST('datasets/', download=True, train=True, transform=transform, target_transform=target_transform),\n",
    "# train_loader = torch.utils.data.DataLoader(train_dataset, batch_size=1000000, num_workers=0)\n",
    "\n",
    "# test_dataset = torchvision.datasets.MNIST('datasets/', download=True, train=False, transform=transform, target_transform=target_transform)\n",
    "# test_loader = torch.utils.data.DataLoader(test_dataset, batch_size=1000000, num_workers=0)\n",
    "\n",
    "\n",
    "# Inital MNIST\n",
    "train_datasets = torch.utils.data.random_split(torchvision.datasets.MNIST('datasets/',\n",
    "                                                                           download=True, train=True, transform=transform, target_transform=target_transform), [1/num_nodes]*num_nodes)\n",
    "test_datasets = torch.utils.data.random_split(torchvision.datasets.MNIST('datasets/',\n",
    "                                                                           download=True, train=False, transform=transform, target_transform=target_transform), [1/num_nodes]*num_nodes)\n",
    "\n",
    "train_loaders = [torch.utils.data.DataLoader(i, batch_size=1000000, num_workers=0) for i in train_datasets]\n",
    "test_loaders = [torch.utils.data.DataLoader(i, batch_size=1000000, num_workers=0) for i in test_datasets]\n"
   ]
  },
  {
   "cell_type": "code",
   "execution_count": 288,
   "metadata": {},
   "outputs": [
    {
     "name": "stdout",
     "output_type": "stream",
     "text": [
      "5\n",
      "5\n",
      "[<torch.utils.data.dataloader.DataLoader object at 0x0000025814D15180>, <torch.utils.data.dataloader.DataLoader object at 0x00000258148034F0>, <torch.utils.data.dataloader.DataLoader object at 0x0000025814803F10>, <torch.utils.data.dataloader.DataLoader object at 0x0000025814803700>, <torch.utils.data.dataloader.DataLoader object at 0x0000025814802BF0>]\n",
      "2000\n"
     ]
    }
   ],
   "source": [
    "print(len(train_loaders))\n",
    "print(len(test_loaders))\n",
    "print(test_loaders)\n",
    "print(len(test_loaders[0].dataset))"
   ]
  },
  {
   "cell_type": "code",
   "execution_count": 289,
   "metadata": {},
   "outputs": [],
   "source": [
    "\n",
    "x_i_j = {}\n",
    "s_i = {}\n",
    "\n",
    "ypred = []\n",
    "ylabels = []"
   ]
  },
  {
   "cell_type": "code",
   "execution_count": 290,
   "metadata": {},
   "outputs": [],
   "source": [
    "class FederatedNode:\n",
    "    def __init__(self, train_dataloader, test_dataloader, node_id) -> None:\n",
    "        self.dataset_size = len(train_dataloader.dataset)\n",
    "        channels_sum, channels_squared_sum, num_batches = 0, 0, 0\n",
    "        for data, _ in train_dataloader:\n",
    "            # Mean over batch, height and width, but not over the channels\n",
    "            channels_sum += torch.mean(data, dim=[0])\n",
    "            channels_squared_sum += torch.mean(data**2, dim=[0])\n",
    "            num_batches += 1\n",
    "    \n",
    "        self.mean = channels_sum / num_batches\n",
    "        self.test_loss = 0.0\n",
    "        self.test_accuracy = 0.0\n",
    "        self.train_accuracy = 0.0\n",
    "        self.train_loss = 0.0\n",
    "        self.f1_score = 0.0\n",
    "\n",
    "\n",
    "        # std = sqrt(E[X^2] - (E[X])^2)\n",
    "        self.std = (channels_squared_sum / num_batches - self.mean ** 2) ** 0.5\n",
    "        print(\"Dataset size \", self.dataset_size)\n",
    "        print(\"Mean size \", self.mean.shape)\n",
    "        print(\"Standard deviation size \", self.std.shape)\n",
    "        \n",
    "        \n",
    "        self.network = nn.Sequential(\n",
    "            nn.Flatten(),\n",
    "            nn.Linear(784,56),\n",
    "            nn.ReLU(),\n",
    "            nn.Linear(56, 10)\n",
    "        ).to(device)\n",
    "\n",
    "        '''\n",
    "        only_digits=False\n",
    "        self.network = nn.Sequential(\n",
    "        nn.Conv2d(1, 32, kernel_size=3),\n",
    "        nn.MaxPool2d(2, stride=2),\n",
    "        nn.Conv2d(32, 64, kernel_size=3),\n",
    "        nn.Dropout(0.25),\n",
    "        nn.Flatten(),\n",
    "        nn.Linear(9216, 128),\n",
    "        nn.Dropout(0.5),\n",
    "        nn.Linear(128, 10 if only_digits else 62),\n",
    "        nn.ReLU()\n",
    "        ).to(device)\n",
    "        '''\n",
    "        self.optimizer = torch.optim.Adam(self.network.parameters())\n",
    "        self.criterion = nn.CrossEntropyLoss()\n",
    "        self.train_dataloader = train_dataloader\n",
    "        self.test_dataloader = test_dataloader\n",
    "        self.node_id = node_id\n",
    "    \n",
    "    def train_epoch(self):\n",
    "        losses = []\n",
    "        correct = 0\n",
    "        total = 0\n",
    "        train_accuracy = []\n",
    "        for idx, (data_x, data_y) in enumerate(self.train_dataloader):\n",
    "            #print(\"data_x\", data_x.shape)\n",
    "            #print(\"data_y\", data_y.shape)\n",
    "            #plt.imshow(data_x[1][0])\n",
    "            output = self.network(data_x.to(device))\n",
    "            self.optimizer.zero_grad()\n",
    "            #print(output.shape)\n",
    "            #print(data_y)\n",
    "            #data_y = target_transform(data_y)\n",
    "            \n",
    "            #loss = nn.functional.mse_loss(output, data_y.to(device))\n",
    "            loss = self.criterion(output, data_y.to(device))\n",
    "            losses.append(loss.item())\n",
    "            loss.backward()\n",
    "            self.optimizer.step()\n",
    "\n",
    "            _, predicted = torch.max(output.data, 1)\n",
    "            data_y = data_y.to(predicted.device)\n",
    "            true_labels = torch.argmax(data_y, dim=1).to(predicted.device)\n",
    "            total += data_y.size(0)\n",
    "            correct += (predicted == true_labels).sum().item()\n",
    "            train_accuracy.append(correct / total)\n",
    "            ypred.append(data_y)\n",
    "            ylabels.append(true_labels)\n",
    "        self.train_accuracy = train_accuracy[-1]\n",
    "        self.train_loss = sum(losses)/len(losses)\n",
    "        return self.train_accuracy, self.train_loss\n",
    "    \n",
    "    def testing(self):\n",
    "        correct = 0\n",
    "        total = 0\n",
    "        # test_running_loss = 0.0\n",
    "        predictions = []\n",
    "        labels = []\n",
    "        test_accuracy = []\n",
    "        test_running_losses = []\n",
    "        for idx, (data_x, data_y) in enumerate(self.test_dataloader):\n",
    "            output = self.network(data_x.to(device))\n",
    "            \n",
    "            _, predicted = torch.max(output.data, 1)\n",
    "            data_y = data_y.to(predicted.device)\n",
    "            true_labels = torch.argmax(data_y, dim=1).to(predicted.device)\n",
    "            total += data_y.size(0)\n",
    "            correct += (predicted == true_labels).sum().item()\n",
    "            \n",
    "            loss = self.criterion(output, data_y)\n",
    "            predictions.append(predicted.cpu())\n",
    "            #labels.append(data_y.cpu())\n",
    "            labels.append(true_labels.cpu())\n",
    "            test_running_losses.append(loss.item())\n",
    "            #print('Epoch %d test loss: %.3f' % (idx + 1, test_running_losses[-1]))\n",
    "            #print(test_running_losses)\n",
    "            #test_running_loss += loss.item()\n",
    "            #test_loss.append(test_running_loss / len(self.test_dataloader))\n",
    "            test_accuracy.append(correct / total)\n",
    "        \n",
    "        #print(predictions)\n",
    "        predictions = np.concatenate(predictions)\n",
    "        labels = np.concatenate(labels)\n",
    "        self.f1_score= f1_score(labels, predictions, average=\"weighted\")\n",
    "        self.test_accuracy = test_accuracy[-1]\n",
    "        #print(self.test_accuracy)\n",
    "        self.test_loss =  sum(test_running_losses)/len(test_running_losses)\n",
    "        #print(\"test loss \",self.test_loss)\n",
    "       \n",
    "    \n",
    "    def share_x_ij(self):\n",
    "        x = self.network.state_dict()\n",
    "        r = torch.randint(0, 5, [num_nodes])\n",
    "        s_r = torch.sum(r)\n",
    "        j=self.node_id\n",
    "        for i in range(num_nodes):\n",
    "            x_i_j[(i,j)]={}\n",
    "            for key in x.keys():\n",
    "                x_i_j[(i,j)][key]=x[key]*r[i]/s_r\n",
    "    \n",
    "    def share_s_i(self):\n",
    "        i = self.node_id\n",
    "        s_i[i] = {}\n",
    "        for key in x_i_j[(0,0)].keys():\n",
    "            s_i[i][key] = sum([x_i_j[(i,j)][key] for j in range(num_nodes)])\n",
    "    \n",
    "\n",
    "\n",
    "\n",
    "\n",
    "\n"
   ]
  },
  {
   "cell_type": "code",
   "execution_count": 291,
   "metadata": {},
   "outputs": [
    {
     "name": "stdout",
     "output_type": "stream",
     "text": [
      "Dataset size  12000\n",
      "Mean size  torch.Size([1, 28, 28])\n",
      "Standard deviation size  torch.Size([1, 28, 28])\n",
      "Dataset size  12000\n",
      "Mean size  torch.Size([1, 28, 28])\n",
      "Standard deviation size  torch.Size([1, 28, 28])\n",
      "Dataset size  12000\n",
      "Mean size  torch.Size([1, 28, 28])\n",
      "Standard deviation size  torch.Size([1, 28, 28])\n",
      "Dataset size  12000\n",
      "Mean size  torch.Size([1, 28, 28])\n",
      "Standard deviation size  torch.Size([1, 28, 28])\n",
      "Dataset size  12000\n",
      "Mean size  torch.Size([1, 28, 28])\n",
      "Standard deviation size  torch.Size([1, 28, 28])\n"
     ]
    }
   ],
   "source": [
    "#for i, loader_data in enumerate(zip(*loader)):\n",
    "#    train_loaders, test_loaders = loader_data\n",
    "\n",
    "nodes = []\n",
    "for i in range(num_nodes):\n",
    "    nodes.append(FederatedNode(train_loaders[i], test_loaders[i], i)) \n",
    "\n",
    "#nodes = [FederatedNode(l, i) for i,l in enumerate())]"
   ]
  },
  {
   "cell_type": "code",
   "execution_count": 292,
   "metadata": {},
   "outputs": [
    {
     "name": "stderr",
     "output_type": "stream",
     "text": [
      "  0%|          | 0/50 [00:00<?, ?it/s]"
     ]
    },
    {
     "name": "stdout",
     "output_type": "stream",
     "text": [
      "Epoch 1 test loss: 2.260\n",
      "Epoch 1 test loss: 2.269\n",
      "Epoch 1 test loss: 2.260\n",
      "Epoch 1 test loss: 2.260\n"
     ]
    },
    {
     "name": "stderr",
     "output_type": "stream",
     "text": [
      "  2%|▏         | 1/50 [00:12<09:50, 12.05s/it]"
     ]
    },
    {
     "name": "stdout",
     "output_type": "stream",
     "text": [
      "Epoch 1 test loss: 2.265\n",
      "Epoch 1 test loss: 2.286\n",
      "Epoch 1 test loss: 2.284\n",
      "Epoch 1 test loss: 2.287\n",
      "Epoch 1 test loss: 2.287\n"
     ]
    },
    {
     "name": "stderr",
     "output_type": "stream",
     "text": [
      "  4%|▍         | 2/50 [00:23<09:17, 11.62s/it]"
     ]
    },
    {
     "name": "stdout",
     "output_type": "stream",
     "text": [
      "Epoch 1 test loss: 2.286\n",
      "Epoch 1 test loss: 2.272\n",
      "Epoch 1 test loss: 2.269\n",
      "Epoch 1 test loss: 2.273\n",
      "Epoch 1 test loss: 2.273\n"
     ]
    },
    {
     "name": "stderr",
     "output_type": "stream",
     "text": [
      "  6%|▌         | 3/50 [00:34<08:58, 11.46s/it]"
     ]
    },
    {
     "name": "stdout",
     "output_type": "stream",
     "text": [
      "Epoch 1 test loss: 2.272\n",
      "Epoch 1 test loss: 2.255\n",
      "Epoch 1 test loss: 2.252\n",
      "Epoch 1 test loss: 2.256\n",
      "Epoch 1 test loss: 2.257\n"
     ]
    },
    {
     "name": "stderr",
     "output_type": "stream",
     "text": [
      "  8%|▊         | 4/50 [00:45<08:40, 11.31s/it]"
     ]
    },
    {
     "name": "stdout",
     "output_type": "stream",
     "text": [
      "Epoch 1 test loss: 2.255\n",
      "Epoch 1 test loss: 2.237\n",
      "Epoch 1 test loss: 2.233\n",
      "Epoch 1 test loss: 2.238\n",
      "Epoch 1 test loss: 2.238\n"
     ]
    },
    {
     "name": "stderr",
     "output_type": "stream",
     "text": [
      " 10%|█         | 5/50 [00:56<08:28, 11.29s/it]"
     ]
    },
    {
     "name": "stdout",
     "output_type": "stream",
     "text": [
      "Epoch 1 test loss: 2.235\n",
      "Epoch 1 test loss: 2.216\n",
      "Epoch 1 test loss: 2.212\n",
      "Epoch 1 test loss: 2.217\n",
      "Epoch 1 test loss: 2.218\n"
     ]
    },
    {
     "name": "stderr",
     "output_type": "stream",
     "text": [
      " 12%|█▏        | 6/50 [01:09<08:39, 11.81s/it]"
     ]
    },
    {
     "name": "stdout",
     "output_type": "stream",
     "text": [
      "Epoch 1 test loss: 2.215\n",
      "Epoch 1 test loss: 2.194\n",
      "Epoch 1 test loss: 2.188\n",
      "Epoch 1 test loss: 2.195\n",
      "Epoch 1 test loss: 2.195\n"
     ]
    },
    {
     "name": "stderr",
     "output_type": "stream",
     "text": [
      " 14%|█▍        | 7/50 [01:21<08:21, 11.67s/it]"
     ]
    },
    {
     "name": "stdout",
     "output_type": "stream",
     "text": [
      "Epoch 1 test loss: 2.192\n",
      "Epoch 1 test loss: 2.169\n",
      "Epoch 1 test loss: 2.163\n",
      "Epoch 1 test loss: 2.171\n",
      "Epoch 1 test loss: 2.171\n"
     ]
    },
    {
     "name": "stderr",
     "output_type": "stream",
     "text": [
      " 16%|█▌        | 8/50 [01:32<08:06, 11.58s/it]"
     ]
    },
    {
     "name": "stdout",
     "output_type": "stream",
     "text": [
      "Epoch 1 test loss: 2.167\n",
      "Epoch 1 test loss: 2.144\n",
      "Epoch 1 test loss: 2.137\n",
      "Epoch 1 test loss: 2.146\n",
      "Epoch 1 test loss: 2.145\n"
     ]
    },
    {
     "name": "stderr",
     "output_type": "stream",
     "text": [
      " 18%|█▊        | 9/50 [01:44<07:54, 11.58s/it]"
     ]
    },
    {
     "name": "stdout",
     "output_type": "stream",
     "text": [
      "Epoch 1 test loss: 2.141\n",
      "Epoch 1 test loss: 2.117\n",
      "Epoch 1 test loss: 2.109\n",
      "Epoch 1 test loss: 2.119\n",
      "Epoch 1 test loss: 2.117\n"
     ]
    },
    {
     "name": "stderr",
     "output_type": "stream",
     "text": [
      " 20%|██        | 10/50 [01:55<07:37, 11.44s/it]"
     ]
    },
    {
     "name": "stdout",
     "output_type": "stream",
     "text": [
      "Epoch 1 test loss: 2.113\n",
      "Epoch 1 test loss: 2.088\n",
      "Epoch 1 test loss: 2.079\n",
      "Epoch 1 test loss: 2.090\n",
      "Epoch 1 test loss: 2.088\n"
     ]
    },
    {
     "name": "stderr",
     "output_type": "stream",
     "text": [
      " 22%|██▏       | 11/50 [02:06<07:24, 11.39s/it]"
     ]
    },
    {
     "name": "stdout",
     "output_type": "stream",
     "text": [
      "Epoch 1 test loss: 2.083\n",
      "Epoch 1 test loss: 2.057\n",
      "Epoch 1 test loss: 2.047\n",
      "Epoch 1 test loss: 2.059\n",
      "Epoch 1 test loss: 2.057\n"
     ]
    },
    {
     "name": "stderr",
     "output_type": "stream",
     "text": [
      " 24%|██▍       | 12/50 [02:18<07:16, 11.50s/it]"
     ]
    },
    {
     "name": "stdout",
     "output_type": "stream",
     "text": [
      "Epoch 1 test loss: 2.052\n",
      "Epoch 1 test loss: 2.025\n",
      "Epoch 1 test loss: 2.014\n",
      "Epoch 1 test loss: 2.027\n",
      "Epoch 1 test loss: 2.025\n"
     ]
    },
    {
     "name": "stderr",
     "output_type": "stream",
     "text": [
      " 26%|██▌       | 13/50 [02:29<07:00, 11.38s/it]"
     ]
    },
    {
     "name": "stdout",
     "output_type": "stream",
     "text": [
      "Epoch 1 test loss: 2.019\n",
      "Epoch 1 test loss: 1.992\n",
      "Epoch 1 test loss: 1.980\n",
      "Epoch 1 test loss: 1.994\n",
      "Epoch 1 test loss: 1.992\n"
     ]
    },
    {
     "name": "stderr",
     "output_type": "stream",
     "text": [
      " 28%|██▊       | 14/50 [02:40<06:48, 11.34s/it]"
     ]
    },
    {
     "name": "stdout",
     "output_type": "stream",
     "text": [
      "Epoch 1 test loss: 1.985\n",
      "Epoch 1 test loss: 1.958\n",
      "Epoch 1 test loss: 1.945\n",
      "Epoch 1 test loss: 1.959\n",
      "Epoch 1 test loss: 1.957\n"
     ]
    },
    {
     "name": "stderr",
     "output_type": "stream",
     "text": [
      " 30%|███       | 15/50 [02:51<06:33, 11.25s/it]"
     ]
    },
    {
     "name": "stdout",
     "output_type": "stream",
     "text": [
      "Epoch 1 test loss: 1.950\n",
      "Epoch 1 test loss: 1.922\n",
      "Epoch 1 test loss: 1.908\n",
      "Epoch 1 test loss: 1.923\n",
      "Epoch 1 test loss: 1.921\n"
     ]
    },
    {
     "name": "stderr",
     "output_type": "stream",
     "text": [
      " 32%|███▏      | 16/50 [03:02<06:22, 11.25s/it]"
     ]
    },
    {
     "name": "stdout",
     "output_type": "stream",
     "text": [
      "Epoch 1 test loss: 1.913\n",
      "Epoch 1 test loss: 1.886\n",
      "Epoch 1 test loss: 1.870\n",
      "Epoch 1 test loss: 1.886\n",
      "Epoch 1 test loss: 1.884\n"
     ]
    },
    {
     "name": "stderr",
     "output_type": "stream",
     "text": [
      " 34%|███▍      | 17/50 [03:13<06:09, 11.20s/it]"
     ]
    },
    {
     "name": "stdout",
     "output_type": "stream",
     "text": [
      "Epoch 1 test loss: 1.875\n",
      "Epoch 1 test loss: 1.847\n",
      "Epoch 1 test loss: 1.831\n",
      "Epoch 1 test loss: 1.848\n",
      "Epoch 1 test loss: 1.845\n"
     ]
    },
    {
     "name": "stderr",
     "output_type": "stream",
     "text": [
      " 36%|███▌      | 18/50 [03:25<06:03, 11.35s/it]"
     ]
    },
    {
     "name": "stdout",
     "output_type": "stream",
     "text": [
      "Epoch 1 test loss: 1.836\n",
      "Epoch 1 test loss: 1.808\n",
      "Epoch 1 test loss: 1.790\n",
      "Epoch 1 test loss: 1.808\n",
      "Epoch 1 test loss: 1.805\n"
     ]
    },
    {
     "name": "stderr",
     "output_type": "stream",
     "text": [
      " 38%|███▊      | 19/50 [03:36<05:51, 11.33s/it]"
     ]
    },
    {
     "name": "stdout",
     "output_type": "stream",
     "text": [
      "Epoch 1 test loss: 1.796\n",
      "Epoch 1 test loss: 1.768\n",
      "Epoch 1 test loss: 1.749\n",
      "Epoch 1 test loss: 1.767\n",
      "Epoch 1 test loss: 1.765\n"
     ]
    },
    {
     "name": "stderr",
     "output_type": "stream",
     "text": [
      " 40%|████      | 20/50 [03:48<05:40, 11.35s/it]"
     ]
    },
    {
     "name": "stdout",
     "output_type": "stream",
     "text": [
      "Epoch 1 test loss: 1.754\n",
      "Epoch 1 test loss: 1.727\n",
      "Epoch 1 test loss: 1.707\n",
      "Epoch 1 test loss: 1.726\n",
      "Epoch 1 test loss: 1.723\n"
     ]
    },
    {
     "name": "stderr",
     "output_type": "stream",
     "text": [
      " 42%|████▏     | 21/50 [03:59<05:28, 11.34s/it]"
     ]
    },
    {
     "name": "stdout",
     "output_type": "stream",
     "text": [
      "Epoch 1 test loss: 1.712\n",
      "Epoch 1 test loss: 1.686\n",
      "Epoch 1 test loss: 1.664\n",
      "Epoch 1 test loss: 1.684\n",
      "Epoch 1 test loss: 1.681\n"
     ]
    },
    {
     "name": "stderr",
     "output_type": "stream",
     "text": [
      " 44%|████▍     | 22/50 [04:11<05:18, 11.39s/it]"
     ]
    },
    {
     "name": "stdout",
     "output_type": "stream",
     "text": [
      "Epoch 1 test loss: 1.670\n",
      "Epoch 1 test loss: 1.644\n",
      "Epoch 1 test loss: 1.622\n",
      "Epoch 1 test loss: 1.641\n",
      "Epoch 1 test loss: 1.638\n"
     ]
    },
    {
     "name": "stderr",
     "output_type": "stream",
     "text": [
      " 46%|████▌     | 23/50 [04:22<05:08, 11.42s/it]"
     ]
    },
    {
     "name": "stdout",
     "output_type": "stream",
     "text": [
      "Epoch 1 test loss: 1.627\n",
      "Epoch 1 test loss: 1.602\n",
      "Epoch 1 test loss: 1.579\n",
      "Epoch 1 test loss: 1.598\n",
      "Epoch 1 test loss: 1.595\n"
     ]
    },
    {
     "name": "stderr",
     "output_type": "stream",
     "text": [
      " 48%|████▊     | 24/50 [04:34<04:56, 11.41s/it]"
     ]
    },
    {
     "name": "stdout",
     "output_type": "stream",
     "text": [
      "Epoch 1 test loss: 1.583\n",
      "Epoch 1 test loss: 1.559\n",
      "Epoch 1 test loss: 1.536\n",
      "Epoch 1 test loss: 1.555\n",
      "Epoch 1 test loss: 1.553\n"
     ]
    },
    {
     "name": "stderr",
     "output_type": "stream",
     "text": [
      " 50%|█████     | 25/50 [04:45<04:42, 11.31s/it]"
     ]
    },
    {
     "name": "stdout",
     "output_type": "stream",
     "text": [
      "Epoch 1 test loss: 1.540\n",
      "Epoch 1 test loss: 1.517\n",
      "Epoch 1 test loss: 1.493\n",
      "Epoch 1 test loss: 1.512\n",
      "Epoch 1 test loss: 1.510\n"
     ]
    },
    {
     "name": "stderr",
     "output_type": "stream",
     "text": [
      " 52%|█████▏    | 26/50 [04:56<04:32, 11.34s/it]"
     ]
    },
    {
     "name": "stdout",
     "output_type": "stream",
     "text": [
      "Epoch 1 test loss: 1.497\n",
      "Epoch 1 test loss: 1.475\n",
      "Epoch 1 test loss: 1.450\n",
      "Epoch 1 test loss: 1.469\n",
      "Epoch 1 test loss: 1.467\n"
     ]
    },
    {
     "name": "stderr",
     "output_type": "stream",
     "text": [
      " 54%|█████▍    | 27/50 [05:07<04:18, 11.26s/it]"
     ]
    },
    {
     "name": "stdout",
     "output_type": "stream",
     "text": [
      "Epoch 1 test loss: 1.454\n",
      "Epoch 1 test loss: 1.433\n",
      "Epoch 1 test loss: 1.408\n",
      "Epoch 1 test loss: 1.427\n",
      "Epoch 1 test loss: 1.424\n"
     ]
    },
    {
     "name": "stderr",
     "output_type": "stream",
     "text": [
      " 56%|█████▌    | 28/50 [05:18<04:07, 11.25s/it]"
     ]
    },
    {
     "name": "stdout",
     "output_type": "stream",
     "text": [
      "Epoch 1 test loss: 1.411\n",
      "Epoch 1 test loss: 1.392\n",
      "Epoch 1 test loss: 1.366\n",
      "Epoch 1 test loss: 1.385\n",
      "Epoch 1 test loss: 1.382\n"
     ]
    },
    {
     "name": "stderr",
     "output_type": "stream",
     "text": [
      " 58%|█████▊    | 29/50 [05:29<03:55, 11.19s/it]"
     ]
    },
    {
     "name": "stdout",
     "output_type": "stream",
     "text": [
      "Epoch 1 test loss: 1.369\n",
      "Epoch 1 test loss: 1.351\n",
      "Epoch 1 test loss: 1.325\n",
      "Epoch 1 test loss: 1.343\n",
      "Epoch 1 test loss: 1.341\n"
     ]
    },
    {
     "name": "stderr",
     "output_type": "stream",
     "text": [
      " 60%|██████    | 30/50 [05:41<03:44, 11.21s/it]"
     ]
    },
    {
     "name": "stdout",
     "output_type": "stream",
     "text": [
      "Epoch 1 test loss: 1.327\n",
      "Epoch 1 test loss: 1.311\n",
      "Epoch 1 test loss: 1.285\n",
      "Epoch 1 test loss: 1.302\n",
      "Epoch 1 test loss: 1.300\n"
     ]
    },
    {
     "name": "stderr",
     "output_type": "stream",
     "text": [
      " 62%|██████▏   | 31/50 [05:52<03:34, 11.31s/it]"
     ]
    },
    {
     "name": "stdout",
     "output_type": "stream",
     "text": [
      "Epoch 1 test loss: 1.287\n",
      "Epoch 1 test loss: 1.271\n",
      "Epoch 1 test loss: 1.246\n",
      "Epoch 1 test loss: 1.263\n",
      "Epoch 1 test loss: 1.261\n"
     ]
    },
    {
     "name": "stderr",
     "output_type": "stream",
     "text": [
      " 64%|██████▍   | 32/50 [06:04<03:25, 11.41s/it]"
     ]
    },
    {
     "name": "stdout",
     "output_type": "stream",
     "text": [
      "Epoch 1 test loss: 1.247\n",
      "Epoch 1 test loss: 1.233\n",
      "Epoch 1 test loss: 1.208\n",
      "Epoch 1 test loss: 1.224\n",
      "Epoch 1 test loss: 1.222\n"
     ]
    },
    {
     "name": "stderr",
     "output_type": "stream",
     "text": [
      " 66%|██████▌   | 33/50 [06:15<03:14, 11.45s/it]"
     ]
    },
    {
     "name": "stdout",
     "output_type": "stream",
     "text": [
      "Epoch 1 test loss: 1.208\n",
      "Epoch 1 test loss: 1.196\n",
      "Epoch 1 test loss: 1.172\n",
      "Epoch 1 test loss: 1.186\n",
      "Epoch 1 test loss: 1.184\n"
     ]
    },
    {
     "name": "stderr",
     "output_type": "stream",
     "text": [
      " 68%|██████▊   | 34/50 [06:26<03:01, 11.34s/it]"
     ]
    },
    {
     "name": "stdout",
     "output_type": "stream",
     "text": [
      "Epoch 1 test loss: 1.171\n",
      "Epoch 1 test loss: 1.160\n",
      "Epoch 1 test loss: 1.136\n",
      "Epoch 1 test loss: 1.149\n",
      "Epoch 1 test loss: 1.147\n"
     ]
    },
    {
     "name": "stderr",
     "output_type": "stream",
     "text": [
      " 70%|███████   | 35/50 [06:38<02:50, 11.34s/it]"
     ]
    },
    {
     "name": "stdout",
     "output_type": "stream",
     "text": [
      "Epoch 1 test loss: 1.134\n",
      "Epoch 1 test loss: 1.125\n",
      "Epoch 1 test loss: 1.102\n",
      "Epoch 1 test loss: 1.114\n",
      "Epoch 1 test loss: 1.112\n"
     ]
    },
    {
     "name": "stderr",
     "output_type": "stream",
     "text": [
      " 72%|███████▏  | 36/50 [06:49<02:38, 11.29s/it]"
     ]
    },
    {
     "name": "stdout",
     "output_type": "stream",
     "text": [
      "Epoch 1 test loss: 1.099\n",
      "Epoch 1 test loss: 1.092\n",
      "Epoch 1 test loss: 1.068\n",
      "Epoch 1 test loss: 1.080\n",
      "Epoch 1 test loss: 1.078\n"
     ]
    },
    {
     "name": "stderr",
     "output_type": "stream",
     "text": [
      " 74%|███████▍  | 37/50 [07:00<02:26, 11.29s/it]"
     ]
    },
    {
     "name": "stdout",
     "output_type": "stream",
     "text": [
      "Epoch 1 test loss: 1.065\n",
      "Epoch 1 test loss: 1.060\n",
      "Epoch 1 test loss: 1.037\n",
      "Epoch 1 test loss: 1.047\n",
      "Epoch 1 test loss: 1.045\n"
     ]
    },
    {
     "name": "stderr",
     "output_type": "stream",
     "text": [
      " 76%|███████▌  | 38/50 [07:11<02:14, 11.23s/it]"
     ]
    },
    {
     "name": "stdout",
     "output_type": "stream",
     "text": [
      "Epoch 1 test loss: 1.032\n",
      "Epoch 1 test loss: 1.029\n",
      "Epoch 1 test loss: 1.006\n",
      "Epoch 1 test loss: 1.015\n",
      "Epoch 1 test loss: 1.013\n"
     ]
    },
    {
     "name": "stderr",
     "output_type": "stream",
     "text": [
      " 78%|███████▊  | 39/50 [07:23<02:03, 11.27s/it]"
     ]
    },
    {
     "name": "stdout",
     "output_type": "stream",
     "text": [
      "Epoch 1 test loss: 1.000\n",
      "Epoch 1 test loss: 0.999\n",
      "Epoch 1 test loss: 0.977\n",
      "Epoch 1 test loss: 0.985\n",
      "Epoch 1 test loss: 0.982\n"
     ]
    },
    {
     "name": "stderr",
     "output_type": "stream",
     "text": [
      " 80%|████████  | 40/50 [07:34<01:52, 11.22s/it]"
     ]
    },
    {
     "name": "stdout",
     "output_type": "stream",
     "text": [
      "Epoch 1 test loss: 0.970\n",
      "Epoch 1 test loss: 0.971\n",
      "Epoch 1 test loss: 0.949\n",
      "Epoch 1 test loss: 0.956\n",
      "Epoch 1 test loss: 0.953\n"
     ]
    },
    {
     "name": "stderr",
     "output_type": "stream",
     "text": [
      " 82%|████████▏ | 41/50 [07:45<01:41, 11.24s/it]"
     ]
    },
    {
     "name": "stdout",
     "output_type": "stream",
     "text": [
      "Epoch 1 test loss: 0.941\n",
      "Epoch 1 test loss: 0.944\n",
      "Epoch 1 test loss: 0.922\n",
      "Epoch 1 test loss: 0.928\n",
      "Epoch 1 test loss: 0.926\n"
     ]
    },
    {
     "name": "stderr",
     "output_type": "stream",
     "text": [
      " 84%|████████▍ | 42/50 [07:56<01:29, 11.19s/it]"
     ]
    },
    {
     "name": "stdout",
     "output_type": "stream",
     "text": [
      "Epoch 1 test loss: 0.913\n",
      "Epoch 1 test loss: 0.918\n",
      "Epoch 1 test loss: 0.897\n",
      "Epoch 1 test loss: 0.902\n",
      "Epoch 1 test loss: 0.899\n"
     ]
    },
    {
     "name": "stderr",
     "output_type": "stream",
     "text": [
      " 86%|████████▌ | 43/50 [08:07<01:18, 11.22s/it]"
     ]
    },
    {
     "name": "stdout",
     "output_type": "stream",
     "text": [
      "Epoch 1 test loss: 0.887\n",
      "Epoch 1 test loss: 0.893\n",
      "Epoch 1 test loss: 0.873\n",
      "Epoch 1 test loss: 0.876\n",
      "Epoch 1 test loss: 0.874\n"
     ]
    },
    {
     "name": "stderr",
     "output_type": "stream",
     "text": [
      " 88%|████████▊ | 44/50 [08:19<01:07, 11.26s/it]"
     ]
    },
    {
     "name": "stdout",
     "output_type": "stream",
     "text": [
      "Epoch 1 test loss: 0.861\n",
      "Epoch 1 test loss: 0.870\n",
      "Epoch 1 test loss: 0.850\n",
      "Epoch 1 test loss: 0.852\n",
      "Epoch 1 test loss: 0.849\n"
     ]
    },
    {
     "name": "stderr",
     "output_type": "stream",
     "text": [
      " 90%|█████████ | 45/50 [08:31<00:57, 11.44s/it]"
     ]
    },
    {
     "name": "stdout",
     "output_type": "stream",
     "text": [
      "Epoch 1 test loss: 0.837\n",
      "Epoch 1 test loss: 0.848\n",
      "Epoch 1 test loss: 0.828\n",
      "Epoch 1 test loss: 0.829\n",
      "Epoch 1 test loss: 0.826\n"
     ]
    },
    {
     "name": "stderr",
     "output_type": "stream",
     "text": [
      " 92%|█████████▏| 46/50 [08:43<00:47, 11.75s/it]"
     ]
    },
    {
     "name": "stdout",
     "output_type": "stream",
     "text": [
      "Epoch 1 test loss: 0.814\n",
      "Epoch 1 test loss: 0.827\n",
      "Epoch 1 test loss: 0.807\n",
      "Epoch 1 test loss: 0.808\n",
      "Epoch 1 test loss: 0.804\n"
     ]
    },
    {
     "name": "stderr",
     "output_type": "stream",
     "text": [
      " 94%|█████████▍| 47/50 [08:55<00:35, 11.77s/it]"
     ]
    },
    {
     "name": "stdout",
     "output_type": "stream",
     "text": [
      "Epoch 1 test loss: 0.792\n",
      "Epoch 1 test loss: 0.806\n",
      "Epoch 1 test loss: 0.787\n",
      "Epoch 1 test loss: 0.787\n",
      "Epoch 1 test loss: 0.783\n"
     ]
    },
    {
     "name": "stderr",
     "output_type": "stream",
     "text": [
      " 96%|█████████▌| 48/50 [09:06<00:23, 11.67s/it]"
     ]
    },
    {
     "name": "stdout",
     "output_type": "stream",
     "text": [
      "Epoch 1 test loss: 0.772\n",
      "Epoch 1 test loss: 0.787\n",
      "Epoch 1 test loss: 0.768\n",
      "Epoch 1 test loss: 0.767\n",
      "Epoch 1 test loss: 0.763\n"
     ]
    },
    {
     "name": "stderr",
     "output_type": "stream",
     "text": [
      " 98%|█████████▊| 49/50 [09:19<00:11, 11.86s/it]"
     ]
    },
    {
     "name": "stdout",
     "output_type": "stream",
     "text": [
      "Epoch 1 test loss: 0.752\n",
      "Epoch 1 test loss: 0.769\n",
      "Epoch 1 test loss: 0.750\n",
      "Epoch 1 test loss: 0.748\n",
      "Epoch 1 test loss: 0.744\n"
     ]
    },
    {
     "name": "stderr",
     "output_type": "stream",
     "text": [
      "100%|██████████| 50/50 [09:31<00:00, 11.42s/it]"
     ]
    },
    {
     "name": "stdout",
     "output_type": "stream",
     "text": [
      "Epoch 1 test loss: 0.733\n",
      "Time taken by FL with SMPC 571.0543472766876\n"
     ]
    },
    {
     "name": "stderr",
     "output_type": "stream",
     "text": [
      "\n"
     ]
    }
   ],
   "source": [
    "losses = []\n",
    "train_accuracies = []\n",
    "test_accuracies = []\n",
    "test_losses = []\n",
    "f1_scores = []\n",
    "#with profile(activities=[ProfilerActivity.CPU, ProfilerActivity.CUDA], record_shapes=True) as prof:\n",
    "#    with record_function(\"model_training\"):\n",
    "\n",
    "start_time = time.time()\n",
    "for i in tqdm(range(epoch_total)):\n",
    "    epoch_losses = []\n",
    "    epoch_acc = []\n",
    "    for node in nodes:\n",
    "        tarin_acc, loss = node.train_epoch()\n",
    "        epoch_acc.append(tarin_acc)\n",
    "        epoch_losses.append(loss)\n",
    "    train_accuracies.append(epoch_acc)\n",
    "    losses.append(epoch_losses)\n",
    "\n",
    "\n",
    "    \n",
    "    epoch_test_accuracies = []\n",
    "    epoch_test_losses = []\n",
    "    epoch_f1_scores = []\n",
    "    for i, node in enumerate(nodes):\n",
    "        #print()\n",
    "        #print(\"Node \", i)\n",
    "        \n",
    "        node.testing()\n",
    "        #test_losses.append(node.test_loss)\n",
    "        #print(\"Node Test Accuracy\", node.test_accuracy)\n",
    "        #print(\"Node Test loss\", node.test_loss)\n",
    "        #print(\"Node F1_Score \", node.f1_score)\n",
    "        epoch_test_accuracies.append(node.test_accuracy)\n",
    "        epoch_test_losses.append(node.test_loss)\n",
    "        epoch_f1_scores.append(node.f1_score)\n",
    "            \n",
    "    test_accuracies.append(epoch_test_accuracies)\n",
    "    test_losses.append(epoch_test_losses)\n",
    "    f1_scores.append(epoch_f1_scores)\n",
    "\n",
    "    x_i_j = {}\n",
    "    s_i = {}\n",
    "    for node in nodes:\n",
    "        node.share_x_ij()\n",
    "    \n",
    "    for node in nodes:\n",
    "        node.share_s_i()\n",
    "    \n",
    "    #av_state = {}\n",
    "    #print(s_i[0])\n",
    "    #for key in s_i[0].keys():\n",
    "    #    av_state[key]=torch.mean(torch.tensor([s_i[i][key] for i in s_i]), dim=[0])\n",
    "    averaged_state = {}\n",
    "    for key in s_i[0].keys():\n",
    "        param_value = 0\n",
    "        for i in s_i:\n",
    "            param_value += s_i[i][key]\n",
    "        \n",
    "        averaged_state[key] = param_value/num_nodes\n",
    "\n",
    "    for node in nodes:\n",
    "        node.network.load_state_dict(averaged_state)\n",
    "\n",
    "    \n",
    "    \n",
    "    \n",
    "    # states = [i.network.state_dict() for i in nodes]\n",
    "    # av_state = {}\n",
    "    # for key in states[0]:\n",
    "    #     av_state[key] = sum([s[key] for s in states])/num_nodes\n",
    "    # for node in nodes:\n",
    "    #     node.network.load_state_dict(av_state)\n",
    "\n",
    "time_FL_SMPC = time.time() - start_time\n",
    "\n",
    "print(\"Time taken by FL with SMPC\", time_FL_SMPC)\n",
    "    \n"
   ]
  },
  {
   "cell_type": "code",
   "execution_count": 293,
   "metadata": {},
   "outputs": [],
   "source": [
    "import pickle\n",
    "\n",
    "try:\n",
    "    my_pickle_results = pickle.load( open( pickle_name+'.pickle', \"rb\" ) )\n",
    "    result = {}\n",
    "    result2 = {}\n",
    "    myResults = my_pickle_results\n",
    "except (OSError, IOError) as e:\n",
    "    my_pickle_results = {}\n",
    "    result = {}\n",
    "    result2 = {}"
   ]
  },
  {
   "cell_type": "code",
   "execution_count": 294,
   "metadata": {},
   "outputs": [],
   "source": [
    "result[\"train_accuracies\"] = train_accuracies\n",
    "result[\"train_losses\"] = losses\n",
    "result[\"test_accuracies\"] = test_accuracies\n",
    "result[\"test_losses\"] = test_losses\n",
    "result[\"f1_scores\"] = f1_scores\n",
    "result[\"ypred\"] = ypred\n",
    "result[\"ylabels\"] = ylabels\n",
    "result[\"time_taken\"] = time_FL_SMPC\n"
   ]
  },
  {
   "cell_type": "code",
   "execution_count": null,
   "metadata": {},
   "outputs": [],
   "source": []
  },
  {
   "cell_type": "code",
   "execution_count": null,
   "metadata": {},
   "outputs": [],
   "source": []
  },
  {
   "cell_type": "code",
   "execution_count": 295,
   "metadata": {},
   "outputs": [
    {
     "data": {
      "text/plain": [
       "[<matplotlib.lines.Line2D at 0x258147f9ed0>,\n",
       " <matplotlib.lines.Line2D at 0x258110eec50>,\n",
       " <matplotlib.lines.Line2D at 0x258110ee9b0>,\n",
       " <matplotlib.lines.Line2D at 0x258110ec5b0>,\n",
       " <matplotlib.lines.Line2D at 0x258110ef4f0>]"
      ]
     },
     "execution_count": 295,
     "metadata": {},
     "output_type": "execute_result"
    },
    {
     "data": {
      "image/png": "[encoded data removed]",
      "text/plain": [
       "<Figure size 640x480 with 1 Axes>"
      ]
     },
     "metadata": {},
     "output_type": "display_data"
    }
   ],
   "source": [
    "plt.plot(test_accuracies)"
   ]
  },
  {
   "cell_type": "code",
   "execution_count": 296,
   "metadata": {},
   "outputs": [
    {
     "name": "stdout",
     "output_type": "stream",
     "text": [
      "[[2.297895908355713, 2.3079075813293457, 2.2986345291137695, 2.2969000339508057, 2.3103888034820557], [2.296764373779297, 2.296278715133667, 2.296628952026367, 2.296369791030884, 2.2967894077301025], [2.2858994007110596, 2.28562331199646, 2.285951852798462, 2.2854745388031006, 2.2859013080596924], [2.2718303203582764, 2.271791458129883, 2.2721097469329834, 2.271371364593506, 2.2718005180358887], [2.2552435398101807, 2.2554681301116943, 2.255801200866699, 2.254803419113159, 2.2551896572113037], [2.2366364002227783, 2.2371480464935303, 2.2374823093414307, 2.236257553100586, 2.236584186553955], [2.2160940170288086, 2.216916084289551, 2.2172656059265137, 2.2157413959503174, 2.2160887718200684], [2.193789005279541, 2.1949002742767334, 2.195282459259033, 2.1933887004852295, 2.1938304901123047], [2.16963267326355, 2.171078681945801, 2.1714940071105957, 2.1691901683807373, 2.1697421073913574], [2.143738031387329, 2.14559268951416, 2.1460177898406982, 2.1432833671569824, 2.1439261436462402], [2.116356372833252, 2.1186394691467285, 2.1190736293792725, 2.115872621536255, 2.1166131496429443], [2.0873050689697266, 2.090003252029419, 2.090487241744995, 2.0867905616760254, 2.0876049995422363], [2.056563377380371, 2.0596842765808105, 2.0602362155914307, 2.0560431480407715, 2.0569002628326416], [2.0245118141174316, 2.028085231781006, 2.0286993980407715, 2.0239927768707275, 2.0248780250549316], [1.991305947303772, 1.9953374862670898, 1.9960123300552368, 1.9907779693603516, 1.9916836023330688], [1.9567984342575073, 1.9612886905670166, 1.9620236158370972, 1.9562432765960693, 1.9571698904037476], [1.9209589958190918, 1.9259238243103027, 1.9267168045043945, 1.9203630685806274, 1.9213134050369263], [1.883845567703247, 1.8893033266067505, 1.890152931213379, 1.8832067251205444, 1.8841766119003296], [1.8455390930175781, 1.8515117168426514, 1.8524162769317627, 1.8448553085327148, 1.8458452224731445], [1.8061244487762451, 1.8126380443572998, 1.813590168952942, 1.8053935766220093, 1.806396245956421], [1.7657155990600586, 1.7727798223495483, 1.7737809419631958, 1.7649401426315308, 1.7659541368484497], [1.7244784832000732, 1.7321033477783203, 1.733141303062439, 1.7236613035202026, 1.7246623039245605], [1.6826659440994263, 1.6908479928970337, 1.6919214725494385, 1.6818150281906128, 1.6827737092971802], [1.6405009031295776, 1.6492226123809814, 1.6503345966339111, 1.6396266222000122, 1.6405211687088013], [1.598124384880066, 1.607344388961792, 1.608506202697754, 1.5972342491149902, 1.5980361700057983], [1.5556633472442627, 1.5653300285339355, 1.5665591955184937, 1.5547574758529663, 1.5554590225219727], [1.5132566690444946, 1.5233066082000732, 1.5246301889419556, 1.5123443603515625, 1.5129274129867554], [1.4710465669631958, 1.4814127683639526, 1.4828557968139648, 1.4701387882232666, 1.4705839157104492], [1.4291800260543823, 1.4397938251495361, 1.4413788318634033, 1.428288221359253, 1.4285732507705688], [1.3878028392791748, 1.3985973596572876, 1.4003416299819946, 1.386939287185669, 1.3870388269424438], [1.3470566272735596, 1.3579708337783813, 1.359885334968567, 1.3462340831756592, 1.34611976146698], [1.3070721626281738, 1.3180549144744873, 1.320144772529602, 1.3063087463378906, 1.3059470653533936], [1.2679697275161743, 1.2789809703826904, 1.2812421321868896, 1.267278790473938, 1.2666375637054443], [1.2298504114151, 1.2408608198165894, 1.243281602859497, 1.2292439937591553, 1.228290319442749], [1.1927952766418457, 1.2037885189056396, 1.2063496112823486, 1.192285418510437, 1.1909865140914917], [1.1568694114685059, 1.167836308479309, 1.1705124378204346, 1.156463623046875, 1.1547917127609253], [1.1221232414245605, 1.133060097694397, 1.1358224153518677, 1.121827244758606, 1.1197571754455566], [1.088594675064087, 1.0995014905929565, 1.102321982383728, 1.088411569595337, 1.0859246253967285], [1.056312084197998, 1.067188024520874, 1.0700422525405884, 1.056240439414978, 1.053328275680542], [1.0252940654754639, 1.036135196685791, 1.0390031337738037, 1.0253266096115112, 1.021993637084961], [0.9955489635467529, 1.0063458681106567, 1.009212613105774, 0.9956741333007812, 0.991936206817627], [0.9670695066452026, 0.9778079390525818, 0.9806645512580872, 0.9672737717628479, 0.9631564021110535], [0.9398385286331177, 0.9505025148391724, 0.95334392786026, 0.9401044845581055, 0.9356451630592346], [0.9138302206993103, 0.9243984222412109, 0.9272229075431824, 0.914136528968811, 0.909379243850708], [0.8890098929405212, 0.8994610905647278, 0.9022693037986755, 0.8893341422080994, 0.8843249678611755], [0.8653406500816345, 0.8756542801856995, 0.8784462213516235, 0.8656600117683411, 0.8604434132575989], [0.8427823781967163, 0.8529393076896667, 0.8557153344154358, 0.8430746793746948, 0.8376925587654114], [0.8212926387786865, 0.8312758803367615, 0.8340356349945068, 0.8215376138687134, 0.8160251975059509], [0.8008274435997009, 0.8106250166893005, 0.8133650422096252, 0.8010058403015137, 0.795393168926239], [0.7813413143157959, 0.790944516658783, 0.7936602830886841, 0.7814368605613708, 0.7757458686828613]]\n"
     ]
    }
   ],
   "source": [
    "print(losses)"
   ]
  },
  {
   "cell_type": "code",
   "execution_count": 297,
   "metadata": {},
   "outputs": [
    {
     "data": {
      "text/plain": [
       "[<matplotlib.lines.Line2D at 0x25814faaef0>,\n",
       " <matplotlib.lines.Line2D at 0x25814faaf50>,\n",
       " <matplotlib.lines.Line2D at 0x25814faaf80>,\n",
       " <matplotlib.lines.Line2D at 0x25814fab070>,\n",
       " <matplotlib.lines.Line2D at 0x25814fab160>]"
      ]
     },
     "execution_count": 297,
     "metadata": {},
     "output_type": "execute_result"
    },
    {
     "data": {
      "image/png": "[encoded data removed]",
      "text/plain": [
       "<Figure size 640x480 with 1 Axes>"
      ]
     },
     "metadata": {},
     "output_type": "display_data"
    }
   ],
   "source": [
    "plt.plot(losses)"
   ]
  },
  {
   "cell_type": "code",
   "execution_count": null,
   "metadata": {},
   "outputs": [],
   "source": []
  },
  {
   "cell_type": "code",
   "execution_count": null,
   "metadata": {},
   "outputs": [],
   "source": []
  },
  {
   "cell_type": "code",
   "execution_count": 298,
   "metadata": {},
   "outputs": [
    {
     "name": "stdout",
     "output_type": "stream",
     "text": [
      "Dataset size  12000\n",
      "Mean size  torch.Size([1, 28, 28])\n",
      "Standard deviation size  torch.Size([1, 28, 28])\n",
      "Dataset size  12000\n",
      "Mean size  torch.Size([1, 28, 28])\n",
      "Standard deviation size  torch.Size([1, 28, 28])\n",
      "Dataset size  12000\n",
      "Mean size  torch.Size([1, 28, 28])\n",
      "Standard deviation size  torch.Size([1, 28, 28])\n",
      "Dataset size  12000\n",
      "Mean size  torch.Size([1, 28, 28])\n",
      "Standard deviation size  torch.Size([1, 28, 28])\n",
      "Dataset size  12000\n",
      "Mean size  torch.Size([1, 28, 28])\n",
      "Standard deviation size  torch.Size([1, 28, 28])\n"
     ]
    }
   ],
   "source": [
    "\n",
    "nodes = []\n",
    "for i in range(num_nodes):\n",
    "    nodes.append(FederatedNode(train_loaders[i], test_loaders[i], i)) \n"
   ]
  },
  {
   "cell_type": "code",
   "execution_count": 299,
   "metadata": {},
   "outputs": [
    {
     "name": "stderr",
     "output_type": "stream",
     "text": [
      "  0%|          | 0/50 [00:00<?, ?it/s]"
     ]
    },
    {
     "name": "stdout",
     "output_type": "stream",
     "text": [
      "Epoch 1 test loss: 2.270\n",
      "Epoch 1 test loss: 2.259\n",
      "Epoch 1 test loss: 2.253\n",
      "Epoch 1 test loss: 2.254\n"
     ]
    },
    {
     "name": "stderr",
     "output_type": "stream",
     "text": [
      "  2%|▏         | 1/50 [00:11<09:23, 11.50s/it]"
     ]
    },
    {
     "name": "stdout",
     "output_type": "stream",
     "text": [
      "Epoch 1 test loss: 2.266\n",
      "Epoch 1 test loss: 2.285\n",
      "Epoch 1 test loss: 2.284\n",
      "Epoch 1 test loss: 2.285\n",
      "Epoch 1 test loss: 2.282\n"
     ]
    },
    {
     "name": "stderr",
     "output_type": "stream",
     "text": [
      "  4%|▍         | 2/50 [00:23<09:21, 11.69s/it]"
     ]
    },
    {
     "name": "stdout",
     "output_type": "stream",
     "text": [
      "Epoch 1 test loss: 2.283\n",
      "Epoch 1 test loss: 2.269\n",
      "Epoch 1 test loss: 2.267\n",
      "Epoch 1 test loss: 2.269\n",
      "Epoch 1 test loss: 2.265\n"
     ]
    },
    {
     "name": "stderr",
     "output_type": "stream",
     "text": [
      "  6%|▌         | 3/50 [00:34<09:03, 11.56s/it]"
     ]
    },
    {
     "name": "stdout",
     "output_type": "stream",
     "text": [
      "Epoch 1 test loss: 2.267\n",
      "Epoch 1 test loss: 2.250\n",
      "Epoch 1 test loss: 2.248\n",
      "Epoch 1 test loss: 2.251\n",
      "Epoch 1 test loss: 2.246\n"
     ]
    },
    {
     "name": "stderr",
     "output_type": "stream",
     "text": [
      "  8%|▊         | 4/50 [00:46<08:52, 11.57s/it]"
     ]
    },
    {
     "name": "stdout",
     "output_type": "stream",
     "text": [
      "Epoch 1 test loss: 2.248\n",
      "Epoch 1 test loss: 2.230\n",
      "Epoch 1 test loss: 2.227\n",
      "Epoch 1 test loss: 2.230\n",
      "Epoch 1 test loss: 2.226\n"
     ]
    },
    {
     "name": "stderr",
     "output_type": "stream",
     "text": [
      " 10%|█         | 5/50 [00:57<08:39, 11.53s/it]"
     ]
    },
    {
     "name": "stdout",
     "output_type": "stream",
     "text": [
      "Epoch 1 test loss: 2.227\n",
      "Epoch 1 test loss: 2.207\n",
      "Epoch 1 test loss: 2.204\n",
      "Epoch 1 test loss: 2.208\n",
      "Epoch 1 test loss: 2.203\n"
     ]
    },
    {
     "name": "stderr",
     "output_type": "stream",
     "text": [
      " 12%|█▏        | 6/50 [01:09<08:33, 11.67s/it]"
     ]
    },
    {
     "name": "stdout",
     "output_type": "stream",
     "text": [
      "Epoch 1 test loss: 2.204\n",
      "Epoch 1 test loss: 2.184\n",
      "Epoch 1 test loss: 2.179\n",
      "Epoch 1 test loss: 2.184\n",
      "Epoch 1 test loss: 2.179\n"
     ]
    },
    {
     "name": "stderr",
     "output_type": "stream",
     "text": [
      " 14%|█▍        | 7/50 [01:21<08:17, 11.56s/it]"
     ]
    },
    {
     "name": "stdout",
     "output_type": "stream",
     "text": [
      "Epoch 1 test loss: 2.180\n",
      "Epoch 1 test loss: 2.159\n",
      "Epoch 1 test loss: 2.154\n",
      "Epoch 1 test loss: 2.159\n",
      "Epoch 1 test loss: 2.154\n"
     ]
    },
    {
     "name": "stderr",
     "output_type": "stream",
     "text": [
      " 16%|█▌        | 8/50 [01:32<08:04, 11.54s/it]"
     ]
    },
    {
     "name": "stdout",
     "output_type": "stream",
     "text": [
      "Epoch 1 test loss: 2.155\n",
      "Epoch 1 test loss: 2.133\n",
      "Epoch 1 test loss: 2.126\n",
      "Epoch 1 test loss: 2.133\n",
      "Epoch 1 test loss: 2.127\n"
     ]
    },
    {
     "name": "stderr",
     "output_type": "stream",
     "text": [
      " 18%|█▊        | 9/50 [01:43<07:51, 11.50s/it]"
     ]
    },
    {
     "name": "stdout",
     "output_type": "stream",
     "text": [
      "Epoch 1 test loss: 2.128\n",
      "Epoch 1 test loss: 2.105\n",
      "Epoch 1 test loss: 2.098\n",
      "Epoch 1 test loss: 2.106\n",
      "Epoch 1 test loss: 2.100\n"
     ]
    },
    {
     "name": "stderr",
     "output_type": "stream",
     "text": [
      " 20%|██        | 10/50 [01:55<07:45, 11.65s/it]"
     ]
    },
    {
     "name": "stdout",
     "output_type": "stream",
     "text": [
      "Epoch 1 test loss: 2.100\n",
      "Epoch 1 test loss: 2.076\n",
      "Epoch 1 test loss: 2.068\n",
      "Epoch 1 test loss: 2.077\n",
      "Epoch 1 test loss: 2.070\n"
     ]
    },
    {
     "name": "stderr",
     "output_type": "stream",
     "text": [
      " 22%|██▏       | 11/50 [02:07<07:29, 11.54s/it]"
     ]
    },
    {
     "name": "stdout",
     "output_type": "stream",
     "text": [
      "Epoch 1 test loss: 2.070\n",
      "Epoch 1 test loss: 2.046\n",
      "Epoch 1 test loss: 2.036\n",
      "Epoch 1 test loss: 2.047\n",
      "Epoch 1 test loss: 2.040\n"
     ]
    },
    {
     "name": "stderr",
     "output_type": "stream",
     "text": [
      " 24%|██▍       | 12/50 [02:18<07:18, 11.53s/it]"
     ]
    },
    {
     "name": "stdout",
     "output_type": "stream",
     "text": [
      "Epoch 1 test loss: 2.039\n",
      "Epoch 1 test loss: 2.014\n",
      "Epoch 1 test loss: 2.004\n",
      "Epoch 1 test loss: 2.015\n",
      "Epoch 1 test loss: 2.008\n"
     ]
    },
    {
     "name": "stderr",
     "output_type": "stream",
     "text": [
      " 26%|██▌       | 13/50 [02:29<07:02, 11.43s/it]"
     ]
    },
    {
     "name": "stdout",
     "output_type": "stream",
     "text": [
      "Epoch 1 test loss: 2.007\n",
      "Epoch 1 test loss: 1.981\n",
      "Epoch 1 test loss: 1.970\n",
      "Epoch 1 test loss: 1.982\n",
      "Epoch 1 test loss: 1.975\n"
     ]
    },
    {
     "name": "stderr",
     "output_type": "stream",
     "text": [
      " 28%|██▊       | 14/50 [02:41<06:51, 11.43s/it]"
     ]
    },
    {
     "name": "stdout",
     "output_type": "stream",
     "text": [
      "Epoch 1 test loss: 1.974\n",
      "Epoch 1 test loss: 1.947\n",
      "Epoch 1 test loss: 1.935\n",
      "Epoch 1 test loss: 1.948\n",
      "Epoch 1 test loss: 1.941\n"
     ]
    },
    {
     "name": "stderr",
     "output_type": "stream",
     "text": [
      " 30%|███       | 15/50 [02:52<06:37, 11.36s/it]"
     ]
    },
    {
     "name": "stdout",
     "output_type": "stream",
     "text": [
      "Epoch 1 test loss: 1.939\n",
      "Epoch 1 test loss: 1.912\n",
      "Epoch 1 test loss: 1.898\n",
      "Epoch 1 test loss: 1.913\n",
      "Epoch 1 test loss: 1.906\n"
     ]
    },
    {
     "name": "stderr",
     "output_type": "stream",
     "text": [
      " 32%|███▏      | 16/50 [03:03<06:26, 11.37s/it]"
     ]
    },
    {
     "name": "stdout",
     "output_type": "stream",
     "text": [
      "Epoch 1 test loss: 1.903\n",
      "Epoch 1 test loss: 1.876\n",
      "Epoch 1 test loss: 1.861\n",
      "Epoch 1 test loss: 1.877\n",
      "Epoch 1 test loss: 1.869\n"
     ]
    },
    {
     "name": "stderr",
     "output_type": "stream",
     "text": [
      " 34%|███▍      | 17/50 [03:15<06:13, 11.31s/it]"
     ]
    },
    {
     "name": "stdout",
     "output_type": "stream",
     "text": [
      "Epoch 1 test loss: 1.867\n",
      "Epoch 1 test loss: 1.839\n",
      "Epoch 1 test loss: 1.822\n",
      "Epoch 1 test loss: 1.840\n",
      "Epoch 1 test loss: 1.832\n"
     ]
    },
    {
     "name": "stderr",
     "output_type": "stream",
     "text": [
      " 36%|███▌      | 18/50 [03:26<06:02, 11.34s/it]"
     ]
    },
    {
     "name": "stdout",
     "output_type": "stream",
     "text": [
      "Epoch 1 test loss: 1.829\n",
      "Epoch 1 test loss: 1.801\n",
      "Epoch 1 test loss: 1.784\n",
      "Epoch 1 test loss: 1.802\n",
      "Epoch 1 test loss: 1.794\n"
     ]
    },
    {
     "name": "stderr",
     "output_type": "stream",
     "text": [
      " 38%|███▊      | 19/50 [03:37<05:50, 11.30s/it]"
     ]
    },
    {
     "name": "stdout",
     "output_type": "stream",
     "text": [
      "Epoch 1 test loss: 1.790\n",
      "Epoch 1 test loss: 1.763\n",
      "Epoch 1 test loss: 1.744\n",
      "Epoch 1 test loss: 1.764\n",
      "Epoch 1 test loss: 1.756\n"
     ]
    },
    {
     "name": "stderr",
     "output_type": "stream",
     "text": [
      " 40%|████      | 20/50 [03:49<05:40, 11.33s/it]"
     ]
    },
    {
     "name": "stdout",
     "output_type": "stream",
     "text": [
      "Epoch 1 test loss: 1.751\n",
      "Epoch 1 test loss: 1.724\n",
      "Epoch 1 test loss: 1.704\n",
      "Epoch 1 test loss: 1.725\n",
      "Epoch 1 test loss: 1.717\n"
     ]
    },
    {
     "name": "stderr",
     "output_type": "stream",
     "text": [
      " 42%|████▏     | 21/50 [04:00<05:30, 11.41s/it]"
     ]
    },
    {
     "name": "stdout",
     "output_type": "stream",
     "text": [
      "Epoch 1 test loss: 1.712\n",
      "Epoch 1 test loss: 1.685\n",
      "Epoch 1 test loss: 1.665\n",
      "Epoch 1 test loss: 1.685\n",
      "Epoch 1 test loss: 1.678\n"
     ]
    },
    {
     "name": "stderr",
     "output_type": "stream",
     "text": [
      " 44%|████▍     | 22/50 [04:12<05:20, 11.43s/it]"
     ]
    },
    {
     "name": "stdout",
     "output_type": "stream",
     "text": [
      "Epoch 1 test loss: 1.672\n",
      "Epoch 1 test loss: 1.646\n",
      "Epoch 1 test loss: 1.624\n",
      "Epoch 1 test loss: 1.645\n",
      "Epoch 1 test loss: 1.638\n"
     ]
    },
    {
     "name": "stderr",
     "output_type": "stream",
     "text": [
      " 46%|████▌     | 23/50 [04:23<05:07, 11.39s/it]"
     ]
    },
    {
     "name": "stdout",
     "output_type": "stream",
     "text": [
      "Epoch 1 test loss: 1.631\n",
      "Epoch 1 test loss: 1.606\n",
      "Epoch 1 test loss: 1.584\n",
      "Epoch 1 test loss: 1.605\n",
      "Epoch 1 test loss: 1.598\n"
     ]
    },
    {
     "name": "stderr",
     "output_type": "stream",
     "text": [
      " 48%|████▊     | 24/50 [04:35<04:58, 11.48s/it]"
     ]
    },
    {
     "name": "stdout",
     "output_type": "stream",
     "text": [
      "Epoch 1 test loss: 1.591\n",
      "Epoch 1 test loss: 1.566\n",
      "Epoch 1 test loss: 1.543\n",
      "Epoch 1 test loss: 1.564\n",
      "Epoch 1 test loss: 1.558\n"
     ]
    },
    {
     "name": "stderr",
     "output_type": "stream",
     "text": [
      " 50%|█████     | 25/50 [04:46<04:45, 11.43s/it]"
     ]
    },
    {
     "name": "stdout",
     "output_type": "stream",
     "text": [
      "Epoch 1 test loss: 1.550\n",
      "Epoch 1 test loss: 1.526\n",
      "Epoch 1 test loss: 1.503\n",
      "Epoch 1 test loss: 1.524\n",
      "Epoch 1 test loss: 1.518\n"
     ]
    },
    {
     "name": "stderr",
     "output_type": "stream",
     "text": [
      " 52%|█████▏    | 26/50 [04:57<04:34, 11.43s/it]"
     ]
    },
    {
     "name": "stdout",
     "output_type": "stream",
     "text": [
      "Epoch 1 test loss: 1.509\n",
      "Epoch 1 test loss: 1.486\n",
      "Epoch 1 test loss: 1.463\n",
      "Epoch 1 test loss: 1.483\n",
      "Epoch 1 test loss: 1.478\n"
     ]
    },
    {
     "name": "stderr",
     "output_type": "stream",
     "text": [
      " 54%|█████▍    | 27/50 [05:09<04:21, 11.38s/it]"
     ]
    },
    {
     "name": "stdout",
     "output_type": "stream",
     "text": [
      "Epoch 1 test loss: 1.468\n",
      "Epoch 1 test loss: 1.446\n",
      "Epoch 1 test loss: 1.423\n",
      "Epoch 1 test loss: 1.443\n",
      "Epoch 1 test loss: 1.438\n"
     ]
    },
    {
     "name": "stderr",
     "output_type": "stream",
     "text": [
      " 56%|█████▌    | 28/50 [05:20<04:11, 11.42s/it]"
     ]
    },
    {
     "name": "stdout",
     "output_type": "stream",
     "text": [
      "Epoch 1 test loss: 1.428\n",
      "Epoch 1 test loss: 1.407\n",
      "Epoch 1 test loss: 1.383\n",
      "Epoch 1 test loss: 1.403\n",
      "Epoch 1 test loss: 1.398\n"
     ]
    },
    {
     "name": "stderr",
     "output_type": "stream",
     "text": [
      " 58%|█████▊    | 29/50 [05:31<03:58, 11.38s/it]"
     ]
    },
    {
     "name": "stdout",
     "output_type": "stream",
     "text": [
      "Epoch 1 test loss: 1.388\n",
      "Epoch 1 test loss: 1.368\n",
      "Epoch 1 test loss: 1.344\n",
      "Epoch 1 test loss: 1.363\n",
      "Epoch 1 test loss: 1.359\n"
     ]
    },
    {
     "name": "stderr",
     "output_type": "stream",
     "text": [
      " 60%|██████    | 30/50 [05:43<03:47, 11.40s/it]"
     ]
    },
    {
     "name": "stdout",
     "output_type": "stream",
     "text": [
      "Epoch 1 test loss: 1.348\n",
      "Epoch 1 test loss: 1.330\n",
      "Epoch 1 test loss: 1.306\n",
      "Epoch 1 test loss: 1.324\n",
      "Epoch 1 test loss: 1.320\n"
     ]
    },
    {
     "name": "stderr",
     "output_type": "stream",
     "text": [
      " 62%|██████▏   | 31/50 [05:54<03:36, 11.41s/it]"
     ]
    },
    {
     "name": "stdout",
     "output_type": "stream",
     "text": [
      "Epoch 1 test loss: 1.309\n",
      "Epoch 1 test loss: 1.292\n",
      "Epoch 1 test loss: 1.269\n",
      "Epoch 1 test loss: 1.285\n",
      "Epoch 1 test loss: 1.282\n"
     ]
    },
    {
     "name": "stderr",
     "output_type": "stream",
     "text": [
      " 64%|██████▍   | 32/50 [06:06<03:25, 11.42s/it]"
     ]
    },
    {
     "name": "stdout",
     "output_type": "stream",
     "text": [
      "Epoch 1 test loss: 1.270\n",
      "Epoch 1 test loss: 1.255\n",
      "Epoch 1 test loss: 1.232\n",
      "Epoch 1 test loss: 1.248\n",
      "Epoch 1 test loss: 1.245\n"
     ]
    },
    {
     "name": "stderr",
     "output_type": "stream",
     "text": [
      " 66%|██████▌   | 33/50 [06:17<03:13, 11.37s/it]"
     ]
    },
    {
     "name": "stdout",
     "output_type": "stream",
     "text": [
      "Epoch 1 test loss: 1.232\n",
      "Epoch 1 test loss: 1.219\n",
      "Epoch 1 test loss: 1.196\n",
      "Epoch 1 test loss: 1.211\n",
      "Epoch 1 test loss: 1.208\n"
     ]
    },
    {
     "name": "stderr",
     "output_type": "stream",
     "text": [
      " 68%|██████▊   | 34/50 [06:29<03:02, 11.42s/it]"
     ]
    },
    {
     "name": "stdout",
     "output_type": "stream",
     "text": [
      "Epoch 1 test loss: 1.195\n",
      "Epoch 1 test loss: 1.184\n",
      "Epoch 1 test loss: 1.161\n",
      "Epoch 1 test loss: 1.175\n",
      "Epoch 1 test loss: 1.172\n"
     ]
    },
    {
     "name": "stderr",
     "output_type": "stream",
     "text": [
      " 70%|███████   | 35/50 [06:40<02:50, 11.39s/it]"
     ]
    },
    {
     "name": "stdout",
     "output_type": "stream",
     "text": [
      "Epoch 1 test loss: 1.159\n",
      "Epoch 1 test loss: 1.150\n",
      "Epoch 1 test loss: 1.127\n",
      "Epoch 1 test loss: 1.140\n",
      "Epoch 1 test loss: 1.138\n"
     ]
    },
    {
     "name": "stderr",
     "output_type": "stream",
     "text": [
      " 72%|███████▏  | 36/50 [06:51<02:39, 11.40s/it]"
     ]
    },
    {
     "name": "stdout",
     "output_type": "stream",
     "text": [
      "Epoch 1 test loss: 1.124\n",
      "Epoch 1 test loss: 1.117\n",
      "Epoch 1 test loss: 1.095\n",
      "Epoch 1 test loss: 1.106\n",
      "Epoch 1 test loss: 1.104\n"
     ]
    },
    {
     "name": "stderr",
     "output_type": "stream",
     "text": [
      " 74%|███████▍  | 37/50 [07:03<02:27, 11.37s/it]"
     ]
    },
    {
     "name": "stdout",
     "output_type": "stream",
     "text": [
      "Epoch 1 test loss: 1.091\n",
      "Epoch 1 test loss: 1.085\n",
      "Epoch 1 test loss: 1.063\n",
      "Epoch 1 test loss: 1.074\n",
      "Epoch 1 test loss: 1.072\n"
     ]
    },
    {
     "name": "stderr",
     "output_type": "stream",
     "text": [
      " 76%|███████▌  | 38/50 [07:14<02:16, 11.39s/it]"
     ]
    },
    {
     "name": "stdout",
     "output_type": "stream",
     "text": [
      "Epoch 1 test loss: 1.058\n",
      "Epoch 1 test loss: 1.054\n",
      "Epoch 1 test loss: 1.032\n",
      "Epoch 1 test loss: 1.042\n",
      "Epoch 1 test loss: 1.040\n"
     ]
    },
    {
     "name": "stderr",
     "output_type": "stream",
     "text": [
      " 78%|███████▊  | 39/50 [07:25<02:04, 11.34s/it]"
     ]
    },
    {
     "name": "stdout",
     "output_type": "stream",
     "text": [
      "Epoch 1 test loss: 1.026\n",
      "Epoch 1 test loss: 1.025\n",
      "Epoch 1 test loss: 1.003\n",
      "Epoch 1 test loss: 1.012\n",
      "Epoch 1 test loss: 1.010\n"
     ]
    },
    {
     "name": "stderr",
     "output_type": "stream",
     "text": [
      " 80%|████████  | 40/50 [07:37<01:53, 11.37s/it]"
     ]
    },
    {
     "name": "stdout",
     "output_type": "stream",
     "text": [
      "Epoch 1 test loss: 0.996\n",
      "Epoch 1 test loss: 0.996\n",
      "Epoch 1 test loss: 0.974\n",
      "Epoch 1 test loss: 0.982\n",
      "Epoch 1 test loss: 0.980\n"
     ]
    },
    {
     "name": "stderr",
     "output_type": "stream",
     "text": [
      " 82%|████████▏ | 41/50 [07:48<01:41, 11.33s/it]"
     ]
    },
    {
     "name": "stdout",
     "output_type": "stream",
     "text": [
      "Epoch 1 test loss: 0.966\n",
      "Epoch 1 test loss: 0.969\n",
      "Epoch 1 test loss: 0.947\n",
      "Epoch 1 test loss: 0.954\n",
      "Epoch 1 test loss: 0.952\n"
     ]
    },
    {
     "name": "stderr",
     "output_type": "stream",
     "text": [
      " 84%|████████▍ | 42/50 [07:59<01:30, 11.37s/it]"
     ]
    },
    {
     "name": "stdout",
     "output_type": "stream",
     "text": [
      "Epoch 1 test loss: 0.938\n",
      "Epoch 1 test loss: 0.943\n",
      "Epoch 1 test loss: 0.921\n",
      "Epoch 1 test loss: 0.928\n",
      "Epoch 1 test loss: 0.926\n"
     ]
    },
    {
     "name": "stderr",
     "output_type": "stream",
     "text": [
      " 86%|████████▌ | 43/50 [08:11<01:20, 11.48s/it]"
     ]
    },
    {
     "name": "stdout",
     "output_type": "stream",
     "text": [
      "Epoch 1 test loss: 0.911\n",
      "Epoch 1 test loss: 0.918\n",
      "Epoch 1 test loss: 0.896\n",
      "Epoch 1 test loss: 0.902\n",
      "Epoch 1 test loss: 0.900\n"
     ]
    },
    {
     "name": "stderr",
     "output_type": "stream",
     "text": [
      " 88%|████████▊ | 44/50 [08:23<01:09, 11.59s/it]"
     ]
    },
    {
     "name": "stdout",
     "output_type": "stream",
     "text": [
      "Epoch 1 test loss: 0.886\n",
      "Epoch 1 test loss: 0.894\n",
      "Epoch 1 test loss: 0.873\n",
      "Epoch 1 test loss: 0.877\n",
      "Epoch 1 test loss: 0.875\n"
     ]
    },
    {
     "name": "stderr",
     "output_type": "stream",
     "text": [
      " 90%|█████████ | 45/50 [08:35<00:57, 11.57s/it]"
     ]
    },
    {
     "name": "stdout",
     "output_type": "stream",
     "text": [
      "Epoch 1 test loss: 0.861\n",
      "Epoch 1 test loss: 0.871\n",
      "Epoch 1 test loss: 0.850\n",
      "Epoch 1 test loss: 0.854\n",
      "Epoch 1 test loss: 0.851\n"
     ]
    },
    {
     "name": "stderr",
     "output_type": "stream",
     "text": [
      " 92%|█████████▏| 46/50 [08:46<00:46, 11.60s/it]"
     ]
    },
    {
     "name": "stdout",
     "output_type": "stream",
     "text": [
      "Epoch 1 test loss: 0.838\n",
      "Epoch 1 test loss: 0.849\n",
      "Epoch 1 test loss: 0.829\n",
      "Epoch 1 test loss: 0.831\n",
      "Epoch 1 test loss: 0.829\n"
     ]
    },
    {
     "name": "stderr",
     "output_type": "stream",
     "text": [
      " 94%|█████████▍| 47/50 [08:58<00:34, 11.57s/it]"
     ]
    },
    {
     "name": "stdout",
     "output_type": "stream",
     "text": [
      "Epoch 1 test loss: 0.815\n",
      "Epoch 1 test loss: 0.829\n",
      "Epoch 1 test loss: 0.808\n",
      "Epoch 1 test loss: 0.810\n",
      "Epoch 1 test loss: 0.807\n"
     ]
    },
    {
     "name": "stderr",
     "output_type": "stream",
     "text": [
      " 96%|█████████▌| 48/50 [09:10<00:23, 11.74s/it]"
     ]
    },
    {
     "name": "stdout",
     "output_type": "stream",
     "text": [
      "Epoch 1 test loss: 0.794\n",
      "Epoch 1 test loss: 0.809\n",
      "Epoch 1 test loss: 0.788\n",
      "Epoch 1 test loss: 0.790\n",
      "Epoch 1 test loss: 0.787\n"
     ]
    },
    {
     "name": "stderr",
     "output_type": "stream",
     "text": [
      " 98%|█████████▊| 49/50 [09:22<00:11, 11.98s/it]"
     ]
    },
    {
     "name": "stdout",
     "output_type": "stream",
     "text": [
      "Epoch 1 test loss: 0.773\n",
      "Epoch 1 test loss: 0.790\n",
      "Epoch 1 test loss: 0.770\n",
      "Epoch 1 test loss: 0.770\n",
      "Epoch 1 test loss: 0.767\n"
     ]
    },
    {
     "name": "stderr",
     "output_type": "stream",
     "text": [
      "100%|██████████| 50/50 [09:35<00:00, 11.51s/it]"
     ]
    },
    {
     "name": "stdout",
     "output_type": "stream",
     "text": [
      "Epoch 1 test loss: 0.754\n",
      "Time taken by FL without SMPC 575.4542505741119\n"
     ]
    },
    {
     "name": "stderr",
     "output_type": "stream",
     "text": [
      "\n"
     ]
    }
   ],
   "source": [
    "losses = []\n",
    "train_accuracies = []\n",
    "test_accuracies = []\n",
    "test_losses = []\n",
    "f1_scores = []\n",
    "\n",
    "start_time = time.time()\n",
    "for i in tqdm(range(epoch_total)):\n",
    "    epoch_losses = []\n",
    "    \n",
    "    for node in nodes:\n",
    "        tarin_acc, loss = node.train_epoch()\n",
    "        epoch_acc.append(tarin_acc)\n",
    "        epoch_losses.append(loss)\n",
    "    train_accuracies.append(epoch_acc)\n",
    "    losses.append(epoch_losses)\n",
    "\n",
    "\n",
    "    \n",
    "    epoch_test_accuracies = []\n",
    "    epoch_test_losses = []\n",
    "    epoch_f1_scores = []\n",
    "    for i, node in enumerate(nodes):\n",
    "\n",
    "        node.testing()\n",
    "        epoch_test_accuracies.append(node.test_accuracy)\n",
    "        epoch_test_losses.append(node.test_loss)\n",
    "        epoch_f1_scores.append(node.f1_score)\n",
    "            \n",
    "    test_accuracies.append(epoch_test_accuracies)\n",
    "    test_losses.append(epoch_test_losses)\n",
    "    f1_scores.append(epoch_f1_scores)\n",
    "    \n",
    "    av_state = {}\n",
    "    \n",
    "    \n",
    "    \n",
    "    states = [i.network.state_dict() for i in nodes]\n",
    "    av_state = {}\n",
    "    for key in states[0]:\n",
    "        av_state[key] = sum([s[key] for s in states])/num_nodes\n",
    "    for node in nodes:\n",
    "        node.network.load_state_dict(av_state)\n",
    "\n",
    "time_FL = time.time() - start_time\n",
    "\n",
    "print(\"Time taken by FL without SMPC\", time_FL)\n",
    "    "
   ]
  },
  {
   "cell_type": "code",
   "execution_count": null,
   "metadata": {},
   "outputs": [],
   "source": []
  },
  {
   "cell_type": "code",
   "execution_count": 300,
   "metadata": {},
   "outputs": [],
   "source": [
    "#print(prof.key_averages().table(sort_by=\"cpu_time_total\", row_limit=10))"
   ]
  },
  {
   "cell_type": "code",
   "execution_count": 301,
   "metadata": {},
   "outputs": [
    {
     "name": "stdout",
     "output_type": "stream",
     "text": [
      "Global Mean torch.Size([1, 28, 28])\n",
      "Global std  torch.Size([1, 28, 28])\n"
     ]
    }
   ],
   "source": [
    "global_mean = 0.0\n",
    "global_std = 0.0\n",
    "eqn1= 0.0 \n",
    "eqn2 = 0.0\n",
    "eqn3 = 0.0\n",
    "for node in nodes:\n",
    "    eqn1 += node.mean * node.dataset_size\n",
    "    eqn2 += node.dataset_size \n",
    "    eqn3 += node.std\n",
    "\n",
    "\n",
    "global_mean = eqn1/eqn2\n",
    "global_std = eqn3/eqn2\n",
    "print(\"Global Mean\", global_mean.shape)\n",
    "print(\"Global std \", global_std.shape)\n",
    "#plt.imshow(global_mean.squeeze())\n",
    "#plt.imshow(global_std.squeeze())"
   ]
  },
  {
   "cell_type": "code",
   "execution_count": 302,
   "metadata": {},
   "outputs": [],
   "source": [
    "result2[\"train_accuracies\"] = train_accuracies\n",
    "result2[\"train_losses\"] = losses\n",
    "result2[\"test_accuracies\"] = test_accuracies\n",
    "result2[\"test_losses\"] = test_losses\n",
    "result2[\"f1_scores\"] = f1_scores\n",
    "result2[\"ypred\"] = ypred\n",
    "result2[\"ylabels\"] = ylabels\n",
    "result2[\"time_taken\"] = time_FL\n"
   ]
  },
  {
   "cell_type": "code",
   "execution_count": 303,
   "metadata": {},
   "outputs": [
    {
     "name": "stdout",
     "output_type": "stream",
     "text": [
      "575.4542505741119\n"
     ]
    }
   ],
   "source": [
    "my_pickle_results[\"vanilla\"] = result2\n",
    "#print(my_pickle_results)\n",
    "# pickle.dumps(my_pickle_results)\n",
    "print(my_pickle_results[\"vanilla\"][\"time_taken\"])"
   ]
  },
  {
   "cell_type": "code",
   "execution_count": 304,
   "metadata": {},
   "outputs": [],
   "source": [
    "with open(pickle_name+'.pickle', 'wb') as handle:\n",
    "    pickle.dump(my_pickle_results, handle, protocol=pickle.HIGHEST_PROTOCOL)"
   ]
  },
  {
   "cell_type": "code",
   "execution_count": 305,
   "metadata": {},
   "outputs": [
    {
     "name": "stdout",
     "output_type": "stream",
     "text": [
      "[tensor([[0., 0., 0.,  ..., 0., 0., 0.],\n",
      "        [0., 0., 0.,  ..., 1., 0., 0.],\n",
      "        [0., 1., 0.,  ..., 0., 0., 0.],\n",
      "        ...,\n",
      "        [0., 0., 0.,  ..., 1., 0., 0.],\n",
      "        [1., 0., 0.,  ..., 0., 0., 0.],\n",
      "        [0., 1., 0.,  ..., 0., 0., 0.]])]\n"
     ]
    }
   ],
   "source": [
    "from sklearn.metrics import confusion_matrix, ConfusionMatrixDisplay\n",
    "from sklearn.metrics import classification_report\n",
    "labels = []\n",
    "for _, label in train_loaders[0]:\n",
    "    labels.append(label)\n",
    "print(labels)\n",
    "#print(classification_report(y_true, y_pred, target_names=target_names))"
   ]
  },
  {
   "cell_type": "code",
   "execution_count": 306,
   "metadata": {},
   "outputs": [
    {
     "name": "stdout",
     "output_type": "stream",
     "text": [
      "Current date and time : \n",
      "2023-05-11 23:08:11\n"
     ]
    }
   ],
   "source": [
    "import datetime\n",
    "now = datetime.datetime.now()\n",
    "print (\"Current date and time : \")\n",
    "print (now.strftime(\"%Y-%m-%d %H:%M:%S\"))"
   ]
  },
  {
   "cell_type": "code",
   "execution_count": null,
   "metadata": {},
   "outputs": [],
   "source": []
  }
 ],
 "metadata": {
  "kernelspec": {
   "display_name": ".venv",
   "language": "python",
   "name": "python3"
  },
  "language_info": {
   "codemirror_mode": {
    "name": "ipython",
    "version": 3
   },
   "file_extension": ".py",
   "mimetype": "text/x-python",
   "name": "python",
   "nbconvert_exporter": "python",
   "pygments_lexer": "ipython3",
   "version": "3.10.9"
  },
  "orig_nbformat": 4
 },
 "nbformat": 4,
 "nbformat_minor": 2
}
