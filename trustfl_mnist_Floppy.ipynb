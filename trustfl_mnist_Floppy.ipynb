{
 "cells": [
  {
   "cell_type": "code",
   "execution_count": 50,
   "metadata": {},
   "outputs": [],
   "source": [
    "import torch, torch.utils.data\n",
    "from torch import nn\n",
    "import torchvision, torchvision.datasets\n",
    "from torchvision import transforms\n",
    "from tqdm import tqdm\n",
    "import matplotlib.pyplot as plt\n",
    "from typing import List\n",
    "\n",
    "from fedlab.main.fedlab_benchmarks.leaf.dataloader import get_LEAF_dataloader\n",
    "\n",
    "from torch.profiler import profile, record_function, ProfilerActivity\n",
    "import time\n",
    "from sklearn.metrics import f1_score   \n",
    "import numpy as np\n",
    "    \n",
    "import random"
   ]
  },
  {
   "cell_type": "code",
   "execution_count": 51,
   "metadata": {},
   "outputs": [
    {
     "name": "stdout",
     "output_type": "stream",
     "text": [
      "2.0.1+cu117\n"
     ]
    }
   ],
   "source": [
    "print(torch.__version__)\n",
    "\n",
    "\n"
   ]
  },
  {
   "cell_type": "code",
   "execution_count": null,
   "metadata": {},
   "outputs": [],
   "source": []
  },
  {
   "cell_type": "code",
   "execution_count": 52,
   "metadata": {},
   "outputs": [],
   "source": [
    "\n",
    "train_loaders = []\n",
    "test_loaders = []\n",
    "num_nodes = 5\n",
    "num_class = 10\n",
    "epoch_total = 50\n",
    "pickle_name = \"mnist-floppy-epoch-\"+str(epoch_total)"
   ]
  },
  {
   "cell_type": "code",
   "execution_count": 53,
   "metadata": {},
   "outputs": [
    {
     "data": {
      "text/plain": [
       "'NVIDIA GeForce RTX 3070 Ti Laptop GPU'"
      ]
     },
     "execution_count": 53,
     "metadata": {},
     "output_type": "execute_result"
    }
   ],
   "source": [
    "device = torch.device('cuda')\n",
    "torch.cuda.get_device_name(device)"
   ]
  },
  {
   "cell_type": "code",
   "execution_count": 54,
   "metadata": {},
   "outputs": [],
   "source": [
    "\n",
    "transform = transforms.Compose([\n",
    "    transforms.ToTensor(),\n",
    "])\n",
    "target_transform = lambda x: torch.nn.functional.one_hot(torch.tensor(x),num_class).float()"
   ]
  },
  {
   "cell_type": "code",
   "execution_count": 55,
   "metadata": {},
   "outputs": [],
   "source": [
    "# def split_dataset(dataset, n):\n",
    "#     torch.utils.data.random_split(dataset, )"
   ]
  },
  {
   "cell_type": "code",
   "execution_count": 56,
   "metadata": {},
   "outputs": [],
   "source": [
    "# train_dataset2 = torchvision.datasets.MNIST('datasets/', download=True, train=True, transform=transform, target_transform=target_transform),\n",
    "# train_loader = torch.utils.data.DataLoader(train_dataset, batch_size=1000000, num_workers=0)\n",
    "\n",
    "# test_dataset = torchvision.datasets.MNIST('datasets/', download=True, train=False, transform=transform, target_transform=target_transform)\n",
    "# test_loader = torch.utils.data.DataLoader(test_dataset, batch_size=1000000, num_workers=0)\n",
    "\n",
    "\n",
    "# Inital MNIST\n",
    "train_datasets = torch.utils.data.random_split(torchvision.datasets.MNIST('datasets/',\n",
    "                                                                           download=True, train=True, transform=transform, target_transform=target_transform), [1/num_nodes]*num_nodes)\n",
    "test_datasets = torch.utils.data.random_split(torchvision.datasets.MNIST('datasets/',\n",
    "                                                                           download=True, train=False, transform=transform, target_transform=target_transform), [1/num_nodes]*num_nodes)\n",
    "\n",
    "train_loaders = [torch.utils.data.DataLoader(i, batch_size=1000000, num_workers=0) for i in train_datasets]\n",
    "test_loaders = [torch.utils.data.DataLoader(i, batch_size=1000000, num_workers=0) for i in test_datasets]\n"
   ]
  },
  {
   "cell_type": "code",
   "execution_count": 57,
   "metadata": {},
   "outputs": [
    {
     "name": "stdout",
     "output_type": "stream",
     "text": [
      "5\n",
      "5\n",
      "[<torch.utils.data.dataloader.DataLoader object at 0x0000012CE3137B50>, <torch.utils.data.dataloader.DataLoader object at 0x0000012CE3137190>, <torch.utils.data.dataloader.DataLoader object at 0x0000012CE2C80A30>, <torch.utils.data.dataloader.DataLoader object at 0x0000012CE2C83730>, <torch.utils.data.dataloader.DataLoader object at 0x0000012CE2C80340>]\n",
      "2000\n"
     ]
    }
   ],
   "source": [
    "print(len(train_loaders))\n",
    "print(len(test_loaders))\n",
    "print(test_loaders)\n",
    "print(len(test_loaders[0].dataset))"
   ]
  },
  {
   "cell_type": "code",
   "execution_count": 58,
   "metadata": {},
   "outputs": [],
   "source": [
    "\n",
    "x_i_j = {}\n",
    "s_i = {}\n",
    "\n",
    "ypred = []\n",
    "ylabels = []"
   ]
  },
  {
   "cell_type": "code",
   "execution_count": 59,
   "metadata": {},
   "outputs": [],
   "source": [
    "class FederatedNode:\n",
    "    def __init__(self, train_dataloader, test_dataloader, node_id) -> None:\n",
    "        self.dataset_size = len(train_dataloader.dataset)\n",
    "        channels_sum, channels_squared_sum, num_batches = 0, 0, 0\n",
    "        for data, _ in train_dataloader:\n",
    "            # Mean over batch, height and width, but not over the channels\n",
    "            channels_sum += torch.mean(data, dim=[0])\n",
    "            channels_squared_sum += torch.mean(data**2, dim=[0])\n",
    "            num_batches += 1\n",
    "    \n",
    "        self.mean = channels_sum / num_batches\n",
    "        self.test_loss = 0.0\n",
    "        self.test_accuracy = 0.0\n",
    "        self.train_accuracy = 0.0\n",
    "        self.train_loss = 0.0\n",
    "        self.f1_score = 0.0\n",
    "\n",
    "\n",
    "        # std = sqrt(E[X^2] - (E[X])^2)\n",
    "        self.std = (channels_squared_sum / num_batches - self.mean ** 2) ** 0.5\n",
    "        print(\"Dataset size \", self.dataset_size)\n",
    "        print(\"Mean size \", self.mean.shape)\n",
    "        print(\"Standard deviation size \", self.std.shape)\n",
    "        \n",
    "        \n",
    "        self.network = nn.Sequential(\n",
    "            nn.Flatten(),\n",
    "            nn.Linear(784,56),\n",
    "            nn.ReLU(),\n",
    "            nn.Linear(56, 10)\n",
    "        ).to(device)\n",
    "\n",
    "        '''\n",
    "        only_digits=False\n",
    "        self.network = nn.Sequential(\n",
    "        nn.Conv2d(1, 32, kernel_size=3),\n",
    "        nn.MaxPool2d(2, stride=2),\n",
    "        nn.Conv2d(32, 64, kernel_size=3),\n",
    "        nn.Dropout(0.25),\n",
    "        nn.Flatten(),\n",
    "        nn.Linear(9216, 128),\n",
    "        nn.Dropout(0.5),\n",
    "        nn.Linear(128, 10 if only_digits else 62),\n",
    "        nn.ReLU()\n",
    "        ).to(device)\n",
    "        '''\n",
    "        self.optimizer = torch.optim.Adam(self.network.parameters())\n",
    "        self.criterion = nn.CrossEntropyLoss()\n",
    "        self.train_dataloader = train_dataloader\n",
    "        self.test_dataloader = test_dataloader\n",
    "        self.node_id = node_id\n",
    "    \n",
    "    def train_epoch(self):\n",
    "        losses = []\n",
    "        correct = 0\n",
    "        total = 0\n",
    "        train_accuracy = []\n",
    "        for idx, (data_x, data_y) in enumerate(self.train_dataloader):\n",
    "            #print(\"data_x\", data_x.shape)\n",
    "            #print(\"data_y\", data_y.shape)\n",
    "            #plt.imshow(data_x[1][0])\n",
    "            output = self.network(data_x.to(device))\n",
    "            self.optimizer.zero_grad()\n",
    "            #print(output.shape)\n",
    "            #print(data_y)\n",
    "            #data_y = target_transform(data_y)\n",
    "            \n",
    "            #loss = nn.functional.mse_loss(output, data_y.to(device))\n",
    "            loss = self.criterion(output, data_y.to(device))\n",
    "            losses.append(loss.item())\n",
    "            loss.backward()\n",
    "            self.optimizer.step()\n",
    "\n",
    "            _, predicted = torch.max(output.data, 1)\n",
    "            data_y = data_y.to(predicted.device)\n",
    "            true_labels = torch.argmax(data_y, dim=1).to(predicted.device)\n",
    "            total += data_y.size(0)\n",
    "            correct += (predicted == true_labels).sum().item()\n",
    "            train_accuracy.append(correct / total)\n",
    "            ypred.append(data_y)\n",
    "            ylabels.append(true_labels)\n",
    "        self.train_accuracy = train_accuracy[-1]\n",
    "        self.train_loss = sum(losses)/len(losses)\n",
    "        return self.train_accuracy, self.train_loss\n",
    "    \n",
    "    def testing(self):\n",
    "        correct = 0\n",
    "        total = 0\n",
    "        # test_running_loss = 0.0\n",
    "        predictions = []\n",
    "        labels = []\n",
    "        test_accuracy = []\n",
    "        test_running_losses = []\n",
    "        for idx, (data_x, data_y) in enumerate(self.test_dataloader):\n",
    "            output = self.network(data_x.to(device))\n",
    "            \n",
    "            _, predicted = torch.max(output.data, 1)\n",
    "            data_y = data_y.to(predicted.device)\n",
    "            true_labels = torch.argmax(data_y, dim=1).to(predicted.device)\n",
    "            total += data_y.size(0)\n",
    "            correct += (predicted == true_labels).sum().item()\n",
    "            \n",
    "            loss = self.criterion(output, data_y)\n",
    "            predictions.append(predicted.cpu())\n",
    "            #labels.append(data_y.cpu())\n",
    "            labels.append(true_labels.cpu())\n",
    "            test_running_losses.append(loss.item())\n",
    "            #print('Epoch %d test loss: %.3f' % (idx + 1, test_running_losses[-1]))\n",
    "            #print(test_running_losses)\n",
    "            #test_running_loss += loss.item()\n",
    "            #test_loss.append(test_running_loss / len(self.test_dataloader))\n",
    "            test_accuracy.append(correct / total)\n",
    "        \n",
    "        #print(predictions)\n",
    "        predictions = np.concatenate(predictions)\n",
    "        labels = np.concatenate(labels)\n",
    "        self.f1_score= f1_score(labels, predictions, average=\"weighted\")\n",
    "        self.test_accuracy = test_accuracy[-1]\n",
    "        #print(self.test_accuracy)\n",
    "        self.test_loss =  sum(test_running_losses)/len(test_running_losses)\n",
    "        #print(\"test loss \",self.test_loss)\n",
    "       \n",
    "    \n",
    "    def share_x_ij(self):\n",
    "        x = self.network.state_dict()\n",
    "        r = torch.randint(0, 5, [num_nodes])\n",
    "        s_r = torch.sum(r)\n",
    "        j=self.node_id\n",
    "        for i in range(num_nodes):\n",
    "            x_i_j[(i,j)]={}\n",
    "            for key in x.keys():\n",
    "                x_i_j[(i,j)][key]=x[key]*r[i]/s_r\n",
    "                \n",
    "        \n",
    "    \n",
    "    def share_s_i(self):\n",
    "        i = self.node_id\n",
    "        s_i[i] = {}\n",
    "        for key in x_i_j[(0,0)].keys():\n",
    "            s_i[i][key] = sum([x_i_j[(i,j)][key] for j in range(num_nodes)])\n",
    "\n",
    "    def share_x_ij_neighbours(self, neighbour_nodes):\n",
    "        j=self.node_id\n",
    "        num_neighbour_nodes = len(neighbour_nodes)\n",
    "        x = self.network.state_dict()\n",
    "        r = torch.randint(0, 5, [num_neighbour_nodes])\n",
    "        s_r = torch.sum(r)\n",
    "        \n",
    "        for i, n in enumerate(neighbour_nodes):\n",
    "            x_i_j[(n,j)]={}\n",
    "            for key in x.keys():\n",
    "                x_i_j[(n,j)][key]=x[key]*r[i]/s_r*self.dataset_size\n",
    "\n",
    "    def share_s_i_neighbours(self, neighbour_nodes):\n",
    "        i = self.node_id\n",
    "        s_i[i] = {}\n",
    "        \n",
    "        for key in x_i_j[list(x_i_j.keys())[0]].keys():\n",
    "            s_i[i][key] = sum([x_i_j[(i,j)][key] for j in neighbour_nodes])\n",
    "\n",
    "\n",
    "    def share_FedavgP2P(self, nodes):\n",
    "        dataset_size_all = [n.dataset_size for n in nodes]\n",
    "        i = self.node_id\n",
    "        C = 0.5\n",
    "        A = num_nodes - 1\n",
    "        m = C*A\n",
    "        #n_k = self.dataset_size\n",
    "\n",
    "        # Random clients\n",
    "        S_t = random.sample([ j for j in range(num_nodes) if j!=i], int(m)) \n",
    "        S_t.append(self.node_id)\n",
    "        #print(\"Clients \",S_t)\n",
    "        #S_t = random.sample(list(range(num_nodes)) , int(m))\n",
    "        #print(\"n_k \",n_k)\n",
    "        #print(\"m neighbors\", m)\n",
    "        #print(\"S_t\", S_t)\n",
    "        w_c = self.network.state_dict()\n",
    "        n_c = self.dataset_size\n",
    "        n_t = n_c\n",
    "        for s in S_t:\n",
    "            n_t += dataset_size_all[s]\n",
    "        \n",
    "        for j in S_t: \n",
    "            nodes[j].share_x_ij_neighbours(S_t)\n",
    "        for j in S_t: \n",
    "            nodes[j].share_s_i_neighbours(S_t)\n",
    "                \n",
    "        for key in nodes[0].network.state_dict():\n",
    "            w_c[key] = w_c[key]*n_c/n_t\n",
    "\n",
    "            for j in S_t: \n",
    "                n_k = dataset_size_all[j]\n",
    "                #states = nodes[j].network.state_dict()\n",
    "                averaged_state = {}\n",
    "            \n",
    "                for key in s_i[list(s_i.keys())[0]].keys():\n",
    "                    param_value = 0\n",
    "                    for i in s_i:\n",
    "                        param_value += s_i[i][key]\n",
    "                    \n",
    "                    averaged_state[key] = param_value/len(S_t)/n_t\n",
    "                #print(averaged_state)\n",
    "                #contributed_state = n_k/n_t*averaged_state[key]\n",
    "                #w_c[key] = w_c[key] + contributed_state\n",
    "                \n",
    "        self.network.load_state_dict(w_c)\n"
   ]
  },
  {
   "cell_type": "code",
   "execution_count": 60,
   "metadata": {},
   "outputs": [
    {
     "name": "stdout",
     "output_type": "stream",
     "text": [
      "Dataset size  12000\n",
      "Mean size  torch.Size([1, 28, 28])\n",
      "Standard deviation size  torch.Size([1, 28, 28])\n",
      "Dataset size  12000\n",
      "Mean size  torch.Size([1, 28, 28])\n",
      "Standard deviation size  torch.Size([1, 28, 28])\n",
      "Dataset size  12000\n",
      "Mean size  torch.Size([1, 28, 28])\n",
      "Standard deviation size  torch.Size([1, 28, 28])\n",
      "Dataset size  12000\n",
      "Mean size  torch.Size([1, 28, 28])\n",
      "Standard deviation size  torch.Size([1, 28, 28])\n",
      "Dataset size  12000\n",
      "Mean size  torch.Size([1, 28, 28])\n",
      "Standard deviation size  torch.Size([1, 28, 28])\n"
     ]
    }
   ],
   "source": [
    "#for i, loader_data in enumerate(zip(*loader)):\n",
    "#    train_loaders, test_loaders = loader_data\n",
    "\n",
    "nodes = []\n",
    "for i in range(num_nodes):\n",
    "    nodes.append(FederatedNode(train_loaders[i], test_loaders[i], i)) \n",
    "\n",
    "#nodes = [FederatedNode(l, i) for i,l in enumerate())]"
   ]
  },
  {
   "cell_type": "code",
   "execution_count": 61,
   "metadata": {},
   "outputs": [
    {
     "name": "stderr",
     "output_type": "stream",
     "text": [
      "100%|██████████| 250/250 [12:09<00:00,  2.92s/it]"
     ]
    },
    {
     "name": "stdout",
     "output_type": "stream",
     "text": [
      "Time taken by FL with SMPC 729.4689810276031\n"
     ]
    },
    {
     "name": "stderr",
     "output_type": "stream",
     "text": [
      "\n"
     ]
    }
   ],
   "source": [
    "losses = {}\n",
    "train_accuracies = {}\n",
    "test_accuracies = {}\n",
    "test_losses = {}\n",
    "f1_scores = {}\n",
    "#with profile(activities=[ProfilerActivity.CPU, ProfilerActivity.CUDA], record_shapes=True) as prof:\n",
    "#    with record_function(\"model_training\"):\n",
    "\n",
    "start_time = time.time()\n",
    "dataset_size_all = {}\n",
    "epochs ={i:0 for i in range(num_nodes)}\n",
    "\n",
    "for i in tqdm(range(epoch_total*num_nodes)):\n",
    "    cands = [i for i in epochs if epochs[i]<epoch_total]\n",
    "    node = nodes[cands[torch.randint(len(cands), (1,)).item()]]\n",
    "    del cands\n",
    "    train_acc, loss = node.train_epoch()\n",
    "    node.share_FedavgP2P(nodes)\n",
    "\n",
    "\n",
    "        \n",
    "    \n",
    "    epochs[node.node_id] += 1\n",
    "    losses[(node.node_id, epochs[node.node_id])]=loss\n",
    "    train_accuracies[(node.node_id, epochs[node.node_id])]=train_acc\n",
    "\n",
    "    for i, node in enumerate(nodes):\n",
    "        #print()\n",
    "        #print(\"Node \", i)\n",
    "        \n",
    "        node.testing()\n",
    "        #test_losses.append(node.test_loss)\n",
    "        #print(\"Node Test Accuracy\", node.test_accuracy)\n",
    "        #print(\"Node Test loss\", node.test_loss)\n",
    "        #print(\"Node F1_Score \", node.f1_score)\n",
    "        test_accuracies[(node.node_id, epochs[node.node_id])]=node.test_accuracy\n",
    "        test_losses[(node.node_id, epochs[node.node_id])]=node.test_loss\n",
    "        f1_scores[(node.node_id, epochs[node.node_id])]=node.f1_score\n",
    "        \n",
    "\n",
    "\n",
    "\n",
    "    \n",
    "    \n",
    "    \n",
    "    # states = [i.network.state_dict() for i in nodes]\n",
    "    # av_state = {}\n",
    "    # for key in states[0]:\n",
    "    #     av_state[key] = sum([s[key] for s in states])/num_nodes\n",
    "    # for node in nodes:\n",
    "    #     node.network.load_state_dict(av_state)\n",
    "\n",
    "time_FL_SMPC = time.time() - start_time\n",
    "\n",
    "print(\"Time taken by FL with SMPC\", time_FL_SMPC)\n",
    "    \n"
   ]
  },
  {
   "cell_type": "code",
   "execution_count": 62,
   "metadata": {},
   "outputs": [],
   "source": [
    "losses2 = [[losses[(j,i)] for j in range(num_nodes) ] for i in range(1,epoch_total+1)]\n",
    "train_accuracies2 = [[train_accuracies[(j,i)] for j in range(num_nodes) ] for i in range(1,epoch_total+1)]\n",
    "test_accuracies2 = [[test_accuracies[(j,i)] for j in range(num_nodes) ] for i in range(1,epoch_total+1)]\n",
    "test_losses2 = [[test_losses[(j,i)] for j in range(num_nodes) ] for i in range(1,epoch_total+1)]\n",
    "f1_scores2 = [[f1_scores[(j,i)] for j in range(num_nodes) ] for i in range(1,epoch_total+1)]"
   ]
  },
  {
   "cell_type": "code",
   "execution_count": null,
   "metadata": {},
   "outputs": [],
   "source": []
  },
  {
   "cell_type": "code",
   "execution_count": 63,
   "metadata": {},
   "outputs": [],
   "source": [
    "import pickle\n",
    "\n",
    "try:\n",
    "    my_pickle_results = pickle.load( open( pickle_name+'.pickle', \"rb\" ) )\n",
    "    result = {}\n",
    "    result2 = {}\n",
    "    myResults = my_pickle_results\n",
    "except (OSError, IOError) as e:\n",
    "    my_pickle_results = {}\n",
    "    result = {}\n",
    "    result2 = {}"
   ]
  },
  {
   "cell_type": "code",
   "execution_count": 64,
   "metadata": {},
   "outputs": [],
   "source": [
    "result[\"train_accuracies\"] = train_accuracies2\n",
    "result[\"train_losses\"] = losses2\n",
    "result[\"test_accuracies\"] = test_accuracies2\n",
    "result[\"test_losses\"] = test_losses2\n",
    "result[\"f1_scores\"] = f1_scores2\n",
    "result[\"ypred\"] = ypred\n",
    "result[\"ylabels\"] = ylabels\n",
    "result[\"time_taken\"] = time_FL_SMPC\n",
    "\n",
    "my_pickle_results[\"floppy\"] = result"
   ]
  },
  {
   "cell_type": "code",
   "execution_count": 65,
   "metadata": {},
   "outputs": [
    {
     "data": {
      "text/plain": [
       "[<matplotlib.lines.Line2D at 0x12ce2c80400>,\n",
       " <matplotlib.lines.Line2D at 0x12ce2c83fa0>,\n",
       " <matplotlib.lines.Line2D at 0x12ce2c82d70>,\n",
       " <matplotlib.lines.Line2D at 0x12ce2c83010>,\n",
       " <matplotlib.lines.Line2D at 0x12ce2c832b0>]"
      ]
     },
     "execution_count": 65,
     "metadata": {},
     "output_type": "execute_result"
    },
    {
     "data": {
      "image/png": "[encoded data removed]",
      "text/plain": [
       "<Figure size 640x480 with 1 Axes>"
      ]
     },
     "metadata": {},
     "output_type": "display_data"
    }
   ],
   "source": [
    "plt.plot(test_accuracies2)"
   ]
  },
  {
   "cell_type": "code",
   "execution_count": 66,
   "metadata": {},
   "outputs": [
    {
     "name": "stdout",
     "output_type": "stream",
     "text": [
      "[[2.309906244277954, 2.303767442703247, 2.304004430770874, 2.311098575592041, 2.3133275508880615], [2.300034523010254, 2.2997336387634277, 2.299738645553589, 2.300863265991211, 2.3004746437072754], [2.301820755004883, 2.3017799854278564, 2.3018369674682617, 2.302011013031006, 2.301879644393921], [2.3023951053619385, 2.302377939224243, 2.302400588989258, 2.302427291870117, 2.302396535873413], [2.302518367767334, 2.302513360977173, 2.3025221824645996, 2.3025248050689697, 2.302520751953125], [2.302546262741089, 2.3025431632995605, 2.3025503158569336, 2.3025472164154053, 2.302548885345459], [2.3025529384613037, 2.302550792694092, 2.3025574684143066, 2.3025529384613037, 2.302555561065674], [2.302555561065674, 2.302553415298462, 2.3025600910186768, 2.3025550842285156, 2.302557945251465], [2.3025572299957275, 2.3025550842285156, 2.3025615215301514, 2.302556276321411, 2.3025591373443604], [2.302558660507202, 2.302556276321411, 2.302562713623047, 2.3025574684143066, 2.3025600910186768], [2.3025596141815186, 2.3025572299957275, 2.3025636672973633, 2.302558183670044, 2.3025612831115723], [2.302560567855835, 2.302558183670044, 2.3025646209716797, 2.3025591373443604, 2.3025619983673096], [2.3025615215301514, 2.3025588989257812, 2.302565336227417, 2.3025598526000977, 2.302562713623047], [2.3025622367858887, 2.3025596141815186, 2.302565813064575, 2.302560567855835, 2.302563428878784], [2.302562713623047, 2.3025600910186768, 2.3025662899017334, 2.3025612831115723, 2.3025641441345215], [2.302563428878784, 2.302560806274414, 2.3025670051574707, 2.3025615215301514, 2.302564859390259], [2.3025636672973633, 2.3025612831115723, 2.30256724357605, 2.3025617599487305, 2.302565097808838], [2.3025643825531006, 2.3025617599487305, 2.302567720413208, 2.3025624752044678, 2.302565574645996], [2.302564859390259, 2.3025622367858887, 2.302567958831787, 2.3025624752044678, 2.302565813064575], [2.302565097808838, 2.3025624752044678, 2.3025684356689453, 2.302562713623047, 2.3025662899017334], [2.302565336227417, 2.302562713623047, 2.3025686740875244, 2.302563190460205, 2.3025667667388916], [2.302565813064575, 2.302562713623047, 2.3025689125061035, 2.302563190460205, 2.3025670051574707], [2.302565813064575, 2.302563190460205, 2.3025689125061035, 2.302563428878784, 2.3025670051574707], [2.3025660514831543, 2.302563190460205, 2.3025691509246826, 2.3025636672973633, 2.30256724357605], [2.3025660514831543, 2.302563190460205, 2.3025693893432617, 2.3025636672973633, 2.302567481994629], [2.3025662899017334, 2.302563190460205, 2.3025693893432617, 2.3025636672973633, 2.302567720413208], [2.3025662899017334, 2.302563190460205, 2.3025693893432617, 2.3025636672973633, 2.302567720413208], [2.3025662899017334, 2.302563428878784, 2.3025693893432617, 2.3025636672973633, 2.302567958831787], [2.3025662899017334, 2.302563190460205, 2.302569627761841, 2.3025636672973633, 2.302567958831787], [2.3025662899017334, 2.302563190460205, 2.3025693893432617, 2.3025636672973633, 2.302567958831787], [2.3025665283203125, 2.302563190460205, 2.302569627761841, 2.3025636672973633, 2.302567958831787], [2.3025665283203125, 2.302563190460205, 2.3025693893432617, 2.3025636672973633, 2.302567958831787], [2.3025665283203125, 2.302563190460205, 2.3025693893432617, 2.3025636672973633, 2.302568197250366], [2.3025665283203125, 2.302562952041626, 2.3025693893432617, 2.3025636672973633, 2.302568197250366], [2.3025665283203125, 2.302562952041626, 2.3025693893432617, 2.3025636672973633, 2.3025684356689453], [2.3025665283203125, 2.302562713623047, 2.3025693893432617, 2.302563428878784, 2.3025684356689453], [2.3025662899017334, 2.302562713623047, 2.3025691509246826, 2.302563428878784, 2.302567958831787], [2.3025662899017334, 2.3025624752044678, 2.3025689125061035, 2.302563428878784, 2.302568197250366], [2.3025662899017334, 2.3025622367858887, 2.3025689125061035, 2.302563190460205, 2.302567958831787], [2.3025662899017334, 2.3025622367858887, 2.3025689125061035, 2.302563190460205, 2.302567958831787], [2.3025662899017334, 2.3025619983673096, 2.3025686740875244, 2.302563190460205, 2.302567958831787], [2.3025662899017334, 2.3025617599487305, 2.3025686740875244, 2.302562952041626, 2.302567958831787], [2.3025660514831543, 2.3025617599487305, 2.3025684356689453, 2.302562713623047, 2.302567958831787], [2.3025660514831543, 2.3025615215301514, 2.302568197250366, 2.302562713623047, 2.302567720413208], [2.302565813064575, 2.3025612831115723, 2.302567958831787, 2.3025624752044678, 2.302567720413208], [2.302565813064575, 2.302561044692993, 2.302567958831787, 2.3025624752044678, 2.302567481994629], [2.302565813064575, 2.302560806274414, 2.302567481994629, 2.3025622367858887, 2.302567481994629], [2.302565574645996, 2.302560567855835, 2.30256724357605, 2.3025622367858887, 2.30256724357605], [2.302565336227417, 2.302560567855835, 2.3025670051574707, 2.3025617599487305, 2.30256724357605], [2.302565336227417, 2.3025600910186768, 2.3025667667388916, 2.3025617599487305, 2.3025670051574707]]\n"
     ]
    }
   ],
   "source": [
    "print(losses2)"
   ]
  },
  {
   "cell_type": "code",
   "execution_count": 67,
   "metadata": {},
   "outputs": [
    {
     "data": {
      "text/plain": [
       "[<matplotlib.lines.Line2D at 0x12ce2ff8340>,\n",
       " <matplotlib.lines.Line2D at 0x12ce2faa020>,\n",
       " <matplotlib.lines.Line2D at 0x12ce2ff83a0>,\n",
       " <matplotlib.lines.Line2D at 0x12ce2ff83d0>,\n",
       " <matplotlib.lines.Line2D at 0x12ce2ff8580>]"
      ]
     },
     "execution_count": 67,
     "metadata": {},
     "output_type": "execute_result"
    },
    {
     "data": {
      "image/png": "[encoded data removed]",
      "text/plain": [
       "<Figure size 640x480 with 1 Axes>"
      ]
     },
     "metadata": {},
     "output_type": "display_data"
    }
   ],
   "source": [
    "plt.plot(losses2)"
   ]
  },
  {
   "cell_type": "code",
   "execution_count": null,
   "metadata": {},
   "outputs": [],
   "source": []
  },
  {
   "cell_type": "code",
   "execution_count": null,
   "metadata": {},
   "outputs": [],
   "source": []
  },
  {
   "cell_type": "code",
   "execution_count": 68,
   "metadata": {},
   "outputs": [
    {
     "name": "stdout",
     "output_type": "stream",
     "text": [
      "Dataset size  12000\n",
      "Mean size  torch.Size([1, 28, 28])\n",
      "Standard deviation size  torch.Size([1, 28, 28])\n",
      "Dataset size  12000\n",
      "Mean size  torch.Size([1, 28, 28])\n",
      "Standard deviation size  torch.Size([1, 28, 28])\n",
      "Dataset size  12000\n",
      "Mean size  torch.Size([1, 28, 28])\n",
      "Standard deviation size  torch.Size([1, 28, 28])\n",
      "Dataset size  12000\n",
      "Mean size  torch.Size([1, 28, 28])\n",
      "Standard deviation size  torch.Size([1, 28, 28])\n",
      "Dataset size  12000\n",
      "Mean size  torch.Size([1, 28, 28])\n",
      "Standard deviation size  torch.Size([1, 28, 28])\n"
     ]
    }
   ],
   "source": [
    "\n",
    "nodes = []\n",
    "for i in range(num_nodes):\n",
    "    nodes.append(FederatedNode(train_loaders[i], test_loaders[i], i)) \n"
   ]
  },
  {
   "cell_type": "code",
   "execution_count": 69,
   "metadata": {},
   "outputs": [],
   "source": [
    "with open(pickle_name+'.pickle', 'wb') as handle:\n",
    "    pickle.dump(my_pickle_results, handle, protocol=pickle.HIGHEST_PROTOCOL)"
   ]
  },
  {
   "cell_type": "code",
   "execution_count": 70,
   "metadata": {},
   "outputs": [],
   "source": [
    "from sklearn.metrics import confusion_matrix, ConfusionMatrixDisplay\n",
    "from sklearn.metrics import classification_report\n",
    "labels = []\n",
    "for _, label in train_loaders[0]:\n",
    "    labels.append(label)\n",
    "#print(labels)\n",
    "#print(classification_report(y_true, y_pred, target_names=target_names))"
   ]
  },
  {
   "cell_type": "code",
   "execution_count": 71,
   "metadata": {},
   "outputs": [
    {
     "name": "stdout",
     "output_type": "stream",
     "text": [
      "[[2.309906244277954, 2.303767442703247, 2.304004430770874, 2.311098575592041, 2.3133275508880615], [2.300034523010254, 2.2997336387634277, 2.299738645553589, 2.300863265991211, 2.3004746437072754], [2.301820755004883, 2.3017799854278564, 2.3018369674682617, 2.302011013031006, 2.301879644393921], [2.3023951053619385, 2.302377939224243, 2.302400588989258, 2.302427291870117, 2.302396535873413], [2.302518367767334, 2.302513360977173, 2.3025221824645996, 2.3025248050689697, 2.302520751953125], [2.302546262741089, 2.3025431632995605, 2.3025503158569336, 2.3025472164154053, 2.302548885345459], [2.3025529384613037, 2.302550792694092, 2.3025574684143066, 2.3025529384613037, 2.302555561065674], [2.302555561065674, 2.302553415298462, 2.3025600910186768, 2.3025550842285156, 2.302557945251465], [2.3025572299957275, 2.3025550842285156, 2.3025615215301514, 2.302556276321411, 2.3025591373443604], [2.302558660507202, 2.302556276321411, 2.302562713623047, 2.3025574684143066, 2.3025600910186768], [2.3025596141815186, 2.3025572299957275, 2.3025636672973633, 2.302558183670044, 2.3025612831115723], [2.302560567855835, 2.302558183670044, 2.3025646209716797, 2.3025591373443604, 2.3025619983673096], [2.3025615215301514, 2.3025588989257812, 2.302565336227417, 2.3025598526000977, 2.302562713623047], [2.3025622367858887, 2.3025596141815186, 2.302565813064575, 2.302560567855835, 2.302563428878784], [2.302562713623047, 2.3025600910186768, 2.3025662899017334, 2.3025612831115723, 2.3025641441345215], [2.302563428878784, 2.302560806274414, 2.3025670051574707, 2.3025615215301514, 2.302564859390259], [2.3025636672973633, 2.3025612831115723, 2.30256724357605, 2.3025617599487305, 2.302565097808838], [2.3025643825531006, 2.3025617599487305, 2.302567720413208, 2.3025624752044678, 2.302565574645996], [2.302564859390259, 2.3025622367858887, 2.302567958831787, 2.3025624752044678, 2.302565813064575], [2.302565097808838, 2.3025624752044678, 2.3025684356689453, 2.302562713623047, 2.3025662899017334], [2.302565336227417, 2.302562713623047, 2.3025686740875244, 2.302563190460205, 2.3025667667388916], [2.302565813064575, 2.302562713623047, 2.3025689125061035, 2.302563190460205, 2.3025670051574707], [2.302565813064575, 2.302563190460205, 2.3025689125061035, 2.302563428878784, 2.3025670051574707], [2.3025660514831543, 2.302563190460205, 2.3025691509246826, 2.3025636672973633, 2.30256724357605], [2.3025660514831543, 2.302563190460205, 2.3025693893432617, 2.3025636672973633, 2.302567481994629], [2.3025662899017334, 2.302563190460205, 2.3025693893432617, 2.3025636672973633, 2.302567720413208], [2.3025662899017334, 2.302563190460205, 2.3025693893432617, 2.3025636672973633, 2.302567720413208], [2.3025662899017334, 2.302563428878784, 2.3025693893432617, 2.3025636672973633, 2.302567958831787], [2.3025662899017334, 2.302563190460205, 2.302569627761841, 2.3025636672973633, 2.302567958831787], [2.3025662899017334, 2.302563190460205, 2.3025693893432617, 2.3025636672973633, 2.302567958831787], [2.3025665283203125, 2.302563190460205, 2.302569627761841, 2.3025636672973633, 2.302567958831787], [2.3025665283203125, 2.302563190460205, 2.3025693893432617, 2.3025636672973633, 2.302567958831787], [2.3025665283203125, 2.302563190460205, 2.3025693893432617, 2.3025636672973633, 2.302568197250366], [2.3025665283203125, 2.302562952041626, 2.3025693893432617, 2.3025636672973633, 2.302568197250366], [2.3025665283203125, 2.302562952041626, 2.3025693893432617, 2.3025636672973633, 2.3025684356689453], [2.3025665283203125, 2.302562713623047, 2.3025693893432617, 2.302563428878784, 2.3025684356689453], [2.3025662899017334, 2.302562713623047, 2.3025691509246826, 2.302563428878784, 2.302567958831787], [2.3025662899017334, 2.3025624752044678, 2.3025689125061035, 2.302563428878784, 2.302568197250366], [2.3025662899017334, 2.3025622367858887, 2.3025689125061035, 2.302563190460205, 2.302567958831787], [2.3025662899017334, 2.3025622367858887, 2.3025689125061035, 2.302563190460205, 2.302567958831787], [2.3025662899017334, 2.3025619983673096, 2.3025686740875244, 2.302563190460205, 2.302567958831787], [2.3025662899017334, 2.3025617599487305, 2.3025686740875244, 2.302562952041626, 2.302567958831787], [2.3025660514831543, 2.3025617599487305, 2.3025684356689453, 2.302562713623047, 2.302567958831787], [2.3025660514831543, 2.3025615215301514, 2.302568197250366, 2.302562713623047, 2.302567720413208], [2.302565813064575, 2.3025612831115723, 2.302567958831787, 2.3025624752044678, 2.302567720413208], [2.302565813064575, 2.302561044692993, 2.302567958831787, 2.3025624752044678, 2.302567481994629], [2.302565813064575, 2.302560806274414, 2.302567481994629, 2.3025622367858887, 2.302567481994629], [2.302565574645996, 2.302560567855835, 2.30256724357605, 2.3025622367858887, 2.30256724357605], [2.302565336227417, 2.302560567855835, 2.3025670051574707, 2.3025617599487305, 2.30256724357605], [2.302565336227417, 2.3025600910186768, 2.3025667667388916, 2.3025617599487305, 2.3025670051574707]]\n"
     ]
    }
   ],
   "source": [
    "#Testing pickle\n",
    "\n",
    "import pickle\n",
    "\n",
    "try:\n",
    "    my_pickle_results3 = pickle.load( open( pickle_name+'.pickle', \"rb\" ) )\n",
    "    result3 = {}\n",
    "    result4 = {}\n",
    "    myResults = my_pickle_results3\n",
    "except (OSError, IOError) as e:\n",
    "    my_pickle_results = {}\n",
    "    resul3 = {}\n",
    "    result4 = {}\n",
    "\n",
    "print(my_pickle_results3[\"floppy\"][\"train_losses\"])"
   ]
  },
  {
   "cell_type": "code",
   "execution_count": 72,
   "metadata": {},
   "outputs": [
    {
     "name": "stdout",
     "output_type": "stream",
     "text": [
      "Current date and time : \n",
      "2023-05-12 09:54:51\n"
     ]
    }
   ],
   "source": [
    "import datetime\n",
    "now = datetime.datetime.now()\n",
    "print (\"Current date and time : \")\n",
    "print (now.strftime(\"%Y-%m-%d %H:%M:%S\"))"
   ]
  },
  {
   "cell_type": "code",
   "execution_count": null,
   "metadata": {},
   "outputs": [],
   "source": []
  }
 ],
 "metadata": {
  "kernelspec": {
   "display_name": ".venv",
   "language": "python",
   "name": "python3"
  },
  "language_info": {
   "codemirror_mode": {
    "name": "ipython",
    "version": 3
   },
   "file_extension": ".py",
   "mimetype": "text/x-python",
   "name": "python",
   "nbconvert_exporter": "python",
   "pygments_lexer": "ipython3",
   "version": "3.10.9"
  },
  "orig_nbformat": 4
 },
 "nbformat": 4,
 "nbformat_minor": 2
}
